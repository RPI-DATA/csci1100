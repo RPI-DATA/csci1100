{
 "cells": [
  {
   "cell_type": "markdown",
   "metadata": {},
   "source": [
    "Notebook created: 2019-07-16 14:30:27  \n",
    "Generated from: jWebsite/lecture_notes.rst  "
   ]
  },
  {
   "cell_type": "markdown",
   "metadata": {},
   "source": [
    "# Lecture Notes\n",
    "\n",
    "- [Lecture 1 — Introduction](lecture_notes/lec01_intro.ipynb#)\n",
    "- [Lecture 2 — Python as a Calculator](lecture_notes/lec02_calculator.ipynb#)\n",
    "- [Lecture 2 — Exercises](lecture_notes/lec02_calculator_exercises/exercises.ipynb#)\n",
    "- [Lecture 3 — Python Strings](lecture_notes/lec03_strings.ipynb#)\n",
    "- [Lecture 3 — Exercises](lecture_notes/lec03_strings_exercises/exercises.ipynb#)\n",
    "- [Lecture 4 — Using functions and modules](lecture_notes/lec04_modules_functions1.ipynb#)\n",
    "- [Lecture 4 — Exercises](lecture_notes/lec04_modules_functions1_exercises/exercises.ipynb#)\n",
    "- [Lecture 5 — Python Functions](lecture_notes/lec05_functions2.ipynb#)\n",
    "- [Lecture 5 — Exercises](lecture_notes/lec05_functions2_exercises/exercises.ipynb#)\n",
    "- [Lecture 6 — Decisions](lecture_notes/lec06_conditionals1.ipynb#)\n",
    "- [Lecture 6 — Exercises](lecture_notes/lec06_conditionals1_exercises/exercises.ipynb#)\n",
    "- [Lecture 7 — Tuples, Modules, Images](lecture_notes/lec07_modules_images.ipynb#)\n",
    "- [Lecture 7 — Exercises](lecture_notes/lec07_modules_images_exercises/exercises.ipynb#)\n",
    "- [Lecture 8 — Lists Part 1](lecture_notes/lec08_lists1.ipynb#)\n",
    "- [Lecture 8 — Exercises](lecture_notes/lec08_lists1_exercises/exercises.ipynb#)\n",
    "- [Lecture 9 — While Loops](lecture_notes/lec09_loops1_while.ipynb#)\n",
    "- [Lecture 9 — Exercises](lecture_notes/lec09_loops1_while_exercises/exercises.ipynb#)\n",
    "- [Lecture 10 — Lists Part 2](lecture_notes/lec10_lists2.ipynb#)\n",
    "- [Lecture 10 — Exercises](lecture_notes/lec10_lists2_exercises/exercises.ipynb#)\n",
    "- [Lecture 11 — Decisions Part 2](lecture_notes/lec11_conditionals2.ipynb#)\n",
    "- [Lecture 11 — Exercises](lecture_notes/lec11_conditionals_exercises/exercises.ipynb#)\n",
    "- [Lecture 12 — Controlling Loops](lecture_notes/lec12_loops2_for_double.ipynb#)\n",
    "- [Lecture 12 — Exercises](lecture_notes/lec12_loops2_exercises/exercises.ipynb#)\n",
    "- [Lecture 13 — Data from Files and Web Pages](lecture_notes/lec13_files_web.ipynb#)\n",
    "- [Lecture 13 — Exercises](lecture_notes/lec13_files_exercises/exercises.ipynb#)\n",
    "- [Lecture 14 — Problem Solving and Design, Part 1](lecture_notes/lec14_design_part1.ipynb#)\n",
    "- [Lecture 15 — Sets](lecture_notes/lec15_sets.ipynb#)\n",
    "- [Lecture 15 — Exercises](lecture_notes/lec15_sets_exercises/exercises.ipynb#)\n",
    "- [Lecture 16 — Dictionaries, Part 1](lecture_notes/lec16_dictionaries1.ipynb#)\n",
    "- [Lecture 16 — Exercises](lecture_notes/lec16_dictionaries1_exercises/exercises.ipynb#)\n",
    "- [Lecture 17 — Dictionaries, Part 2](lecture_notes/lec17_dictionaries2.ipynb#)\n",
    "- [Lecture 17 — Exercises](lecture_notes/lec17_dictionaries2_exercises/exercises.ipynb#)\n",
    "- [Lecture 18 — Classes, Part 1](lecture_notes/lec18_classes1.ipynb#)\n",
    "- [Lecture 18 — Exercises](lecture_notes/lec18_classes1_exercises/exercises.ipynb#)\n",
    "- [Lecture 19 — Classes, Part 2](lecture_notes/lec19_classes2.ipynb#)\n",
    "- [Lecture 19 — Exercises](lecture_notes/lec19_classes2_exercises/exercises.ipynb#)\n",
    "- [Lecture 20 — Searching](lecture_notes/lec20_searching.ipynb#)\n",
    "- [Lecture 20 — Exercises](lecture_notes/lec20_searching_exercises/exercises.ipynb#)\n",
    "- [Lecture 21 — Sorting](lecture_notes/lec21_sorting.ipynb#)\n",
    "- [Lecture 21 — Exercises](lecture_notes/lec21_sorting_exercises/exercises.ipynb#)\n",
    "- [Lecture 22 — TKInter](lecture_notes/lec22_tkinter.ipynb#)\n",
    "- [Lecture 22 — Exercises](lecture_notes/lec22_tkinter_exercises/exercises.ipynb#)\n",
    "- [Lecture 23 — Recursion](lecture_notes/lec23_recursion.ipynb#)\n",
    "- [Lecture 23 — Exercises](lecture_notes/lec23_recursion_exercises/exercises.ipynb#)\n",
    "- [Lecture 24 — Advanced Python Topics and Functional Programming](lecture_notes/lec24_functional.ipynb#)\n",
    "- [Lecture 24 — Exercises](lecture_notes/lec24_functional_exercises/exercises.ipynb#)\n",
    "- [Transition to the next class - Data Structures](lecture_notes/transition.ipynb#)\n",
    "- [Setting up C++ for Data Structures](lecture_notes/setting_up_for_ds.ipynb#)"
   ]
  }
 ],
 "metadata": {
  "filename": "lecture_notes.rst",
  "kernelspec": {
   "display_name": "Python",
   "language": "python3",
   "name": "python3"
  },
  "title": "Lecture Notes"
 },
 "nbformat": 4,
 "nbformat_minor": 2
}