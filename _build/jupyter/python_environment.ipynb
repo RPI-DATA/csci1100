{
 "cells": [
  {
   "cell_type": "markdown",
   "metadata": {},
   "source": [
    "Notebook created: 2019-07-16 14:30:28  \n",
    "Generated from: jWebsite/python_environment.rst  "
   ]
  },
  {
   "cell_type": "markdown",
   "metadata": {},
   "source": [
    "# CS1100 Spring 2018 Python Installation Instructions\n",
    "\n",
    "Our first step is for each student to install Python 3.6, an\n",
    "integrated development environment, and a cloud-based file back-up.\n",
    "We will use Miniconda, Wing IDE and Dropbox, each of which is\n",
    "available to Windows, Mac OS X and Linux users.  You are allowed to\n",
    "use other versions of these as long as you have Python 3.6, but you\n",
    "are strongly advised to use Miniconda and the Wing IDE."
   ]
  },
  {
   "cell_type": "markdown",
   "metadata": {},
   "source": [
    "## Installing Python 3.6 Using Miniconda and Wing IDE\n",
    "\n",
    "The Python 3.6 system of packages (the core language plus useful\n",
    "Python software that other people have written and contributed) we\n",
    "will use is called Anaconda.  This provides a powerful set of tools\n",
    "for data analytics and you can eventually move toward using these if\n",
    "you wish, but for now we will stick with a simple version called\n",
    "Miniconda.\n",
    "\n",
    "- [Install On Windows](python_environment/windows_install.ipynb#)\n",
    "- [Install On Mac OS X](python_environment/mac_install.ipynb#)\n",
    "- [Install On Linux](python_environment/linux_install.ipynb#)"
   ]
  },
  {
   "cell_type": "markdown",
   "metadata": {},
   "source": [
    "## Dropbox\n",
    "\n",
    "We strongly encourage you to use “cloud backup” for your course files.\n",
    "(A disk crash is not an acceptable excuse for a late homework.)  We\n",
    "recommend Dropbox, but you can use any other cloud storage system\n",
    "you’d like.  Dropbox works by creating a folder on your computer and\n",
    "automatically replicating this folder - and any subfolders you\n",
    "create - in the cloud. Therefore, the same files can be accessed on\n",
    "your computer, or through a web browser.  They are automatically kept\n",
    "in sync whenever your computer is on the internet.  In addition to\n",
    "protecting your files in case of a disk crash, Dropbox is handy if\n",
    "you’d like to work from a computer other than your own laptop (in,\n",
    "say, the VCC or something).  Get start with Dropbox via:\n",
    "\n",
    "> [https://www.dropbox.com/install](https://www.dropbox.com/install)\n",
    "\n",
    "\n",
    "You will only need the free version for this course.\n",
    "\n",
    "Finally, you’ll be creating A LOT of files for this class, and they’ll\n",
    "be quite a pain to keep up with unless you organize them somehow.\n",
    "Once you get Dropbox installed, go ahead and set up a file structure\n",
    "like:"
   ]
  },
  {
   "cell_type": "code",
   "execution_count": null,
   "metadata": {
    "hide-output": false
   },
   "outputs": [],
   "source": [
    "Dropbox/cs1100/hw/\n",
    "Dropbox/cs1100/lab/\n",
    "Dropbox/cs1100/lecture/"
   ]
  },
  {
   "cell_type": "markdown",
   "metadata": {},
   "source": [
    "etc. on your laptop. You’ll thank yourself (and us) later."
   ]
  }
 ],
 "metadata": {
  "filename": "python_environment.rst",
  "kernelspec": {
   "display_name": "Python",
   "language": "python3",
   "name": "python3"
  },
  "title": "CS1100 Spring 2018 Python Installation Instructions"
 },
 "nbformat": 4,
 "nbformat_minor": 2
}