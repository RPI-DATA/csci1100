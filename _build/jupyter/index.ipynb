{
 "cells": [
  {
   "cell_type": "markdown",
   "metadata": {},
   "source": [
    "Notebook created: 2019-07-16 14:30:27  \n",
    "Generated from: jWebsite/index.rst  "
   ]
  },
  {
   "cell_type": "markdown",
   "metadata": {},
   "source": [
    "# Welcome to Computer Science 1 - Spring 2018\n",
    "\n",
    "- [Detailed schedule of topics for this class](calendar.ipynb#)\n",
    "- [Weekly lecture and lab schedule](weekly_lecture_lab.ipynb#)\n",
    "- [Weekly office hour and tutoring schedule](weekly_oh_alac.ipynb#)\n",
    "- [Lecture notes and exercises](lecture_notes.ipynb#)\n",
    "- [Code written in class](class_code.ipynb#)\n",
    "- [Software installation](python_environment.ipynb#)"
   ]
  },
  {
   "cell_type": "markdown",
   "metadata": {},
   "source": [
    "## External links\n",
    "\n",
    "- PDF of course syllabus <[http://www.cs.rpi.edu/academics/courses/spring18/csci1100/Syllabus-20180111-114529-CST.pdf](http://www.cs.rpi.edu/academics/courses/spring18/csci1100/Syllabus-20180111-114529-CST.pdf)>  \n",
    "- We will use Piazza for posting of **labs** and **homeworks** and for questions/answers\n",
    "  related to class, labs and homeworks. <[http://piazza.com/rpi/spring2018/csci1100](http://piazza.com/rpi/spring2018/csci1100)>  \n",
    "- Homework submission server & grades <[https://www.cs.rpi.edu/submitty/index.php?semester=s18&course=csci1100](https://www.cs.rpi.edu/submitty/index.php?semester=s18&course=csci1100)>  "
   ]
  },
  {
   "cell_type": "markdown",
   "metadata": {},
   "source": [
    "## Teaching Staff:\n",
    "\n",
    "<img src=\"_images/wes.jpg\" style=\"\">\n",
    "\n",
    "\n",
    "<dl style='margin: 20px 0;'>\n",
    "<dt>****</dt>\n",
    "<dd>\n",
    "[](mailto:wdturner@gmail.com)</dd>\n",
    "\n",
    "</dl>\n",
    "\n",
    "<img src=\"_images/Konstantin.jpg\" style=\"\">\n",
    "\n",
    "\n",
    "<dl style='margin: 20px 0;'>\n",
    "<dt>****</dt>\n",
    "<dd>\n",
    "[](mailto:kmkuzmin@gmail.com)</dd>\n",
    "\n",
    "</dl>\n",
    "\n",
    "<img src=\"_images/Eberwein2.jpg\" style=\"\">\n",
    "\n",
    "\n",
    "<dl style='margin: 20px 0;'>\n",
    "<dt>****</dt>\n",
    "<dd>\n",
    "[](mailto:eberwe@rpi.edu)</dd>\n",
    "\n",
    "</dl>\n",
    "\n",
    "<img src=\"_images/justin.jpg\" style=\"\">\n",
    "\n",
    "\n",
    "<dl style='margin: 20px 0;'>\n",
    "<dt>****</dt>\n",
    "<dd>\n",
    "[](mailto:buergj@rpi.edu)</dd>\n",
    "\n",
    "</dl>\n",
    "\n",
    "<img src=\"_images/tobe.jpg\" style=\"\">\n",
    "\n",
    "\n",
    "<dl style='margin: 20px 0;'>\n",
    "<dt>****</dt>\n",
    "<dd>\n",
    "[](mailto:ezekwt@rpi.edu)</dd>\n",
    "\n",
    "</dl>\n",
    "\n",
    "<img src=\"_images/mackenzie.jpg\" style=\"\">\n",
    "\n",
    "\n",
    "<dl style='margin: 20px 0;'>\n",
    "<dt>****</dt>\n",
    "<dd>\n",
    "[](mailto:haydom@rpi.edu)</dd>\n",
    "\n",
    "</dl>\n",
    "\n",
    "<img src=\"_images/ngoc.jpg\" style=\"\">\n",
    "\n",
    "\n",
    "<dl style='margin: 20px 0;'>\n",
    "<dt>****</dt>\n",
    "<dd>\n",
    "[](mailto:trann2@rpi.edu)</dd>\n",
    "\n",
    "</dl>\n",
    "\n",
    "||Wes Turner: InstructorOffice Hours:  Tues, Thurs 2:00 - 3:30Amos Eaton 207 (wdturner@gmail.com)|\n",
    "||Konstantin Kuzmin: InstructorOffice Hours:  Tues 4:00 - 5:30AE127 (kmkuzmin@gmail.com)|\n",
    "||Erica Eberwein: Instructional Support CoordinatorOffice Hours: Mon-Fri 8:30 - 5:00Amos Eaton 119 (eberwe@rpi.edu)|\n",
    "||Justin Buergi: TAOffice Hours:  Wed 6:00 - 8:00, Thu 2:00 - 4:00Lab Sections: 2, 9 (buergj@rpi.edu)|\n",
    "||Tobe Ezekwenna: TAOffice Hours: Tue 6:00 - 8:00, Fri 4:00 - 6:00Lab Sections: 4, 8 (ezekwt@rpi.edu)|\n",
    "||Mackenzie Haydon: TAOffice Hours: Thu 6:00 - 8:00Lab Sections: 1, 3, 6 (haydom@rpi.edu)|\n",
    "||Ngoc Tran: TAOffice Hours: Thu 12:00 - 2:00 and 4:00 - 6:00Lab Sections: 5, 7 (trann2@rpi.edu)|"
   ]
  }
 ],
 "metadata": {
  "filename": "index.rst",
  "kernelspec": {
   "display_name": "Python 3",
   "language": "python",
   "name": "python3"
  },
  "language_info": {
   "codemirror_mode": {
    "name": "ipython",
    "version": 3
   },
   "file_extension": ".py",
   "mimetype": "text/x-python",
   "name": "python",
   "nbconvert_exporter": "python",
   "pygments_lexer": "ipython3",
   "version": "3.7.3"
  },
  "title": "Welcome to Computer Science 1 - Spring 2018"
 },
 "nbformat": 4,
 "nbformat_minor": 2
}
