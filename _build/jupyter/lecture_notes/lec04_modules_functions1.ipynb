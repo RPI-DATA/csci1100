{
 "cells": [
  {
   "cell_type": "markdown",
   "metadata": {},
   "source": [
    "Notebook created: 2019-07-16 14:30:27  \n",
    "Generated from: jWebsite/lecture_notes/lec04_modules_functions1.rst  "
   ]
  },
  {
   "cell_type": "markdown",
   "metadata": {},
   "source": [
    "# Lecture 4 — Using functions and modules"
   ]
  },
  {
   "cell_type": "markdown",
   "metadata": {},
   "source": [
    "## Reading\n",
    "\n",
    "- Material for this lecture is drawn from Sections 3.1, 6.1 and\n",
    "  7.1-7.3 of *Practical Programming*.  \n",
    "- Topics that we will discuss include:  \n",
    "  - Python functions for different data types.  \n",
    "  - String functions and calling functions on objects  \n",
    "  - Using modules provided with Python  \n",
    "- We will revisit all these concepts several times throughout the semester.  "
   ]
  },
  {
   "cell_type": "markdown",
   "metadata": {},
   "source": [
    "## What have we learned so far?\n",
    "\n",
    "- So far, we have learned about three basic data types: integer, float\n",
    "  and strings.  \n",
    "- We also learned some valuable functions that operate on strings\n",
    "(`len`) and that convert between data types (`int`, `str`, `float`)  "
   ]
  },
  {
   "cell_type": "code",
   "execution_count": null,
   "metadata": {
    "hide-output": false
   },
   "outputs": [],
   "source": [
    ">>> name = \"Pickle Rick\"\n",
    ">>> len(name)\n",
    "11"
   ]
  },
  {
   "cell_type": "markdown",
   "metadata": {},
   "source": [
    "\n",
    "- The functions that Python provides are called *built-in* functions.  \n",
    "- We will see examples of these functions and experiment with their\n",
    "  use in this class.  "
   ]
  },
  {
   "cell_type": "markdown",
   "metadata": {},
   "source": [
    "## How about numerical functions?\n",
    "\n",
    "- Many numerical functions also exist. Let us experiment with some of\n",
    "  these first. You should make a note of what they do.  \n",
    "  \n",
    "  - `abs()`  \n",
    "  - `pow()`  \n",
    "  - `int()`  \n",
    "  - `float()`  \n",
    "  - `round()`  \n",
    "  - `max()`  \n",
    "  - `min()`  \n",
    "  \n",
    "- We will look carefully in class at how these work.  "
   ]
  },
  {
   "cell_type": "markdown",
   "metadata": {},
   "source": [
    "## Objects and Methods\n",
    "\n",
    "- All variables in Python are objects.  \n",
    "- Objects are abstractions:  \n",
    "  - Each object defines an organization and structure to the data they\n",
    "    store.  \n",
    "  - They have operations/functions — we call them **methods** —\n",
    "    that we can apply to access and manipulate this data.  \n",
    "  - We don’t think about how they are implemented; instead we just\n",
    "    think about how to use them.  This is why they are called\n",
    "    abstractions.  \n",
    "- Methods associate with objects often use a function call syntax of\n",
    "the form  "
   ]
  },
  {
   "cell_type": "code",
   "execution_count": null,
   "metadata": {
    "hide-output": false
   },
   "outputs": [],
   "source": [
    "variable.method(arguments)"
   ]
  },
  {
   "cell_type": "markdown",
   "metadata": {},
   "source": [
    "For example:  "
   ]
  },
  {
   "cell_type": "code",
   "execution_count": null,
   "metadata": {
    "hide-output": false
   },
   "outputs": [],
   "source": [
    ">>> b = 'good morning'\n",
    ">>> b.find('o', 3)"
   ]
  },
  {
   "cell_type": "markdown",
   "metadata": {},
   "source": [
    "This also works on particular values instead of variables:  "
   ]
  },
  {
   "cell_type": "code",
   "execution_count": null,
   "metadata": {
    "hide-output": false
   },
   "outputs": [],
   "source": [
    "value.method(arguments)"
   ]
  },
  {
   "cell_type": "markdown",
   "metadata": {},
   "source": [
    "as in  "
   ]
  },
  {
   "cell_type": "code",
   "execution_count": null,
   "metadata": {
    "hide-output": false
   },
   "outputs": [],
   "source": [
    ">>> 'good morning'.find('o', 3)"
   ]
  },
  {
   "cell_type": "markdown",
   "metadata": {},
   "source": [
    "- You can see all the methods that apply to an object type with help\n",
    "as well. Try:  "
   ]
  },
  {
   "cell_type": "code",
   "execution_count": null,
   "metadata": {
    "hide-output": false
   },
   "outputs": [],
   "source": [
    ">>> help(str)"
   ]
  },
  {
   "cell_type": "markdown",
   "metadata": {},
   "source": [
    "\n",
    "\n",
    "## String Methods\n",
    "\n",
    "- Here are a few more (of many) string methods:  "
   ]
  },
  {
   "cell_type": "code",
   "execution_count": null,
   "metadata": {
    "hide-output": false
   },
   "outputs": [],
   "source": [
    ">>> name = \"Neil Degrasse Tyson\"\n",
    ">>> name.lower()\n",
    "'neil degrasse tyson'\n",
    ">>> lowername = name.lower()\n",
    ">>> lowername.upper()\n",
    "'NEIL DEGRASSE TYSON'\n",
    ">>> lowername.capitalize()\n",
    "'Neil degrasse tyson'\n",
    ">>> lowername.title()\n",
    "'Neil Degrasse Tyson'\n",
    ">>> \"abracadabra\".replace(\"br\", \"dr\")\n",
    "'adracadadra'\n",
    ">>> \"abracadabra\".replace(\"a\", \"\")\n",
    "'brcdbr'\n",
    ">>> \"Neil Degrasse Tyson\".find(\" \")\n",
    "4\n",
    ">>> \"Neil Degrasse Tyson\".find(\"a\")\n",
    "9\n",
    ">>> \"Neil Degrasse Tyson\".find(\"x\")\n",
    "-1\n",
    ">>> \"Monty Python\".count(\"o\")\n",
    "2\n",
    ">>> \"aaabbbfsassassaaaa\".strip(\"a\")\n",
    "'bbbfsassass'"
   ]
  },
  {
   "cell_type": "markdown",
   "metadata": {},
   "source": [
    "- As described above, all of these are called in the form of\n",
    "  `object.method(arguments)`, where `object` is either a string\n",
    "  variable or a string value.  \n",
    "- Not all functions on objects are called this way. Some are called\n",
    "using more of a function form, while others are called as\n",
    "operators.  "
   ]
  },
  {
   "cell_type": "code",
   "execution_count": null,
   "metadata": {
    "hide-output": false
   },
   "outputs": [],
   "source": [
    ">>> episode = \"Cheese Shop\"\n",
    ">>> episode.lower()\n",
    "'cheese shop'\n",
    ">>> len(episode)\n",
    "11\n",
    ">>> episode + \"!\"\n",
    "'Cheese Shop!'"
   ]
  },
  {
   "cell_type": "markdown",
   "metadata": {},
   "source": [
    "- We will see the reason for the differences later in the semester.  \n",
    "- Note of caution:  none of these functions change the variable that they\n",
    "  are applied to.  "
   ]
  },
  {
   "cell_type": "markdown",
   "metadata": {},
   "source": [
    "## Practice Problems (1)\n",
    "\n",
    "1. Write code that takes a string in a variable called `phrase` and\n",
    "  prints the string with all vowels removed.  \n",
    "1. Create a string in a variable and assign it to a variable called\n",
    "`name`.  Write code to create a new string that repeats each\n",
    "letter `a` in `name` as many times as `a` appears in `name`\n",
    "(assume the word is all lower case).  \n",
    "For example,  "
   ]
  },
  {
   "cell_type": "code",
   "execution_count": null,
   "metadata": {
    "hide-output": false
   },
   "outputs": [],
   "source": [
    ">>> name = \"amos eaton\"\n",
    "## your code goes here\n",
    "\n",
    "\n",
    "\n",
    "\n",
    ">>> name\n",
    "'aamos eaaton'"
   ]
  },
  {
   "cell_type": "markdown",
   "metadata": {},
   "source": [
    "1. Given a string in a variable called `name`, switch all letters\n",
    "`a` and `e` (only lowercase versions). Assume the variable\n",
    "contains only letters and spaces.  \n",
    "Hint: first replace each ‘a’ with ‘1’.  "
   ]
  },
  {
   "cell_type": "code",
   "execution_count": null,
   "metadata": {
    "hide-output": false
   },
   "outputs": [],
   "source": [
    ">>> name = \"Rensselaer Polytechnic Institute\"\n",
    "## your code goes here\n",
    "\n",
    "\n",
    "\n",
    ">>> name\n",
    "'Ranssalear Polytachnic Instituta'"
   ]
  },
  {
   "cell_type": "markdown",
   "metadata": {},
   "source": [
    "\n",
    "\n",
    "## String Format Method\n",
    "\n",
    "- The `format()` method provides a nice way to produce clean\n",
    "  looking output.  \n",
    "- For example, consider the code  "
   ]
  },
  {
   "cell_type": "code",
   "execution_count": null,
   "metadata": {
    "hide-output": false
   },
   "outputs": [],
   "source": [
    ">>> pi = 3.14159\n",
    ">>> r = 2.5\n",
    ">>> h = 10**0.5\n",
    ">>> volume = pi * r**2 * h\n",
    ">>> print('A cylinder of radius', r, 'and height', h, 'has volume', volume)\n",
    "A cylinder of radius 2.5 and height 3.1622776601683795 has volume 62.09112421505237"
   ]
  },
  {
   "cell_type": "markdown",
   "metadata": {},
   "source": [
    "- Now look at what we can do with the `format()` method:  "
   ]
  },
  {
   "cell_type": "code",
   "execution_count": null,
   "metadata": {
    "hide-output": false
   },
   "outputs": [],
   "source": [
    ">>> out_string = 'A cylinder of radius {0:.2f} and height {1:.2f} has volume {2:.2f}'.format(r, h, volume)\n",
    ">>> print(out_string)\n",
    "A cylinder of radius 2.50 and height 3.16 has volume 62.09"
   ]
  },
  {
   "cell_type": "markdown",
   "metadata": {},
   "source": [
    "- Method `format()` replaces the substrings between { } with\n",
    "  values from the argument list.  \n",
    "  - {0:.2f} means argument 0, will be formatted as a float with 2\n",
    "    digits shown to the right of the decimal place.  \n",
    "    - Notice it applies rounding.  \n",
    "  - We can leave off the 0, the 1, and the 2 from before the : unless\n",
    "    we want to change the order of the output.  \n",
    "  - We can leave off the :.2f if we want to accept print’s normal\n",
    "    formatting on float outputs.  \n",
    "- There are many variations on this and we will see quite a few as we\n",
    "  progress through the semester.  "
   ]
  },
  {
   "cell_type": "markdown",
   "metadata": {},
   "source": [
    "## Built-In Functions\n",
    "\n",
    "- All the functions we have seen so far are *built-in* to the core\n",
    "  Python. It means that these functions are available when you start\n",
    "  Python.  \n",
    "- Type  "
   ]
  },
  {
   "cell_type": "code",
   "execution_count": null,
   "metadata": {
    "hide-output": false
   },
   "outputs": [],
   "source": [
    ">>> help(__builtins__)"
   ]
  },
  {
   "cell_type": "markdown",
   "metadata": {},
   "source": [
    "to see the full list.  "
   ]
  },
  {
   "cell_type": "markdown",
   "metadata": {},
   "source": [
    "## Modules\n",
    "\n",
    "- Now we will begin to look at using functions that are not built\n",
    "  into the core of Python but rather imported as **modules**.  \n",
    "- Modules are collections of functions and constants that\n",
    "  provide additional power to Python programs.  \n",
    "- Some modules come with Python, but are not loaded automatically. For\n",
    "  example the `math` module.  \n",
    "- Other modules need to be installed first. When we installed software\n",
    "  in Lab 0, we installed a library called `pillow` that has a\n",
    "  number of image manipulation modules.  \n",
    "- To use a function in a module, first you must load it into your\n",
    "program using `import`. Let’s see the `math` module:  "
   ]
  },
  {
   "cell_type": "code",
   "execution_count": null,
   "metadata": {
    "hide-output": false
   },
   "outputs": [],
   "source": [
    ">>> import math\n",
    ">>> math.sqrt(5)\n",
    "2.2360679774997898\n",
    ">>> math.trunc(4.5)\n",
    "4\n",
    ">>> math.ceil(4.5)\n",
    "5.0\n",
    ">>> math.log(1024,2)\n",
    "10.0\n",
    ">>> math.pi\n",
    "3.141592653589793"
   ]
  },
  {
   "cell_type": "markdown",
   "metadata": {},
   "source": [
    "- We can get an explanation of what functions and variables are\n",
    "provided in a module using the `help` function  "
   ]
  },
  {
   "cell_type": "code",
   "execution_count": null,
   "metadata": {
    "hide-output": false
   },
   "outputs": [],
   "source": [
    ">>> import math\n",
    ">>> help(math)"
   ]
  },
  {
   "cell_type": "markdown",
   "metadata": {},
   "source": [
    "\n",
    "\n",
    "## Different Ways of Importing\n",
    "\n",
    "- The way you import a module determines what syntax you need to use\n",
    "  the contents of the module in your program.  \n",
    "- We can import only a selection of functions and variables:  "
   ]
  },
  {
   "cell_type": "code",
   "execution_count": null,
   "metadata": {
    "hide-output": false
   },
   "outputs": [],
   "source": [
    ">>> from math import sqrt,pi\n",
    ">>> pi\n",
    "3.141592653589793\n",
    ">>> sqrt(4)\n",
    "2.0"
   ]
  },
  {
   "cell_type": "markdown",
   "metadata": {},
   "source": [
    "- Or we can give a new name to the module within our program:  "
   ]
  },
  {
   "cell_type": "code",
   "execution_count": null,
   "metadata": {
    "hide-output": false
   },
   "outputs": [],
   "source": [
    ">>> import math as m\n",
    ">>> m.pi\n",
    "3.141592653589793\n",
    ">>> m.sqrt(4)\n",
    "2.0"
   ]
  },
  {
   "cell_type": "markdown",
   "metadata": {},
   "source": [
    "- Both of these methods help us distinguish between the function\n",
    "  `sqrt` and the data `pi` defined in the math module from a\n",
    "  function with the same name (if we had one) in our program.  \n",
    "- We can also do this (which is NOT recommended!):  "
   ]
  },
  {
   "cell_type": "code",
   "execution_count": null,
   "metadata": {
    "hide-output": false
   },
   "outputs": [],
   "source": [
    ">>> from math import *"
   ]
  },
  {
   "cell_type": "markdown",
   "metadata": {},
   "source": [
    "Now, there is no name difference between the math module functions\n",
    "and ours. Since this leads to confusion when the same name appears\n",
    "in two different modules it is almost always avoided.  "
   ]
  },
  {
   "cell_type": "markdown",
   "metadata": {},
   "source": [
    "## Program Structure\n",
    "\n",
    "- We have now seen several components of a program:\n",
    "  `import`, comments, and our own code, including input,\n",
    "  computation and output statements.  We will add more components,\n",
    "  such as our own functions, as we proceed through the semester.  \n",
    "- You should organize these components in your program files to make it\n",
    "  easy to see the flow of the program  \n",
    "- We will use the following convention to order the program\n",
    "  components:  \n",
    "  - an initial comment explaining the purpose of the program,  \n",
    "  - all `import` statements,  \n",
    "  - then all variables and input commands,  \n",
    "  - then all computation,  \n",
    "  - finally all output.  "
   ]
  },
  {
   "cell_type": "markdown",
   "metadata": {},
   "source": [
    "## Putting It All Together\n",
    "\n",
    "- In the rest of this class we will write a program that first asks\n",
    "  the user for a name, then asks for the radius and height of a\n",
    "  cylinder, and finally prints the surface area and volume of the cylinder,\n",
    "  nicely formatted.  "
   ]
  },
  {
   "cell_type": "markdown",
   "metadata": {},
   "source": [
    "## Practice Problems (2)\n",
    "\n",
    "1. The `math` module contains the constant `e` as well as `pi`.\n",
    "  Write code that prints these values accurate to 3 decimal places\n",
    "  and then write code that computes and outputs  \n",
    "  $$\n",
    "  \\pi^e\n",
    "  $$\n",
    "  and  \n",
    "  $$\n",
    "  e^\\pi\n",
    "  $$\n",
    "  both accurate to 2 decimal places.  \n",
    "1. Write a short program to ask the user to input height\n",
    "  values (in cm) three times.  After reading these values (as\n",
    "  integers), the program should output the largest, the smallest and\n",
    "  the average of the height values.  \n",
    "1. What happens when we type  "
   ]
  },
  {
   "cell_type": "code",
   "execution_count": null,
   "metadata": {
    "hide-output": false
   },
   "outputs": [],
   "source": [
    "import math\n",
    "math.pi = 3"
   ]
  },
  {
   "cell_type": "markdown",
   "metadata": {},
   "source": [
    "and then use `math.pi`?  "
   ]
  },
  {
   "cell_type": "markdown",
   "metadata": {},
   "source": [
    "## Summary\n",
    "\n",
    "- Python provides many functions that perform useful operations on\n",
    "  strings, integers and floats.  \n",
    "- Some of these functions are *built in* while others are organized\n",
    "  into modules.  \n",
    "- Be aware of the differences between how functions are called. You\n",
    "must remember them to call them correctly.  \n",
    "- Functions that require dot notation, applying the function\n",
    "to an object (or a variable containing an object):  "
   ]
  },
  {
   "cell_type": "code",
   "execution_count": null,
   "metadata": {
    "hide-output": false
   },
   "outputs": [],
   "source": [
    ">>> \"abc\".upper()\n",
    "'ABC'"
   ]
  },
  {
   "cell_type": "markdown",
   "metadata": {},
   "source": [
    "- Functions that are called with arguments (no dot notation):  "
   ]
  },
  {
   "cell_type": "code",
   "execution_count": null,
   "metadata": {
    "hide-output": false
   },
   "outputs": [],
   "source": [
    ">>> x = -4.6\n",
    ">>> abs(x)\n",
    "4.6\n",
    ">>> round(x)\n",
    "-5"
   ]
  },
  {
   "cell_type": "markdown",
   "metadata": {},
   "source": [
    "Note that these functions are actually aliases. The same function\n",
    "also exists in dot notation.  "
   ]
  },
  {
   "cell_type": "code",
   "execution_count": null,
   "metadata": {
    "hide-output": false
   },
   "outputs": [],
   "source": [
    ">>> x = -4.6\n",
    ">>> x.__abs__()\n",
    "4.6\n",
    ">>> x.__round__()\n",
    "-5\n",
    ">>> 4.6.__round__()\n",
    "5\n",
    ">>> (-1).__abs__()\n",
    "1"
   ]
  },
  {
   "cell_type": "markdown",
   "metadata": {},
   "source": [
    "- After a module is imported, the functions in the module can be\n",
    "used by a call of the form:  "
   ]
  },
  {
   "cell_type": "code",
   "execution_count": null,
   "metadata": {
    "hide-output": false
   },
   "outputs": [],
   "source": [
    "module_name.function_name(arguments)"
   ]
  },
  {
   "cell_type": "markdown",
   "metadata": {},
   "source": [
    "- You can see the details of a function by:  \n",
    "  >>> help(module_name.function_name)- Python has many modules that make it easy to do\n",
    "  complicated tasks. If you do not believe it, try typing:  \n",
    "  >>> import antigravity"
   ]
  }
 ],
 "metadata": {
  "filename": "lec04_modules_functions1.rst",
  "kernelspec": {
   "display_name": "Python",
   "language": "python3",
   "name": "python3"
  },
  "title": "Lecture 4 — Using functions and modules"
 },
 "nbformat": 4,
 "nbformat_minor": 2
}