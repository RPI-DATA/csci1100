{
 "cells": [
  {
   "cell_type": "markdown",
   "metadata": {},
   "source": [
    "Notebook created: 2019-07-16 14:30:27  \n",
    "Generated from: jWebsite/lecture_notes/lec18_classes1_exercises/exercises.rst  "
   ]
  },
  {
   "cell_type": "markdown",
   "metadata": {},
   "source": [
    "# Lecture 18 — Exercises\n",
    "\n",
    "Solutions to the problems below must be sent to Submitty for\n",
    "automatic scoring.  A separate file must submitted for each problem.\n",
    "Solutions must be submitted by 4 pm on Tuesday, April 4.\n",
    "\n",
    "1. Starting from the `Point2d.py` file you download from the\n",
    "  Resources page of the Piazza site, please do the following:  \n",
    "  1. Write a new `Point2d` method called `scale` that takes as an\n",
    "    input argument a `Point2d` object (`self`) and a numerical\n",
    "    value (int or float) and multiples both the `x` and `y`\n",
    "    attributes by this value.  \n",
    "  1. Write a new `Point2d` method called `dominates` that two\n",
    "    takes two `Point2d` objects and returns `True` if and only\n",
    "    if the x coordinate of the first object is greater than that of\n",
    "    the second object and the y coordinate of the first object is\n",
    "    greater than that of the second object.  \n",
    "  1. The code to test these functions is commented out in the main\n",
    "    code area.  Please remove this commenting, test on Piazza, and\n",
    "    submit your resulting `Point2d.py` file.  Call it `Point2d_q1.py`  \n",
    "1. Copy your resulting file from the first question to a new file,\n",
    "  perhaps called `Point2d_q2.py`.  \n",
    "  1. Write and test the implementation of the method `__str__`\n",
    "    which returns a string created from the values of a `Point2d`\n",
    "    object.  For our purposes this is mostly used to create a string\n",
    "    that can be printed.   Make sure you have this working before\n",
    "    you proceed to the other parts of this exercise because they\n",
    "    depend on it.  \n",
    "  1. Write the implementation of the subtraction method `__sub__`\n",
    "    for the `Point2d` object.  Uncomment the code in the main area\n",
    "    and test this in Wing IDE.  \n",
    "  1. Write the implementation of the method `__mul__` which is\n",
    "    like the `scale` function you wrote for part 1, but it creates\n",
    "    a new `Point2d` object.  \n",
    "  1. Write the implementation of the method `__eq__` which\n",
    "    returns `True` if and only if the two `Point2d` objects have\n",
    "    exactly the same `x` and `y` values.  \n",
    "  For each of these you should look at the commented out main code in\n",
    "  the `Point2d.py` file you were provided to see how these\n",
    "  methods should be used.  Uncomment this code, test your methods,\n",
    "  and upload to Submitty when you are done.  "
   ]
  }
 ],
 "metadata": {
  "filename": "exercises.rst",
  "kernelspec": {
   "display_name": "Python",
   "language": "python3",
   "name": "python3"
  },
  "title": "Lecture 18 — Exercises"
 },
 "nbformat": 4,
 "nbformat_minor": 2
}