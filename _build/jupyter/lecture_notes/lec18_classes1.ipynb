{
 "cells": [
  {
   "cell_type": "markdown",
   "metadata": {},
   "source": [
    "Notebook created: 2019-07-16 14:30:27  \n",
    "Generated from: jWebsite/lecture_notes/lec18_classes1.rst  "
   ]
  },
  {
   "cell_type": "markdown",
   "metadata": {},
   "source": [
    "# Lecture 18 — Classes, Part 1"
   ]
  },
  {
   "cell_type": "markdown",
   "metadata": {},
   "source": [
    "## Overview\n",
    "\n",
    "- Define our own types and associated functions  \n",
    "- Encapsulate data and functionality  \n",
    "- Raise the “level of abstraction” in our code  \n",
    "- Make code easier to write and test  \n",
    "- Reuse code  "
   ]
  },
  {
   "cell_type": "markdown",
   "metadata": {},
   "source": [
    "## Potential Examples\n",
    "\n",
    "In each of these, think about what data you might need to store to\n",
    "represent the “object” and what functionality you might need to apply to\n",
    "the data.\n",
    "\n",
    "- Date  \n",
    "- Time  \n",
    "- Point  \n",
    "- Rectangle  \n",
    "- Student  \n",
    "- Animal  \n",
    "- Molecule  "
   ]
  },
  {
   "cell_type": "markdown",
   "metadata": {},
   "source": [
    "## An Example from Earlier in the Semester\n",
    "\n",
    "- Think about how difficult it was to keep track of the information\n",
    "  about each restaurant in the Yelp data.  \n",
    "- You had to:  \n",
    "  - Remember the indices of (a) the restaurant name, (b) the latitude\n",
    "    and longitude, (c) the type of restaurant, (d) the address, etc.  \n",
    "  - Form a separate list inside the list for the ratings.  \n",
    "  - Write additional functions to exploit this information  \n",
    "- If we used a class to represent each restaurant:  \n",
    "  - All of the information about the restaurant would be stored and\n",
    "    accessed as named attributes  \n",
    "  - Information about the restaurants would be accessed through\n",
    "    functions that we write for the class.  "
   ]
  },
  {
   "cell_type": "markdown",
   "metadata": {},
   "source": [
    "## Point2d Class\n",
    "\n",
    "- Simplest step is to just tell Python that `Point2d` will exist as a\n",
    "class, deferring the addition of information until later.  "
   ]
  },
  {
   "cell_type": "code",
   "execution_count": null,
   "metadata": {
    "hide-output": false
   },
   "outputs": [],
   "source": [
    "class Point2d(object):\n",
    "    pass"
   ]
  },
  {
   "cell_type": "markdown",
   "metadata": {},
   "source": [
    "- The Python reserved word `pass` says that this is the end of the\n",
    "  class definition.  \n",
    "  - We will not need this later when we put information into the\n",
    "    class.  "
   ]
  },
  {
   "cell_type": "markdown",
   "metadata": {},
   "source": [
    "## Attributes\n",
    "\n",
    "- Classes do not get interesting until we put something in them.  \n",
    "- The first thing we want is variables so that we can put data into a\n",
    "  class.  \n",
    "  - In Python these variables are often called *attributes*.  \n",
    "  - Other languages call them *member variables*.  \n",
    "- We will see three different ways to specify attributes.  "
   ]
  },
  {
   "cell_type": "markdown",
   "metadata": {},
   "source": [
    "## Assigning Attributes to Each Instance\n",
    "\n",
    "- Points have an `x` and a `y` location, so we can write, for\n",
    "example,  "
   ]
  },
  {
   "cell_type": "code",
   "execution_count": null,
   "metadata": {
    "hide-output": false
   },
   "outputs": [],
   "source": [
    "from math import sqrt\n",
    "p = Point2d()\n",
    "p.x = 10\n",
    "p.y = 5\n",
    "dist_from_origin = sqrt(p.x**2 + p.y**2)"
   ]
  },
  {
   "cell_type": "markdown",
   "metadata": {},
   "source": [
    "- We have to do this for each class instance.  \n",
    "- This is prone to mistakes:  \n",
    "  - Could forget to assign the attributes  \n",
    "  - Could accidentally use different names for what is intended to be\n",
    "    the same attribute.  \n",
    "- Example of an error  "
   ]
  },
  {
   "cell_type": "code",
   "execution_count": null,
   "metadata": {
    "hide-output": false
   },
   "outputs": [],
   "source": [
    "q = Point2d()\n",
    "q.x = -5\n",
    "dist_from_origin = sqrt(q.x**2 + q.y**2)    # q.y does not exist"
   ]
  },
  {
   "cell_type": "markdown",
   "metadata": {},
   "source": [
    "\n",
    "\n",
    "## Defining the Attributes Inside the Class\n",
    "\n",
    "- The simplest way to make sure that all variables that are instances\n",
    "  of a class have the appropriate attributes is to define them inside\n",
    "  the class.  \n",
    "- For example, we could redefine our class as  "
   ]
  },
  {
   "cell_type": "code",
   "execution_count": null,
   "metadata": {
    "hide-output": false
   },
   "outputs": [],
   "source": [
    "class Point2d(object):\n",
    "    x = 0\n",
    "    y = 0"
   ]
  },
  {
   "cell_type": "markdown",
   "metadata": {},
   "source": [
    "- All instances of `Point2d` now have two attributes, `x` and\n",
    "  `y`, and they are each initialized to 0.  \n",
    "- We no longer need the `pass` because there is now something in the\n",
    "  class.  "
   ]
  },
  {
   "cell_type": "markdown",
   "metadata": {},
   "source": [
    "## Defining the Attributes Through An Initializer / Constructor\n",
    "\n",
    "- We still need to initialize `x` and `y` to values other than\n",
    "`0`:  "
   ]
  },
  {
   "cell_type": "code",
   "execution_count": null,
   "metadata": {
    "hide-output": false
   },
   "outputs": [],
   "source": [
    "p = Point2d()\n",
    "p.x = 10\n",
    "p.y = 5"
   ]
  },
  {
   "cell_type": "markdown",
   "metadata": {},
   "source": [
    "- What we’d really like to do is initialize them at the time we\n",
    "actually create the `Point2d` object:  "
   ]
  },
  {
   "cell_type": "code",
   "execution_count": null,
   "metadata": {
    "hide-output": false
   },
   "outputs": [],
   "source": [
    "p = Point2d(10,5)"
   ]
  },
  {
   "cell_type": "markdown",
   "metadata": {},
   "source": [
    "- We do this through a special function called an *initializer* in\n",
    "  Python and a *constructor* in some other programming languages.  \n",
    "- Inside the class this looks like  "
   ]
  },
  {
   "cell_type": "code",
   "execution_count": null,
   "metadata": {
    "hide-output": false
   },
   "outputs": [],
   "source": [
    "class Point2d(object):\n",
    "    def __init__( self, x0, y0 ):\n",
    "        self.x = x0\n",
    "        self.y = y0"
   ]
  },
  {
   "cell_type": "markdown",
   "metadata": {},
   "source": [
    "- Our code to create the point now becomes  "
   ]
  },
  {
   "cell_type": "code",
   "execution_count": null,
   "metadata": {
    "hide-output": false
   },
   "outputs": [],
   "source": [
    "p = Point2d(10,5)"
   ]
  },
  {
   "cell_type": "markdown",
   "metadata": {},
   "source": [
    "- Notes:  \n",
    "  - Python uses names that start and end with two `'_'` to indicate\n",
    "    functions with special meanings.  More on this later in the lecture.  \n",
    "  - The name `self` is special notation to indicate that the object\n",
    "    itself is passed to the function.  \n",
    "- If we’d like to initialize the point to $ (0,0) $ without passing\n",
    "these values to the constructor every time then we can specify\n",
    "default arguments  "
   ]
  },
  {
   "cell_type": "code",
   "execution_count": null,
   "metadata": {
    "hide-output": false
   },
   "outputs": [],
   "source": [
    "class Point2d(object):\n",
    "    def __init__( self, x0=0, y0=0 ):\n",
    "        self.x = x0\n",
    "        self.y = y0"
   ]
  },
  {
   "cell_type": "markdown",
   "metadata": {},
   "source": [
    "allowing the initalization  "
   ]
  },
  {
   "cell_type": "code",
   "execution_count": null,
   "metadata": {
    "hide-output": false
   },
   "outputs": [],
   "source": [
    "p = Point2d()"
   ]
  },
  {
   "cell_type": "markdown",
   "metadata": {},
   "source": [
    "\n",
    "\n",
    "## Methods — Functions Associated with the Class\n",
    "\n",
    "- We create functions that operate on the class objects inside the\n",
    "class definition:  "
   ]
  },
  {
   "cell_type": "code",
   "execution_count": null,
   "metadata": {
    "hide-output": false
   },
   "outputs": [],
   "source": [
    "import math\n",
    "\n",
    "class Point2d(object):\n",
    "    def __init__( self, x0, y0 ):\n",
    "        self.x = x0\n",
    "        self.y = y0\n",
    "\n",
    "    def magnitude(self):\n",
    "        return math.sqrt(self.x**2 + self.y**2)\n",
    "\n",
    "    def dist(self, o):\n",
    "        return math.sqrt( (self.x-o.x)**2 + (self.y-o.y)**2 )"
   ]
  },
  {
   "cell_type": "markdown",
   "metadata": {},
   "source": [
    "these are called *methods*  \n",
    "- This is used as  "
   ]
  },
  {
   "cell_type": "code",
   "execution_count": null,
   "metadata": {
    "hide-output": false
   },
   "outputs": [],
   "source": [
    "p = Point2d(0,4)\n",
    "q = Point2d(5,10)\n",
    "leng = q.magnitude()\n",
    "print(\"Magnitude {:.2f}\".format( leng ))\n",
    "print(\"Distance is {:.2f}\".format( p.dist(q)))"
   ]
  },
  {
   "cell_type": "markdown",
   "metadata": {},
   "source": [
    "- The method `magnitude` takes a single argument, which is the\n",
    "`Point2d` object called `self`.  Let’s examine this:  \n",
    "- The call `q.magnitude()` appears to have no arguments, but\n",
    "when Python sees this, it turns it into its equivalent:  "
   ]
  },
  {
   "cell_type": "code",
   "execution_count": null,
   "metadata": {
    "hide-output": false
   },
   "outputs": [],
   "source": [
    "Point2d.magnitude(q)"
   ]
  },
  {
   "cell_type": "markdown",
   "metadata": {},
   "source": [
    "which is completely legal Python syntax.  \n",
    "  - The name `self` is not technically special in Python, but it\n",
    "    is used by convention to refer to the object that the method is\n",
    "    “called upon”.  This is  q` in the call `q.magnitude()`  \n",
    "- The method `dist` takes two `Point2d` objects as\n",
    "arguments.  The example call  "
   ]
  },
  {
   "cell_type": "code",
   "execution_count": null,
   "metadata": {
    "hide-output": false
   },
   "outputs": [],
   "source": [
    "p.dist(q)"
   ]
  },
  {
   "cell_type": "markdown",
   "metadata": {},
   "source": [
    "becomes  "
   ]
  },
  {
   "cell_type": "code",
   "execution_count": null,
   "metadata": {
    "hide-output": false
   },
   "outputs": [],
   "source": [
    "Point2d.dist(p,q)"
   ]
  },
  {
   "cell_type": "markdown",
   "metadata": {},
   "source": [
    "so now argument `p` maps to parameter `self` and argument `q`\n",
    "maps to parameters `o`  "
   ]
  },
  {
   "cell_type": "markdown",
   "metadata": {},
   "source": [
    "## Lecture Exercises, Part 1\n",
    "\n",
    "Our lecture exercises for today will involve adding to the `Point2d`\n",
    "class and testing it.  Make sure you have downloaded the\n",
    "`Point2d.py` file from the Piazza site.\n",
    "\n",
    "We will allow some time to work on the first lecture exercise."
   ]
  },
  {
   "cell_type": "markdown",
   "metadata": {},
   "source": [
    "## Operators and Other Special Functions\n",
    "\n",
    "- We’d like to write code that uses our new objects in the most\n",
    "  intuitive way possible.  \n",
    "- For our point class, this involves use of operators such as  "
   ]
  },
  {
   "cell_type": "code",
   "execution_count": null,
   "metadata": {
    "hide-output": false
   },
   "outputs": [],
   "source": [
    "p = Point2d(1,2)\n",
    "q = Point2d(3,5)\n",
    "r = p+q\n",
    "s = p-q\n",
    "t = -s"
   ]
  },
  {
   "cell_type": "markdown",
   "metadata": {},
   "source": [
    "- Notice how in each case, we work with the `Point2d` variables\n",
    "  (objects) just like we do with int and float variable (objects).  \n",
    "- We implement these by writing the special functions `__add__`,\n",
    "  `__sub__`, and `__neg__`  \n",
    "- For example, inside the `Point2d` class we might have  "
   ]
  },
  {
   "cell_type": "code",
   "execution_count": null,
   "metadata": {
    "hide-output": false
   },
   "outputs": [],
   "source": [
    "def __add__(self,other):\n",
    "     return Point2d(self.x + other.x, self.y+other.y)"
   ]
  },
  {
   "cell_type": "markdown",
   "metadata": {},
   "source": [
    "Very important:  this creates a new `Point2d` object.  \n",
    "- When Python sees `p+q`, it turns it into the function call  "
   ]
  },
  {
   "cell_type": "code",
   "execution_count": null,
   "metadata": {
    "hide-output": false
   },
   "outputs": [],
   "source": [
    "Point2d.__add__(p,q)"
   ]
  },
  {
   "cell_type": "markdown",
   "metadata": {},
   "source": [
    "which is exactly the syntax of the function definition we created.  \n",
    "- We have already seen this with operators on integers and strings.\n",
    "As examples,  "
   ]
  },
  {
   "cell_type": "code",
   "execution_count": null,
   "metadata": {
    "hide-output": false
   },
   "outputs": [],
   "source": [
    "5+6"
   ]
  },
  {
   "cell_type": "markdown",
   "metadata": {},
   "source": [
    "is equivalent to  "
   ]
  },
  {
   "cell_type": "code",
   "execution_count": null,
   "metadata": {
    "hide-output": false
   },
   "outputs": [],
   "source": [
    "int.__add__(5,6)"
   ]
  },
  {
   "cell_type": "markdown",
   "metadata": {},
   "source": [
    "and  "
   ]
  },
  {
   "cell_type": "code",
   "execution_count": null,
   "metadata": {
    "hide-output": false
   },
   "outputs": [],
   "source": [
    "str(13)"
   ]
  },
  {
   "cell_type": "markdown",
   "metadata": {},
   "source": [
    "is equivalent to  "
   ]
  },
  {
   "cell_type": "code",
   "execution_count": null,
   "metadata": {
    "hide-output": false
   },
   "outputs": [],
   "source": [
    "int.__str__(13)"
   ]
  },
  {
   "cell_type": "markdown",
   "metadata": {},
   "source": [
    "- Implicit in this discussion is the notion that `int` is in fact a\n",
    "  class in Python.  The same is true of `str` and `float` and\n",
    "  `list`.  \n",
    "- Note that we can also define boolean operators such as `==` and `!=`\n",
    "  through the special functions `__eq__` and `__neq__`  "
   ]
  },
  {
   "cell_type": "markdown",
   "metadata": {},
   "source": [
    "## Classes and Modules\n",
    "\n",
    "- Each class should generally be put into its own module, or several\n",
    "  closely-related classes should be combined in a single module.  \n",
    "  - We are already doing this with `Point2d`.  \n",
    "- Doing so is good practice for languages like C++ and Java, where\n",
    "  classes are placed in separate files.  \n",
    "- Testing code can be included in the module or placed in a separate\n",
    "  module.  \n",
    "- We will demonstrate this in class and post the result on the course\n",
    "  website.  "
   ]
  },
  {
   "cell_type": "markdown",
   "metadata": {},
   "source": [
    "## More Lecture Exercises\n",
    "\n",
    "At this point we will stop and take a bit of time to work on the next\n",
    "part of the lecture exercises."
   ]
  },
  {
   "cell_type": "markdown",
   "metadata": {},
   "source": [
    "## When to Modify, When to Create New Object\n",
    "\n",
    "- Some methods, such as `scale`, modify a single `Point2d` object  \n",
    "- Other methods, such as our operators, create new `Point2d` objects\n",
    "  without modifying existing ones.  \n",
    "- The choice between this is made on a method-by-method basis by\n",
    "  thinking about the meaning — the *semantics* — of the behavior of the\n",
    "  method.  "
   ]
  },
  {
   "cell_type": "markdown",
   "metadata": {},
   "source": [
    "## Programming Conventions\n",
    "\n",
    "- Don’t create attributes outside the class.  \n",
    "- Don’t directly access or change attributes except through class\n",
    "  methods.  \n",
    "  - Languages like C++ and Java have constructions that enforce this.  \n",
    "  - In languages like Python it is not a hard-and-fast rule.  \n",
    "- Class design is often most effective by thinking about the required\n",
    "  methods rather than the required attributes.  \n",
    "  - As an example, we rarely think about how the Python `list` and\n",
    "    `dict` classes are implemented.  "
   ]
  },
  {
   "cell_type": "markdown",
   "metadata": {},
   "source": [
    "## Time Example\n",
    "\n",
    "- In the remainder of the lecture, we will work through an extended\n",
    "  example of a `Time` class  \n",
    "- By this, we mean the time of day, measured in hours, minutes and\n",
    "  seconds.  \n",
    "- We’ll brainstorm some of the methods we might need to have.  \n",
    "- We’ll then consider several different ways to represent the time\n",
    "  internally:  \n",
    "  - Hours, minutes and seconds  \n",
    "  - Seconds only  \n",
    "  - Military time  \n",
    "- Despite potential internal differences, the methods — or at least the\n",
    "  way we call them — will remain the same  \n",
    "  - This is an example of the notion of *encapsulation*, which we will\n",
    "    discuss more in Lecture 19.  \n",
    "- At the end of lecture, the resulting code will be posted and\n",
    "  tests will be generated to complete the class definition.  "
   ]
  },
  {
   "cell_type": "markdown",
   "metadata": {},
   "source": [
    "## Summary\n",
    "\n",
    "- Define new types in Python by creating classes  \n",
    "- Classes consist of *attributes* and *methods*  \n",
    "- Attributes should be defined and initialized through the special\n",
    "  method call `__init__`. This is a *constructor*  \n",
    "- Other special methods allow us to create operators for our classes.  \n",
    "- We looked at a *Point2d* and *Time* example.  "
   ]
  }
 ],
 "metadata": {
  "filename": "lec18_classes1.rst",
  "kernelspec": {
   "display_name": "Python",
   "language": "python3",
   "name": "python3"
  },
  "title": "Lecture 18 — Classes, Part 1"
 },
 "nbformat": 4,
 "nbformat_minor": 2
}