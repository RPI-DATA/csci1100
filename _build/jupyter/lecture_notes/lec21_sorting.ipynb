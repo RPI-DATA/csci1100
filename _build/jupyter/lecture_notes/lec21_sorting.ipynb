{
 "cells": [
  {
   "cell_type": "markdown",
   "metadata": {},
   "source": [
    "Notebook created: 2019-07-16 14:30:27  \n",
    "Generated from: jWebsite/lecture_notes/lec21_sorting.rst  "
   ]
  },
  {
   "cell_type": "markdown",
   "metadata": {},
   "source": [
    "# Lecture 21 — Sorting"
   ]
  },
  {
   "cell_type": "markdown",
   "metadata": {},
   "source": [
    "## Overview\n",
    "\n",
    "- Sorting is a fundamental operation  \n",
    "- Provides good practice in implementing and testing small functions  \n",
    "- Leads to a better understanding of algorithm efficiency  \n",
    "- Allows us to consider the fundamental notion of a merge of two sorted\n",
    "  sequences.  \n",
    "- During testing, we will see an example of the important notion of\n",
    "  passing functions as arguments.  "
   ]
  },
  {
   "cell_type": "markdown",
   "metadata": {},
   "source": [
    "## Algorithms to Study\n",
    "\n",
    "- Insertion sort  \n",
    "- Merge sort  \n",
    "  - This is our primary focus.  \n",
    "- Python’s built in sort  "
   ]
  },
  {
   "cell_type": "markdown",
   "metadata": {},
   "source": [
    "## Insertion Sort\n",
    "\n",
    "- Idea:  \n",
    "  - If we already have a sorted list and we want to insert a new\n",
    "    value, we can shift values one location higher until we find the\n",
    "    proper location for the new value  \n",
    "  - Insert the new value  \n",
    "  - Start with a just a list of length 1 and repeat until all values\n",
    "    have been inserted  \n",
    "- Algorithm  "
   ]
  },
  {
   "cell_type": "code",
   "execution_count": null,
   "metadata": {
    "hide-output": false
   },
   "outputs": [],
   "source": [
    "for each index i in the list, starting at 1 do\n",
    "    Save the value stored at location i in variable x\n",
    "    Initialize j at location i-1\n",
    "    while j is non-negative and the location to insert x has not been found do\n",
    "        Shift the value at location j up to location j+1\n",
    "        Decrement j\n",
    "    Insert the value stored in x in location j+1"
   ]
  },
  {
   "cell_type": "markdown",
   "metadata": {},
   "source": [
    "- Code (in-class exercise):  "
   ]
  },
  {
   "cell_type": "code",
   "execution_count": null,
   "metadata": {
    "hide-output": false
   },
   "outputs": [],
   "source": [
    "def ins_sort(v):"
   ]
  },
  {
   "cell_type": "markdown",
   "metadata": {},
   "source": [
    "\n",
    "\n",
    "## Steps to Testing\n",
    "\n",
    "1. Re-read and mentally simulate  \n",
    "1. Insert print statements and/or view with debugger to see what it is\n",
    "  actually doing.  \n",
    "1. Run on “test cases” that capture challenging conditions:  \n",
    "  - Empty list  \n",
    "  - Singleton list  \n",
    "  - List of repeated values  \n",
    "  - List where the largest value is at the beginning or the smallest\n",
    "    value is at the end.  "
   ]
  },
  {
   "cell_type": "markdown",
   "metadata": {},
   "source": [
    "## Rough Analysis of Time Required\n",
    "\n",
    "- For any particular value of `i` in the outer `for` loop, there\n",
    "  can be up to `i-1` comparisons/shifts.  \n",
    "  - When `i==1` this is not much, but  \n",
    "  - When `i==N-1`, this is a lot.  \n",
    "- Adding across the different values of `i`, this results in at most\n",
    "  (roughly) $ N^2/2 $ comparisons.  \n",
    "- We write this as $ O(N^2) $ because (informally) the number of\n",
    "  comparisons done is proportional to $ N^2 $.  "
   ]
  },
  {
   "cell_type": "markdown",
   "metadata": {},
   "source": [
    "## Experimental Analysis\n",
    "\n",
    "- The code `lec21_test_sort.py` posted on the Piazza site, and attached to\n",
    "  the end of these notes, will be used to do timing experiments on all\n",
    "  the sorts we write.  \n",
    "- Makes use of the `random` module  \n",
    "- Includes two main functions:  \n",
    "  - `run_and_time`  \n",
    "  - `generate_local_perm`  \n",
    "  We will discuss each of these in turn.  \n",
    "- The sorting functions themselves are functions in the module `sort`  \n",
    "- Notice that the sorting function is *passed as an argument* to\n",
    "  `run_and_time`:  \n",
    "  - First time that we have passed a function as an argument to\n",
    "    another function!  \n",
    "- We will start with experiments to analyze selection sort (see\n",
    "  textbook) and insertion sort.  "
   ]
  },
  {
   "cell_type": "markdown",
   "metadata": {},
   "source": [
    "## Breaking the N-Squared Barrier\n",
    "\n",
    "- The fundamental problem with both selection sort (discussed in the\n",
    "  textbook, but not in these notes) and insertion sort:  \n",
    "  - We need to do up to $ N $ comparisons by scanning through the\n",
    "    list to find the proper location of the next value in the sorted\n",
    "    list.  \n",
    "  - For insertion sort, we could use binary search to find the\n",
    "    insertion location, but we would still have up to $ N $ shifts\n",
    "    of values.  \n",
    "- Do better than selection sort and insertion sort by using algorithms\n",
    "  that don’t scan the entire list to assign one value.  \n",
    "- Examples  \n",
    "  - Quick sort  \n",
    "  - Heap sort  \n",
    "  - Merge sort  \n",
    "- We’ll study merge sort, in part because it is the easiest of these to\n",
    "  understand and in part because of the importance of the idea of a\n",
    "  merge.  "
   ]
  },
  {
   "cell_type": "markdown",
   "metadata": {},
   "source": [
    "## Merging Two Sorted Lists\n",
    "\n",
    "- Given two lists that are each already sorted, our problem is to\n",
    "  generate a new sorted list containing all of the items from both\n",
    "  lists.  \n",
    "- For example,  "
   ]
  },
  {
   "cell_type": "code",
   "execution_count": null,
   "metadata": {
    "hide-output": false
   },
   "outputs": [],
   "source": [
    "L1 = [ 9, 12, 17, 25 ]\n",
    "L2 = [ 3, 5, 11, 13, 16 ]"
   ]
  },
  {
   "cell_type": "markdown",
   "metadata": {},
   "source": [
    "must be merged into a new list containing  "
   ]
  },
  {
   "cell_type": "code",
   "execution_count": null,
   "metadata": {
    "hide-output": false
   },
   "outputs": [],
   "source": [
    "[ 3, 5, 9, 11, 12, 13, 16, 17, 25 ]"
   ]
  },
  {
   "cell_type": "markdown",
   "metadata": {},
   "source": [
    "- Idea:  \n",
    "  - Since both lists are sorted, the first item in the new list must\n",
    "    be the first item in one of the lists!  \n",
    "  - If we “remove” the smallest item (3 in `L1` in this case), the\n",
    "    next item will again be the first non-copied item in one of the\n",
    "    two lists!  \n",
    "  - We repeat this process until one of the lists has no more items to\n",
    "    copy.  \n",
    "  - Then, copy the remainder of the other list to the back of our new\n",
    "    list.  \n",
    "- We don’t actually remove the items from `L1` or `L2`. Instead we\n",
    "  keep an index to the next location of `L1` and `L2` that has not\n",
    "  yet been copied.  \n",
    "- We’ll write the code in class, starting from here  "
   ]
  },
  {
   "cell_type": "code",
   "execution_count": null,
   "metadata": {
    "hide-output": false
   },
   "outputs": [],
   "source": [
    "def merge(L1, L2):\n",
    "    i1 = 0\n",
    "    i2 = 0\n",
    "    L = []\n",
    "\n",
    "\n",
    "\n",
    "\n",
    "\n",
    "\n",
    "\n",
    "\n",
    "\n",
    "\n",
    "\n",
    "\n",
    "    return L"
   ]
  },
  {
   "cell_type": "markdown",
   "metadata": {},
   "source": [
    "- Studying the solution:  \n",
    "  1. Write the values of the index variables, `i1` and `i2`, each\n",
    "    time through the loop for lists `L1` and `L2` above.  \n",
    "  1. What are the values of `i1` and `i2` when the loop terminates?  "
   ]
  },
  {
   "cell_type": "markdown",
   "metadata": {},
   "source": [
    "## Merge Sort\n",
    "\n",
    "- Key observation: all lists of length 1 are sorted  \n",
    "- Therefore, for a list of length $ N $ that is to be sorted:  \n",
    "  - Create $ N $ lists of length 1 from the values in the list  \n",
    "  - Start to merge these “singleton” lists in pairs to create longer,\n",
    "    sorted lists.  \n",
    "  - Repeat on pairs of longer lists in succession  \n",
    "- Requires  \n",
    "  - Keeping a list of sorted sublists, initialized with each singleton\n",
    "    list  \n",
    "  - Rather than deleting the sorted sublists, just keep track of which\n",
    "    we need to work on.  \n",
    "- Code (in class):  "
   ]
  },
  {
   "cell_type": "code",
   "execution_count": null,
   "metadata": {
    "hide-output": false
   },
   "outputs": [],
   "source": [
    "def merge_sort(v):\n",
    "    if len(v) <= 1:\n",
    "        return"
   ]
  },
  {
   "cell_type": "markdown",
   "metadata": {},
   "source": [
    "\n",
    "\n",
    "## Analysis of Merge Sort\n",
    "\n",
    "- Check for correctness  \n",
    "- We’ll give an informal analysis explaining why there are only\n",
    "  $ O(N \\log N) $ comparisons.  \n",
    "- Experimental timings  \n",
    "- Can you think of ways to improve our implementation of the merge sort\n",
    "  idea?  "
   ]
  },
  {
   "cell_type": "markdown",
   "metadata": {},
   "source": [
    "## Final Comparison Across All Sorts\n",
    "\n",
    "- Selection sort and insertion sort are dramatically slower than merge\n",
    "  sort, which in turn is dramatically slower than Python’s built-in\n",
    "  sort, a highly optimized, C language implementation of merge sort.  \n",
    "- Shows  \n",
    "  - the difference between $ O(N^2) $ sorting and\n",
    "    $ O(N log N) $ sorting, and  \n",
    "  - the difference between a straight-forward Python implementation\n",
    "    and a careful, optimized implementation of the same algorithm.  \n",
    "  Both of these are important!  \n",
    "- Final question: what happens when values are “almost” sorted?  \n",
    "  - Experimentally, we can explore this using the\n",
    "    `generate_local_perm` function in `test_sort.py`.  \n",
    "  - Insertion sort becomes much faster, far outstripping selection\n",
    "    sort. Why?  "
   ]
  },
  {
   "cell_type": "markdown",
   "metadata": {},
   "source": [
    "## Practice Questions\n",
    "\n",
    "1. For our insertion sort code, show the contents of the following list\n",
    "after each iteration of the outer `for` loop  "
   ]
  },
  {
   "cell_type": "code",
   "execution_count": null,
   "metadata": {
    "hide-output": false
   },
   "outputs": [],
   "source": [
    "v = [ 12, 4, 11, 2, 6, 18, 9 ]"
   ]
  },
  {
   "cell_type": "markdown",
   "metadata": {},
   "source": [
    "While you can and should use the implementation to test your answers,\n",
    "you should start by manually generating the answers on your own.  \n",
    "1. Show the contents of the `lists` list at the end of the\n",
    "`merge_sort` implementation developed in class when it is called\n",
    "with  "
   ]
  },
  {
   "cell_type": "code",
   "execution_count": null,
   "metadata": {
    "hide-output": false
   },
   "outputs": [],
   "source": [
    "v = [ 17, 15, 29, 66, 31, 19, 9, 33 ]."
   ]
  },
  {
   "cell_type": "markdown",
   "metadata": {},
   "source": [
    "1. Consider the following function  "
   ]
  },
  {
   "cell_type": "code",
   "execution_count": null,
   "metadata": {
    "hide-output": false
   },
   "outputs": [],
   "source": [
    "def extract( comp, v ):\n",
    "    x = v[0]\n",
    "    for i in range(1,len(v)):\n",
    "        if comp(v[i],x):\n",
    "            x = v[i]\n",
    "    return x"
   ]
  },
  {
   "cell_type": "markdown",
   "metadata": {},
   "source": [
    "Note that `comp` is a function that has been passed to `extract`.  \n",
    "1. Write a function called `compare_lower(a,b)` such that if `L`\n",
    "is a list then the call  "
   ]
  },
  {
   "cell_type": "code",
   "execution_count": null,
   "metadata": {
    "hide-output": false
   },
   "outputs": [],
   "source": [
    "extract(compare_lower,L)"
   ]
  },
  {
   "cell_type": "markdown",
   "metadata": {},
   "source": [
    "returns the smallest value in `L`.  \n",
    "1. Write a function called `compare_upper(a,b)` such that if `L`\n",
    "is a list then the call  "
   ]
  },
  {
   "cell_type": "code",
   "execution_count": null,
   "metadata": {
    "hide-output": false
   },
   "outputs": [],
   "source": [
    "extract(compare_upper,L)"
   ]
  },
  {
   "cell_type": "markdown",
   "metadata": {},
   "source": [
    "returns the largest value in `L`.  \n",
    "1. Write a version of `merge` that does all of the work inside the\n",
    "  `while` loop and does not use the `extend`. This is a good test\n",
    "  of your logic skills.  \n",
    "1. Based on your previous solution write a function to merge three\n",
    "  sorted lists. This is an even greater challenge to your logic skills.  \n",
    "\n",
    "\n",
    "Note that when it comes to the Final, you will not be required to have\n",
    "memorized the code of the sorting functions, but you should know the\n",
    "algorithms!\n",
    "\n",
    "Sort Testing Code"
   ]
  },
  {
   "cell_type": "code",
   "execution_count": null,
   "metadata": {
    "hide-output": false
   },
   "outputs": [],
   "source": [
    "'''\n",
    "Testing code for Computer Science 1, Lecture 21 on sorting. This\n",
    "assumes that the sort functions are all in file lec21_sorts.py, each taking\n",
    "one list as its only argument, and that their names are sel_sort\n",
    "ins_sort merge_sort\n",
    "\n",
    "All tests are based on random permutations of integers.\n",
    "\n",
    ". In most of our tests, these permutations are completely random,\n",
    "  meaning that a value is equally likely to end up anywhere in the\n",
    "  list.\n",
    "\n",
    ". In the final test we will explore the implications of working\n",
    "  with lists that are \"almost sorted\" by only moving values a small\n",
    "  distance from the correct location.  You can see that insertion sort\n",
    "  is very fast in this case by removing the # char in front of\n",
    "  generate_local_perm\n",
    "'''\n",
    "\n",
    "import lec21_sorts as sorts\n",
    "import time\n",
    "import random\n",
    "\n",
    "\n",
    "def run_and_time(name, sort_fcn, v, known_v):\n",
    "    '''\n",
    "    Run the function passed as sort_fcn, timing its performance and\n",
    "    double-checking if it correct.  The correctness check is probably\n",
    "    not necessary.\n",
    "    '''\n",
    "    print(\"Testing \" + name)\n",
    "    t0 = time.time()\n",
    "    sort_fcn(v)\n",
    "    t1 = time.time()\n",
    "    print(\"Time: {:.4f} seconds\".format(t1-t0))\n",
    "    # print(\"Is correct?\", v==known_v\n",
    "    print()\n",
    "\n",
    "\n",
    "def generate_local_perm(v,max_shift):\n",
    "    '''\n",
    "    This function modifies a list so values are only a small amount\n",
    "    out of order.  Each one  Generate a local permutation by randomly moving each\n",
    "    value up to max_shift locations in the list.\n",
    "    '''\n",
    "    for i in range(len(v)):\n",
    "        min_i = max(0,i-max_shift)\n",
    "        max_i = min(len(v)-1, i+max_shift)\n",
    "        new_i = random.randint( min_i, max_i )\n",
    "        v[i], v[new_i] = v[new_i], v[i]\n",
    "\n",
    "\n",
    "####################################################\n",
    "\n",
    "if __name__ == '__main__':\n",
    "    n = int(raw_input(\"Enter the number of values ==> \"))\n",
    "    print(\"----------\")\n",
    "    print(\"Running on {:d} values\".format(n))\n",
    "    print(\"----------\")\n",
    "\n",
    "    v = range(n)\n",
    "    v1 = v[:]\n",
    "    random.shuffle(v1)\n",
    "    # generate_local_perm(v1, 10)\n",
    "    v2 = v1[:]\n",
    "    v3 = v1[:]\n",
    "    v4 = v1[:]\n",
    "\n",
    "    run_and_time(\"merge sort\", sorts.merge_sort, v3, v )   # passing functions as an arg to a fcn\n",
    "    run_and_time(\"python sort\", list.sort, v4, v )\n",
    "    run_and_time(\"selection sort\", sorts.sel_sort, v1, v )\n",
    "    run_and_time(\"insertion sort\", sorts.ins_sort, v2, v )"
   ]
  }
 ],
 "metadata": {
  "filename": "lec21_sorting.rst",
  "kernelspec": {
   "display_name": "Python",
   "language": "python3",
   "name": "python3"
  },
  "title": "Lecture 21 — Sorting"
 },
 "nbformat": 4,
 "nbformat_minor": 2
}