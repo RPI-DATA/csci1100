{
 "cells": [
  {
   "cell_type": "markdown",
   "metadata": {},
   "source": [
    "Notebook created: 2019-07-16 14:30:27  \n",
    "Generated from: jWebsite/lecture_notes/lec01_intro.rst  "
   ]
  },
  {
   "cell_type": "markdown",
   "metadata": {},
   "source": [
    "# Lecture 1 — Introduction"
   ]
  },
  {
   "cell_type": "markdown",
   "metadata": {},
   "source": [
    "## People\n",
    "\n",
    "- Professors: Wes Turner, Konstatin Kuzmin  \n",
    "- Instructional Support Coordinator: Erica Eberwein  \n",
    "- TAs and programming mentors:  see course website  "
   ]
  },
  {
   "cell_type": "markdown",
   "metadata": {},
   "source": [
    "## Learning Outcomes\n",
    "\n",
    "1. Demonstrate proficiency in the purpose and behavior of basic\n",
    "  programming constructs.  \n",
    "1. Design algorithms and programs to solve small-scale computational\n",
    "  programs.  \n",
    "1. Write, test and debug small-scale programs  \n",
    "1. Demonstrate an understanding of the widespread application of\n",
    "  computational thinking to real-world problems.  "
   ]
  },
  {
   "cell_type": "markdown",
   "metadata": {},
   "source": [
    "## Textbook\n",
    "\n",
    "- *Practical Programming: An Introduction to Computer Science Using\n",
    "  Python* by Campbell, Gries, and Montojo  \n",
    "  - Available in e-book form  \n",
    "- Very important to get the **second edition**.  "
   ]
  },
  {
   "cell_type": "markdown",
   "metadata": {},
   "source": [
    "## Website and On-Line Resources\n",
    "\n",
    "- Course notes will be posted at  \n",
    "  \n",
    "  [http://www.cs.rpi.edu/academics/courses/spring18/csci1100](http://www.cs.rpi.edu/academics/courses/spring18/csci1100)  \n",
    "  \n",
    "- Piazza will be used for posting homework assignments and labs, and as a\n",
    "  public discussion site:  \n",
    "  \n",
    "  [https://piazza.com/rpi/spring18/csci1100/home](https://piazza.com/rpi/spring18/csci1100/home)  \n",
    "  \n",
    "  You need to sign up with your *rpi.edu* account.  "
   ]
  },
  {
   "cell_type": "markdown",
   "metadata": {},
   "source": [
    "## Other items from the syllabus\n",
    "\n",
    "- Prof. Turner’s office hours are:  \n",
    "  - Tues/Thurs 2:00-3:30 in AE207  \n",
    "- Prof. Kuzmin’s office hours are:  \n",
    "  - Tues 4:00-5:30, AE127. Check the webpage.  \n",
    "- Other office hours are posted on-line  \n",
    "- Lab sections are held Tuesdays and Wednesdays. Full credit will be given for\n",
    "  finishing the lab within your lab period. Checkpoints completed before your\n",
    "  next lab will receive half credit.  \n",
    "- Requirements and grading: lecture exercises, labs, homeworks, tests; letter grades  \n",
    "- Appealing grades  \n",
    "- Class attendance and participation; lecture notes  \n",
    "- Homework late policy:  \n",
    "  - 3 LATE DAYS FOR THE WHOLE SEMESTER  \n",
    "  - 2 LATE DAYS ON ANY ONE ASSIGNMENT  \n",
    "- Academic integrity  \n",
    "- Other exceptions: report to me right now or as soon as you know  \n",
    "- Notes on schedule:  \n",
    "  - Labs started Tuesday. As of now you should\n",
    "    have all the pieces you need to successfully complete\n",
    "    the remaining labs and homeworks for the semester.  If you had problems\n",
    "    completing Lab 0, please get help. You have to get it done to proceed.  \n",
    "  - No labs during the weeks of February 19 (President’s Day), March 12 (Spring Break) and\n",
    "    April 2 (GM Week).  \n",
    "  - Test dates are February 12, March 26, and April 16 all from 6 pm - 7:30 (90 minutes). You must be here or have an excused absence from Student Experience. If you do not have an excused absence for a test, you will get a 0. **No exceptions**!  \n",
    "  - Final exam will be held during finals week.  **No exceptions**!  So,\n",
    "    don’t make departure plans until the final exam schedule is posted.  "
   ]
  },
  {
   "cell_type": "markdown",
   "metadata": {},
   "source": [
    "## The Magic of Programming\n",
    "\n",
    "- Cold, harsh logic, and  \n",
    "- Seemingly primitive syntax…  \n",
    "- Leading to soaring creativity!  "
   ]
  },
  {
   "cell_type": "markdown",
   "metadata": {},
   "source": [
    "## Types of Problems We Will Study\n",
    "\n",
    "- Tools used to help you win at *Words with Friends*  \n",
    "- Image processing and manipulation  \n",
    "- Web searching and crawling  \n",
    "- Programs that work with data from Twitter and Flicker  \n",
    "- Numerical examples, including games and physical simulations  \n",
    "- Perhaps even a simple version of (part of) Pokemon Go.  "
   ]
  },
  {
   "cell_type": "markdown",
   "metadata": {},
   "source": [
    "## Jumping In Quickly with Our First Program — Hello World\n",
    "\n",
    "- We create a text file called `hello.py` containing just the two lines of Python code:  "
   ]
  },
  {
   "cell_type": "code",
   "execution_count": null,
   "metadata": {
    "hide-output": false
   },
   "outputs": [],
   "source": [
    "print('Hello, World!')\n",
    "print('This is Python')"
   ]
  },
  {
   "cell_type": "markdown",
   "metadata": {},
   "source": [
    "- This is done by launching the Wing IDE, which is specific to creating\n",
    "  and running Python programs  \n",
    "  - IDE stands for ’Integrated Development Environment’  \n",
    "    \n",
    "    - Two windows will appear — the top being the editor and the bottom\n",
    "      being the Python interpreter  \n",
    "    \n",
    "- Load the `hello.py` program  \n",
    "- Run it using the interpreter  \n",
    "- We can also type Python code directly into the interpreter.  "
   ]
  },
  {
   "cell_type": "markdown",
   "metadata": {},
   "source": [
    "## Something a Bit More Interesting\n",
    "\n",
    "- We are going to emphasize computational thinking throughout the\n",
    "  semester, so let’s look at a fun little problem and get started.  \n",
    "- This problem is posed in *Think Python* and taken from the NPR show\n",
    "  *Car Talk*. If you know the answer, do NOT say it!  \n",
    "  \n",
    "  “Find the one word in the English language that contains three\n",
    "  consecutive double letters.”  \n",
    "  \n",
    "- We will talk through the steps needed to develop and test a Python\n",
    "  program to solve this problem.  \n",
    "  - The file containing this program will be posted on the course\n",
    "    website after class.  \n",
    "- We do **not** intend that you will understand the details of the\n",
    "  program at this time. Rather, this is just an exercise that\n",
    "  illustrates the steps of solving a fun problem computationally.  \n",
    "- On the other hand, it does introduce some elements that will be\n",
    "  seeing repeatedly throughout the semester:  \n",
    "  - Files  \n",
    "  - Functions  \n",
    "  - Loops  \n",
    "  - Logic  \n",
    "  - Counting  \n",
    "  - Output  \n",
    "  - Libraries  \n",
    "- In about six weeks, you will understand all parts of this program!  \n",
    "- You can see the code in `three_doubles` from [Code Developed in CSCI-1100 Spring 2018](../class_code)  "
   ]
  },
  {
   "cell_type": "markdown",
   "metadata": {},
   "source": [
    "## Looking Back: What Steps Did We Follow?\n",
    "\n",
    "1. Developing an understanding of what the problem is really asking.\n",
    "  This usually involves playing around with small examples.  \n",
    "1. Developing and describing a recipe (an “algorithm”) for solving the\n",
    "  problem  \n",
    "  - Most recipes will involve multiple parts — multiple functional\n",
    "    steps  \n",
    "1. Turning this recipe into a program in the formal language of Python,\n",
    "  one of many different programming languages.  \n",
    "  - English is too imprecise for specification of programs.  \n",
    "1. Running this program using the Python interpreter.  "
   ]
  },
  {
   "cell_type": "markdown",
   "metadata": {},
   "source": [
    "## Programs, Compilers, Interpreters, Abstractions\n",
    "\n",
    "- Python is an interpreted language — run immediately and interactively\n",
    "  by the Python interpreter, which is itself another (very complex)\n",
    "  program  \n",
    "- Programs in some other (non-interpreted) languages like C, C++ and\n",
    "  Java must be compiled (by a “compiler” — another program) into a new\n",
    "  program in machine assembly language and then executed.  \n",
    "- In both cases, we write programs that require other programs to run.  \n",
    "  - And, we don’t just need just the compiler or interpreter — we need\n",
    "    the file system, the operating system, and the command-line\n",
    "    interpreter, each of them complicated, multi-part programs\n",
    "    themselves.  \n",
    "- We don’t really think about the details of these programs; we just\n",
    "  think of what they do for us.  \n",
    "  - This is called an “abstraction”.  \n",
    "  - It allows us to think about a problem we are trying to solve\n",
    "    without thinking about all the details of all the other systems we\n",
    "    are depending on.  \n",
    "  - Thinking in terms of abstractions is fundamental to computer\n",
    "    science.  "
   ]
  },
  {
   "cell_type": "markdown",
   "metadata": {},
   "source": [
    "## Why Python?\n",
    "\n",
    "- Python has a very simple syntax  \n",
    "  - The roles of indentation and blank lines cause the most confusion.  \n",
    "- Intepreted languages provide immediate, useful feedback  \n",
    "- Python has a powerful set of tools — abstractions  \n",
    "- Python is widely used in science, engineering and industry.  \n",
    "- Python is good for rapid prototyping  \n",
    "  - Sometimes, after a Python program is written and working, the\n",
    "    most time-consuming steps are rewritten in either C or C++ and\n",
    "    then integrated with the Python code.  "
   ]
  },
  {
   "cell_type": "markdown",
   "metadata": {},
   "source": [
    "## Two Types of Errors in Our Python Programs\n",
    "\n",
    "- A *syntax error* is a mistake in the form of the Python code that\n",
    "  will not allow it to run.  \n",
    "- A *semantic error* is a mistake in the “meaning” of the program,\n",
    "  causing it to produce incorrect output, even if it runs.  \n",
    "- We will demonstrate both types of errors by deliberately introducing\n",
    "  errors in our triple double example program.  "
   ]
  },
  {
   "cell_type": "markdown",
   "metadata": {},
   "source": [
    "## Python Versions\n",
    "\n",
    "- Python, like all programming languages, is continually under\n",
    "  development.  \n",
    "- We will be using the latest version, which is 3.6  "
   ]
  },
  {
   "cell_type": "markdown",
   "metadata": {},
   "source": [
    "## Lab 0 — Tuesday and Wednesday!\n",
    "\n",
    "By the end of Lab 0, you should have:\n",
    "\n",
    "1. Signed up at the course Piazza web site  \n",
    "  \n",
    "  [https://piazza.com/rpi/spring2018/csci1100/home](https://piazza.com/rpi/spring2018/csci1100/home)  \n",
    "  \n",
    "1. Gone to the course page  \n",
    "  \n",
    "  [http://www.cs.rpi.edu/academics/courses/spring18/csci1100/python_environment.html](http://www.cs.rpi.edu/academics/courses/spring18/csci1100/python_environment.html)  \n",
    "  \n",
    "  and followed the instructions to install the Python environment on\n",
    "  your computer.  \n",
    "  - There are installers for “native” versions of the environment for\n",
    "    Windows, Mac OS X and Linux machines.  \n",
    "1. Created a Dropbox account to store back-up copies “in the cloud” of\n",
    "  homework and lab solutions and lab for the course.  \n",
    "  - Other cloud-based back-up copies are acceptable.  "
   ]
  }
 ],
 "metadata": {
  "filename": "lec01_intro.rst",
  "kernelspec": {
   "display_name": "Python 3",
   "language": "python",
   "name": "python3"
  },
  "language_info": {
   "codemirror_mode": {
    "name": "ipython",
    "version": 3
   },
   "file_extension": ".py",
   "mimetype": "text/x-python",
   "name": "python",
   "nbconvert_exporter": "python",
   "pygments_lexer": "ipython3",
   "version": "3.7.3"
  },
  "title": "Lecture 1 — Introduction"
 },
 "nbformat": 4,
 "nbformat_minor": 2
}
