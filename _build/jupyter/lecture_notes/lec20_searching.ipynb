{
 "cells": [
  {
   "cell_type": "markdown",
   "metadata": {},
   "source": [
    "Notebook created: 2019-07-16 14:30:27  \n",
    "Generated from: jWebsite/lecture_notes/lec20_searching.rst  "
   ]
  },
  {
   "cell_type": "markdown",
   "metadata": {},
   "source": [
    "# Lecture 20 — Searching"
   ]
  },
  {
   "cell_type": "markdown",
   "metadata": {},
   "source": [
    "## Overview\n",
    "\n",
    "- Notion of an algorithm  \n",
    "- Problems:  \n",
    "  - Finding the two smallest values in a list  \n",
    "  - Finding the index of a particular value in a list  \n",
    "  - Finding the index of a particular value in a **sorted** list  \n",
    "  - Sorting a list (Lecture 21)  \n",
    "- Analyzing our solutions:  \n",
    "  - Mathematically  \n",
    "  - Experimental timing  \n",
    "\n",
    "\n",
    "Material for Lectures 20 and 21 is in Chapters 12 and 13 of the text."
   ]
  },
  {
   "cell_type": "markdown",
   "metadata": {},
   "source": [
    "## Algorithm\n",
    "\n",
    "- Precise description of the steps necessary to solve a computing\n",
    "  problem  \n",
    "- Description is intended for people to read and understand  \n",
    "- Gradual refinement:  \n",
    "  - Starts with English sentences  \n",
    "  - Gradually, the sentences are made more detailed and more like\n",
    "    programming statements  \n",
    "  - Allows us to lay out the basic steps of the program before getting\n",
    "    to the details.  \n",
    "- A program is an *implementation* of one or more algorithms.  "
   ]
  },
  {
   "cell_type": "markdown",
   "metadata": {},
   "source": [
    "## Multiple Algorithms\n",
    "\n",
    "- Often there are many different algorithms that can solve a problem.  \n",
    "- They differ in:  \n",
    "  - Ease of understanding  \n",
    "  - Ease of implementation  \n",
    "  - Efficiency  \n",
    "- All three considerations are important and their relative weight\n",
    "  depends on the context.  "
   ]
  },
  {
   "cell_type": "markdown",
   "metadata": {},
   "source": [
    "## Problem 1: Finding the Two Smallest Values in a List\n",
    "\n",
    "- Given a list of integers, floats, or any other values that can be\n",
    "  compared with a less than operation, find the two smallest values in\n",
    "  the list AND their indices in the list  \n",
    "- We need to be careful with this problem formulation: are duplicates\n",
    "  allowed? does it matter?  "
   ]
  },
  {
   "cell_type": "markdown",
   "metadata": {},
   "source": [
    "## Brainstorming Session\n",
    "\n",
    "1. Outline two or more approaches to finding the indices of the two\n",
    "  smallest values in a list.  \n",
    "1. Think through the advantages and disadvantages of each approach.  \n",
    "1. Write a more detailed description of the solutions.  \n",
    "1. How might your approaches change if we just have to find the values\n",
    "  and not the indices?  "
   ]
  },
  {
   "cell_type": "markdown",
   "metadata": {},
   "source": [
    "## Evaluating Our Solutions Analytically\n",
    "\n",
    "We’ve already covered this briefly in Lecture 15.\n",
    "\n",
    "- Count the number of steps as a function of the size of the list.  \n",
    "  - Usually we use $ N $ as a variable to indicate this size.  \n",
    "- Informally, if the number of operations is (roughly) proportional to\n",
    "  $ N $ we write $ O(N) $ (read as “order of N”)  \n",
    "- If the number of operations is proportional to $ N log N $ we\n",
    "  write $ O(N log N) $.  \n",
    "  - Importantly, the best sorting algorithms, including the one\n",
    "    implemented in Python for lists, are $ O(N log N) $.  \n",
    "- We will informally apply this analysis to our solution approaches.  "
   ]
  },
  {
   "cell_type": "markdown",
   "metadata": {},
   "source": [
    "## Evaluating Our Solutions Experimentally\n",
    "\n",
    "- Needs:  \n",
    "  - generate example data, and  \n",
    "  - time our algorithm implementations.  \n",
    "- Experimental data can be generated using the `random` module. We\n",
    "  will make use of  \n",
    "  - `randrange`  \n",
    "  - `shuffle`  \n",
    "- Timing uses the `time` module and its `time` function, which\n",
    "  returns the number of seconds (as a float) since an arbitrary start\n",
    "  time called an “epoch”.  \n",
    "  - We will compute the difference between a start time and an end\n",
    "    time as our timing measurement.  "
   ]
  },
  {
   "cell_type": "markdown",
   "metadata": {},
   "source": [
    "## Completing the Solutions\n",
    "\n",
    "- We will implement two of the algorithms we came up with to find the\n",
    "indices of the two smallest values in the list:  "
   ]
  },
  {
   "cell_type": "code",
   "execution_count": null,
   "metadata": {
    "hide-output": false
   },
   "outputs": [],
   "source": [
    "import random\n",
    "import time\n",
    "\n",
    "def index_two_v1( values ):\n",
    "    pass  # not implemented yet\n",
    "\n",
    "\n",
    "\n",
    "\n",
    "def index_two_v2( values ):\n",
    "    pass # not implemented yet\n",
    "\n",
    "\n",
    "\n",
    "\n",
    "\n",
    "\n",
    "if __name__ == \"__main__\":\n",
    "    n = int(input(\"Enter the number of values to test ==> \"))\n",
    "    values = list(range(0,n))\n",
    "    random.shuffle( values )\n",
    "\n",
    "    s1 = time.time()\n",
    "    (i0,i1) = index_two_v1(values)\n",
    "    t1 = time.time() - s1\n",
    "    print(\"Ver 1:  indices ({},{}); time {:.3f} seconds\".format(i0,i1,t1))\n",
    "\n",
    "    s2 = time.time()\n",
    "    (j0,j1) = index_two_v2(values)\n",
    "    t2 = time.time() - s2\n",
    "    print(\"Ver 2:  indices ({},{}); time {:.3f} seconds\".format(j0,j1,t2))"
   ]
  },
  {
   "cell_type": "markdown",
   "metadata": {},
   "source": [
    "\n",
    "\n",
    "We will experiment with these implementations."
   ]
  },
  {
   "cell_type": "markdown",
   "metadata": {},
   "source": [
    "## Searching for a Value\n",
    "\n",
    "- Problem: given a list of values, `L`, and given a single value,\n",
    "  `x`, find the (first) index of `x` in `L` or determine that\n",
    "  `x` is not in `L`.  \n",
    "- Basic algorithm is straightforward, and requires $ O(N) $ steps  \n",
    "- We can solve this in Python using a combination of `in` and\n",
    "  `index`, or by writing our own loop.  \n",
    "  - The text book discusses a number of variations on the algorithm.  \n",
    "- We will implement our own variation as an exercise.  "
   ]
  },
  {
   "cell_type": "markdown",
   "metadata": {},
   "source": [
    "## Binary Search\n",
    "\n",
    "- If the list is **ordered**, do we have to search it by looking at\n",
    "  location 0, then 1, then 2, then 3, …?  \n",
    "- What if we looked at the middle location first?  \n",
    "  - If the value of `x` is greater than that value, we know that the\n",
    "    first location for `x` is in the **upper half of the list**.  \n",
    "  - Otherwise, the first location for `x` is in the **lower half**\n",
    "    of the list  \n",
    "- In other words, by making one comparison, we have eliminated half the\n",
    "  list in our search!  \n",
    "- We can repeat this process of “halving” the list until we reach just\n",
    "  one location.  "
   ]
  },
  {
   "cell_type": "markdown",
   "metadata": {},
   "source": [
    "## Algorithm and Implementation\n",
    "\n",
    "- We need to keep track of two indices:  \n",
    "  - `low`: all values in the list at locations 0..`low`-1 are\n",
    "    less than `x`  \n",
    "  - `high`: all values in the list at locations `high` ..`N`\n",
    "    are greater than or equal to `x`. Write `N` as the length of\n",
    "    the list.  \n",
    "- Initialize `low = 0` and `high = N`.  \n",
    "- In each iteration of a while loop  \n",
    "  - Set `mid` to be the average of `low` and `high`.  \n",
    "  - Update the value of `low` or `high` based on comparing `x`\n",
    "    to `L[mid]`.  \n",
    "- Here is the actual code:  "
   ]
  },
  {
   "cell_type": "code",
   "execution_count": null,
   "metadata": {
    "hide-output": false
   },
   "outputs": [],
   "source": [
    "def binary_search( x, L):\n",
    "    low = 0\n",
    "    high = len(L)\n",
    "    while low != high:\n",
    "        mid = (low+high)//2\n",
    "        if x > L[mid]:\n",
    "            low = mid+1\n",
    "        else:\n",
    "            high = mid\n",
    "    return low"
   ]
  },
  {
   "cell_type": "markdown",
   "metadata": {},
   "source": [
    "\n",
    "\n",
    "## Practice\n",
    "\n",
    "1. Using  "
   ]
  },
  {
   "cell_type": "code",
   "execution_count": null,
   "metadata": {
    "hide-output": false
   },
   "outputs": [],
   "source": [
    "L = [ 1.3, 7.9, 11.2, 15.3, 18.5, 18.9, 19.7 ]"
   ]
  },
  {
   "cell_type": "markdown",
   "metadata": {},
   "source": [
    "what are the values of `low`, `high` and `mid` each time\n",
    "through the while loop for the calls  "
   ]
  },
  {
   "cell_type": "code",
   "execution_count": null,
   "metadata": {
    "hide-output": false
   },
   "outputs": [],
   "source": [
    "binary_search( 11.2, L )\n",
    "\n",
    "\n",
    "\n",
    "binary_search( 19.1, L )\n",
    "\n",
    "\n",
    "\n",
    "binary_search( -1, L)\n",
    "\n",
    "\n",
    "\n",
    "\n",
    "binary_search( 25, L)"
   ]
  },
  {
   "cell_type": "markdown",
   "metadata": {},
   "source": [
    "1. How many times will the loop execute for $ N = 1,000 $ or\n",
    "  $ N = 1,000,000 $? (You will not be able to come up with an exact number,\n",
    "  but you should be able to come close.) How does this compare to the\n",
    "  linear search?  \n",
    "1. Would the code still work if we changed the `>` to the `>=`? Why?  \n",
    "1. Modify the code to return a tuple that includes both the index where\n",
    "  `x` is or should be inserted `and` a boolean that indicates\n",
    "  whether or not `x` is in the list.  \n",
    "\n",
    "\n",
    "We will also perform experimental timing runs if we have time at the end\n",
    "of class."
   ]
  },
  {
   "cell_type": "markdown",
   "metadata": {},
   "source": [
    "## Summary\n",
    "\n",
    "- Algorithm vs. implementation  \n",
    "- Criteria for choosing an algorithm: speed, clarity, ease of\n",
    "  implementation  \n",
    "- Timing/speed evaluations can be either analytical or experimental.  \n",
    "- Searching for indices of two smallest values  \n",
    "- Linear search  \n",
    "- Binary search of a list that is ordered.  "
   ]
  }
 ],
 "metadata": {
  "filename": "lec20_searching.rst",
  "kernelspec": {
   "display_name": "Python",
   "language": "python3",
   "name": "python3"
  },
  "title": "Lecture 20 — Searching"
 },
 "nbformat": 4,
 "nbformat_minor": 2
}