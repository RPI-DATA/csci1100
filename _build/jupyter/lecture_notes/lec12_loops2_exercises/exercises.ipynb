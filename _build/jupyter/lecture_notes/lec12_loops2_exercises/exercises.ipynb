{
 "cells": [
  {
   "cell_type": "markdown",
   "metadata": {},
   "source": [
    "Notebook created: 2019-07-16 14:30:27  \n",
    "Generated from: jWebsite/lecture_notes/lec12_loops2_exercises/exercises.rst  "
   ]
  },
  {
   "cell_type": "markdown",
   "metadata": {},
   "source": [
    "# Lecture 12 — Exercises\n",
    "\n",
    "Solutions to the problems below must be sent to Submitty for grading.\n",
    "A separate file must submitted for each problem.  Solutions must be\n",
    "submitted by 4 pm on Friday, March 2.\n",
    "\n",
    "1. The following simple exercise will help you understand loops better.\n",
    "Show the output of each of the following pairs of `for` loops. The\n",
    "first two pairs are nested loops, and the third pair is formed by\n",
    "consecutive, or *sequential*, loops.  Submit a single text file\n",
    "containing three lines, each with an integer on it.  "
   ]
  },
  {
   "cell_type": "code",
   "execution_count": null,
   "metadata": {
    "hide-output": false
   },
   "outputs": [],
   "source": [
    "# Version 1\n",
    "sum = 0\n",
    "for i in range(10):\n",
    "    for j in range(10):\n",
    "        sum += 1\n",
    "print(sum)"
   ]
  },
  {
   "cell_type": "code",
   "execution_count": null,
   "metadata": {
    "hide-output": false
   },
   "outputs": [],
   "source": [
    "# Version 2\n",
    "sum = 0\n",
    "for i in range(10):\n",
    "    for j in range(i+1,10):\n",
    "        sum += 1\n",
    "print(sum)"
   ]
  },
  {
   "cell_type": "code",
   "execution_count": null,
   "metadata": {
    "hide-output": false
   },
   "outputs": [],
   "source": [
    "# Version 3\n",
    "sum = 0\n",
    "for i in range(10):\n",
    "    sum += 1\n",
    "for j in range(10):\n",
    "    sum += 1\n",
    "print(sum)"
   ]
  },
  {
   "cell_type": "markdown",
   "metadata": {},
   "source": [
    "1. Write a function called `first_day_greater` that takes two lists,\n",
    "`L1` and `L2`,\n",
    "representing the daily measured weights of rat 1 and rat 2,\n",
    "respectively, and returns the index of the first day for which the\n",
    "weight for the first rat is greater than the weight of the second\n",
    "rat.  If there are no such days then the function should return\n",
    "-1.  You may NOT assume that `L1` and `L2` are the same length.  \n",
    "Use the following to test your program:  "
   ]
  },
  {
   "cell_type": "code",
   "execution_count": null,
   "metadata": {
    "hide-output": false
   },
   "outputs": [],
   "source": [
    "if __name__ == \"__main__\":\n",
    "    L1 = [ 15.1, 17.3, 12.3, 16.4 ]\n",
    "    L2 = [ 15.0, 17.7, 12.5, 16.9 ]\n",
    "    print(\"Test 1: {}\".format( first_day_greater(L1,L2) ))\n",
    "    L2 = [ 15.6, 17.9, 18.2, 16.5, 12.7 ]\n",
    "    print(\"Test 2: {}\".format( first_day_greater(L1,L2) ))\n",
    "    L2 = [ 15.9, 18.8, 11.4 ]\n",
    "    print(\"Test 3: {}\".format( first_day_greater(L1,L2) ))"
   ]
  },
  {
   "cell_type": "markdown",
   "metadata": {},
   "source": [
    "1. Write a function called `find_min` that takes a list of lists and\n",
    "returns the minimum value across all lists.  Test it with the\n",
    "following  "
   ]
  },
  {
   "cell_type": "code",
   "execution_count": null,
   "metadata": {
    "hide-output": false
   },
   "outputs": [],
   "source": [
    "if __name__ == \"__main__\":\n",
    "    v = [ [ 11,12,3], [6, 8, 4], [ 17, 2, 18, 14] ]\n",
    "    print(\"Min of list v: {}\".format(find_min(v)) )\n",
    "    u = [ [ 'car', 'tailor', 'ball' ], ['dress'], ['can', 'cheese', 'ring' ], \\\n",
    "              [ 'rain', 'snow', 'sun' ] ]\n",
    "    print(\"Min of list u: {}\".format(find_min(u)) )"
   ]
  }
 ],
 "metadata": {
  "filename": "exercises.rst",
  "kernelspec": {
   "display_name": "Python",
   "language": "python3",
   "name": "python3"
  },
  "title": "Lecture 12 — Exercises"
 },
 "nbformat": 4,
 "nbformat_minor": 2
}