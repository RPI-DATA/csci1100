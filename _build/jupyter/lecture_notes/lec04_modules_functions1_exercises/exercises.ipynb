{
 "cells": [
  {
   "cell_type": "markdown",
   "metadata": {},
   "source": [
    "Notebook created: 2019-07-16 14:30:27  \n",
    "Generated from: jWebsite/lecture_notes/lec04_modules_functions1_exercises/exercises.rst  "
   ]
  },
  {
   "cell_type": "markdown",
   "metadata": {},
   "source": [
    "# Lecture 4 — Exercises\n",
    "\n",
    "Solutions to the problems below must be sent to Submitty for grading.\n",
    "A separate file must submitted for each problem.  These must be\n",
    "submitted by 4 pm on Tuesday, January 30.\n",
    "\n",
    "1. Write a program that assigns a string to the variable called\n",
    "`phrase` and then transforms `phrase` into a hashtag.  In other\n",
    "words, all words in `phrase` are capitalized, all spaces are\n",
    "removed, and a `#` appears in front.  Store the result in a\n",
    "variable called `hashtag`.  Then print the value of both\n",
    "`phrase` and `hashtag`.  Your program should start with  "
   ]
  },
  {
   "cell_type": "code",
   "execution_count": null,
   "metadata": {
    "hide-output": false
   },
   "outputs": [],
   "source": [
    "phrase = 'Things you wish you knew as a freshman'"
   ]
  },
  {
   "cell_type": "markdown",
   "metadata": {},
   "source": [
    "and the output from the program (using `print()` function\n",
    "calls) should be  "
   ]
  },
  {
   "cell_type": "code",
   "execution_count": null,
   "metadata": {
    "hide-output": false
   },
   "outputs": [],
   "source": [
    "The phrase \"Things you wish you knew as a freshman\"\n",
    "becomes the hashtag \"#ThingsYouWishYouKnewAsAFreshman\""
   ]
  },
  {
   "cell_type": "markdown",
   "metadata": {},
   "source": [
    "Note that the output includes the quotation marks.  \n",
    "1. One of the challenges of programming is that there are often many\n",
    "ways to solve even the simplest problem.  Consider computing the\n",
    "area of the circle with the standard formula  \n",
    "$$\n",
    "a(r) = \\pi r^2\n",
    "$$\n",
    "Fortunately, we now have `pi` from the *math* module, but to\n",
    "compute the square of the radius we now can use `**` or\n",
    "`pow()` or we can just multiply the radius times itself.  To\n",
    "print the area accurate to only a few decimal places we can now use\n",
    "the string `format()` method or the `round()` built-in\n",
    "function, which includes an optional second argument to specify the\n",
    "number of decimal places.  \n",
    "Write a short Python program that computes and prints the areas of\n",
    "two circles, one with radius 5 and the other with radius 32.  Your\n",
    "code must use `**` once and `pow()` once and it must use\n",
    "`format()` once and `round()` once.  The output should be\n",
    "exactly  "
   ]
  },
  {
   "cell_type": "code",
   "execution_count": null,
   "metadata": {
    "hide-output": false
   },
   "outputs": [],
   "source": [
    "Area 1 = 78.54\n",
    "Area 2 = 3216.99"
   ]
  }
 ],
 "metadata": {
  "filename": "exercises.rst",
  "kernelspec": {
   "display_name": "Python",
   "language": "python3",
   "name": "python3"
  },
  "title": "Lecture 4 — Exercises"
 },
 "nbformat": 4,
 "nbformat_minor": 2
}