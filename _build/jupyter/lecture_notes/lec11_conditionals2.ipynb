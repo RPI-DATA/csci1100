{
 "cells": [
  {
   "cell_type": "markdown",
   "metadata": {},
   "source": [
    "Notebook created: 2019-07-16 14:30:27  \n",
    "Generated from: jWebsite/lecture_notes/lec11_conditionals2.rst  "
   ]
  },
  {
   "cell_type": "markdown",
   "metadata": {},
   "source": [
    "# Lecture 11 — Decisions Part 2"
   ]
  },
  {
   "cell_type": "markdown",
   "metadata": {},
   "source": [
    "## Overview — Logic and Decision Making, part 2\n",
    "\n",
    "- Program structure  \n",
    "- Debugging and “hardening” a simple function  \n",
    "- A bit of design and a bit of a random walk  \n",
    "- More on logic - the key to getting programs right  \n",
    "  - Boolean logic  \n",
    "  - Nested if statements  \n",
    "  - Assigning boolean variables  "
   ]
  },
  {
   "cell_type": "markdown",
   "metadata": {},
   "source": [
    "## Part 1: Program Structure\n",
    "\n",
    "Programming requires four basic skills:\n",
    "\n",
    "1. Develop a solution.  \n",
    "  - Start with small steps, solve them, and then add complexity  \n",
    "1. Structure your code.  \n",
    "- Move repeated code into functions  \n",
    "- Make your code easy to read and modify. Use meaningful variable names\n",
    "  and break complex operations into smaller parts.  \n",
    "- Place values in variables so they are easy to change.  \n",
    "- Include comments for important functions, but do not clutter\n",
    "your code with unnecessary comments.  A classic example of a\n",
    "completely unnecessary comment is  "
   ]
  },
  {
   "cell_type": "code",
   "execution_count": null,
   "metadata": {
    "hide-output": false
   },
   "outputs": [],
   "source": [
    "x += 1   # increment x"
   ]
  },
  {
   "cell_type": "markdown",
   "metadata": {},
   "source": [
    "- Document assumptions about what is passed to a function.  \n",
    "- If your function is meant to return a value, make sure it always\n",
    "  does.  \n",
    "1. Test your code.  \n",
    "  - Find all possible cases that your program should handle, including typos\n",
    "    in the input.  As\n",
    "    programs get larger, this is increasingly hard.  \n",
    "  - If you cannot check for all inputs, then you must then check your code\n",
    "    for meaningful inputs: regular (expected inputs) and edge cases (inputs\n",
    "    that can break your code).  \n",
    "1. Debug your code.  \n",
    "  - Never assume an untested part of your code is bug free. “If it ain’t tested, it’s broken.”  \n",
    "  - Learn syntax well so that you can spot and fix syntax errors\n",
    "    fast.  \n",
    "  - Semantic errors are much harder to find and fix. You need\n",
    "    strategies to isolate where the error is.  \n",
    "  - Print output before and after crucial steps.  \n",
    "  - Look at where your program crashed.  \n",
    "  - Fix the first error first, not the biggest error.  The first\n",
    "    error may be the cause of bigger errors later in your code.  \n",
    "  - Use a debugger.  \n",
    "  - Simplify the problem: remove (by commenting out) parts of your\n",
    "    code until you no longer have an error.  Look at the last code\n",
    "    removed for a source of at least part of your errors.  \n",
    "  - Test parts of your code separately and once you are convinced\n",
    "    they are bug free, concentrate on other parts.  "
   ]
  },
  {
   "cell_type": "markdown",
   "metadata": {},
   "source": [
    "## Help with debugging\n",
    "\n",
    "- Consider the following code to add the first `n` integers:  "
   ]
  },
  {
   "cell_type": "code",
   "execution_count": null,
   "metadata": {
    "hide-output": false
   },
   "outputs": [],
   "source": [
    "n = int(input(\"Enter a positive integer ==> \"))\n",
    "total = 0\n",
    "i = 0\n",
    "while i != n:\n",
    "    total += i\n",
    "    i += 1\n",
    "print('Sum is', total)"
   ]
  },
  {
   "cell_type": "markdown",
   "metadata": {},
   "source": [
    "- Does it work?  For all inputs?  Might it run forever?  (We’ll\n",
    "  ignore the fact that a `for` loop would be better here.)  \n",
    "- How might we find such an error?  \n",
    "  - Careful reading of the code  \n",
    "  - Insert print statements  \n",
    "  - Use the Wing IDE debugger.  \n",
    "- We will practice with the Wing IDE debugger in class, using it to\n",
    "  understand the behavior of the program. We will explain the following\n",
    "  picture  \n",
    "  <img src=\"lecture_notes/images/debugger.png\" style=\"\">\n",
    "  \n",
    "  and note the use of  \n",
    "  - The hand, bug and stop symbols on the top of the display, and  \n",
    "  - The Debug I/O and Stack Data at the bottom of the display.  \n",
    "- Debugging becomes crucial in tracking logic errors as well.  "
   ]
  },
  {
   "cell_type": "markdown",
   "metadata": {},
   "source": [
    "## Program organization\n",
    "\n",
    "- Envision your code as having two main parts: the main body and the\n",
    "  functions that help the main code.  \n",
    "- Make sure your functions accomplish one well-defined task.  This\n",
    "  makes them both easy to test and useful in many places.  \n",
    "- As we will see in an example below, in Python it is good practice to\n",
    "separate the functions and the main body with the following\n",
    "addition to the program structure:  "
   ]
  },
  {
   "cell_type": "code",
   "execution_count": null,
   "metadata": {
    "hide-output": false
   },
   "outputs": [],
   "source": [
    "if __name__ == \"__main__\"\n",
    "    # Put the main body of the program below this line"
   ]
  },
  {
   "cell_type": "markdown",
   "metadata": {},
   "source": [
    "- This will have no apparent effect when a program is run.\n",
    "  However, if a program is imported as a module into another program\n",
    "  (like the utility code we have been giving you), any code within the\n",
    "  above `if` block is skipped!  \n",
    "- This allows programs to work both as modules and stand alone\n",
    "  code.  \n",
    "- When the primary purpose of your code is to provide functionality\n",
    "  as a module, it is best to use the code in the main body to test\n",
    "  the module functions.  "
   ]
  },
  {
   "cell_type": "markdown",
   "metadata": {},
   "source": [
    "## Part 2:  Extended Example of a Random Walk\n",
    "\n",
    "- Many numerical simulations, including many video games, involve random\n",
    "  events.  \n",
    "- Python includes a module to generate numbers at random. For\n",
    "example,  "
   ]
  },
  {
   "cell_type": "code",
   "execution_count": null,
   "metadata": {
    "hide-output": false
   },
   "outputs": [],
   "source": [
    "import random\n",
    "\n",
    "# Print three numbers randomly generated between 0 and 1.\n",
    "print(random.random())\n",
    "print(random.random())\n",
    "print(random.random())\n",
    "\n",
    "# Print a random integer in the range 0..5\n",
    "print(random.randint(0,5))\n",
    "print(random.randint(0,5))\n",
    "print(random.randint(0,5))"
   ]
  },
  {
   "cell_type": "markdown",
   "metadata": {},
   "source": [
    "- We’d like to use this to simulate a “random walk”:  \n",
    "  - Hypothetically, a person takes a step forward or backward,\n",
    "    completely at random (equally likely to go either way).  This\n",
    "    can be repeated over and over again until some stopping point is\n",
    "    reached.  \n",
    "  - Suppose the person is on a platform with $ N $ steps and the person\n",
    "    starts in the middle, this random forward/backward stepping\n",
    "    process is repeated until they fall off (reach step 0 or step\n",
    "    $ N+1 $)  \n",
    "    - “forward” is represented by an increasing step, while\n",
    "      “backward” is represented by a decreasing step  \n",
    "  - How many steps does it take to fall off?  \n",
    "- Many variations on this problem appear in physical simulations.  \n",
    "- We can simulate a step in several ways:  \n",
    "  1. If `random.random()` returns a value less than 0.5 step backward;\n",
    "    otherwise step forward.  \n",
    "  1. If `random.randint(0,1)` returns 1 then step forward; otherwise,\n",
    "    step backward.  \n",
    "  1. Eliminate the `if` entirely and just increment by whatever `random.choice([-1,1])`\n",
    "    returns (it will return either -1 (step backward) or 1 (step forward)).  \n",
    "- So, in summary, we want to start a random walk at position $ N/2 $ and\n",
    "  repeatedly take a step forward or backward based on the\n",
    "  output of the random number generator until the walker falls off.  \n",
    "- We will solve this problem together during lecture.\n",
    "  We we start by enumerating some of the needed steps and then\n",
    "  solving them individually before putting together the whole\n",
    "  program.  \n",
    "  - Once we see the result we can think of several ways to change\n",
    "    things and explore new questions and ideas.  Remember, a program\n",
    "    is never done!  "
   ]
  },
  {
   "cell_type": "markdown",
   "metadata": {},
   "source": [
    "## Part 3:  Review of Boolean Logic\n",
    "\n",
    "- Invented / discovered by George Boole in the 1840’s to reduce\n",
    "  classical logic to an algebra  \n",
    "  - This was a crucial mathematical step on the road to computation\n",
    "    and computers  \n",
    "- Values (in Python) are `True` and `False`  \n",
    "- Operators  \n",
    "  - Comparisons: `<, >, <=, >=, == !=`  \n",
    "  - Logic: `and`, `or`, `not`  "
   ]
  },
  {
   "cell_type": "markdown",
   "metadata": {},
   "source": [
    "## Truth Tables\n",
    "\n",
    "- Aside to recall the syntax: `and, or, not` are lower case!  \n",
    "- If we have two boolean expressions, which we will refer to as `ex1`\n",
    "  and `ex2`, and if we combine their “truth” values using `and` we\n",
    "  have the following “truth table” to describe the result  \n",
    "  ``  \n",
    "  ``  \n",
    "  ``  \n",
    "  ``  \n",
    "  ``  \n",
    "  ``  \n",
    "  ``  \n",
    "  ``  \n",
    "  ``  \n",
    "  ``  \n",
    "  ``  \n",
    "  ``  \n",
    "  ``  \n",
    "  ``  \n",
    "  ``  \n",
    "  |ex1|ex2|ex1 and ex2|\n",
    "  |:---------:|:----------:|:---------------:|\n",
    "  |False|False|False|\n",
    "  |False|True|False|\n",
    "  |True|False|False|\n",
    "  |True|True|True|\n",
    "- If we combine the two expressions using `or`, we have  \n",
    "  ``  \n",
    "  ``  \n",
    "  ``  \n",
    "  ``  \n",
    "  ``  \n",
    "  ``  \n",
    "  ``  \n",
    "  ``  \n",
    "  ``  \n",
    "  ``  \n",
    "  ``  \n",
    "  ``  \n",
    "  ``  \n",
    "  ``  \n",
    "  ``  \n",
    "  |ex1|ex2|ex1 or ex2|\n",
    "  |:----------:|:---------:|:--------------:|\n",
    "  |False|False|False|\n",
    "  |False|True|True|\n",
    "  |True|False|True|\n",
    "  |True|True|True|\n",
    "- Finally, using `not` we have  \n",
    "  ``  \n",
    "  ``  \n",
    "  ``  \n",
    "  ``  \n",
    "  ``  \n",
    "  ``  \n",
    "  |ex1|not ex1|\n",
    "  |:---------:|:-----------:|\n",
    "  |False|True|\n",
    "  |True|False|"
   ]
  },
  {
   "cell_type": "markdown",
   "metadata": {},
   "source": [
    "## DeMorgan’s Laws Relating and, or, not\n",
    "\n",
    "- Using `ex1` and `ex2` once again to represent boolean\n",
    "expressions, we have  "
   ]
  },
  {
   "cell_type": "code",
   "execution_count": null,
   "metadata": {
    "hide-output": false
   },
   "outputs": [],
   "source": [
    "not (ex1 and ex2) == (not ex1) or (not ex2)"
   ]
  },
  {
   "cell_type": "markdown",
   "metadata": {},
   "source": [
    "- And,  "
   ]
  },
  {
   "cell_type": "code",
   "execution_count": null,
   "metadata": {
    "hide-output": false
   },
   "outputs": [],
   "source": [
    "not (ex1 or ex2) == (not ex1) and (not ex2)"
   ]
  },
  {
   "cell_type": "markdown",
   "metadata": {},
   "source": [
    "- Also, distribution laws  "
   ]
  },
  {
   "cell_type": "code",
   "execution_count": null,
   "metadata": {
    "hide-output": false
   },
   "outputs": [],
   "source": [
    "ex1 and (ex2 or ex3) == (ex1 and ex2) or (ex1 and ex3)\n",
    "ex1 or (ex2 and ex3) == (ex1 or ex2) and (ex1 or ex3)"
   ]
  },
  {
   "cell_type": "markdown",
   "metadata": {},
   "source": [
    "- We can prove these using truth tables.  "
   ]
  },
  {
   "cell_type": "markdown",
   "metadata": {},
   "source": [
    "## Why Do We Care?\n",
    "\n",
    "- When we’ve written logical expressions into our programs, it no\n",
    "  longer matters what we intended; it matters what the logic actually\n",
    "  does.  \n",
    "- For complicated boolean expressions, we may need to almost prove that\n",
    "  they are correct  "
   ]
  },
  {
   "cell_type": "markdown",
   "metadata": {},
   "source": [
    "## Part 4: Additional Techniques in Logic and Decision Making\n",
    "\n",
    "We will examine:\n",
    "\n",
    "- Short-ciruiting  \n",
    "- Nested conditionals  \n",
    "- Storing the result of boolean expressions in variables  \n",
    "\n",
    "\n",
    "and then apply them to several problems"
   ]
  },
  {
   "cell_type": "markdown",
   "metadata": {},
   "source": [
    "## Short-Circuited Boolean Expressions\n",
    "\n",
    "- Python only evaluates expressions as far as needed to make a\n",
    "  decision.  \n",
    "- Therefore, in a boolean expression of the form  "
   ]
  },
  {
   "cell_type": "code",
   "execution_count": null,
   "metadata": {
    "hide-output": false
   },
   "outputs": [],
   "source": [
    "ex1 and ex2"
   ]
  },
  {
   "cell_type": "markdown",
   "metadata": {},
   "source": [
    "`ex2` will not be evaluated if `ex1` evaluates to `False`.\n",
    "  Think about why.  \n",
    "- Also, in a boolean expression of the form  "
   ]
  },
  {
   "cell_type": "code",
   "execution_count": null,
   "metadata": {
    "hide-output": false
   },
   "outputs": [],
   "source": [
    "ex1 or ex2"
   ]
  },
  {
   "cell_type": "markdown",
   "metadata": {},
   "source": [
    "`ex2` will not be evaluated if `ex1` evalues to `True`.  \n",
    "- This “short-circuiting” is common across many programming languages.  "
   ]
  },
  {
   "cell_type": "markdown",
   "metadata": {},
   "source": [
    "## Nested If Statements\n",
    "\n",
    "- We can place `if` statements inside of other `if` statements.  \n",
    "- To illustrate, consider the following where `ex1`, `ex2`,\n",
    "`ex3` and `ex4` are all boolean expressions, and `blockA`,\n",
    "`blockB`, `blockD` and `blockE` are sections of code.  "
   ]
  },
  {
   "cell_type": "code",
   "execution_count": null,
   "metadata": {
    "hide-output": false
   },
   "outputs": [],
   "source": [
    "if ex1:\n",
    "    if ex2:\n",
    "       blockA\n",
    "    elif ex3:\n",
    "       blockB\n",
    "elif ex4:\n",
    "    blockD\n",
    "else:\n",
    "    blockE"
   ]
  },
  {
   "cell_type": "markdown",
   "metadata": {},
   "source": [
    "- We will examine this example in class and answer the following\n",
    "  questions:  \n",
    "  - Under what conditions is each block executed?  \n",
    "  - Is it possible that no blocks are executed?  \n",
    "  - What is the equivalent non-nested if-elif-else structure?  "
   ]
  },
  {
   "cell_type": "markdown",
   "metadata": {},
   "source": [
    "## Storing the Result of a Boolean Expression\n",
    "\n",
    "- Sometimes we store the result of boolean expressions in a variable\n",
    "for later use:  "
   ]
  },
  {
   "cell_type": "code",
   "execution_count": null,
   "metadata": {
    "hide-output": false
   },
   "outputs": [],
   "source": [
    "f = float(input(\"Enter a Fahrenheit temperature: \"))\n",
    "is_below_freezing = f < 32.0\n",
    "if is_below_freezing:\n",
    "    print(\"Brrr.  It is cold\")"
   ]
  },
  {
   "cell_type": "markdown",
   "metadata": {},
   "source": [
    "- We use this to  \n",
    "  - Make code clearer  \n",
    "  - Avoid repeated evaluation of the same expression, especially if\n",
    "    the expression requires a lot of computation.  "
   ]
  },
  {
   "cell_type": "markdown",
   "metadata": {},
   "source": [
    "## Examples for Lecture\n",
    "\n",
    "We will work on the following examples during class, as time permits.\n",
    "\n",
    "1. In the following code, for what values of `x` and `y` does the\n",
    "code print 1, for what values does the code print 2, and for what\n",
    "values does the code print nothing at all?  "
   ]
  },
  {
   "cell_type": "code",
   "execution_count": null,
   "metadata": {
    "hide-output": false
   },
   "outputs": [],
   "source": [
    "if x>5 and y<10:\n",
    "    if x<5 or y>2:\n",
    "        if y>3 or z<3:\n",
    "            print 1\n",
    "    else:\n",
    "        print 2"
   ]
  },
  {
   "cell_type": "markdown",
   "metadata": {},
   "source": [
    "The moral of the story is that you should be careful to ensure that\n",
    "your logic and if structures **cover the entire range of\n",
    "possibilities**!  \n",
    "1. Doctors sometimes assess a patient’s risk of heart disease in terms of a\n",
    "combination of the BMI (body mask index) and age using the following\n",
    "table:  \n",
    "  \n",
    "  \n",
    "  \n",
    "  \n",
    "  \n",
    "  \n",
    "  \n",
    "  \n",
    "||Age $ \\leq 45 $|Age $ > 45 $|\n",
    "|:-----------------------:|:---------------------:|:------------------:|\n",
    "|BMI $ < 22.0 $|Low|Medium|\n",
    "|BMI $ \\geq 22.0 $|Medium|High|\n",
    "Assuming the values for a patient are stored in variables `age` and\n",
    "`bmi`, we can write the following code  "
   ]
  },
  {
   "cell_type": "code",
   "execution_count": null,
   "metadata": {
    "hide-output": false
   },
   "outputs": [],
   "source": [
    "slim = bmi < 22.0\n",
    "young = age <= 45"
   ]
  },
  {
   "cell_type": "markdown",
   "metadata": {},
   "source": [
    "We will work out two different ways of printing *Low*, *Medium* or\n",
    "  *High* according to the table based on the values of the boolean\n",
    "  variables `slim` and `young`.  \n",
    "1. Challenge example:  Suppose two rectangles are determined by their\n",
    "  corner points - `(x0,y0)` and `(x1,y1)` for one rectangle and\n",
    "  `(u0,v0)` and `(u1,v1)` for the other.  Write a function that\n",
    "  takes these four tuples as arguments and returns `True` when the\n",
    "  two rectangles intersect and `False` otherwise.  "
   ]
  },
  {
   "cell_type": "markdown",
   "metadata": {},
   "source": [
    "## Summary of Discussion of If Statements and Logic\n",
    "\n",
    "- Logic is a crucial component of every program.  \n",
    "- Basic rules of logic, including DeMorgan’s laws, help us to write and\n",
    "  understand boolean expressions.  \n",
    "- It sometimes requires careful, precise thinking, even at the level of\n",
    "  a proof, to ensure logical expressions and if statement structures\n",
    "  are correct.  \n",
    "  - Many bugs in supposedly-working programs are caused by conditions\n",
    "    that the programmers did not fully consider.  \n",
    "- If statements can be structured in many ways, sometimes nested several\n",
    "  levels deep.  \n",
    "  - Nesting deeply can lead to confusing code, however.  \n",
    "  - Warning specifically for Python: you can easily change the meaning of\n",
    "    your program by accidentally changing indentation. It is very\n",
    "    hard to debug these changes.  \n",
    "- Using variables to store boolean values can make code easier to\n",
    "  understand and avoids repeated tests.  \n",
    "- Make sure your logic and resulting expressions cover the universe of\n",
    "  possibilities!  "
   ]
  }
 ],
 "metadata": {
  "filename": "lec11_conditionals2.rst",
  "kernelspec": {
   "display_name": "Python",
   "language": "python3",
   "name": "python3"
  },
  "title": "Lecture 11 — Decisions Part 2"
 },
 "nbformat": 4,
 "nbformat_minor": 2
}