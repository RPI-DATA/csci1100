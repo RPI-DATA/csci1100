{
 "cells": [
  {
   "cell_type": "markdown",
   "metadata": {},
   "source": [
    "Notebook created: 2019-07-16 14:30:27  \n",
    "Generated from: jWebsite/lecture_notes/lec10_lists2.rst  "
   ]
  },
  {
   "cell_type": "markdown",
   "metadata": {},
   "source": [
    "# Lecture 10 — Lists Part 2"
   ]
  },
  {
   "cell_type": "markdown",
   "metadata": {},
   "source": [
    "## Topics\n",
    "\n",
    "We will cover the first three of these topics during lecture.  The\n",
    "fourth is for your own use:\n",
    "\n",
    "- List aliasing, lists and functions  \n",
    "- For loops to operate on lists  \n",
    "- Slicing to create copies of lists and to create sublists  \n",
    "- Converting back and forth between strings and lists  "
   ]
  },
  {
   "cell_type": "markdown",
   "metadata": {},
   "source": [
    "## List Aliasing\n",
    "\n",
    "- Consider the following example Python code:  "
   ]
  },
  {
   "cell_type": "code",
   "execution_count": null,
   "metadata": {
    "hide-output": false
   },
   "outputs": [],
   "source": [
    ">>> L1 = [ 'RPI', 'WPI', 'MIT' ]\n",
    ">>> L2 = L1\n",
    ">>> L3 = [ 'RPI', 'WPI', 'MIT' ]\n",
    ">>> L2.append( 'RIT' )\n",
    ">>> L2[1] = 'CalTech'\n",
    ">>> L1\n",
    "['RPI', 'CalTech', 'MIT', 'RIT']\n",
    ">>> L2\n",
    "['RPI', 'CalTech', 'MIT', 'RIT']\n",
    ">>> L3\n",
    "['RPI', 'WPI', 'MIT']"
   ]
  },
  {
   "cell_type": "markdown",
   "metadata": {},
   "source": [
    "- Surprised? This is caused by the creation of what we call an\n",
    "  *alias* in computer science:  \n",
    "  - L1 and L2 reference the same list - they are *aliases* of each\n",
    "    other and the underlying list - so changes made using either\n",
    "    name change the underlying list  \n",
    "  - L3 references a different list that just happens to have the\n",
    "    same string values in the same order: there would have been no\n",
    "    confusion if the strings in the list had been different.  \n",
    "  - We’ll use our memory model for lists to understand what is\n",
    "    happening here.  \n",
    "- Python uses aliases for reasons of efficiency: lists can be quite\n",
    "  long and are frequently changed, so copying of entire lists is\n",
    "  expensive  \n",
    "- This is true for other *container* data types as well.  \n",
    "  - Assignments create an alias for images, lists, tuples, strings and, as we\n",
    "    will see later, sets and dictionaries  \n",
    "    - Aliases of strings and tuples do not create the same confusion\n",
    "      as other containers because they can not be changed once they\n",
    "      are created.  \n",
    "- Fortunately, if we truly want to copy a list, Python provides a\n",
    "`copy()` method for lists.  Try the following and see what\n",
    "happens.  "
   ]
  },
  {
   "cell_type": "code",
   "execution_count": null,
   "metadata": {
    "hide-output": false
   },
   "outputs": [],
   "source": [
    "L1 = [1,2,3]\n",
    "L2 = L1.copy()\n",
    "L1.pop()\n",
    "L2.append( 4 )\n",
    "print(L1)\n",
    "print(L2)"
   ]
  },
  {
   "cell_type": "markdown",
   "metadata": {},
   "source": [
    "\n",
    "\n",
    "## Aliasing and Function Parameters\n",
    "\n",
    "- When a variable is passed to functions, a copy of its value is\n",
    "created if the value is a number or a booleans:  "
   ]
  },
  {
   "cell_type": "code",
   "execution_count": null,
   "metadata": {
    "hide-output": false
   },
   "outputs": [],
   "source": [
    "def add_two(val1, val2):\n",
    "    val1 += val2\n",
    "    return val1\n",
    "\n",
    "val1 = 10\n",
    "val2 = 15\n",
    "print(val1, val2)\n",
    "print(add_two(val1,val2))\n",
    "print(val1, val2)"
   ]
  },
  {
   "cell_type": "markdown",
   "metadata": {},
   "source": [
    "- When a list is passed to functions, the parameter becomes an alias\n",
    "  for the argument in the function call.  \n",
    "- Here is an example of a function that returns a list containing the\n",
    "two smallest values in its input list:  "
   ]
  },
  {
   "cell_type": "code",
   "execution_count": null,
   "metadata": {
    "hide-output": false
   },
   "outputs": [],
   "source": [
    "def smallest_two(mylist):\n",
    "     mylist.sort()\n",
    "     newlist = []\n",
    "     if len(mylist) > 0:\n",
    "         newlist.append(mylist[0])\n",
    "         if len(mylist) > 1:\n",
    "             newlist.append(mylist[1])\n",
    "     return newlist\n",
    "\n",
    "values = [35, 34, 20, 40, 60, 30]\n",
    "\n",
    "print(\"Before function:\", values)\n",
    "print(\"Result of function:\", smallest_two(values))\n",
    "print(\"After function:\", values)"
   ]
  },
  {
   "cell_type": "markdown",
   "metadata": {},
   "source": [
    "- In class we will discuss what happened.  "
   ]
  },
  {
   "cell_type": "markdown",
   "metadata": {},
   "source": [
    "## What Operations Change a List? What Operations Create New Lists?\n",
    "\n",
    "- Operations that change lists include  \n",
    "  - `sort`, `insert`, `append`, `pop`, `remove`  \n",
    "- Operations that create new lists  \n",
    "  - Slicing (discussed below), `copy()`, concatenation (`+`),\n",
    "    replication (`*`) and `list()`  "
   ]
  },
  {
   "cell_type": "markdown",
   "metadata": {},
   "source": [
    "## Part 1 Practice\n",
    "\n",
    "Students will be given about 5 minutes to work on the first two\n",
    "lecture exercises"
   ]
  },
  {
   "cell_type": "markdown",
   "metadata": {},
   "source": [
    "## Part 2:  For Loops and Operations on List Items\n",
    "\n",
    "- Although *while* loops allow us to apply an operation to each entry in a list,\n",
    "  Python has a construct called a *for* loop that is often easier\n",
    "  to use for such operations.  \n",
    "- Our driving example will be the problem of capitalizing a list of\n",
    "names.  We’ll start with a simple example:  "
   ]
  },
  {
   "cell_type": "code",
   "execution_count": null,
   "metadata": {
    "hide-output": false
   },
   "outputs": [],
   "source": [
    "animals = ['cat', 'monkey', 'hawk', 'tiger', 'parrot']\n",
    "cap_animals = []\n",
    "for animal in animals:\n",
    "    cap_animals.append( animal.capitalize() )\n",
    "print(cap_animals)"
   ]
  },
  {
   "cell_type": "markdown",
   "metadata": {},
   "source": [
    "- We can understand what is happening by looking at this\n",
    "  piece-by-piece:  \n",
    "  - The keyword `for` signals the start of a loop  \n",
    "  - `animal` is a loop variable that takes on the value of each item\n",
    "    in the list (as indicated by the keyword `in`) in\n",
    "    succession  \n",
    "    - This is called *iterating* over the values/elements of the list  \n",
    "  - The `:` signals the start of a block of code that is the “body\n",
    "    of the loop”, executed once in succession for each value that\n",
    "    `animal` is assigned  \n",
    "  - The body of the loop here is just a single, indented line of\n",
    "    code, but in other cases - just as using while loops - there may\n",
    "    be more than one line of code.  \n",
    "  - The end of the loop body is indicated by returning to the same\n",
    "    level of the indentation as the `for ...` line that started\n",
    "    the loop.  "
   ]
  },
  {
   "cell_type": "markdown",
   "metadata": {},
   "source": [
    "## Changing the Values in a List\n",
    "\n",
    "- What if we wanted to change the list?  We might consider copying\n",
    "  `cap_animals` back to `animals` at the end of the code\n",
    "  sequence.  \n",
    "- But this does not work if we wanted a function that capitalized all\n",
    "strings in a list.  "
   ]
  },
  {
   "cell_type": "code",
   "execution_count": null,
   "metadata": {
    "hide-output": false
   },
   "outputs": [],
   "source": [
    "def capitalize_list( names ):\n",
    "    cap_names = []\n",
    "    for n in names:\n",
    "        cap_names.append( n.capitalize() )\n",
    "    names = cap_names\n",
    "\n",
    "animals = ['cat', 'monkey', 'hawk', 'tiger', 'parrot']\n",
    "capitalize_list(animals)\n",
    "print(animals)     # Make sure you understand the output!!!"
   ]
  },
  {
   "cell_type": "markdown",
   "metadata": {},
   "source": [
    "- This does not work because `names` is an alias for the list\n",
    "  rather than the list itself!  \n",
    "- The following does not work either because `n` points to a string\n",
    "in the list (and when string values are changed, a new string is\n",
    "generated, effectively making `n` a copy of the value):  "
   ]
  },
  {
   "cell_type": "code",
   "execution_count": null,
   "metadata": {
    "hide-output": false
   },
   "outputs": [],
   "source": [
    "def capitalize_list( names ):\n",
    "    for n in names:\n",
    "        n = n.capitalize()"
   ]
  },
  {
   "cell_type": "markdown",
   "metadata": {},
   "source": [
    "- So, based on what we know so far to actually change the values in\n",
    "the list we need to use indexing together with a `while` loop:  "
   ]
  },
  {
   "cell_type": "code",
   "execution_count": null,
   "metadata": {
    "hide-output": false
   },
   "outputs": [],
   "source": [
    "def capitalize_list( names ):\n",
    "    i = 0\n",
    "    while i < len(names):\n",
    "        names[i] = names[i].capitalize()\n",
    "        i += 1"
   ]
  },
  {
   "cell_type": "markdown",
   "metadata": {},
   "source": [
    "- We can also solve this using a `for` loop and indexing, but for\n",
    "  this we need a `range`  "
   ]
  },
  {
   "cell_type": "markdown",
   "metadata": {},
   "source": [
    "## Using `range`\n",
    "\n",
    "- A `range` “generates” values in a sequence, almost-but-not-quite\n",
    "like a list.  "
   ]
  },
  {
   "cell_type": "code",
   "execution_count": null,
   "metadata": {
    "hide-output": false
   },
   "outputs": [],
   "source": [
    "for i in range(5):\n",
    "    print(i)"
   ]
  },
  {
   "cell_type": "markdown",
   "metadata": {},
   "source": [
    "prints the values 0 through 4…  \n",
    "- We can convert a range to an actual list:  "
   ]
  },
  {
   "cell_type": "code",
   "execution_count": null,
   "metadata": {
    "hide-output": false
   },
   "outputs": [],
   "source": [
    ">>> x = list(range(5))\n",
    ">>> print(x)\n",
    "[0, 1, 2, 3, 4]"
   ]
  },
  {
   "cell_type": "markdown",
   "metadata": {},
   "source": [
    "- The general form is  "
   ]
  },
  {
   "cell_type": "code",
   "execution_count": null,
   "metadata": {
    "hide-output": false
   },
   "outputs": [],
   "source": [
    "range( bi, ei, ii )"
   ]
  },
  {
   "cell_type": "markdown",
   "metadata": {},
   "source": [
    "where  \n",
    "  - `bi` is the initial value (defaults to 0)  \n",
    "  - `ei` is the ending value (never included in the range!)  \n",
    "  - `ii` is the increment, added each time (defaults to 1)  \n",
    "- We’ll look at number of examples:  "
   ]
  },
  {
   "cell_type": "code",
   "execution_count": null,
   "metadata": {
    "hide-output": false
   },
   "outputs": [],
   "source": [
    "list(range(3,10))\n",
    "list(range(4, 20, 4))\n",
    "list(range(10, 2, -2))"
   ]
  },
  {
   "cell_type": "markdown",
   "metadata": {},
   "source": [
    "- Using `for` loops on lists, we often use `len()` in\n",
    "combination with `range` to specify the indices that should be\n",
    "used.  "
   ]
  },
  {
   "cell_type": "code",
   "execution_count": null,
   "metadata": {
    "hide-output": false
   },
   "outputs": [],
   "source": [
    "def capitalize_list( names ):\n",
    "    for i in range(len(names)):\n",
    "        names[i] = names[i].capitalize()"
   ]
  },
  {
   "cell_type": "markdown",
   "metadata": {},
   "source": [
    "Now we have our `for` loop based solution to capitalizing the\n",
    "  names in a list.  \n",
    "- Unlike with a `while` loop there is no need to write code to\n",
    "  compare our index / counter variable `i` directly against the\n",
    "  bound and no need to write code to increment `i`.  \n",
    "- This use of `range` to generate an index list is common  \n",
    "  - When we want to change the integer, float or string values of a\n",
    "    list.  \n",
    "  - When we want to work with multiple lists at once.  "
   ]
  },
  {
   "cell_type": "markdown",
   "metadata": {},
   "source": [
    "## Part 2 Practice\n",
    "\n",
    "1. Recall our list  "
   ]
  },
  {
   "cell_type": "code",
   "execution_count": null,
   "metadata": {
    "hide-output": false
   },
   "outputs": [],
   "source": [
    "co2_levels = [ 320.03, 322.16, 328.07, 333.91, 341.47, \\\n",
    "  348.92, 357.29, 363.77, 371.51, 382.47, 392.95 ]"
   ]
  },
  {
   "cell_type": "markdown",
   "metadata": {},
   "source": [
    "For the purpose of this exercise only, please pretend the Python\n",
    "`sum` function does not exist, and then write a short section of\n",
    "  Python code that uses a `for` loop to first compute and then\n",
    "  print the sum of the values in the `co2_levels` list.  You do not\n",
    "  need to use indexing.  "
   ]
  },
  {
   "cell_type": "markdown",
   "metadata": {},
   "source": [
    "## Using Indices to “Slice” a List and Create a New List\n",
    "\n",
    "- Recall  "
   ]
  },
  {
   "cell_type": "code",
   "execution_count": null,
   "metadata": {
    "hide-output": false
   },
   "outputs": [],
   "source": [
    "co2_levels = [ 320.03, 322.16, 328.07, 333.91, 341.47, \\\n",
    "  348.92, 357.29, 363.77, 371.51, 382.47, 392.95 ]"
   ]
  },
  {
   "cell_type": "markdown",
   "metadata": {},
   "source": [
    "- Now suppose we just want the values at indices 2, 3 and 4 of this in\n",
    "  a new list:  \n",
    "  >>> three_values = co2_levels[2:5]\n",
    "  >>> three_values\n",
    "  [328.07, 333.91, 341.47]\n",
    "  >>> co2_levels\n",
    "  [ 320.03, 322.16, 328.07, 333.91, 341.47, 348.92, 357.29, 363.77,\n",
    "     371.51, 382.47, 392.95 ]- We give the first index and one more than the last index we want  \n",
    "- If we leave off the first index, 0 is assumed, and if we leave off\n",
    "  the second index, the length of the list is assumed.  \n",
    "- Negative indices are allowed — they are just converted to their\n",
    "  associated positive values. Some examples:  \n",
    "  >>> L1 = ['cat', 'dog', 'hawk', 'tiger', 'parrot']\n",
    "  >>> L1\n",
    "  ['cat', 'dog', 'hawk', 'tiger', 'parrot']\n",
    "  >>> L1[1:-1]\n",
    "  ['dog', 'hawk', 'tiger']\n",
    "  >>> L1[1:-2]\n",
    "  ['dog', 'hawk']\n",
    "  >>> L1[1:-4]\n",
    "  []\n",
    "  >>> L1[1:0]\n",
    "  []\n",
    "  >>> L1[1:10]\n",
    "  ['dog', 'hawk', 'tiger', 'parrot']"
   ]
  },
  {
   "cell_type": "markdown",
   "metadata": {},
   "source": [
    "## More on List Slicing\n",
    "\n",
    "- Specifying indices for slicing and for a `range` are very\n",
    "  similar:  \n",
    "  - A `range` uses () and is a generator, while slicing\n",
    "    using [ ] and is applied to a list to create a new list.  \n",
    "- The most general form of slicing involves three values  "
   ]
  },
  {
   "cell_type": "code",
   "execution_count": null,
   "metadata": {
    "hide-output": false
   },
   "outputs": [],
   "source": [
    "L[si:ei:inc]"
   ]
  },
  {
   "cell_type": "markdown",
   "metadata": {},
   "source": [
    "where  \n",
    "- `L` is the list  \n",
    "- `si` is the start index  \n",
    "- `ei` is the end index  \n",
    "  - `inc` is the increment value  \n",
    "  Any of the three values is optional  \n",
    "- We’ll work through some examples in class to  \n",
    "  - Use slicing to copy an entire list  \n",
    "  - Use negative increments and generate a reversed list  \n",
    "  - Extracting the even indexed values  \n",
    "- Note: `L[:]` returns a copy of the whole list of `L`. This is\n",
    "the same using method `L.copy()` or the function `list()`  "
   ]
  },
  {
   "cell_type": "code",
   "execution_count": null,
   "metadata": {
    "hide-output": false
   },
   "outputs": [],
   "source": [
    ">>> L2 = L1[:]\n",
    ">>> L2[1] = 'monkey'\n",
    ">>> L1\n",
    "['cat', 'dog', 'hawk', 'tiger', 'parrot']\n",
    ">>> L2\n",
    "['cat', 'monkey', 'hawk', 'tiger', 'parrot']\n",
    ">>> L3 = list(L1)\n",
    ">>> L3[1] = 'turtle'\n",
    ">>> L1\n",
    "['cat', 'dog', 'hawk', 'tiger', 'parrot']\n",
    ">>> L2\n",
    "['cat', 'monkey', 'hawk', 'tiger', 'parrot']\n",
    ">>> L3\n",
    "['cat', 'turtle', 'hawk', 'tiger', 'parrot']"
   ]
  },
  {
   "cell_type": "markdown",
   "metadata": {},
   "source": [
    "\n",
    "\n",
    "## Concatentation and Replication\n",
    "\n",
    "- Just like with strings, concatenation and replication can be\n",
    "applied to lists:  "
   ]
  },
  {
   "cell_type": "code",
   "execution_count": null,
   "metadata": {
    "hide-output": false
   },
   "outputs": [],
   "source": [
    ">>> v = [1,2,3]+[4,5]\n",
    ">>> v\n",
    "[1,2,3,4,5]"
   ]
  },
  {
   "cell_type": "markdown",
   "metadata": {},
   "source": [
    "- and  "
   ]
  },
  {
   "cell_type": "code",
   "execution_count": null,
   "metadata": {
    "hide-output": false
   },
   "outputs": [],
   "source": [
    ">>> [1]*3\n",
    "[1,1,1]"
   ]
  },
  {
   "cell_type": "markdown",
   "metadata": {},
   "source": [
    "\n",
    "\n",
    "## Part 3 Practice\n",
    "\n",
    "1. What is the output of the following?  "
   ]
  },
  {
   "cell_type": "code",
   "execution_count": null,
   "metadata": {
    "hide-output": false
   },
   "outputs": [],
   "source": [
    "x = [6,5,4,3,2,1] + [7]*2\n",
    "y = x\n",
    "x[1] = y[2]\n",
    "y[2] = x[3]\n",
    "x[0] = x[1]\n",
    "print(x)\n",
    "\n",
    "y.sort()\n",
    "print(x)\n",
    "print(y)"
   ]
  },
  {
   "cell_type": "markdown",
   "metadata": {},
   "source": [
    "1. Write a slicing command to extract values indexed\n",
    "  by 1, 4, 7, 10, etc from a list `L0` .  "
   ]
  },
  {
   "cell_type": "markdown",
   "metadata": {},
   "source": [
    "## Converting Strings to Lists\n",
    "\n",
    "- Version 1: use the function `list` to create a list of the\n",
    "characters in the string:  "
   ]
  },
  {
   "cell_type": "code",
   "execution_count": null,
   "metadata": {
    "hide-output": false
   },
   "outputs": [],
   "source": [
    ">>> s = \"Hello world\"\n",
    ">>> t = list(s)\n",
    ">>> print(t)\n",
    "['H', 'e', 'l', 'l', 'o', ' ', 'w', 'o', 'r', 'l', 'd']"
   ]
  },
  {
   "cell_type": "markdown",
   "metadata": {},
   "source": [
    "- Version 2:  use the string `split` function, which breaks a string up into a\n",
    "  list of strings based on the character provided as the argument.  \n",
    "  - The default is `' '`:  \n",
    "  - Other common splitting characters are `','`, `'|'` and\n",
    "    `'\\t'`  \n",
    "- We will play with the `s = \"Hello world\"` example in class.  "
   ]
  },
  {
   "cell_type": "code",
   "execution_count": null,
   "metadata": {
    "hide-output": false
   },
   "outputs": [],
   "source": [
    ">>> s.split()\n",
    "['Hello', 'world']\n",
    ">>> s = \"Hello     worl   d\"\n",
    ">>> s.split()\n",
    "['Hello', 'worl', 'd']\n",
    ">>> s.split(' ')\n",
    "['Hello', '', '', '', '', 'worl', '', '', 'd']\n",
    ">>> s.split('l')\n",
    "['He', '', 'o     wor', '   d']"
   ]
  },
  {
   "cell_type": "markdown",
   "metadata": {},
   "source": [
    "\n",
    "\n",
    "## Converting Lists to Strings\n",
    "\n",
    "- What happens when we type the following?  "
   ]
  },
  {
   "cell_type": "code",
   "execution_count": null,
   "metadata": {
    "hide-output": false
   },
   "outputs": [],
   "source": [
    ">>> s = \"Hello world\"\n",
    ">>> t = list(s)\n",
    ">>> s1 = str(t)"
   ]
  },
  {
   "cell_type": "markdown",
   "metadata": {},
   "source": [
    "This is will not concatenate all the strings in the list (assumming they are\n",
    "strings).  \n",
    "- We can write a `for` loop to do this, but Python provides\n",
    "something simpler that works:  "
   ]
  },
  {
   "cell_type": "code",
   "execution_count": null,
   "metadata": {
    "hide-output": false
   },
   "outputs": [],
   "source": [
    ">>> L1 = [ 'No', 'one', 'expects', 'the', 'Spanish', 'Inquisition' ]\n",
    ">>> print(''.join(L1))\n",
    "NooneexpectstheSpanishInquisition\n",
    ">>> print(' '.join(L1))\n",
    "No one expects the Spanish Inquisition"
   ]
  },
  {
   "cell_type": "markdown",
   "metadata": {},
   "source": [
    "Can you infer from this the role of the string that the `join` funciton\n",
    "  is applied to?  "
   ]
  },
  {
   "cell_type": "markdown",
   "metadata": {},
   "source": [
    "## Indexing and Slicing Strings\n",
    "\n",
    "- We can index strings:  "
   ]
  },
  {
   "cell_type": "code",
   "execution_count": null,
   "metadata": {
    "hide-output": false
   },
   "outputs": [],
   "source": [
    ">>> s = \"Hello, world!\"\n",
    ">>> print(s[5])\n",
    ",\n",
    ">>> print(s[-1])\n",
    "!"
   ]
  },
  {
   "cell_type": "markdown",
   "metadata": {},
   "source": [
    "- We can apply all of the slicing operations to strings to create new\n",
    "strings:  "
   ]
  },
  {
   "cell_type": "code",
   "execution_count": null,
   "metadata": {
    "hide-output": false
   },
   "outputs": [],
   "source": [
    ">>> s = \"Hello, world!\"\n",
    ">>> s[:len(s):2]\n",
    "'Hlo ol!'"
   ]
  },
  {
   "cell_type": "markdown",
   "metadata": {},
   "source": [
    "- Unlike lists, however, we can not use indexing to replace individual\n",
    "characters in strings:  "
   ]
  },
  {
   "cell_type": "code",
   "execution_count": null,
   "metadata": {
    "hide-output": false
   },
   "outputs": [],
   "source": [
    ">>> s[4] = 'c'\n",
    "Traceback (most recent call last):\n",
    "  File \"<stdin>\", line 1, in <module>\n",
    "TypeError: 'str' object does not support item assignment"
   ]
  },
  {
   "cell_type": "markdown",
   "metadata": {},
   "source": [
    "\n",
    "\n",
    "## Part 4 Practice\n",
    "\n",
    "1. Given a list  "
   ]
  },
  {
   "cell_type": "code",
   "execution_count": null,
   "metadata": {
    "hide-output": false
   },
   "outputs": [],
   "source": [
    "L = [ 'cat', 'dog', 'tiger', 'lion' ]"
   ]
  },
  {
   "cell_type": "markdown",
   "metadata": {},
   "source": [
    "Rewrite `L` so that it is a list of lists, with household pets in\n",
    "the 0th (sub)list, zoo animals in the first.  Using slicing of\n",
    "`L` to create this new list and assign L to the result.  \n",
    "1. How can you append an additional list of farm animals (e.g.\n",
    "  `'horse'`, `'pig'` and `'cow'`) to `L`?  \n",
    "1. Write code to remove `'tiger'` from the sublist of zoo animals.  \n",
    "1. Suppose you have the string  "
   ]
  },
  {
   "cell_type": "code",
   "execution_count": null,
   "metadata": {
    "hide-output": false
   },
   "outputs": [],
   "source": [
    ">>> s = \"cat |  dog  | mouse | rat\""
   ]
  },
  {
   "cell_type": "markdown",
   "metadata": {},
   "source": [
    "and you’d like to have the list of strings  "
   ]
  },
  {
   "cell_type": "code",
   "execution_count": null,
   "metadata": {
    "hide-output": false
   },
   "outputs": [],
   "source": [
    ">>> L = [ \"cat\", \"dog\", \"mouse\", \"rat\"]"
   ]
  },
  {
   "cell_type": "markdown",
   "metadata": {},
   "source": [
    "Splitting the list alone does not solve the problem. Instead, you\n",
    "need to use a combination of splitting, and a loop that strips off\n",
    "the extra space characters from each string and appends to the final\n",
    "result. Write this code. It should be at most 4-5 lines of Python.  "
   ]
  },
  {
   "cell_type": "markdown",
   "metadata": {},
   "source": [
    "## Summary\n",
    "\n",
    "- Assignment of lists and passing of lists as parameters creates\n",
    "  aliases of lists rather than copies.  \n",
    "- We use `for` loops to iterate through a list to work on each enty\n",
    "  in the list.  \n",
    "- We need to combine `for` loops with indices generated by a\n",
    "  `range` in order to change the contents of a list of integers,\n",
    "  floats or strings.  These indices are also used to work with\n",
    "  multiple lists at once.  \n",
    "- Concatentation, replication and slicing create new lists.  \n",
    "- Most other list functions that modify a list do so without creating a\n",
    "  new list: insert, sort, append, pop, etc.  \n",
    "- Strings may be indexed and sliced, but indexing may not be used to\n",
    "  change a string.  \n",
    "- Conversion of a string to a list is accomplished using either\n",
    "  `list` or `split`; conversion of a list of strings to a string\n",
    "  uses `join`.  "
   ]
  },
  {
   "cell_type": "markdown",
   "metadata": {},
   "source": [
    "## Additional Review Exercises: What Does Python Output?\n",
    "\n",
    "1. Without typing into the Python interpreter, find the outputs from\n",
    "the following operations:  "
   ]
  },
  {
   "cell_type": "code",
   "execution_count": null,
   "metadata": {
    "hide-output": false
   },
   "outputs": [],
   "source": [
    ">>> x = ['a','b','c','d', 'e']\n",
    ">>> print(x)\n",
    "\n",
    ">>> for item in x:\n",
    "...    print(\"{}\".format(item))\n",
    "...\n",
    "\n",
    ">>> print(x[3])\n",
    "\n",
    ">>> x[3] = 3\n",
    ">>> x\n",
    "\n",
    ">>> len(x)\n",
    "\n",
    ">>> x[2]=x[1]\n",
    ">>> x\n",
    "\n",
    ">>> x[5]\n",
    "\n",
    ">>> y = x[1:4]\n",
    "\n",
    ">>> y\n",
    "\n",
    ">>> x"
   ]
  },
  {
   "cell_type": "markdown",
   "metadata": {},
   "source": [
    "1. What about these operations?  "
   ]
  },
  {
   "cell_type": "code",
   "execution_count": null,
   "metadata": {
    "hide-output": false
   },
   "outputs": [],
   "source": [
    ">>> y = [1, 2, 3]\n",
    "\n",
    ">>> y.append('cat')\n",
    "\n",
    ">>> y\n",
    "\n",
    ">>> y.pop()\n",
    "\n",
    ">>> y\n",
    "\n",
    "\n",
    ">>> y.remove(2)\n",
    ">>> y\n",
    "\n",
    ">>> y.remove('cat')\n",
    "\n",
    ">>> z = ['cat','dog']\n",
    ">>> z.insert(1,'pig')\n",
    ">>> z.insert(0,'ant')\n",
    ">>> z\n",
    "\n",
    ">>> z.sort()\n",
    ">>> z\n",
    "\n",
    ">>> z1 = z[1:3]\n",
    ">>> z1\n",
    "\n",
    ">>> z"
   ]
  },
  {
   "cell_type": "markdown",
   "metadata": {},
   "source": [
    "1. Write a function that returns a list containing the smallest and\n",
    "  largest values in the list that is passed to it as an argument\n",
    "  *without changing the list*? Can you think of several ways to do\n",
    "  this?  \n",
    "  1. Using `min` and `max`  \n",
    "  1. Using sorting (but remember, you can’t change the original list)  \n",
    "  1. Using a `for` loop that searches for the smallest and largest\n",
    "    values.  "
   ]
  }
 ],
 "metadata": {
  "filename": "lec10_lists2.rst",
  "kernelspec": {
   "display_name": "Python",
   "language": "python3",
   "name": "python3"
  },
  "title": "Lecture 10 — Lists Part 2"
 },
 "nbformat": 4,
 "nbformat_minor": 2
}