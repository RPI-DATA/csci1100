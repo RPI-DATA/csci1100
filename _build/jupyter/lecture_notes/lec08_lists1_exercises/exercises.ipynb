{
 "cells": [
  {
   "cell_type": "markdown",
   "metadata": {},
   "source": [
    "Notebook created: 2019-07-16 14:30:27  \n",
    "Generated from: jWebsite/lecture_notes/lec08_lists1_exercises/exercises.rst  "
   ]
  },
  {
   "cell_type": "markdown",
   "metadata": {},
   "source": [
    "# Lecture 8 — Exercises\n",
    "\n",
    "Solutions to the problems below must be sent to Submitty for grading.\n",
    "A separate file must submitted for each problem.  These must be\n",
    "submitted by 4 pm on Friday, February 16.\n",
    "\n",
    "1. Upload a text file showing the output of the following code to\n",
    "Submitty.  As usual you should try to predict the output by hand.  "
   ]
  },
  {
   "cell_type": "code",
   "execution_count": null,
   "metadata": {
    "hide-output": false
   },
   "outputs": [],
   "source": [
    "l1 = [ 6, 12, 13, 'hello' ]\n",
    "print(l1[1], l1[-2])\n",
    "l1.append( 15 )\n",
    "print( len(l1) )\n",
    "print( len(l1[3]) )\n",
    "l1.pop(3)\n",
    "l1.sort()\n",
    "l1.insert(2, [14, 15] )\n",
    "l1[3] += l1[4]\n",
    "l1[3] += l1[2][1]\n",
    "print(l1[3])\n",
    "l1.pop()\n",
    "l1[2].remove(14)\n",
    "print(l1)"
   ]
  },
  {
   "cell_type": "markdown",
   "metadata": {},
   "source": [
    "1. Write a short Python program that starts with the list  "
   ]
  },
  {
   "cell_type": "code",
   "execution_count": null,
   "metadata": {
    "hide-output": false
   },
   "outputs": [],
   "source": [
    "values = [ 14, 10, 8, 19, 7, 13 ]"
   ]
  },
  {
   "cell_type": "markdown",
   "metadata": {},
   "source": [
    "(The above statement list should be the first line of your\n",
    "program.)  Then add code that does the following steps:  \n",
    "1. Reads an integer, prints it (as we have done for input when using\n",
    "  Submitty), and appends it to the end of `values`.  \n",
    "1. Reads another integer, prints it and inserts it at index\n",
    "  location 2 of `values`.  \n",
    "1. Prints the integer at index 3 of `values` and print the\n",
    "  integer at index -1 of `values`, both on one line.  \n",
    "1. Prints the difference between the maximum and minimum of the\n",
    "  integers in `values`.  \n",
    "1. Prints the average of the integers in `values`, accurate to\n",
    "  one decimal place.  This must use the functions `sum()` and\n",
    "  `len()`.  \n",
    "1. Prints the median of the numbers in `values`.  Since the list\n",
    "  is even length (a fact that you are allowed to use, just for this\n",
    "  exercise), this is the average of the two middle integers after\n",
    "  `values` is sorted.  \n",
    "Here is an example of running our solution (as it would look on Submitty):  "
   ]
  },
  {
   "cell_type": "code",
   "execution_count": null,
   "metadata": {
    "hide-output": false
   },
   "outputs": [],
   "source": [
    "Enter a value: 15\n",
    "Enter another value: 23\n",
    "8 15\n",
    "Difference: 16\n",
    "Average: 13.6\n",
    "Median: 13.5"
   ]
  }
 ],
 "metadata": {
  "filename": "exercises.rst",
  "kernelspec": {
   "display_name": "Python",
   "language": "python3",
   "name": "python3"
  },
  "title": "Lecture 8 — Exercises"
 },
 "nbformat": 4,
 "nbformat_minor": 2
}