{
 "cells": [
  {
   "cell_type": "markdown",
   "metadata": {},
   "source": [
    "Notebook created: 2019-07-16 14:30:27  \n",
    "Generated from: jWebsite/lecture_notes/lec02_calculator.rst  "
   ]
  },
  {
   "cell_type": "markdown",
   "metadata": {},
   "source": [
    "[![Open In Colab](https://colab.research.google.com/assets/colab-badge.svg)](https://colab.research.google.com/)\n",
    "\n",
    "\n",
    "<img src=\"logo.jpg\">"
   ]
  },
  {
   "cell_type": "markdown",
   "metadata": {},
   "source": [
    "# Lecture 2 — Python as a Calculator"
   ]
  },
  {
   "cell_type": "markdown",
   "metadata": {},
   "source": [
    "## Overview\n",
    "\n",
    "Most of this is covered in Chapter 2 of *Practical Programming*\n",
    "\n",
    "- Part 1:  \n",
    "  - Expressions and values  \n",
    "  - Types  \n",
    "  - Precedence  \n",
    "- Part 2:  \n",
    "  - Variables and memory  \n",
    "  - Errors  \n",
    "  - Typing directly in the interpreter vs. running programs; use of *print*  \n",
    "  - Documentation and variable names  \n",
    "\n",
    "\n",
    "Throughout we will pay attention to problems and mistakes, both real and\n",
    "potential."
   ]
  },
  {
   "cell_type": "markdown",
   "metadata": {},
   "source": [
    "## Aside: Lectures, Note Taking and Exercises\n",
    "\n",
    "- Lecture notes are outlines.  \n",
    "  - Therefore, you should hand-write details as we cover them in\n",
    "    class.  \n",
    "- We will create and run examples in class.  \n",
    "  - You should write down the shorter ones  \n",
    "  - We will post the longer ones on-line, but you should write down as\n",
    "    much as you can, especially the results of running the\n",
    "    examples. If you don’t know what to expect, you can’t debug errors.  "
   ]
  },
  {
   "cell_type": "markdown",
   "metadata": {},
   "source": [
    "## Python As a Calculator\n",
    "\n",
    "We will start class by using Python as an interactive calculator,\n",
    "working through a number of examples.\n",
    "\n",
    "- The area of a circle.  \n",
    "- The number of minutes in a year.  \n",
    "- The volume of a box.  \n",
    "- The volume of the earth in cubic kilometers.  \n",
    "- In doing so, we will look at the basic operations of `+`, `-`, `*`, `/`,\n",
    "  and `**` (exponentiation).  "
   ]
  },
  {
   "cell_type": "markdown",
   "metadata": {},
   "source": [
    "## Whole Number Calculations\n",
    "\n",
    "- Most of the calculations in the foregoing examples involve numbers\n",
    "  with fractional values.  \n",
    "- Sometimes we want to use whole number of calculations, for example\n",
    "  to convert a number of minutes to a number of hours and minutes\n",
    "  (less than 60).  \n",
    "- In this case, Python offers us different forms of divisions  \n",
    "  - // is the operator for whole number division  \n",
    "  - % is used to find the remainder  \n",
    "- For this kind of division, be careful of negative numbers.  Can you\n",
    "  figure out how they work with // and %?  \n",
    "  - This is a case where experimentation with the Python interpreter\n",
    "    is crucial.  We will encourage you to do this throughout the\n",
    "    semester.  "
   ]
  },
  {
   "cell_type": "markdown",
   "metadata": {},
   "source": [
    "## Python Types\n",
    "\n",
    "- We have seen what look like real numbers and whole numbers.  These\n",
    "  are two different *types* in Python.  \n",
    "- A type is a set of possible values — also called a “representation” —\n",
    "  and a set of operations on those values.  \n",
    "  - Our first examples are the “operators” such as `+`, `-`, `*`, `/` and `**`  \n",
    "- Common Python types we are working with initially include\n",
    "  `float`, `int` (short for integer) and `str` (short for string)  \n",
    "- Each value we create will be referred to as an *object*  "
   ]
  },
  {
   "cell_type": "markdown",
   "metadata": {},
   "source": [
    "## float\n",
    "\n",
    "- The `float` type approximates real numbers.  But computers can’t\n",
    "  represent all of them because computers only dedicate a finite\n",
    "  amount of memory to each.  \n",
    "- Limited precision:  we’ll look at 2/3, 5/3 and 8/3  \n",
    "- Any time integers and floats are mixed and any time we apply\n",
    "  division, the result is always a float.  "
   ]
  },
  {
   "cell_type": "markdown",
   "metadata": {},
   "source": [
    "## int\n",
    "\n",
    "- The `int` (integer) type is analogous to whole numbers:  "
   ]
  },
  {
   "cell_type": "code",
   "execution_count": null,
   "metadata": {
    "hide-output": false
   },
   "outputs": [],
   "source": [
    "{ ..., -4, -3, -2, -1, 0, 1, 2, 3, 4, ...}"
   ]
  },
  {
   "cell_type": "markdown",
   "metadata": {},
   "source": [
    "- Python can represent seemingly arbitrarily large integers, which is\n",
    "not true of other languages like C, C++ and Java  \n",
    "- Using the Python interpreter, we will look at the examples of:  "
   ]
  },
  {
   "cell_type": "code",
   "execution_count": null,
   "metadata": {
    "hide-output": false
   },
   "outputs": [],
   "source": [
    ">>> 1**1**1\n",
    ">>> 2**2**2\n",
    ">>> 3**3**3"
   ]
  },
  {
   "cell_type": "markdown",
   "metadata": {},
   "source": [
    "\n",
    "\n",
    "## Precedence\n",
    "\n",
    "- Consider the formula for converting 45 degrees Fahrenheit to\n",
    "  Celsius. What is wrong with the following\n",
    "  computation?  \n",
    "  >>> 45 - 32 * 5 / 9- Largely following the standard rules of algebra, Python applies\n",
    "  operations in order of *precedence*.  Here is a\n",
    "  summary of these rules from highest to lowest:  \n",
    "  1. `( )` - parentheses  \n",
    "  1. `**` - the exponentiation operator, ordered *right-to-left*  \n",
    "  1. `-` - the negation (unary minus) operators, as in `-5**2`  \n",
    "  1. `*, /, //, %` - ordered *left-to-right*  \n",
    "  1. `+, -` - ordered *left-to-right*  \n",
    "- This example also suggests an important question:  how do we know\n",
    "  we’ve made a mistake - introduced a *bug* - in our code?  "
   ]
  },
  {
   "cell_type": "markdown",
   "metadata": {},
   "source": [
    "## Part 1 Practice Problems\n",
    "\n",
    "1. The consider the following evaluations (some of them trivial).  Which results\n",
    "are `float` objects and which are `int` objects?  "
   ]
  },
  {
   "cell_type": "code",
   "execution_count": null,
   "metadata": {
    "hide-output": false
   },
   "outputs": [],
   "source": [
    ">>> 9            # 1\n",
    ">>> 9.           # 2\n",
    ">>> 9.0          # 3\n",
    ">>> 9 + 3        # 4\n",
    ">>> 9 - 3.       # 5\n",
    ">>> 9 / 4        # 6\n",
    ">>> 9 // 4       # 7\n",
    ">>> 9. // 4      # 8"
   ]
  },
  {
   "cell_type": "markdown",
   "metadata": {},
   "source": [
    "1. What is output by the Python interpreter?  "
   ]
  },
  {
   "cell_type": "code",
   "execution_count": null,
   "metadata": {
    "hide-output": false
   },
   "outputs": [],
   "source": [
    ">>> 2**3**2\n",
    ">>> (2**3)**2\n",
    ">>> -2**3 - 2 * 5"
   ]
  },
  {
   "cell_type": "markdown",
   "metadata": {},
   "source": [
    "1. Write a single line of Python code that calculates the radius of a\n",
    "  circle with area 15 units and prints the value.  The output should\n",
    "  just be the number that your code produces.  Your code should include\n",
    "  the use of an expression involving division and exponentiation (to\n",
    "  compute the square root).  Use the value 3.14159 for *pi*.  "
   ]
  },
  {
   "cell_type": "markdown",
   "metadata": {},
   "source": [
    "## Part 2"
   ]
  },
  {
   "cell_type": "markdown",
   "metadata": {},
   "source": [
    "## Variables and Assignment\n",
    "\n",
    "- Most calculators have one or several memory keys. Python, and all\n",
    "  other programming languages, use “variables” as their memory.  \n",
    "- We’ll start with a simple example of the area of a circle, typed in\n",
    "  class. You will notice as we go through this that there is no output\n",
    "  until we use the *print* functions.  \n",
    "- Here is a more extensive example of computing the volume and surface\n",
    "area of a cylinder:  "
   ]
  },
  {
   "cell_type": "code",
   "execution_count": null,
   "metadata": {
    "hide-output": false
   },
   "outputs": [],
   "source": [
    ">>> pi = 3.14159\n",
    ">>> radius = 2\n",
    ">>> height = 10\n",
    ">>> base_area = pi * radius ** 2\n",
    ">>> volume = base_area * height\n",
    ">>> surface_area = 2 * base_area + 2 * pi * radius * height\n",
    ">>> print(\"volume is\", volume, \", surface area is\", surface_area)\n",
    "#volume is 125.6636 , surface area is 150.79632"
   ]
  },
  {
   "cell_type": "markdown",
   "metadata": {},
   "source": [
    "- A variable is a name that has a value “associated” with it.  \n",
    "  - There are six variables in the above code.  \n",
    "- The value is substituted for the variable when the variable\n",
    "  appears on the right hand side of the `=`.  \n",
    "- The value is **assigned to** the variable when the variable name\n",
    "  appears on the left hand side of the `=`.  "
   ]
  },
  {
   "cell_type": "markdown",
   "metadata": {},
   "source": [
    "## More on Variable Assignment\n",
    "\n",
    "- The operator `=` is an assignment of a value (calculated on the\n",
    "  right side) to a variable (on the left).  \n",
    "- In the following..  "
   ]
  },
  {
   "cell_type": "code",
   "execution_count": null,
   "metadata": {
    "hide-output": false
   },
   "outputs": [],
   "source": [
    ">>> base_area = pi * radius ** 2"
   ]
  },
  {
   "cell_type": "markdown",
   "metadata": {},
   "source": [
    "Python  \n",
    "- accesses the values associated with the variables `pi` and `radius`,  \n",
    "  - squares the value associated with `radius` and then multiplies\n",
    "    the result by the value associated with the variable `pi`,  \n",
    "  - associates the result with the variable `base_area`  \n",
    "- Later, Python accesses the value of `base_area` when calculating\n",
    "  the values to assign to `volume` and `surface_area`.  \n",
    "- Thus, the meaning of `=` in Python is quite different from the\n",
    "  meaning of `=` in mathematics.  \n",
    "- The statement  "
   ]
  },
  {
   "cell_type": "code",
   "execution_count": null,
   "metadata": {
    "hide-output": false
   },
   "outputs": [],
   "source": [
    ">>> base_area * height = volume"
   ]
  },
  {
   "cell_type": "markdown",
   "metadata": {},
   "source": [
    "is not legal Python code. Try it!  \n",
    "- It takes a while to get accustomed to the meaning of an assignment\n",
    "  statement in Python.  "
   ]
  },
  {
   "cell_type": "markdown",
   "metadata": {},
   "source": [
    "## print\n",
    "\n",
    "- Consider the line  "
   ]
  },
  {
   "cell_type": "code",
   "execution_count": null,
   "metadata": {
    "hide-output": false
   },
   "outputs": [],
   "source": [
    ">>> print(\"volume is\", volume, \", surface area is\", surface_area)"
   ]
  },
  {
   "cell_type": "markdown",
   "metadata": {},
   "source": [
    "- `print`\n",
    "  is a Python “function” that combines *strings* (between the\n",
    "  quotations) and values of variables, separated by commas, to\n",
    "  generate nice output.  \n",
    "- We will play with a number of examples in class to illustrate use\n",
    "  of `print`.  As the semester progresses we will learn a lot more\n",
    "  about it.  "
   ]
  },
  {
   "cell_type": "markdown",
   "metadata": {},
   "source": [
    "## Variable Names\n",
    "\n",
    "- Notice that our example variable names include letters and the `_`\n",
    "  (underscore) character.  \n",
    "- Legal variable names in Python must  \n",
    "  - Start with a letter or a `_`, and  \n",
    "  - Be followed by any number of letters, underscores or digits.  \n",
    "  Characters that are none of these, including spaces, signal the end\n",
    "  of a variable name.  \n",
    "- Capital letters and small letters are different  \n",
    "- We will look at many examples in class.  "
   ]
  },
  {
   "cell_type": "markdown",
   "metadata": {},
   "source": [
    "## Putting Your Code in a File\n",
    "\n",
    "- So far in today’s lecture we have written our code using the *Python\n",
    "  Shell*.  \n",
    "  - This sends your Python statements directly to the *interpreter* to\n",
    "    execute them  \n",
    "- Now we will switch to writing and saving our code in a file and then\n",
    "  sending the file to the Python interpreter to be run.  \n",
    "- We will demonstrate using the surface area and volume calculations\n",
    "  from earlier in lecture.  \n",
    "- Almost all code that you write for lecture exercises, labs, and\n",
    "  homework assignments will be stored in files.  \n",
    "- You will practice in Lab 1 next week.  \n",
    "- Sometimes in class we will still type things directly into the\n",
    "  shell.  You will know we are doing this when you see `>>>`  "
   ]
  },
  {
   "cell_type": "markdown",
   "metadata": {},
   "source": [
    "## Syntax and Semantic Errors\n",
    "\n",
    "- Python tells us about the errors we make in writing the names of\n",
    "  variables and in reversing the left and right side of the `=`\n",
    "  operator.  \n",
    "- These are examples of *syntax errors* — errors in the form of the\n",
    "  code.  \n",
    "- Programs with syntax errors will not run; the Python interpreter\n",
    "  inspects the code and tells us about these errors before it tries to\n",
    "  execute them. We can then fix the errors and try again  \n",
    "- More difficult to find and fix are *semantic errors* — errors in the\n",
    "  logical meaning of our programs resulting in an incorrect result.  \n",
    "  - We have already seen an example of a semantic error. Can you think\n",
    "    where?  \n",
    "  - Throughout the semester we will discuss strategies for finding and\n",
    "    fixing semantic errors.  "
   ]
  },
  {
   "cell_type": "markdown",
   "metadata": {},
   "source": [
    "## Python Keywords\n",
    "\n",
    "- All variable names that follow the above rules are legal Python\n",
    "  names *except* for a set of “keywords” that have special\n",
    "  meaning to Python.  \n",
    "- Keywords allow us to write more complicated operations\n",
    "  — involving logic and repetition — than just calculating.  \n",
    "- You can get a list of Python keywords by typing into the shell  "
   ]
  },
  {
   "cell_type": "code",
   "execution_count": null,
   "metadata": {
    "hide-output": false
   },
   "outputs": [],
   "source": [
    ">>> import keyword\n",
    ">>> print(keyword.kwlist)"
   ]
  },
  {
   "cell_type": "markdown",
   "metadata": {},
   "source": [
    "- Over the next few lectures, we will soon understand the detailed\n",
    "  meaning of the . in the above statement.  "
   ]
  },
  {
   "cell_type": "markdown",
   "metadata": {},
   "source": [
    "## Do Variables Exist Before They Are Assigned a Value?\n",
    "\n",
    "- Suppose we forgot to assign `pi` a value? What would happen?  \n",
    "  - Try it out!  \n",
    "- Variables do not exist until they are assigned a value.  \n",
    "- This is a simple form of semantic error.  "
   ]
  },
  {
   "cell_type": "markdown",
   "metadata": {},
   "source": [
    "## Example to Consider\n",
    "\n",
    "1. Create 2 invalid variable names and 4 valid variable names from the\n",
    "  `_` character, the digit `0`, and the letter `a`.  "
   ]
  },
  {
   "cell_type": "markdown",
   "metadata": {},
   "source": [
    "## Mixed Operators\n",
    "\n",
    "- Assignments of the form  "
   ]
  },
  {
   "cell_type": "code",
   "execution_count": null,
   "metadata": {
    "hide-output": false
   },
   "outputs": [],
   "source": [
    ">>> i = i + 1"
   ]
  },
  {
   "cell_type": "markdown",
   "metadata": {},
   "source": [
    "are commonly seen in Python. We will take a careful look at what is\n",
    "happening here.  \n",
    "- Python contains a short-hand for these:  "
   ]
  },
  {
   "cell_type": "code",
   "execution_count": null,
   "metadata": {
    "hide-output": false
   },
   "outputs": [],
   "source": [
    ">>> i += 1"
   ]
  },
  {
   "cell_type": "markdown",
   "metadata": {},
   "source": [
    "These two statements are exactly equivalent.  \n",
    "- Other mixed operators include  "
   ]
  },
  {
   "cell_type": "code",
   "execution_count": null,
   "metadata": {
    "hide-output": false
   },
   "outputs": [],
   "source": [
    "-=     *=    /="
   ]
  },
  {
   "cell_type": "markdown",
   "metadata": {},
   "source": [
    "but `+=` is used most commonly for reasons that will gradually\n",
    "  become clear over the first half of the semester.  "
   ]
  },
  {
   "cell_type": "markdown",
   "metadata": {},
   "source": [
    "## Terminology: Expressions\n",
    "\n",
    "- Expressions are formed from combinations values, variables and\n",
    "  operators.  \n",
    "- In the examples we’ve seen so far, expressions are on the\n",
    "right-hand side of an assignment statement, as in:  "
   ]
  },
  {
   "cell_type": "code",
   "execution_count": null,
   "metadata": {
    "hide-output": false
   },
   "outputs": [],
   "source": [
    ">>> surface_area = 2 * base_area + 2 * pi * radius * height"
   ]
  },
  {
   "cell_type": "markdown",
   "metadata": {},
   "source": [
    "\n",
    "\n",
    "## Part 2 Practice Problems\n",
    "\n",
    "1. Which of the following are legal Python variable names?  "
   ]
  },
  {
   "cell_type": "code",
   "execution_count": null,
   "metadata": {
    "hide-output": false
   },
   "outputs": [],
   "source": [
    "import\n",
    "56abc\n",
    "abc56\n",
    "car-talk\n",
    "car_talk\n",
    "car talk"
   ]
  },
  {
   "cell_type": "markdown",
   "metadata": {},
   "source": [
    "1. Which of these lines of code contain syntax errors? Once you fix\n",
    "the syntax errors, the program (assume this has been typed into a\n",
    "file and run in the Wing IDE) will still not correctly print the\n",
    "area of a circle with radius 6.5.  What two more changes are needed\n",
    "to fixed these errors?  "
   ]
  },
  {
   "cell_type": "code",
   "execution_count": null,
   "metadata": {
    "hide-output": false
   },
   "outputs": [],
   "source": [
    "pi = 21 // 7\n",
    "area = pi * r * r\n",
    "r = 6.5\n",
    "r + 5 = r_new\n",
    "print(area)"
   ]
  },
  {
   "cell_type": "markdown",
   "metadata": {},
   "source": [
    "1. Assuming you start with $100 and earn 5% interest each year, how\n",
    "  much will you have at the end of one year, two years and three years?\n",
    "  Write Python expressions to calculate these, using variables as\n",
    "  appropriate.  We will write the solution into a file\n",
    "  and run the file using the interpreter.  \n",
    "1. What is the output of the following Python code (when typed into a\n",
    "file and run in the interpreter)? Try to figure it out by hand\n",
    "before typing the statements into a file and running in the Python\n",
    "interpreter.  "
   ]
  },
  {
   "cell_type": "code",
   "execution_count": null,
   "metadata": {
    "hide-output": false
   },
   "outputs": [],
   "source": [
    "x = 12\n",
    "y = 7.4\n",
    "x -= y\n",
    "print(x, y)\n",
    "y = y-x +7\n",
    "z = 1\n",
    "x *= 2 + z\n",
    "print(x, y)\n",
    "x += x*y\n",
    "print(x, y)"
   ]
  },
  {
   "cell_type": "markdown",
   "metadata": {},
   "source": [
    "\n",
    "\n",
    "## Summary — Important Points to Remember\n",
    "\n",
    "- Expressions are formed from combinations of values, variables and\n",
    "  operators  \n",
    "- Values in Python are one of several different types — integers,\n",
    "  floats, and strings for now.  \n",
    "- Variables are Python’s form of memory  \n",
    "- Python keywords can not be used as variables.  \n",
    "- `=` is Python’s means of assigning a value to a variable  \n",
    "- Variables do not exist in Python until they are given a value  \n",
    "- Make sure you have the precedence correct in your Python expressions.  "
   ]
  }
 ],
 "metadata": {
  "filename": "lec02_calculator.rst",
  "kernelspec": {
   "display_name": "Python 3",
   "language": "python",
   "name": "python3"
  },
  "language_info": {
   "codemirror_mode": {
    "name": "ipython",
    "version": 3
   },
   "file_extension": ".py",
   "mimetype": "text/x-python",
   "name": "python",
   "nbconvert_exporter": "python",
   "pygments_lexer": "ipython3",
   "version": "3.7.3"
  },
  "title": "Lecture 2 — Python as a Calculator"
 },
 "nbformat": 4,
 "nbformat_minor": 2
}
