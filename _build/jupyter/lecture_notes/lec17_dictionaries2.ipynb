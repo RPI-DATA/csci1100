{
 "cells": [
  {
   "cell_type": "markdown",
   "metadata": {},
   "source": [
    "Notebook created: 2019-07-16 14:30:27  \n",
    "Generated from: jWebsite/lecture_notes/lec17_dictionaries2.rst  "
   ]
  },
  {
   "cell_type": "markdown",
   "metadata": {},
   "source": [
    "# Lecture 17 — Dictionaries, Part 2"
   ]
  },
  {
   "cell_type": "markdown",
   "metadata": {},
   "source": [
    "## Overview\n",
    "\n",
    "- Recap  \n",
    "- More IMDB examples:  \n",
    "  - Dictionaries of string/set pairs  \n",
    "  - Converting dictionaries with one key to another  \n",
    "  - Combining information from multiple dictionaries  \n",
    "- A different view of dictionaries: storing attribute/value pairs.  \n",
    "- Accessing APIs and getting data back as a dictionary.  "
   ]
  },
  {
   "cell_type": "markdown",
   "metadata": {},
   "source": [
    "## Recap of dictionaries\n",
    "\n",
    "- On the surface, dictionaries look like lists, except, you can have\n",
    "  anything for indices (keys), not just numbers starting with 0.  \n",
    "- The following two store the same information:  "
   ]
  },
  {
   "cell_type": "code",
   "execution_count": null,
   "metadata": {
    "hide-output": false
   },
   "outputs": [],
   "source": [
    ">>> listoption = ['a','b','c']\n",
    ">>> dictoption = {0:'a', 1: 'b', 2:'c'}"
   ]
  },
  {
   "cell_type": "markdown",
   "metadata": {},
   "source": [
    "Note that this is a new way for us to initialize a dictionary.  \n",
    "- You would access them in the same way:  "
   ]
  },
  {
   "cell_type": "code",
   "execution_count": null,
   "metadata": {
    "hide-output": false
   },
   "outputs": [],
   "source": [
    ">>> listoption[1]\n",
    "'b'\n",
    ">>> dictoption[1]\n",
    "'b'"
   ]
  },
  {
   "cell_type": "markdown",
   "metadata": {},
   "source": [
    "- You would update them in the same way:  "
   ]
  },
  {
   "cell_type": "code",
   "execution_count": null,
   "metadata": {
    "hide-output": false
   },
   "outputs": [],
   "source": [
    ">>> listoption[1] = 'd'\n",
    ">>> dictoption[1] = 'd'"
   ]
  },
  {
   "cell_type": "markdown",
   "metadata": {},
   "source": [
    "- But you can’t extend them in the same way.  For example:  "
   ]
  },
  {
   "cell_type": "code",
   "execution_count": null,
   "metadata": {
    "hide-output": false
   },
   "outputs": [],
   "source": [
    ">>> listoption[10] = 'e'"
   ]
  },
  {
   "cell_type": "markdown",
   "metadata": {},
   "source": [
    "is illegal, but:  \n",
    "  >>> dictoption[10] = 'e'is perfectly fine.  Be sure you can explain why.  \n",
    "- Of course the power of a dictionary is that keys can be anything, or at least anything\n",
    "  *hashable*  \n",
    "  >>> d = {'Gru':3, 'Margo':4}\n",
    "  >>> d['Gru']\n",
    "  3- This dictionary has strings as keys and integers as values.\n",
    "  The values can really be anything:  \n",
    "  >>> d2 = {'Gru': set( [123,456] ), 'Margo': set( [456] ) }\n",
    "  >>> d2['Gru']\n",
    "  {456, 123}- Note that since keys can be anything, we need to know how to print or iterate through the\n",
    "  values in a dictionary.  This is actually quite trivial using a dictionary:  \n",
    "  >>> d2.keys()\n",
    "  dict_keys(['Gru', 'Margo'])\n",
    "  >>> list(d2.keys())\n",
    "  ['Gru', 'Margo']\n",
    "  >>> for key in d2:   #  or, for key in d2.keys():\n",
    "  ...     print(key, d2[key])\n",
    "  Gru {[123, 456]}\n",
    "  Margo {[456]}"
   ]
  },
  {
   "cell_type": "markdown",
   "metadata": {},
   "source": [
    "## Copying and Aliasing Dictionaries\n",
    "\n",
    "- We’ll take a few minutes in class for you to try to predict the\n",
    "output of the following:  "
   ]
  },
  {
   "cell_type": "code",
   "execution_count": null,
   "metadata": {
    "hide-output": false
   },
   "outputs": [],
   "source": [
    "d = dict()\n",
    "d[15] = 'hi'\n",
    "L = []\n",
    "L.append(d)\n",
    "d[20] = 'bye'\n",
    "L.append(d.copy())\n",
    "d[15] = 'hello'\n",
    "del d[20]\n",
    "print(L)"
   ]
  },
  {
   "cell_type": "markdown",
   "metadata": {},
   "source": [
    "- The result may surprise you, but it reflects the difference between\n",
    "  making an alias to an object and making a full copy of an object.  \n",
    "  - An alias is also sometimes known as a *shallow copy*  \n",
    "  - A full copy is also sometimes known as a *deep copy*  \n",
    "- Assignment between lists, between sets, and between dictionaries all\n",
    "  involve aliasing / shallow copying!  \n",
    "- At this point we will take a few minutes for you to work on the\n",
    "  first lecture exercise.  "
   ]
  },
  {
   "cell_type": "markdown",
   "metadata": {},
   "source": [
    "## Back to IMDB: Dictionaries Whose Values Are Sets\n",
    "\n",
    "- In our IMDB data, an individual may be listed more than once for\n",
    "  each movie.  For example, Tom Hanks is listed six times for *Polar\n",
    "  Express*  \n",
    "- In order to determine who was involved in the most different\n",
    "  movies, we need to keep a set of movies for each individual instead\n",
    "  of a count.  \n",
    "- We will modify our solution to the IMDB example to find out who was\n",
    "  involved in the most different movies.  \n",
    "  - The solution will be posted on the course website.  "
   ]
  },
  {
   "cell_type": "markdown",
   "metadata": {},
   "source": [
    "## Converting to Other Dictionaries:  The N Busiest Individuals\n",
    "\n",
    "- Suppose we want to find the top 10 or 25 busiest individuals in the\n",
    "  IMDB, based on the number of different movies they are involved in.  \n",
    "- Now we need a different dictionary:  \n",
    "  - Keys are integers representing the number of movies  \n",
    "  - Values are lists of actors.  \n",
    "    - Why don’t we need sets here?  \n",
    "- We will show how to extend our code to build this dictionary from\n",
    "  our original dictionary.  \n",
    "- Next, we will need to access the keys from this dictionary in\n",
    "  reverse order and print out names of the individuals, stopping when\n",
    "  we’ve printed the top `N` busiest (allowing more in the case of\n",
    "  ties).  "
   ]
  },
  {
   "cell_type": "markdown",
   "metadata": {},
   "source": [
    "## More That We Can Do With the IMDB\n",
    "\n",
    "- We now have an actors dictionary whose keys are actor names and\n",
    "  whose values are sets of movies.  \n",
    "- We can also construct a different dictionary whose keys are movies\n",
    "  and whose values are sets of actors.  \n",
    "- Using this we can find all sorts of information:  \n",
    "  - What movie involved the most people?  \n",
    "  - How many different people have been in movies that included\n",
    "    Meryl Streep?  \n",
    "  - Solve the “degrees of Kevin Bacon” problem:  \n",
    "    1. Who has been in a movie with Kevin Bacon?  These people are\n",
    "      degree 1.  \n",
    "    1. Who is not a degree 1 individual and has been in a movie with\n",
    "      a person who was in a movie with Kevin Bacon?  These people\n",
    "      are degree 2 individuals.  \n",
    "    1. Who is not a degree 1 or 2 individual, and has been in a\n",
    "      movie with a degree 2 individual (in a movie with a person\n",
    "      who has been in a movie with a person who was in a movie with\n",
    "      Kevin Bacon)?  These people are degree 3 individuals.  \n",
    "    1. Etc.  "
   ]
  },
  {
   "cell_type": "markdown",
   "metadata": {},
   "source": [
    "## Attribute / Value Pairs\n",
    "\n",
    "- We can use dictionaries to construct even more complicated data\n",
    "  structures: dictionaries as values, lists of dictionaries, etc.  \n",
    "- Consider the problem of representing all the houses a real estate\n",
    "  company is trying to sell.  \n",
    "- We could keep a list with information about each property, but a list\n",
    "  of what?  \n",
    "- We will look at describing each house as a dictionary, with the keys\n",
    "  being the “attributes”, and the values being, well, the values of the\n",
    "  attributes.  \n",
    "- Examples include the listing reference number, the address, the\n",
    "  number of bedrooms, the price, whether or not it has a pool, the\n",
    "  style of the house, the age, etc.  \n",
    "  - Some properties will not be known and therefore they will not be\n",
    "    represented in the dictionary.  \n",
    "- We will work through a made-up example in class, producing a list of\n",
    "  dictionaries. This list will be called `houses`.  \n",
    "- As an exercise you can think about write coding that finds all\n",
    "  houses in our house list that have at least 4 bedrooms (attribute\n",
    "  is `bedrooms`, value is an integer), a pool (attribute is\n",
    "  `pool`, value a string describing if the pool is above ground or\n",
    "  below), for a price below $300,000 (atttribute is `price`, value\n",
    "  is an int).  \n",
    "- Overall, this a simple Python implementation of the storage and\n",
    "  access of information in a *database*.  "
   ]
  },
  {
   "cell_type": "markdown",
   "metadata": {},
   "source": [
    "## Accessing APIs\n",
    "\n",
    "- Many APIs (Application Programming Interfaces) accessible on the\n",
    "  internet return values that are **JSON** (Java Script Object\n",
    "  Notation) strings.  These are easily loaded into Python objects,\n",
    "  often involving dictionaries.  \n",
    "- The best way to understand the dictionary structure returned by an API\n",
    "  is to seek documentation. If that fails, you can print the top\n",
    "  level keys and values to explore.  \n",
    "- Public APIs, which do not not require authentication, are accessed\n",
    "as follows:  "
   ]
  },
  {
   "cell_type": "code",
   "execution_count": null,
   "metadata": {
    "hide-output": false
   },
   "outputs": [],
   "source": [
    "import urllib.request\n",
    "import json\n",
    "\n",
    "url = \"enter your public url here\"\n",
    "f = urllib.request.urlopen(url)\n",
    "rawcontent = f.read()\n",
    "content = json.loads(rawcontent.decode(\"utf-8\"))"
   ]
  },
  {
   "cell_type": "markdown",
   "metadata": {},
   "source": [
    "- An example of a public API (used in our image lab):  \n",
    "- **nominatim** gives you a bounding box of geolocation for a given\n",
    "location. Let’s see this for ‘Troy, NY’:  "
   ]
  },
  {
   "cell_type": "code",
   "execution_count": null,
   "metadata": {
    "hide-output": false
   },
   "outputs": [],
   "source": [
    "url = \"http://nominatim.openstreetmap.org/\"\\\n",
    "      \"search?q={}&format=json&polygon_geojson=1&addressdetails=0\"\\\n",
    "      .format('Troy,NY')"
   ]
  },
  {
   "cell_type": "markdown",
   "metadata": {},
   "source": [
    "- Many sources require authentication with an API key through the\n",
    "  `oauth2` authentication module. But, the overall method of access\n",
    "  remains the same after authentication.  \n",
    "- Once we understand the structure, we can write code to extract the\n",
    "  information we want.  "
   ]
  },
  {
   "cell_type": "markdown",
   "metadata": {},
   "source": [
    "## Final Example\n",
    "\n",
    "1. Given the following dictionary for hobbies for people:  "
   ]
  },
  {
   "cell_type": "code",
   "execution_count": null,
   "metadata": {
    "hide-output": false
   },
   "outputs": [],
   "source": [
    "hobby = {'Gru':set(['Hiking','Cooking']), 'Edith':set(['Hiking','Board Games'])}"
   ]
  },
  {
   "cell_type": "markdown",
   "metadata": {},
   "source": [
    "create a new dictionary that lists people for each hobby:  "
   ]
  },
  {
   "cell_type": "code",
   "execution_count": null,
   "metadata": {
    "hide-output": false
   },
   "outputs": [],
   "source": [
    "{'Hiking': {'Gru','Edith'}, 'Cooking':{'Gru'}, 'Board Games':{'Edith'}}"
   ]
  },
  {
   "cell_type": "markdown",
   "metadata": {},
   "source": [
    "\n",
    "\n",
    "## Summary\n",
    "\n",
    "- Dictionaries of sets.  \n",
    "- Dictionaries where the keys are numbers.  \n",
    "- A variety of examples to extract information from the IMDB data set.  \n",
    "- Dictionaries as database — storing attribute / value pairs.  \n",
    "- Accessing information from public APIs  "
   ]
  },
  {
   "cell_type": "markdown",
   "metadata": {},
   "source": [
    "## Additional Dictionary Practice Problems\n",
    "\n",
    "1. Create a dictionary to store the favorite colors of the following\n",
    "  individuals  \n",
    "  - Thomas prefers red  \n",
    "  - Ashok prefs green  \n",
    "  - Sandy prefers red  \n",
    "  - Alison prefers orange  \n",
    "  - Fei prefers green  \n",
    "  - Natasha prefs blue  \n",
    "  Then add some others of your own. Now, write code to change Fei’s\n",
    "  preference to green and to remove Sandy’s preference from the\n",
    "  dictionary.  \n",
    "1. Using the dictionary from the first problem, write code to find which\n",
    "  color is most commonly preferred. Use a second dictionary, one that\n",
    "  associates strings (representing the colors) with the counts. Output\n",
    "  the most common color. If there are ties, output all tied colors.  \n",
    "1. Complete the fast, list solution to the movie counting problem based\n",
    "  on sorting, as outlined at the start of the lecture notes.  \n",
    "1. Write a program that uses a dictionary that associates integers\n",
    "  (the key) and sets strings (the values) to find the number of\n",
    "  movies in each year of the IMDB. Start from any of the IMDB examples.\n",
    "  Write additional code\n",
    "  that uses the `years_and_movies` dictionary to find the year that\n",
    "  has the most movies.  \n",
    "1. Use a dictionary to determine which last names are most common in the\n",
    "  IMDB data we have provided. Count individual people not the movies\n",
    "  they appear in. For example, `'Hanks, Tom'` counts as one instance\n",
    "  of the name `'Hanks\"` despite the fact that he is in many movies.\n",
    "  Assume that the last name ends with the first `','` in the actual\n",
    "  name. Start this problem by thinking about what the dictionary keys\n",
    "  and values should be.  \n",
    "1. Which two individuals have the most movies in common? To solve this\n",
    "  you will need to start from the dictionary that associates each\n",
    "  individual with the set of movies s/he is involved in. Then you will\n",
    "  need double for loops.  At first glance this appears that it might\n",
    "  be very, very slow, but it can be made much faster by intelligently\n",
    "  terminating loops.  To illustrate, if you find a pair of\n",
    "  individuals with k movies in common then you never have to even\n",
    "  consider an individual involved in fewer than k movies!  "
   ]
  }
 ],
 "metadata": {
  "filename": "lec17_dictionaries2.rst",
  "kernelspec": {
   "display_name": "Python",
   "language": "python3",
   "name": "python3"
  },
  "title": "Lecture 17 — Dictionaries, Part 2"
 },
 "nbformat": 4,
 "nbformat_minor": 2
}