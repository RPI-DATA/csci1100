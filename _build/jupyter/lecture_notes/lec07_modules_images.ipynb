{
 "cells": [
  {
   "cell_type": "markdown",
   "metadata": {},
   "source": [
    "Notebook created: 2019-07-16 14:30:27  \n",
    "Generated from: jWebsite/lecture_notes/lec07_modules_images.rst  "
   ]
  },
  {
   "cell_type": "markdown",
   "metadata": {},
   "source": [
    "# Lecture 7 — Tuples, Modules, Images"
   ]
  },
  {
   "cell_type": "markdown",
   "metadata": {},
   "source": [
    "## Overview\n",
    "\n",
    "- While most of this lecture is not covered in our text book, this\n",
    "  lecture serves as an introduction to using more complex data types\n",
    "  like lists.  \n",
    "- We will first learn a simple data type called tuples which allow\n",
    "  us to work with multiple values together - including returning two\n",
    "  or more values from a function.  \n",
    "- We will then revisit modules, how functions you write can be used\n",
    "  in other programs.  \n",
    "- Most of the class we will be learning how to use a new module for\n",
    "  manipulating images.  \n",
    "  - We will introduce a new data type - an image - which is much more\n",
    "    complex than the other data types we have learned so far.  \n",
    "  - We will study a module called *pillow* which is specifically\n",
    "    designed for this data type.  \n",
    "- Class will end with a *review* for Monday’s Exam 1, so it will be a\n",
    "  bit long…  "
   ]
  },
  {
   "cell_type": "markdown",
   "metadata": {},
   "source": [
    "## Tuple Data Type\n",
    "\n",
    "- A *tuple* is a simple data type that puts together multiple values\n",
    "  as a single unit.  \n",
    "- A Tuple allows you to access individual elements:\n",
    "first value starts at zero (this “indexing” will turn into a big\n",
    "Computer Science thing!)  "
   ]
  },
  {
   "cell_type": "code",
   "execution_count": null,
   "metadata": {
    "hide-output": false
   },
   "outputs": [],
   "source": [
    ">>> x = (4, 5, 10)   # note the parentheses\n",
    ">>> print(x[0])\n",
    "4\n",
    ">>> print(x[2])\n",
    "10\n",
    ">>> len(x)\n",
    "3"
   ]
  },
  {
   "cell_type": "markdown",
   "metadata": {},
   "source": [
    "- As we will explore in class tuples and strings are similar in many\n",
    "ways.  "
   ]
  },
  {
   "cell_type": "code",
   "execution_count": null,
   "metadata": {
    "hide-output": false
   },
   "outputs": [],
   "source": [
    ">>> s = 'abc'\n",
    ">>> s[0]\n",
    "'a'\n",
    ">>> s[1]\n",
    "'b'"
   ]
  },
  {
   "cell_type": "markdown",
   "metadata": {},
   "source": [
    "- Just like strings, you cannot change a part of the tuple; you can\n",
    "only change the entire tuple!  "
   ]
  },
  {
   "cell_type": "code",
   "execution_count": null,
   "metadata": {
    "hide-output": false
   },
   "outputs": [],
   "source": [
    ">>> x[1] = 2\n",
    "Traceback (most recent call last):\n",
    "File \"<stdin>\", line 1, in <module>\n",
    "TypeError: 'tuple' object does not support item assignment\n",
    ">>> s[1] = 'A'\n",
    "Traceback (most recent call last):\n",
    "File \"<stdin>\", line 1, in <module>\n",
    "TypeError: 'str' object does not support item assignment"
   ]
  },
  {
   "cell_type": "markdown",
   "metadata": {},
   "source": [
    "\n",
    "\n",
    "## What are tuples good for?\n",
    "\n",
    "- Tuples are Python’s way of making multiple assignments.  "
   ]
  },
  {
   "cell_type": "code",
   "execution_count": null,
   "metadata": {
    "hide-output": false
   },
   "outputs": [],
   "source": [
    ">>> 2,3\n",
    "(2, 3)\n",
    ">>> x = 2,3\n",
    ">>> x\n",
    "(2, 3)\n",
    ">>> a,b=x\n",
    ">>> a\n",
    "2\n",
    ">>> b\n",
    "3\n",
    ">>> c,d=3,4\n",
    ">>> c\n",
    "3\n",
    ">>> d\n",
    "4"
   ]
  },
  {
   "cell_type": "markdown",
   "metadata": {},
   "source": [
    "- You can write functions that return multiple values.  "
   ]
  },
  {
   "cell_type": "code",
   "execution_count": null,
   "metadata": {
    "hide-output": false
   },
   "outputs": [],
   "source": [
    "def split(n):\n",
    "    ''' Split a two-digit number into its tens and ones digit '''\n",
    "    tens = n // 10\n",
    "    ones = n % 10\n",
    "    return (tens, ones)\n",
    "\n",
    "x = 83\n",
    "ten,one = split(x)\n",
    "print( x, \"has tens digit\", ten, \"and ones digit\", one )"
   ]
  },
  {
   "cell_type": "markdown",
   "metadata": {},
   "source": [
    "\n",
    "\n",
    "outputs\n",
    "\n",
    "> "
   ]
  },
  {
   "cell_type": "code",
   "execution_count": null,
   "metadata": {
    "hide-output": false
   },
   "outputs": [],
   "source": [
    "83 has tens digit 8 and ones digit 3"
   ]
  },
  {
   "cell_type": "markdown",
   "metadata": {},
   "source": [
    "\n",
    "- We can do the reverse, passing a tuple to a function.  "
   ]
  },
  {
   "cell_type": "code",
   "execution_count": null,
   "metadata": {
    "hide-output": false
   },
   "outputs": [],
   "source": [
    "def combine( digits ):\n",
    "    return digits[0]*100 + digits[1]*10 + digits[2]\n",
    "\n",
    "d = (5, 2, 7)\n",
    "print( combine(d))"
   ]
  },
  {
   "cell_type": "markdown",
   "metadata": {},
   "source": [
    "\n",
    "\n",
    "outputs\n",
    "\n",
    "> "
   ]
  },
  {
   "cell_type": "code",
   "execution_count": null,
   "metadata": {
    "hide-output": false
   },
   "outputs": [],
   "source": [
    "527"
   ]
  },
  {
   "cell_type": "markdown",
   "metadata": {},
   "source": [
    "\n",
    "## First Lecture Exercise\n",
    "\n",
    "We will take five minutes and work on the (only) two lecture exercises."
   ]
  },
  {
   "cell_type": "markdown",
   "metadata": {},
   "source": [
    "## Basics of modules\n",
    "\n",
    "- Recall that a module is a collection of Python variables, functions\n",
    "  and objects, all stored in a file.  \n",
    "- Modules allow code to be shared across many different programs.  \n",
    "- Before we can use a module, we need to import it.  The import of a\n",
    "module and use of functions within the module have the follow\n",
    "general form.  "
   ]
  },
  {
   "cell_type": "code",
   "execution_count": null,
   "metadata": {
    "hide-output": false
   },
   "outputs": [],
   "source": [
    ">>> import module_name\n",
    ">>> module_name.function(arguments)"
   ]
  },
  {
   "cell_type": "markdown",
   "metadata": {},
   "source": [
    "\n",
    "\n",
    "## Area and Volume Module\n",
    "\n",
    "- Here are a number of functions from the area calculations we’ve been\n",
    "developing so far, gathered in a single Python file called `lec08_area.py`:  "
   ]
  },
  {
   "cell_type": "code",
   "execution_count": null,
   "metadata": {
    "hide-output": false
   },
   "outputs": [],
   "source": [
    "import math\n",
    "\n",
    "def circle(radius):\n",
    "    ''' Compute and return the area of a circle '''\n",
    "    return math.pi * radius**2\n",
    "\n",
    "def cylinder(radius,height):\n",
    "    ''' Compute and return the surface area of a cylinder '''\n",
    "    circle_area = circle(radius)\n",
    "    height_area = 2 * radius * math.pi * height\n",
    "    return 2*circle_area + height_area\n",
    "\n",
    "def sphere(radius):\n",
    "    '''  Compute and return the surface area of a sphere '''\n",
    "    return 4 * math.pi * radius**2"
   ]
  },
  {
   "cell_type": "markdown",
   "metadata": {},
   "source": [
    "- Now we can write another program that imports this code and uses\n",
    "it:  "
   ]
  },
  {
   "cell_type": "code",
   "execution_count": null,
   "metadata": {
    "hide-output": false
   },
   "outputs": [],
   "source": [
    "import lec08_area\n",
    "\n",
    "r = 6\n",
    "h = 10\n",
    "a1 = lec08_area.circle(r)       #  Call a module function\n",
    "a2 = lec08_area.cylinder(r,h)   #  Call a module function\n",
    "a3 = lec08_area.sphere(r)       #  Call a module function\n",
    "print(\"Area circle {:.1f}\".format(a1))\n",
    "print(\"Surface area cylinder {:.1f}\".format(a2))\n",
    "print(\"Surface area sphere {:.1f}\".format(a3))"
   ]
  },
  {
   "cell_type": "markdown",
   "metadata": {},
   "source": [
    "- We will review this in class.  "
   ]
  },
  {
   "cell_type": "markdown",
   "metadata": {},
   "source": [
    "## PIL/PILLOW — Python Image Library\n",
    "\n",
    "- PILLOW is a series of modules built around the `Image` type, our first\n",
    "  object type that is not part of the main Python language  \n",
    "  - We have to tell Python about this type through `import`  \n",
    "- We will use images as a continuing example of what can be done in\n",
    "  programming beyond numbers and beyond text.  \n",
    "- See  \n",
    "  [http://pillow.readthedocs.org/en/latest/handbook/tutorial.html](http://pillow.readthedocs.org/en/latest/handbook/tutorial.html)  \n",
    "  for more details.  "
   ]
  },
  {
   "cell_type": "markdown",
   "metadata": {},
   "source": [
    "## Images\n",
    "\n",
    "- An image is a two-dimensional matrix of pixel values  \n",
    "- The origin is in the upper left corner, see below:  \n",
    "  <img src=\"lecture_notes/images/image_premier.png\" style=\"\">\n",
    "  \n",
    "- Pixel values stored in an image can be:  \n",
    "  - RGB — a “three-tuple” consisting of the red, green and blue\n",
    "    values, all non-negative integers  \n",
    "  - L — a single “gray-scale” integer value representing the\n",
    "    brightness of each pixel  \n",
    "- Some basic colors:  \n",
    "  \n",
    "    \n",
    "    \n",
    "    \n",
    "    \n",
    "    \n",
    "    \n",
    "    \n",
    "    \n",
    "    \n",
    "    \n",
    "    \n",
    "    \n",
    "    \n",
    "    \n",
    "  |Color|(red,green,blue) value|\n",
    "  |:-----------:|:------------------------:|\n",
    "  |Black|(0,0,0)|\n",
    "  |Red|(255,0,0)|\n",
    "  |Green|(0,255,0)|\n",
    "  |Blue|(0,0,255)|\n",
    "  |White|(255,255,255)|\n",
    "  |Light Gray|(122,122,122)|"
   ]
  },
  {
   "cell_type": "markdown",
   "metadata": {},
   "source": [
    "## Some important image modules\n",
    "\n",
    "- **Image** module contains main functions to manipulate images: open,\n",
    "  save, resize, crop, paste, create new images, change pixels, etc.  \n",
    "- **ImageDraw** module contains functions to touch up images by adding\n",
    "  text to it, draw ellipses, rectangles, etc.  \n",
    "- **ImageFont** contains functions to create images of text for a\n",
    "  specific font.  \n",
    "- We will only use the Image module in this lecture.  "
   ]
  },
  {
   "cell_type": "markdown",
   "metadata": {},
   "source": [
    "## Our First Image Program\n",
    "\n",
    "- We’ll start by working through the following example which you can\n",
    "save as `lec08_images_init.py`:  "
   ]
  },
  {
   "cell_type": "code",
   "execution_count": null,
   "metadata": {
    "hide-output": false
   },
   "outputs": [],
   "source": [
    "from PIL import Image\n",
    "\n",
    "filename = \"chipmunk.jpg\"\n",
    "im = Image.open(filename)\n",
    "print('\\n' '********************')\n",
    "print(\"Here's the information about\", filename)\n",
    "print(im.format, im.size, im.mode)\n",
    "\n",
    "gray_im = im.convert('L')\n",
    "scaled = gray_im.resize( (128,128) )\n",
    "print(\"After converting to gray scale and resizing,\")\n",
    "print(\"the image information has changed to\")\n",
    "print(scaled.format, scaled.size, scaled.mode)\n",
    "\n",
    "scaled.show()\n",
    "scaled.save(filename + \"_scaled.jpg\")"
   ]
  },
  {
   "cell_type": "markdown",
   "metadata": {},
   "source": [
    "\n",
    "\n",
    "## Image Type and Methods\n",
    "\n",
    "- Let us now see some very useful image methods. You need to be very\n",
    "  careful with the image functions.  \n",
    "  - Some functions do change the\n",
    "    image and return nothing.  \n",
    "  - Some functions do not change the image and return a value, which\n",
    "    is sometimes a new image.  \n",
    "  It is crucial that you use each function correctly.  \n",
    "- \n",
    "  <dl style='margin: 20px 0;'>\n",
    "  <dt>`im = Image.open(filename)` reads an image with the given filename</dt>\n",
    "  <dd>\n",
    "  and returns an image object (which we are associating with the variable\n",
    "  `im`).  \n",
    "  - Because we only give the file name, and not a more complete\n",
    "    path, the Python script and the image must be stored in the\n",
    "    same folder.  \n",
    "  </dd>\n",
    "  \n",
    "  </dl>\n",
    "  \n",
    "- Images are complex objects. They have associated properties\n",
    "that you can print or use.  For example  "
   ]
  },
  {
   "cell_type": "code",
   "execution_count": null,
   "metadata": {
    "hide-output": false
   },
   "outputs": [],
   "source": [
    ">>> im = Image.open('swarm.jpg')\n",
    ">>> im.size\n",
    "(600, 800)\n",
    ">>> im.format\n",
    "'JPEG'\n",
    ">>> im.mode\n",
    "'RGB'"
   ]
  },
  {
   "cell_type": "markdown",
   "metadata": {},
   "source": [
    "You can see that `im.format` and `im.mode` are strings, while\n",
    "`im.size` is a tuple. All of these are values associated with an\n",
    "image object.  \n",
    "- `im.show()` is a function that displays the image.  \n",
    "- `im.save(filename)` saves the image in the given file name  \n",
    "- You can create an empty new image with given dimensions using:\n",
    "`Image.new(\"RGB\",(width,height))`.  "
   ]
  },
  {
   "cell_type": "code",
   "execution_count": null,
   "metadata": {
    "hide-output": false
   },
   "outputs": [],
   "source": [
    ">>> im5 = Image.new('RGB', (200,200))\n",
    ">>> im5.show()"
   ]
  },
  {
   "cell_type": "markdown",
   "metadata": {},
   "source": [
    "- You can also create a new image by cropping a part of a given\n",
    "image:  "
   ]
  },
  {
   "cell_type": "code",
   "execution_count": null,
   "metadata": {
    "hide-output": false
   },
   "outputs": [],
   "source": [
    ">>> im.crop((w1,h1,w2,h2))"
   ]
  },
  {
   "cell_type": "markdown",
   "metadata": {},
   "source": [
    "which will crop a box from upper left corner (w1, h1) to lower\n",
    "right corner (w2,h2).  \n",
    "You can see that the box is entered as a tuple.  \n",
    "The image object `im` is not changed by this function, but a\n",
    "new image is returned. So, we must assign it to a new variable.  \n",
    "Try this:  "
   ]
  },
  {
   "cell_type": "code",
   "execution_count": null,
   "metadata": {
    "hide-output": false
   },
   "outputs": [],
   "source": [
    ">>> im2 = im.crop((100,100,300,400))\n",
    ">>> im2.show()\n",
    ">>> im.show()"
   ]
  },
  {
   "cell_type": "markdown",
   "metadata": {},
   "source": [
    "- You can get a new image that is a resized version of an existing\n",
    "image. The new size must be given as a tuple:\n",
    "`im.resize((width,height))`  "
   ]
  },
  {
   "cell_type": "code",
   "execution_count": null,
   "metadata": {
    "hide-output": false
   },
   "outputs": [],
   "source": [
    ">>> im3 = im.resize((300,200))\n",
    ">>> im3.save('resized.jpg')"
   ]
  },
  {
   "cell_type": "markdown",
   "metadata": {},
   "source": [
    "- `im.convert(mode)` creates a copy of in image with a new mode -\n",
    "gray scale (`'L'`) in the following example:  "
   ]
  },
  {
   "cell_type": "code",
   "execution_count": null,
   "metadata": {
    "hide-output": false
   },
   "outputs": [],
   "source": [
    ">>> im4 = im.convert('L')\n",
    ">>> im4.show()"
   ]
  },
  {
   "cell_type": "markdown",
   "metadata": {},
   "source": [
    "\n",
    "\n",
    "## Something new, functions that change an image\n",
    "\n",
    "- The functions we have seen so far return a new result, but never\n",
    "  change the object that they apply to.  \n",
    "- More complex types such as images, often provide methods that allow us to change the\n",
    "  object (image)\n",
    "  for efficiency reason.  \n",
    "- You just have to remember how each function works.  \n",
    "- Here is our first function with this property: `im1.paste(im2,\n",
    "  (x,y))` pastes one image (`im2`) into the first image (`im1`)\n",
    "  starting at the top left coordinates `(x,y)`. The first image is\n",
    "  changed as a result, but not the second one.  \n",
    "  Note that the second image must fit in the first image starting\n",
    "  with these coordinates; otherwise, the pasted image will be cropped.  \n",
    "- How we call such a function is different:  "
   ]
  },
  {
   "cell_type": "code",
   "execution_count": null,
   "metadata": {
    "hide-output": false
   },
   "outputs": [],
   "source": [
    ">>> im1 = Image.open('sheep.jpg')\n",
    ">>> im1.size\n",
    "(600, 396)\n",
    ">>> im = Image.new('RGB', (600, 396*2))\n",
    ">>> im.paste( im1, (0,0))   ##not assigning the result of paste to a new variable\n",
    ">>> im.show()\n",
    ">>> im.paste( im1, (0, 396))\n",
    ">>> im.show()"
   ]
  },
  {
   "cell_type": "markdown",
   "metadata": {},
   "source": [
    "- The fact that the function `paste` changes an image is an\n",
    "  implementation decision made by the designers of PIL, mostly\n",
    "  because images are so large and copying is therefore time\n",
    "  consuming.  \n",
    "  Later in the semester, we will learn how to write such functions.  "
   ]
  },
  {
   "cell_type": "markdown",
   "metadata": {},
   "source": [
    "## Example 2: Cut and pasting parts of an image\n",
    "\n",
    "- This example crops three boxes from an image, creates a new image and\n",
    "pastes the boxes at different locations of this new image.  "
   ]
  },
  {
   "cell_type": "code",
   "execution_count": null,
   "metadata": {
    "hide-output": false
   },
   "outputs": [],
   "source": [
    "from PIL import Image\n",
    "\n",
    "im = Image.open(\"lego_movie.jpg\")\n",
    "w,h = im.size\n",
    "\n",
    "## Crop out three columns from the image\n",
    "## Note: the crop function returns a new image\n",
    "part1 = im.crop((0,0,w//3,h))\n",
    "part2 = im.crop((w//3,0,2*w//3,h))\n",
    "part3 = im.crop((2*w//3,0,w,h))\n",
    "\n",
    "## Create a new image\n",
    "newim = Image.new(\"RGB\",(w,h))\n",
    "\n",
    "## Paste the image in different order\n",
    "## Note: the paste function changes the image it is applied to\n",
    "newim.paste(part3, (0,0))\n",
    "newim.paste(part1, (w//3,0))\n",
    "newim.paste(part2, (2*w//3,0))\n",
    "newim.show()"
   ]
  },
  {
   "cell_type": "markdown",
   "metadata": {},
   "source": [
    "\n",
    "\n",
    "## Summary\n",
    "\n",
    "- Tuples are similar to strings and numbers in many ways. You cannot\n",
    "  change a part of a tuple. However, unlike other simple data types,\n",
    "  tuples allow access to the individual components using the indexing\n",
    "  notation `[ ]`.  \n",
    "- Modules contain a combination of functions, variables, object\n",
    "  definitions, and other code, all designed for use in other Python\n",
    "  programs and modules  \n",
    "- `PILLOW` provides a set of modules that define the `Image` object\n",
    "  type and associated methods.  "
   ]
  },
  {
   "cell_type": "markdown",
   "metadata": {},
   "source": [
    "## Reviewing for the exam:  topics and ideas\n",
    "\n",
    "Here are crucial topics to review before the exam.\n",
    "\n",
    "- Syntax: can you find syntax errors in code?  \n",
    "- Correct variable names, assigning a value to a variable  \n",
    "- Output: can you predict the output of a piece of code?  \n",
    "- Expressions and operator precedence  \n",
    "- The distinction between integer and float division  \n",
    "- The distinction between division (4//5) and modulo (4%5) operators,\n",
    "  and how they work for positive and negative numbers  \n",
    "- Remember shorthands: `+=`, `-=`, `/=`, `*=`.  \n",
    "- Functions: defining functions and using them  \n",
    "- Distinguish between variables local to functions and variables that\n",
    "  are global  \n",
    "- Modules: how to import and call functions that are from a specific\n",
    "  module (`math` is the only one we learned so far)  \n",
    "- How to access variable values defined in a module (see `math.pi`\n",
    "  for example)  \n",
    "- Strings: how to create them, how to escape characters, multi-line strings  \n",
    "- How to use `input()`: remember it always returns a string  \n",
    "- Boolean data type: distinguish between expressions that return\n",
    "  integer/float/string/Boolean  \n",
    "- Remember the distinction between `=` and `==`  \n",
    "- Boolean value of conditions involving AND/OR/NOT  \n",
    "- `if`/`elif`/`else`:  how to write them. Understand what parts\n",
    "  are optional and how they work  \n",
    "- Remember the same function may work differently and do different\n",
    "  things when applied to a different data type.  \n",
    "- Review all about the different ways to call the print function for\n",
    "  multiple lines of input  \n",
    "- Operators: `+` (concatenation and addition), `*` (replication\n",
    "  and multiplication), `/`, `%`, `**`  \n",
    "- Functions:  `int()`, `float()`, `str()`,\n",
    "  `math.sqrt()`, `min()`, `max()`, `abs()`,\n",
    "  `round()`, `sum()` etc.  \n",
    "- Functions applied to string objects using the dot notation, where\n",
    "  `string` is a string object, such as `\"car\"` or the name of a\n",
    "  string variable:  \n",
    "  - `string.upper()`, `string.lower()`, `string.replace()`,\n",
    "    `string.capitalize()`, `string.title()`,\n",
    "    `string.find()`, `string.count()`, `len()`  \n",
    "- Distinguish between the different types of functions we have\n",
    "  learned in this class:  \n",
    "\n",
    "\n",
    "> - Functions that take one or more values as input and return\n",
    "  something (input objects/values are not modified)  \n",
    "\n",
    "\n",
    "> "
   ]
  },
  {
   "cell_type": "code",
   "execution_count": null,
   "metadata": {
    "hide-output": false
   },
   "outputs": [],
   "source": [
    ">>> min(3,2,1)\n",
    "1\n",
    ">>> mystr = 'Monty Python'\n",
    ">>> len(mystr)\n",
    "12"
   ]
  },
  {
   "cell_type": "markdown",
   "metadata": {},
   "source": [
    "\n",
    "- Functions that take one or more values as input and return\n",
    "  nothing (input objects/values are not modified)  \n",
    "\n",
    "\n",
    "> "
   ]
  },
  {
   "cell_type": "code",
   "execution_count": null,
   "metadata": {
    "hide-output": false
   },
   "outputs": [],
   "source": [
    ">>> def print_max(val1, val2):\n",
    "...     print(\"Maximum value is\", max(val1, val2))\n",
    "...\n",
    ">>> x1 = 10\n",
    ">>> x2 = 15\n",
    ">>> print_max(x1, x2)\n",
    "Maximum value is 15"
   ]
  },
  {
   "cell_type": "markdown",
   "metadata": {},
   "source": [
    "\n",
    "- Functions that apply to an object, like a string, and return a\n",
    "  value (but do not modify the object that they are applied to)  \n",
    "\n",
    "\n",
    "> "
   ]
  },
  {
   "cell_type": "code",
   "execution_count": null,
   "metadata": {
    "hide-output": false
   },
   "outputs": [],
   "source": [
    ">>> mystr = 'Monty Python'\n",
    ">>> mystr.replace('o','x')\n",
    "'Mxnty Pythxn'\n",
    ">>> mystr\n",
    "'Monty Python'\n",
    ">>> mystr.upper()\n",
    "'MONTY PYTHON'\n",
    ">>> mystr\n",
    "'Monty Python'"
   ]
  },
  {
   "cell_type": "markdown",
   "metadata": {},
   "source": [
    "\n",
    "- Functions that are applied to an object, like an `Image` and\n",
    "  modify it (but not return anything), we have only learned `Image.paste`\n",
    "  so far (and images will NOT be on the exam).  \n",
    "\n",
    "\n",
    "> "
   ]
  },
  {
   "cell_type": "code",
   "execution_count": null,
   "metadata": {
    "hide-output": false
   },
   "outputs": [],
   "source": [
    ">>> im.paste( im2, (0,0) )"
   ]
  },
  {
   "cell_type": "markdown",
   "metadata": {},
   "source": [
    "\n",
    "\n",
    "- Local vs. global variables: Can you tell what each of the print statements\n",
    "  print and explain why?  \n",
    "\n",
    "\n",
    "> "
   ]
  },
  {
   "cell_type": "code",
   "execution_count": null,
   "metadata": {
    "hide-output": false
   },
   "outputs": [],
   "source": [
    "def f1(x,y):\n",
    "    return x+y\n",
    "\n",
    "def f2(x):\n",
    "    return x+y\n",
    "\n",
    "x = 5\n",
    "y = 10\n",
    "\n",
    "print('A:', f1(x,y))\n",
    "print('B:', f1(y,x))\n",
    "print('C:', f2(x))\n",
    "print('D:', f2(y))\n",
    "print('E:', f1(x))"
   ]
  },
  {
   "cell_type": "markdown",
   "metadata": {},
   "source": [
    "\n",
    "## Reviewing for the exam:  problem solving\n",
    "\n",
    "In the remaining time we will go through several practice questions to\n",
    "demonstrate how we approach these problems.  While our immediate\n",
    "concern is the exam, you will be developing your problem solving\n",
    "skills and programming abilities.  Most of these questions have\n",
    "appeared on previous exams in CS 1.\n",
    "\n",
    "1. What is the **exact** output of the following Python code?  What\n",
    "are the global variables, the function arguments, the local\n",
    "variables, and the parameters in the code?  "
   ]
  },
  {
   "cell_type": "code",
   "execution_count": null,
   "metadata": {
    "hide-output": false
   },
   "outputs": [],
   "source": [
    "x=3\n",
    "\n",
    "def do_something(x, y):\n",
    "   z=x+y\n",
    "   print(z)\n",
    "   z += z\n",
    "   print(z)\n",
    "   z += z * z\n",
    "   print(z)\n",
    "\n",
    "do_something(1,1)\n",
    "y=1\n",
    "do_something(y,x)"
   ]
  },
  {
   "cell_type": "markdown",
   "metadata": {},
   "source": [
    "1. Write a Python function that takes two strings as input and\n",
    "prints them together on one 35-character line, with the first string\n",
    "left-justified, the second string right-justified, and as many\n",
    "periods between the words as needed.  For example, the function\n",
    "calls  "
   ]
  },
  {
   "cell_type": "code",
   "execution_count": null,
   "metadata": {
    "hide-output": false
   },
   "outputs": [],
   "source": [
    "print_left_right( 'apple', 'banana')\n",
    "print_left_right( 'syntax error', 'semantic error')"
   ]
  },
  {
   "cell_type": "markdown",
   "metadata": {},
   "source": [
    "should output  "
   ]
  },
  {
   "cell_type": "code",
   "execution_count": null,
   "metadata": {
    "hide-output": false
   },
   "outputs": [],
   "source": [
    "apple........................banana\n",
    "syntax error.........semantic error"
   ]
  },
  {
   "cell_type": "markdown",
   "metadata": {},
   "source": [
    "You may assume that the lengths of the two strings passed as arguments\n",
    "together are less than 35 characters.  \n",
    "1. In the United States, a car’s fuel efficiency is measured in\n",
    "  miles driven per gallon used.  In the metric system it is liters\n",
    "  used per 100 kilometers driven.  Using the values 1.609 kilometers\n",
    "  equals 1 mile and 1 gallon equals 3.785 liters, write a Python\n",
    "  function that converts a fuel efficiency measure in miles per gallon\n",
    "  to one in liters per 100 kilometers and returns the result.  \n",
    "1. Write a program that reads Erin’s height (in cm), Erin’s age (years),\n",
    "  Dale’s height (in cm) and Dale’s age (years) and tells the name of\n",
    "  the person who is both older and taller or tells that neither is\n",
    "  both older and taller.  "
   ]
  }
 ],
 "metadata": {
  "filename": "lec07_modules_images.rst",
  "kernelspec": {
   "display_name": "Python",
   "language": "python3",
   "name": "python3"
  },
  "title": "Lecture 7 — Tuples, Modules, Images"
 },
 "nbformat": 4,
 "nbformat_minor": 2
}