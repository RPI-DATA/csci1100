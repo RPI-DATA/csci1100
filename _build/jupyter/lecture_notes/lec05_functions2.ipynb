{
 "cells": [
  {
   "cell_type": "markdown",
   "metadata": {},
   "source": [
    "Notebook created: 2019-07-16 14:30:27  \n",
    "Generated from: jWebsite/lecture_notes/lec05_functions2.rst  "
   ]
  },
  {
   "cell_type": "markdown",
   "metadata": {},
   "source": [
    "# Lecture 5 — Python Functions"
   ]
  },
  {
   "cell_type": "markdown",
   "metadata": {},
   "source": [
    "## Reading\n",
    "\n",
    "Most of this is covered late in Chapter 3 of *Practical Programming*."
   ]
  },
  {
   "cell_type": "markdown",
   "metadata": {},
   "source": [
    "## Why Functions?\n",
    "\n",
    "- The purpose of today’s class is to introduce the basics of writing\n",
    "  and running Python functions.  \n",
    "  - Repeating code is painful.  \n",
    "  - It is also hard to distinguish between the same code\n",
    "    repeated three times and three different computations.  \n",
    "  - It is easy to find a mistake in one copy of a section of code\n",
    "    and forget to fix it in the other copies.  \n",
    "- Learn a programmer’s motto: DRY – don’t repeat yourself.  \n",
    "  - Define it once and use it multiple times.  \n",
    "- Functions are extremely useful for writing complex programs:  \n",
    "  - They divide complex operations into a combination of simpler steps.  \n",
    "  - They make programs easier to read and debug by abstracting out frequently\n",
    "    repeated code.  "
   ]
  },
  {
   "cell_type": "markdown",
   "metadata": {},
   "source": [
    "## Functions\n",
    "\n",
    "- As we have learned, a function  \n",
    "  - Takes as input one or more arguments.  \n",
    "  - Computes a new value, a string or a number.  \n",
    "  - Returns the value, so that it can be assigned to a variable or\n",
    "    output.  \n",
    "- Let’s recall this with a built-in function:  "
   ]
  },
  {
   "cell_type": "code",
   "execution_count": null,
   "metadata": {
    "hide-output": false
   },
   "outputs": [],
   "source": [
    ">>> len('RPI Puckman')\n",
    "11"
   ]
  },
  {
   "cell_type": "markdown",
   "metadata": {},
   "source": [
    "Can you identify the input argument, the computation and the\n",
    "returned value?  "
   ]
  },
  {
   "cell_type": "markdown",
   "metadata": {},
   "source": [
    "## A Function to Compute the Area of a Circle\n",
    "\n",
    "- In mathematics, many functions are given as formulas. You might\n",
    "  write a function to calculate the area of a circle as  \n",
    "  $$\n",
    "  a(r) = \\pi r^2\n",
    "  $$\n",
    "- In Python, typing into a file (in the upper pane of the Wing IDE),\n",
    "we write  "
   ]
  },
  {
   "cell_type": "code",
   "execution_count": null,
   "metadata": {
    "hide-output": false
   },
   "outputs": [],
   "source": [
    "def area_circle(radius):\n",
    "    pi = 3.14159\n",
    "    area = pi * radius**2\n",
    "    return area"
   ]
  },
  {
   "cell_type": "markdown",
   "metadata": {},
   "source": [
    "- Note that the `def` is not indented and the other lines are\n",
    "  indented four spaces.  \n",
    "- We add unindented code the file below the definition of\n",
    "`area_circle()` to execute the function and calculate\n",
    "the area:  "
   ]
  },
  {
   "cell_type": "code",
   "execution_count": null,
   "metadata": {
    "hide-output": false
   },
   "outputs": [],
   "source": [
    "a = area_circle(1)\n",
    "print(a)\n",
    "print('A circle with radius 2 has area {:.2f}'.format(area_circle(2)))\n",
    "r = 75.1\n",
    "a = area_circle(r)\n",
    "print(\"A circle with radius {:.2f} has area {:.2f}\".format(r,a))"
   ]
  },
  {
   "cell_type": "markdown",
   "metadata": {},
   "source": [
    "Note that by using examples with small values for the radius we can\n",
    "easily check that our function is correct.  \n",
    "- Important syntax includes  \n",
    "  - Use of the keyword `def` and the `:` to indicate the start of\n",
    "    the function  \n",
    "  - Indentation for the lines after the `def` line  \n",
    "  - Unindented lines for code outside the function to indicate the end of the function.  "
   ]
  },
  {
   "cell_type": "markdown",
   "metadata": {},
   "source": [
    "## What does Python do when we run this code?\n",
    "\n",
    "We can visualize this using the website `http://www.pythontutor.com`\n",
    "\n",
    "1. Reads the keyword `def` and notes that a function is being defined.  \n",
    "  - The line that starts with `def` is called the function *header*.  \n",
    "1. Reads the rest of the function definition, checking its syntax.  \n",
    "1. Notes the end of the definition when the unindented code is reached.  \n",
    "1. Sees the function call inside the assignment statement  "
   ]
  },
  {
   "cell_type": "code",
   "execution_count": null,
   "metadata": {
    "hide-output": false
   },
   "outputs": [],
   "source": [
    "a = area_circle(1)"
   ]
  },
  {
   "cell_type": "markdown",
   "metadata": {},
   "source": [
    "at what’s known as the “top level” or “main level” of execution\n",
    "and  \n",
    "- Jumps back up to the function  \n",
    "- Assigns 1 to the parameter `radius`.  \n",
    "- Runs the code inside the function using `radius` as a variable\n",
    "  inside the function.  \n",
    "- Returns the result of the calculation back to the top level and\n",
    "  assigns the value 3.14159 to the variable `a`.  \n",
    "1. Repeats the process of running the function at the second\n",
    "  `print()`, this time with the parameter value 2 and therefore a\n",
    "  new value for `radius` inside the function.  \n",
    "1. Repeats the process of running the function right after we reassign\n",
    "  `a`, this time with parameter value 75.1 taken from the variable\n",
    "  `r`.  "
   ]
  },
  {
   "cell_type": "markdown",
   "metadata": {},
   "source": [
    "## Flow of Control\n",
    "\n",
    "- To re-iterate, the “flow of control” of Python here involves  \n",
    "  - Reading the function definition without executing the function.  \n",
    "  - Seeing a “call” to the function, jumping up to the start of the\n",
    "    function and executing its code.  \n",
    "  - Returning the result of the function back to the place in the\n",
    "    program that called the function and continuing the execution.  \n",
    "- Functions can compute many different things and return any data type\n",
    "  Python supports.  "
   ]
  },
  {
   "cell_type": "markdown",
   "metadata": {},
   "source": [
    "## Arguments, Parameters and Local Variables\n",
    "\n",
    "- *Arguments* are the values 1, 2 and 75.1 in our above examples.  \n",
    "- These are each passed to the *parameter* called `radius` named in\n",
    "  the function header. This parameter is used just like a variable in\n",
    "  the function.  \n",
    "- The variable `pi` and `area` are *local variables* to the\n",
    "  function (though we should probably use the `math` module for `pi`\n",
    "  in the future).  \n",
    "- Neither `pi` nor `radius` nor `area` exists at the top / main\n",
    "  level. At this level, they are ‘’undefined variables’‘. Try it out.  "
   ]
  },
  {
   "cell_type": "markdown",
   "metadata": {},
   "source": [
    "## Exercise / Example\n",
    "\n",
    "As some basic practice, we’ll write a function to convert miles per\n",
    "hour to kilometers per day, and then we’ll write several calls to\n",
    "demonstrate its use.  Then we will give you time to work on the first\n",
    "lecture exercise."
   ]
  },
  {
   "cell_type": "markdown",
   "metadata": {},
   "source": [
    "## A More Complicated Example\n",
    "\n",
    "- We’ll use the example below to illustrate two important concepts:  \n",
    "  1. Functions can call other functions, ones that we write ourselves\n",
    "    or that Python provides.  \n",
    "  1. Functions may have multiple parameters.  One argument in the\n",
    "    function call is required for each parameter. Arguments and\n",
    "    parameters are matched up *in order*.  \n",
    "    - There are ways to override this, but we will not study them\n",
    "      yet.  \n",
    "- In the example we will switch to the use of `math.pi` and we will\n",
    "  use this from now on.  "
   ]
  },
  {
   "cell_type": "markdown",
   "metadata": {},
   "source": [
    "## Computing the Surface Area of A Cylinder Using Two Functions\n",
    "\n",
    "- Here is the Python code, in file `lec05_surface_area.py`:  "
   ]
  },
  {
   "cell_type": "code",
   "execution_count": null,
   "metadata": {
    "hide-output": false
   },
   "outputs": [],
   "source": [
    "import math\n",
    "\n",
    "def area_circle(radius):\n",
    "    return math.pi * radius ** 2\n",
    "\n",
    "def area_cylinder(radius,height):\n",
    "    circle_area = area_circle(radius)\n",
    "    height_area = 2 * radius * math.pi * height\n",
    "    return 2*circle_area + height_area\n",
    "\n",
    "print('The area of a circle of radius 1 is', round(area_circle(1),2))\n",
    "r = 2\n",
    "height = 10\n",
    "print('The surface area of a cylinder with radius', r)\n",
    "print('and height', height, 'is', round(area_cylinder(r,height),2))"
   ]
  },
  {
   "cell_type": "markdown",
   "metadata": {},
   "source": [
    "- Now we’ve defined two functions, one of which calls the other.  \n",
    "- Flow of control proceeds in two different ways here:  \n",
    "  1. Starting at the first `print()` function call at the top\n",
    "    level, into `area_circle()` and back.  \n",
    "  1. At the third `print()`  \n",
    "    1. into `area_cylinder()`  \n",
    "    1. into `area_circle()`  \n",
    "    1. back to `area_cylinder()`, and  \n",
    "    1. back to the top level (and then into `round()` and\n",
    "      finally into `print()`).  \n",
    "- The Python interpreter keeps track of where it is working and where\n",
    "  to return to when it is done with a function, even if it is back into\n",
    "  another function.  \n",
    "- What are the arguments, the parameters, the local variables and the\n",
    "  global variables?  "
   ]
  },
  {
   "cell_type": "markdown",
   "metadata": {},
   "source": [
    "## Practice Problems\n",
    "\n",
    "1. Write a function that computes the area of a rectangle. Then, write\n",
    "  a second function that calls this function three times to\n",
    "  compute the surface area of a rectangular solid.  \n",
    "1. Write a function that returns the middle value among three\n",
    "  integers.  (Hint: make use of `min()` and `max()`).  Write\n",
    "  code to test this function with different inputs.  \n",
    "\n",
    "\n",
    "You will notice that the solution to the first problem in particular\n",
    "is longer than the solution without using functions.  While we don’t\n",
    "often write such short functions in practice, here it is a good\n",
    "illustration."
   ]
  },
  {
   "cell_type": "markdown",
   "metadata": {},
   "source": [
    "## More on program structure\n",
    "\n",
    "- Let us revisit the program structure that will allow us to write\n",
    "  readable programs.  \n",
    "  - First a general comment describing the program.  \n",
    "  - Second, all import statements.  \n",
    "  - Third, all function definitions.  \n",
    "  - Fourth, the main body of your program.  \n",
    "- Well structured programs are easy to read and debug. We will work\n",
    "  hard to help you develop good habits early on.  "
   ]
  },
  {
   "cell_type": "markdown",
   "metadata": {},
   "source": [
    "## Thinking About What You See\n",
    "\n",
    "Why is it NOT a mistake to use the same name, for example `radius`, in\n",
    "different functions (and sometimes at the top level)?"
   ]
  },
  {
   "cell_type": "markdown",
   "metadata": {},
   "source": [
    "## Let’s Make Some Mistakes\n",
    "\n",
    "In order to check our understanding, we will play around with the code\n",
    "and make some mistakes on purpose\n",
    "\n",
    "- Removing `math` from `math.pi` in one definition  \n",
    "- Changing the name of a function  \n",
    "- Switching the order of the parameters in a function call  \n",
    "- Making an error in our calculation  \n",
    "- Calling `print()` with the result of a function that does not\n",
    "  return a value  "
   ]
  },
  {
   "cell_type": "markdown",
   "metadata": {},
   "source": [
    "## A Final Example, Including Documentation\n",
    "\n",
    "- We will write a function that linearly scales a test score, so that\n",
    "if `raw` is the “raw score” then the scaled score will be  "
   ]
  },
  {
   "cell_type": "code",
   "execution_count": null,
   "metadata": {
    "hide-output": false
   },
   "outputs": [],
   "source": [
    "scaled = a*raw + b"
   ]
  },
  {
   "cell_type": "markdown",
   "metadata": {},
   "source": [
    "The values of `raw`, `a` and `b` will be parameters of the\n",
    "  function.  We will also want to cap the scaled score at 100.  \n",
    "- In writing our function we will be careful to document the meaning of\n",
    "  the parameters and the assumptions.  You should get into the habit\n",
    "  of doing this.  "
   ]
  },
  {
   "cell_type": "markdown",
   "metadata": {},
   "source": [
    "## Why Functions?\n",
    "\n",
    "Our goal in using functions is to write code that is\n",
    "\n",
    "- Easier to think about and write  \n",
    "- Easier to test: we can check the correctness of `area_circle`\n",
    "  before we test `area_cylinder`.  \n",
    "- Clearer for someone else to read  \n",
    "- Reusable in other programs  \n",
    "\n",
    "\n",
    "Together these define the notion of *encapsulation*, another important\n",
    "idea in computer science!"
   ]
  },
  {
   "cell_type": "markdown",
   "metadata": {},
   "source": [
    "## Summary\n",
    "\n",
    "- Functions for encapsulation and reuse  \n",
    "- Function syntax  \n",
    "- Arguments, parameters and local variables  \n",
    "- Flow of control, including functions that call other functions  \n",
    "- You can find the code developed in this class under the class\n",
    "  modules for Lecture 5.  "
   ]
  },
  {
   "cell_type": "markdown",
   "metadata": {},
   "source": [
    "## Additional Practice:\n",
    "\n",
    "The lecture exercises provide just the beginnings of what you need to\n",
    "do to practice with the concepts and with writing short problems.\n",
    "Here is some additional material for review before our next class.  It\n",
    "goes all the way back to Lecture 2…\n",
    "\n",
    "> - **Expressions:** What type of data do they return?  \n",
    "- Try typing simple math formulas to the Python interpreter like:  "
   ]
  },
  {
   "cell_type": "code",
   "execution_count": null,
   "metadata": {
    "hide-output": false
   },
   "outputs": [],
   "source": [
    ">>> 1 + 2 * 3 / 3 * 4**2 **3 - 3 / 3*4"
   ]
  },
  {
   "cell_type": "markdown",
   "metadata": {},
   "source": [
    "\n",
    "\n",
    "> and manually find the output. Don’t be fooled by the spaces!\n",
    "Operator precedence is in effect. Try writing your own expressions.\n",
    "\n",
    "\n",
    "- **Variables:** Do you know what are valid and invalid variable names?  \n",
    "- What is the difference in the output between:  "
   ]
  },
  {
   "cell_type": "code",
   "execution_count": null,
   "metadata": {
    "hide-output": false
   },
   "outputs": [],
   "source": [
    ">>> 3 + 4\n",
    ">>> print(3 + 4)\n",
    ">>> x = 3 + 4\n",
    ">>> print(x)\n",
    ">>> print(x = 3+4)     # This causes an error..."
   ]
  },
  {
   "cell_type": "markdown",
   "metadata": {},
   "source": [
    "Try to guess before typing them in, but make a habit of typing simple\n",
    "statements like this and looking at the result.  \n",
    "- **Assignment:** Can you trace the value of a variable after many\n",
    "different assignments? Don’t be fooled by the name of variables.\n",
    "Try to do it manually:  "
   ]
  },
  {
   "cell_type": "code",
   "execution_count": null,
   "metadata": {
    "hide-output": false
   },
   "outputs": [],
   "source": [
    ">>> one = 2\n",
    ">>> two = 1\n",
    ">>> three = 4\n",
    ">>> one += 3 * two\n",
    ">>> two -= 3 * one + three"
   ]
  },
  {
   "cell_type": "markdown",
   "metadata": {},
   "source": [
    "By the way, make a habit of picking nice variable names.  Your\n",
    "variables should be meaningful whenever possible both to you and to\n",
    "anyone else reading your code.  \n",
    "- **Functions:** Write the functions from class on your own using\n",
    "the Python interpreter. Try to do it without looking at\n",
    "notes. Can you do it?  \n",
    "- Write a function that returns a value.  \n",
    "- Write a function with no return.  \n",
    "- Write a function where `return` is not the last statement in the\n",
    "  function.  \n",
    "- Call these functions by either printing their result or assigning\n",
    "  their results to a value. Here, I’ll get you started.  "
   ]
  },
  {
   "cell_type": "code",
   "execution_count": null,
   "metadata": {
    "hide-output": false
   },
   "outputs": [],
   "source": [
    "def regenerate_doctor(doctor_number):\n",
    "    return doctor_number+1\n",
    "\n",
    "def regenerate_tardis(doctor_number):\n",
    "    print \"Tardis is now ready for doctor number\", doctor_number\n",
    "\n",
    "def eliminate_doctor(doctor_number):\n",
    "    return 0\n",
    "    print \"You will be eliminated doctor\", doctor_number"
   ]
  },
  {
   "cell_type": "markdown",
   "metadata": {},
   "source": [
    "- Write functions that use the built-in functions. Make sure you\n",
    "  memorize what they are and how they are used.  \n",
    "\n",
    "\n",
    "\n",
    "- Finally, write some functions to a file and call them from within\n",
    "  the file. Now, execute the file. By next class, make sure all of this\n",
    "  is quite easy to do without consulting the course notes.  "
   ]
  }
 ],
 "metadata": {
  "filename": "lec05_functions2.rst",
  "kernelspec": {
   "display_name": "Python",
   "language": "python3",
   "name": "python3"
  },
  "title": "Lecture 5 — Python Functions"
 },
 "nbformat": 4,
 "nbformat_minor": 2
}