{
 "cells": [
  {
   "cell_type": "markdown",
   "metadata": {},
   "source": [
    "Notebook created: 2019-07-16 14:30:27  \n",
    "Generated from: jWebsite/lecture_notes/lec09_loops1_while_exercises/exercises.rst  "
   ]
  },
  {
   "cell_type": "markdown",
   "metadata": {},
   "source": [
    "# Lecture 9 — Exercises\n",
    "\n",
    "Solutions to the problems below must be sent to Submitty for grading.\n",
    "A separate file must submitted for each problem.  Each problem\n",
    "requires you to use a *while* loop. As a whole this exercise set is a\n",
    "bit longer than previous ones because loops are so important and\n",
    "require so much practice.  Solutions must be submitted by 4 pm on\n",
    "Wednesday, February 21.\n",
    "\n",
    "1. Write a program that asks the user for a single integer `n` and\n",
    "prints the non-negative multiples of 3 that are less than `n`.\n",
    "Here is an example run of the program on Submitty  "
   ]
  },
  {
   "cell_type": "code",
   "execution_count": null,
   "metadata": {
    "hide-output": false
   },
   "outputs": [],
   "source": [
    "Enter a positive integer: 12\n",
    "0\n",
    "3\n",
    "6\n",
    "9"
   ]
  },
  {
   "cell_type": "markdown",
   "metadata": {},
   "source": [
    "1. The following list represents the population of New York State (in\n",
    "hundreds of thousands of people) for the US Census in 1790, 1800,\n",
    "1810, etc., all the way through 2010.  "
   ]
  },
  {
   "cell_type": "code",
   "execution_count": null,
   "metadata": {
    "hide-output": false
   },
   "outputs": [],
   "source": [
    "census = [ 340, 589, 959, 1372, 1918, 2428, 3097, 3880, 4382, 5082, \\\n",
    "            5997, 7268, 9113, 10385, 12588, 13479, 14830, 16782, \\\n",
    "            8236, 17558, 17990, 18976, 19378 ]"
   ]
  },
  {
   "cell_type": "markdown",
   "metadata": {},
   "source": [
    "Copy and paste this list into the start of a new program file.\n",
    "Then write code to find the average percentage change from one\n",
    "decade to the next, across all decades.  For example, the change\n",
    "from 1790 to 1800 is (589 - 340) / 340 * 100 = 73.2% and the change\n",
    "from 1800 to 1810 is (959 - 589) / 589 * 100 = 62.8% so the average\n",
    "across just these two decades is 68.0%.  The output of your program\n",
    "would then simply be  "
   ]
  },
  {
   "cell_type": "code",
   "execution_count": null,
   "metadata": {
    "hide-output": false
   },
   "outputs": [],
   "source": [
    "Average = 68.0%"
   ]
  },
  {
   "cell_type": "markdown",
   "metadata": {},
   "source": [
    "Your answer will be different because it is taken from all\n",
    "decades.  \n",
    "1. Write a program that inputs integer values that the user types\n",
    "until the user types a 0.  Each value (other than 0) should be\n",
    "stored in a list.  The program should then output the minimum,\n",
    "maximum and average of the values in the list.  Your program must\n",
    "start by creating an empty list to store the values.  Here’s an\n",
    "example of how it might look on Submitty:  "
   ]
  },
  {
   "cell_type": "code",
   "execution_count": null,
   "metadata": {
    "hide-output": false
   },
   "outputs": [],
   "source": [
    "Enter a value (0 to end): 5\n",
    "Enter a value (0 to end): 3\n",
    "Enter a value (0 to end): 11\n",
    "Enter a value (0 to end): 0\n",
    "Min: 3\n",
    "Max: 11\n",
    "Avg: 6.3"
   ]
  }
 ],
 "metadata": {
  "filename": "exercises.rst",
  "kernelspec": {
   "display_name": "Python",
   "language": "python3",
   "name": "python3"
  },
  "title": "Lecture 9 — Exercises"
 },
 "nbformat": 4,
 "nbformat_minor": 2
}