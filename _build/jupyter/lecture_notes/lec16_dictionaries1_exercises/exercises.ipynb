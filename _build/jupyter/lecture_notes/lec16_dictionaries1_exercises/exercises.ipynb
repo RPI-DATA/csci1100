{
 "cells": [
  {
   "cell_type": "markdown",
   "metadata": {},
   "source": [
    "Notebook created: 2019-07-16 14:30:27  \n",
    "Generated from: jWebsite/lecture_notes/lec16_dictionaries1_exercises/exercises.rst  "
   ]
  },
  {
   "cell_type": "markdown",
   "metadata": {},
   "source": [
    "# Lecture 16 — Exercises\n",
    "\n",
    "Solutions to the problems below must be sent to Submitty for\n",
    "automatic scoring.  A separate file must submitted for each problem.\n",
    "Solutions must be submitted by 4 pm on Tuesday, March 21.\n",
    "\n",
    "1. Write a Python program that forms a dictionary called `countries`\n",
    "  that associates the population with each of the following\n",
    "  countries (in millions):  \n",
    "  - Algeria 37.1  \n",
    "  - Canada 3.49  \n",
    "  - Uganda 32.9  \n",
    "  - Morocco 32.7  \n",
    "  - Sudan 30.9  \n",
    "  - Canada 34.9   # a correction to the error above.  \n",
    "  and then prints the length of the `countries` dictionary, the\n",
    "  sorted list of the keys in `countries` and a sorted list of the\n",
    "  values in `countries`.  There should be six assignment statements\n",
    "  in your program (seven if you include initializing the dictionary)\n",
    "  and three lines of output from your program.\n",
    "  Please initialize your dictionary using `dict()` rather than `{}`  \n",
    "1. Our solution to the IMDB problem thus far has not actually told us\n",
    "who is the busiest individual in the Internet movie database.\n",
    "Your job in this part is to complete this task.  Starting from the\n",
    "code produced in class, which will be immediately posted on the\n",
    "course website (in the *Code written in class* area), write a\n",
    "program that finds and prints the name of the individual who\n",
    "appears the most times in the IMDB file you are given.  Also, count\n",
    "and output the number of individuals who appear only 1 time in the\n",
    "IMDB.  \n",
    "For example if the answer were `Thumb, Toni` and this\n",
    "person had appeared 100 times, and if 2,000 people had only\n",
    "appeared once, then your output should be  "
   ]
  },
  {
   "cell_type": "code",
   "execution_count": null,
   "metadata": {
    "hide-output": false
   },
   "outputs": [],
   "source": [
    "Enter the name of the IMDB file ==> imdb_data.txt\n",
    "Thumb, Toni appears most often: 100 times\n",
    "2000 people appear once"
   ]
  },
  {
   "cell_type": "markdown",
   "metadata": {},
   "source": [
    "We strongly suggest that you test your solution on the\n",
    "`hanks.txt` dataset first!  We will test on multiple files.  You\n",
    "do not need to worry about the possibility of a tie for the most\n",
    "commonly occuring name.  Please initialize your dictionary using\n",
    "`dict()` rather than `{}`  "
   ]
  }
 ],
 "metadata": {
  "filename": "exercises.rst",
  "kernelspec": {
   "display_name": "Python",
   "language": "python3",
   "name": "python3"
  },
  "title": "Lecture 16 — Exercises"
 },
 "nbformat": 4,
 "nbformat_minor": 2
}