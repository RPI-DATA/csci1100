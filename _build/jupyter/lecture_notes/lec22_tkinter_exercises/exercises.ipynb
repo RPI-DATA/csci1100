{
 "cells": [
  {
   "cell_type": "markdown",
   "metadata": {},
   "source": [
    "Notebook created: 2019-07-16 14:30:27  \n",
    "Generated from: jWebsite/lecture_notes/lec22_tkinter_exercises/exercises.rst  "
   ]
  },
  {
   "cell_type": "markdown",
   "metadata": {},
   "source": [
    "# Lecture 22 — Exercises\n",
    "\n",
    "Solutions to the problems below must be sent to Submitty for\n",
    "automatic scoring.  A separate file must submitted for each problem.\n",
    "Solutions must be submitted by 4 pm on Friday, December 1.\n",
    "\n",
    "1. What is printed out when the following code is run? Assume\n",
    "that the user clicks on the “Launch” button and nothing else.  Put\n",
    "your answer into a text file and submit it as the answer to\n",
    "part 1.  "
   ]
  },
  {
   "cell_type": "code",
   "execution_count": null,
   "metadata": {
    "hide-output": false
   },
   "outputs": [],
   "source": [
    "from tkinter import *\n",
    "\n",
    "class MyApp(object):\n",
    "    def __init__(self, parent):\n",
    "        print('Initialized!')\n",
    "        self.parent = parent\n",
    "        self.main_frame = Frame(parent)\n",
    "        self.main_frame.pack()\n",
    "        self.button1 = Button(self.main_frame, text=\"Launch\", command=self.terminate_program)\n",
    "        self.button1.configure(width=12, padx=\"4m\", pady=\"4m\")\n",
    "        self.button1.pack()\n",
    "        self.button2 = Button(self.main_frame, text=\"C\", command=self.c)\n",
    "        self.button2.configure(width=12, padx=\"4m\", pady=\"4m\")\n",
    "        self.button2.pack()\n",
    "        self.rocket = 2\n",
    "\n",
    "    def d(self):\n",
    "        self.rocket += 2\n",
    "\n",
    "    def c(self):\n",
    "        print(\"Launching ... counting\", end='')\n",
    "        for i in range(self.rocket):\n",
    "            print('...{}'.format(self.rocket), end='')\n",
    "            self.rocket -= 1\n",
    "        print('...Liftoff!', flush=True)\n",
    "\n",
    "    def terminate_program(self):\n",
    "        self.c()\n",
    "        print('Terminated')\n",
    "        self.parent.destroy()\n",
    "\n",
    "if __name__ == \"__main__\":\n",
    "    root = Tk()\n",
    "    print(\"Countdown ready\")\n",
    "    myapp = MyApp(root)\n",
    "    myapp.d()\n",
    "    root.mainloop()\n",
    "    myapp.d()\n",
    "    print(myapp.rocket)\n",
    "    myapp.c()\n",
    "    print(\"Done\")"
   ]
  },
  {
   "cell_type": "markdown",
   "metadata": {},
   "source": [
    "1. Revisiting the same code, what is printed if the code is run a second time\n",
    "  and the user clicks the “C” button and\n",
    "  nothing else? Put your answer into a text file and submit it as the answer to\n",
    "  part 2.  "
   ]
  }
 ],
 "metadata": {
  "filename": "exercises.rst",
  "kernelspec": {
   "display_name": "Python",
   "language": "python3",
   "name": "python3"
  },
  "title": "Lecture 22 — Exercises"
 },
 "nbformat": 4,
 "nbformat_minor": 2
}