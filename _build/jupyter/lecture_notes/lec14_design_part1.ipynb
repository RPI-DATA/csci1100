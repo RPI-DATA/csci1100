{
 "cells": [
  {
   "cell_type": "markdown",
   "metadata": {},
   "source": [
    "Notebook created: 2019-07-16 14:30:27  \n",
    "Generated from: jWebsite/lecture_notes/lec14_design_part1.rst  "
   ]
  },
  {
   "cell_type": "markdown",
   "metadata": {},
   "source": [
    "# Lecture 14 — Problem Solving and Design, Part 1"
   ]
  },
  {
   "cell_type": "markdown",
   "metadata": {},
   "source": [
    "## Overview\n",
    "\n",
    "This is the first of our lectures dedicated primarily to problem\n",
    "solving and design rather than on particular programming constructs\n",
    "and techniques\n",
    "\n",
    "- Design:  \n",
    "  - Choice of container/data structure; choice of algorithm.  \n",
    "    - At the moment, we don’t know too many containers, but we will\n",
    "      think about different ways to use the one container - lists -\n",
    "      we do know about.  \n",
    "  - Implementation  \n",
    "  - Testing  \n",
    "  - Debugging  \n",
    "- We will discuss these in the context of several variations on one\n",
    "  problem:  \n",
    "  - Finding the mode in a sequence of values — the value (or values)\n",
    "    occuring most often.  \n",
    "- There is no direct connect to a chapter in the text.  \n",
    "- We will start with a completely blank slate so that the whole process\n",
    "  unfolds from scratch. This includes looking for other code to\n",
    "  adapt.  \n",
    "- Working through problems like this is a good way to review what\n",
    "  we’ve learned thus far.  "
   ]
  },
  {
   "cell_type": "markdown",
   "metadata": {},
   "source": [
    "## Problem: Finding the Mode\n",
    "\n",
    "- Given a series of values, find the one that occurs most often.  \n",
    "- Variation 1: is there a limited, indexable range of values?  \n",
    "  - Examples that are consistent with this variation include test\n",
    "    scores or letters of the alphabet  \n",
    "  - Examples not consistent include counting words and counting amino\n",
    "    acids  \n",
    "- Variation 2: do we want just the modes or do we want to know how many\n",
    "  times each value occurs?  \n",
    "- Variation 3: do we want a histogram where values are grouped?  \n",
    "  - Example: ocean temperature measurements, pixel intensities, income\n",
    "    values.  \n",
    "  - In each of these cases, a specific value, the number of\n",
    "    occurrences of a specific temperature, such as 2.314C, is not really of\n",
    "    interest. More important is the number of temperature values in\n",
    "    certain ranges.  "
   ]
  },
  {
   "cell_type": "markdown",
   "metadata": {},
   "source": [
    "## Our Focus: A Sequence of Numbers\n",
    "\n",
    "- Integers, such as test scores  \n",
    "- Floats, such as temperature measurements  "
   ]
  },
  {
   "cell_type": "markdown",
   "metadata": {},
   "source": [
    "## Sequence of Discussion\n",
    "\n",
    "- Brainstorm ideas for the basic approach. We’ll come with at least\n",
    "  two.  \n",
    "  - We will discuss an additional approach when we learn about\n",
    "    dictionaries.  \n",
    "- Algorithm / implementation  \n",
    "- Testing  \n",
    "  - Generate test cases  \n",
    "  - Which test cases we generate will depend on the choice of\n",
    "    algorithm. We will combine them.  \n",
    "- Debugging:  \n",
    "  - If we find a failed test case, we will need to find the error and\n",
    "    fix it.  \n",
    "  - Use a combination of carefully reading the code, working with a\n",
    "    debugger, and generating print statements.  \n",
    "- Evaluation  \n",
    "  - We can analyze using theoretical tools we will learn about\n",
    "    later or through experimental timing  "
   ]
  },
  {
   "cell_type": "markdown",
   "metadata": {},
   "source": [
    "## Discussion of Variations\n",
    "\n",
    "- Frequency of occurrence:  \n",
    "  - What are the ten most frequently occurring values? What are the\n",
    "    top ten percent most frequent values?  \n",
    "  - Output the occurrences for each value.  \n",
    "- Clusters / histograms:  \n",
    "  - Test scores in each range of 10  \n",
    "- Quantiles: bottom 25% of scores, median, top 25%  "
   ]
  }
 ],
 "metadata": {
  "filename": "lec14_design_part1.rst",
  "kernelspec": {
   "display_name": "Python",
   "language": "python3",
   "name": "python3"
  },
  "title": "Lecture 14 — Problem Solving and Design, Part 1"
 },
 "nbformat": 4,
 "nbformat_minor": 2
}