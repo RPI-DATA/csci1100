{
 "cells": [
  {
   "cell_type": "markdown",
   "metadata": {},
   "source": [
    "Notebook created: 2019-07-16 14:30:27  \n",
    "Generated from: jWebsite/lecture_notes/lec21_sorting_exercises/exercises.rst  "
   ]
  },
  {
   "cell_type": "markdown",
   "metadata": {},
   "source": [
    "# Lecture 21 — Exercises\n",
    "\n",
    "Solutions to the problems below must be sent to Submitty for\n",
    "automatic scoring.  A separate file must submitted for each problem.\n",
    "Solutions must be submitted by 4 pm on Tuesday, December 5.  Download\n",
    "the file `insert_sort_and_merge.zip` from the course Piazza site.\n",
    "\n",
    "1. The file `insert_sort.py` contains an implementation of the\n",
    "  insertion sort algorithm.  It includes `print` function calls.\n",
    "  What are the outputs of these statement?  Submit a text file\n",
    "  showing the output.  \n",
    "1. The file `merge.py` contains an implementation of the\n",
    "`merge` function that is the heart of merge sort.  We only\n",
    "consider `merge` here and not the full sort.  Modify the merge\n",
    "function so that if the same value appears in both lists then only\n",
    "one copy of the value is in the final merged list.  You may assume\n",
    "that each contains no duplicates.  Work within the context of the\n",
    "merge function itself, meaning that you should not use a set and\n",
    "you should not use an extra list.  You need to only change a few\n",
    "lines of code.  \n",
    "For example, if the two lists are  "
   ]
  },
  {
   "cell_type": "code",
   "execution_count": null,
   "metadata": {
    "hide-output": false
   },
   "outputs": [],
   "source": [
    "L1 = [ 2, 7, 9, 12, 17, 18, 22, 25 ]\n",
    "L2 = [ 1, 5, 6, 8, 13, 14, 15, 18, 19, 23, 25 ]"
   ]
  },
  {
   "cell_type": "markdown",
   "metadata": {},
   "source": [
    "Then the result `merge(L1,L2)` should be the list  "
   ]
  },
  {
   "cell_type": "code",
   "execution_count": null,
   "metadata": {
    "hide-output": false
   },
   "outputs": [],
   "source": [
    "[ 1, 2, 5, 6, 7, 8, 9, 12, 13, 14, 15, 17, 18, 19, 22, 23, 25 ]"
   ]
  },
  {
   "cell_type": "markdown",
   "metadata": {},
   "source": [
    "Do not change the name of the function and do not change the name\n",
    "of the file.  On Submitty we will run code that imports\n",
    "`merge.py` and calls the function `merge` passing two lists as\n",
    "arguments.  "
   ]
  }
 ],
 "metadata": {
  "filename": "exercises.rst",
  "kernelspec": {
   "display_name": "Python",
   "language": "python3",
   "name": "python3"
  },
  "title": "Lecture 21 — Exercises"
 },
 "nbformat": 4,
 "nbformat_minor": 2
}