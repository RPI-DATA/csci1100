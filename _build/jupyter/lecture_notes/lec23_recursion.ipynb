{
 "cells": [
  {
   "cell_type": "markdown",
   "metadata": {},
   "source": [
    "Notebook created: 2019-07-16 14:30:28  \n",
    "Generated from: jWebsite/lecture_notes/lec23_recursion.rst  "
   ]
  },
  {
   "cell_type": "markdown",
   "metadata": {},
   "source": [
    "# Lecture 23 — Recursion"
   ]
  },
  {
   "cell_type": "markdown",
   "metadata": {},
   "source": [
    "## Overview\n",
    "\n",
    "- When a function calls itself, it is known as a recursive function.  \n",
    "- Use of the function call stack allows Python to handle recursive\n",
    "  functions correctly.  \n",
    "- Examples include factorial, Fibonacci, greatest common divisor,\n",
    "  flattening a list of lists, and  mergesort.  \n",
    "- We’ll think about how to hand-simulate a recursive function as well\n",
    "  as rules for writing recursive functions.  "
   ]
  },
  {
   "cell_type": "markdown",
   "metadata": {},
   "source": [
    "## Our First Example\n",
    "\n",
    "- Consider the following Python function.  "
   ]
  },
  {
   "cell_type": "code",
   "execution_count": null,
   "metadata": {
    "hide-output": false
   },
   "outputs": [],
   "source": [
    "def blast(n):\n",
    "    if n > 0:\n",
    "        print(n)\n",
    "        blast(n-1)\n",
    "    else:\n",
    "        print(\"Blast off!\")"
   ]
  },
  {
   "cell_type": "markdown",
   "metadata": {},
   "source": [
    "- What is the the output from the call?  "
   ]
  },
  {
   "cell_type": "code",
   "execution_count": null,
   "metadata": {
    "hide-output": false
   },
   "outputs": [],
   "source": [
    "blast(5)"
   ]
  },
  {
   "cell_type": "markdown",
   "metadata": {},
   "source": [
    "\n",
    "\n",
    "## Python’s Call Stack Mechanism\n",
    "\n",
    "The following mechanism helps us understand what is happening:\n",
    "\n",
    "- Each time the code makes a function call, Python puts information on\n",
    "  the “call stack”, including  \n",
    "  - All values of parameters and local variables  \n",
    "  - The location in the code where the function call is being made.  \n",
    "- Python then makes the function call, switching execution to the start\n",
    "  of the called function.  \n",
    "- This function in turn can make additional (potentially recursive)\n",
    "  function calls, adding information to the top of the stack each time.  \n",
    "- When a function ends, Python looks at the top of the stack, and  \n",
    "  - restores the values of the local variables and parameters of the\n",
    "    most recent calling function,  \n",
    "  - removes this information from the top of the stack,  \n",
    "  - inserts the returned value of the called function (if any) in the\n",
    "    appropriate location of the calling function’s code, and  \n",
    "  - continues execution from the location where the call was made.  "
   ]
  },
  {
   "cell_type": "markdown",
   "metadata": {},
   "source": [
    "## Practice Problems to Illustrate This\n",
    "\n",
    "What are the outputs of the following?"
   ]
  },
  {
   "cell_type": "code",
   "execution_count": null,
   "metadata": {
    "hide-output": false
   },
   "outputs": [],
   "source": [
    "def rp1( L, i ):\n",
    "    if i < len(L):\n",
    "        print(L[i], end=' ')\n",
    "        rp1( L, i+1 )\n",
    "    else:\n",
    "        print()\n",
    "\n",
    "def rp2( L, i ):\n",
    "    if i < len(L):\n",
    "        rp2( L, i+1 )\n",
    "        print(L[i], end=' ')\n",
    "    else:\n",
    "        print()\n",
    "\n",
    "L = [ 2, 3, 5, 7, 11 ]\n",
    "rp1(L,0)\n",
    "rp2(L,0)"
   ]
  },
  {
   "cell_type": "markdown",
   "metadata": {},
   "source": [
    "Note that the entirety of list `L` is not copied to the top of the\n",
    "stack. Instead, a reference (an alias) to `L` is placed on the stack."
   ]
  },
  {
   "cell_type": "markdown",
   "metadata": {},
   "source": [
    "## Factorial\n",
    "\n",
    "- The factorial function is  \n",
    "  $$\n",
    "  n! = n (n-1) (n-2) \\cdots 1\n",
    "  $$\n",
    "  and  \n",
    "  $$\n",
    "  0! = 1\n",
    "  $$\n",
    "- This is an imprecise definition because the … is not\n",
    "  formally defined.  \n",
    "- Writing this recursively helps to clear it up:  \n",
    "  $$\n",
    "  n! = n \\cdot (n-1)!\n",
    "  $$\n",
    "  and  \n",
    "  $$\n",
    "  0! = 1\n",
    "  $$\n",
    "  The factorial is now defined in terms of itself, but on a smaller\n",
    "  number!  \n",
    "- Note how this definition now has a recursive part and a non-recursive\n",
    "  part:  \n",
    "  - The non-recursive part is called the *base case*. There must be\n",
    "    *at least* one base case in every recursive function definition.  "
   ]
  },
  {
   "cell_type": "markdown",
   "metadata": {},
   "source": [
    "## Exploring Factorial\n",
    "\n",
    "We will:\n",
    "\n",
    "- Write a recursive Python function to implement $ n! $.  \n",
    "- Hand-simulate the call stack for $ n=4 $.  \n",
    "\n",
    "\n",
    "We’ll add output code to the implementation to help visualize the\n",
    "recursive calls in a different way."
   ]
  },
  {
   "cell_type": "markdown",
   "metadata": {},
   "source": [
    "## Guidelines for Writing Recursive Functions\n",
    "\n",
    "1. Define the problem you are trying to solve in terms of smaller /\n",
    "  simpler instances of the problem. This includes  \n",
    "  1. What needs to happen before making a recursive call?  \n",
    "  1. What recursive call(s) must be made?  \n",
    "  1. What needs to happen to combine or generate results after the\n",
    "    recursive call (or calls) ends?  \n",
    "1. Define the base case or cases.  \n",
    "1. Make sure the code is proceeding toward the base case in every step.  "
   ]
  },
  {
   "cell_type": "markdown",
   "metadata": {},
   "source": [
    "## Fibonacci\n",
    "\n",
    "- The Fibonacci sequence starts with the values 0 and 1.  \n",
    "- Each new value in the sequence is obtained by adding the two previous\n",
    "  values, producing  \n",
    "  $$\n",
    "  0, 1, 1, 2, 3, 5, 8, 13, 21, 34, 55, \\ldots\n",
    "  $$\n",
    "- Recursively, the $ n^\\text{th} $ value, $ f_n $, of the\n",
    "  sequence is defined as  \n",
    "  $$\n",
    "  f_n = f_{n-1} + f_{n-2}\n",
    "  $$\n",
    "- This leads naturally to a recursive function…  "
   ]
  },
  {
   "cell_type": "markdown",
   "metadata": {},
   "source": [
    "## Dangers of Recursion\n",
    "\n",
    "- Some recursive function implementations contain wasteful repeated\n",
    "  computation.  \n",
    "- Recursive function calls — like any function calls — typically\n",
    "  involve hidden overhead costs.  \n",
    "- Often, therefore, a recursive function can (and should) be replaced\n",
    "  with a non-recursive, *iterative* function that is significantly more\n",
    "  efficient.  \n",
    "- This is easy to do for both Factorial and Fibonacci, as we will see\n",
    "  in class.  "
   ]
  },
  {
   "cell_type": "markdown",
   "metadata": {},
   "source": [
    "## Why, Then, Do We Study Recursion?\n",
    "\n",
    "- Many of our definitions and even, our logical structures (such as\n",
    "  lists), are formalized using recursion.  \n",
    "- Sometimes recursive functions are the first ones we come up with and\n",
    "  the easiest to write (at least after you are comfortable with\n",
    "  recursion).  \n",
    "  - Only later do we write non-recursive versions.  \n",
    "- Sometimes on harder problems it is difficult to even write non-recursive\n",
    "  functions!  The list flattening problem below is one such example.  "
   ]
  },
  {
   "cell_type": "markdown",
   "metadata": {},
   "source": [
    "## Advanced Examples\n",
    "\n",
    "We’ll spend the rest of class on three more advanced examples:\n",
    "\n",
    "1. Recursive geometric shapes:  the Sierpinski triangle  \n",
    "1. Flattening a nested list  \n",
    "1. A recursive version of merge sort  "
   ]
  },
  {
   "cell_type": "markdown",
   "metadata": {},
   "source": [
    "## Recursive Geometric Shapes\n",
    "\n",
    "- Fractals are often defined using recursion. How do we draw a\n",
    "  Sierpinski triangle like the one shown below?  \n",
    "  <img src=\"lecture_notes/images/sierpinski.jpg\" style=\"\">\n",
    "  \n",
    "- We will look at this example in class and attempt to define the\n",
    "  recursion.  \n",
    "- To aid us, we’ll look at a Tkinter Python program that implements\n",
    "  the drawing of the Sierpinski triangle.  "
   ]
  },
  {
   "cell_type": "markdown",
   "metadata": {},
   "source": [
    "## Flattening a Nested List\n",
    "\n",
    "- Suppose we want to take a list such as  "
   ]
  },
  {
   "cell_type": "code",
   "execution_count": null,
   "metadata": {
    "hide-output": false
   },
   "outputs": [],
   "source": [
    "v = [[1,5], 6, [[2]], [3, [7, 8, [9,10], [11,12] ]]]"
   ]
  },
  {
   "cell_type": "markdown",
   "metadata": {},
   "source": [
    "and “flatten” it, converting it to just a list of values with no sublists.  "
   ]
  },
  {
   "cell_type": "code",
   "execution_count": null,
   "metadata": {
    "hide-output": false
   },
   "outputs": [],
   "source": [
    "v = [ 1, 5, 6, 2, 3, 7, 8, 9, 10, 11, 12 ]"
   ]
  },
  {
   "cell_type": "markdown",
   "metadata": {},
   "source": [
    "- This is challenging because we don’t know when we write a function\n",
    "  to solve this problem how “deep” the nesting of\n",
    "  sublists goes.  The solution should handle arbitrary depths:  \n",
    "  - Many, many data structures (containers) in computer\n",
    "    science have this type of nested / recursive structure:  an entry\n",
    "    in a list may be another list….  \n",
    "- To solve this problem we will also need to know how to recognize\n",
    "when an entry in a list is another list.  For this we need to use\n",
    "the `type` function in Python.  The following example should make\n",
    "this clear:  "
   ]
  },
  {
   "cell_type": "code",
   "execution_count": null,
   "metadata": {
    "hide-output": false
   },
   "outputs": [],
   "source": [
    ">>> v = [ 'a', 'b', 'c']\n",
    ">>> x = 12\n",
    ">>> type(v) == list\n",
    "True\n",
    ">>> type(v[0]) == list\n",
    "False\n",
    ">>> type(x) == int\n",
    "True"
   ]
  },
  {
   "cell_type": "markdown",
   "metadata": {},
   "source": [
    "- Now we are ready to solve the “flattening” problem.  We’ll look at\n",
    "two different approaches.  In both, the key will be to distinguish\n",
    "between handling elements that are lists (and therefore must be\n",
    "flattened recursively) and elements that are not lists.  We’ll\n",
    "start from…  "
   ]
  },
  {
   "cell_type": "code",
   "execution_count": null,
   "metadata": {
    "hide-output": false
   },
   "outputs": [],
   "source": [
    "def flatten(L):\n",
    "\n",
    "\n",
    "\n",
    "\n",
    "\n",
    "\n",
    "\n",
    "if __name__ == \"__main__\":\n",
    "    v = [[1,5], 6, [[2]], [3, [7, 8, [9,10], [11,12] ]]]\n",
    "    print(v)\n",
    "    print(flatten(v))"
   ]
  },
  {
   "cell_type": "markdown",
   "metadata": {},
   "source": [
    "\n",
    "\n",
    "## Final Example: Merge Sort\n",
    "\n",
    "- The fundamental idea of merge sort is recursive:  \n",
    "  - Any list of length 1 is sorted  \n",
    "  - Otherwise:  \n",
    "    - Split the list in half  \n",
    "    - Recursively sort each half  \n",
    "    - Merge the resulting sorted halves  \n",
    "- We repeat our use of the `merge` function from Lecture 20:  "
   ]
  },
  {
   "cell_type": "code",
   "execution_count": null,
   "metadata": {
    "hide-output": false
   },
   "outputs": [],
   "source": [
    "def merge(L1,L2):\n",
    "    i1 = 0\n",
    "    i2 = 0\n",
    "    L = []\n",
    "    while i1<len(L1) and i2<len(L2):\n",
    "        if L1[i1] < L2[i2]:\n",
    "            L.append(L1[i1])\n",
    "            i1 += 1\n",
    "        else:\n",
    "            L.append(L2[i2])\n",
    "            i2 += 1\n",
    "    L.extend(L1[i1:])\n",
    "    L.extend(L2[i2:])\n",
    "    return L"
   ]
  },
  {
   "cell_type": "markdown",
   "metadata": {},
   "source": [
    "- Using this, we will write the main `merge_sort` function in class.  "
   ]
  },
  {
   "cell_type": "code",
   "execution_count": null,
   "metadata": {
    "hide-output": false
   },
   "outputs": [],
   "source": [
    "def merge_sort(L):"
   ]
  },
  {
   "cell_type": "markdown",
   "metadata": {},
   "source": [
    "- The solution will be posted on-line.  \n",
    "  - We will also see how a minor mistake can cause the recursion to\n",
    "    go into an infinite loop.  \n",
    "- Comparing what we write to our earlier non-recursive version of merge\n",
    "  sort shows that the primary job of the recursion is to organize the\n",
    "  merging process!  "
   ]
  },
  {
   "cell_type": "markdown",
   "metadata": {},
   "source": [
    "## Summary\n",
    "\n",
    "- Functions that call themselves are known as “recursive functions”  \n",
    "- Use of a function call stack allows Python to handle recursive\n",
    "  functions correctly.  \n",
    "- Many structures and functions important to computer science are\n",
    "  defined recursively.  \n",
    "- Fundamentally, recurision is about defining a problem solution as a\n",
    "  function of the solution to a simpler/shorter/smaller version of the\n",
    "  problem.  \n",
    "- A basis case (or cases) is (are) always needed to make a recursion\n",
    "  function succeed.  \n",
    "- Infinite recursion is avoided by ensuring that progress is made toward\n",
    "  the basis case or cases in every recursive call.  \n",
    "- While many recursive functions are easily rewritten to remove the\n",
    "  recursion, some advanced problems are difficult to solve without\n",
    "  recursion.  "
   ]
  },
  {
   "cell_type": "markdown",
   "metadata": {},
   "source": [
    "## Additional Practice Exercises\n",
    "\n",
    "1. Euclid’s algorithm for finding the greatest common divisor is one of\n",
    "the oldest known algorithms. If $ a $ and $ b $ are positive\n",
    "integers, with $ a \\geq b $, then let $ r $ be the remainder\n",
    "of dividing $ a $ by $ b $. If $ r == 0 $, then $ b $\n",
    "is the GCD of the two integers. Otherwise, the GCD of $ a $ and\n",
    "$ b $ equals the GCD of $ b $ and $ r $. Here is the\n",
    "Python code:  "
   ]
  },
  {
   "cell_type": "code",
   "execution_count": null,
   "metadata": {
    "hide-output": false
   },
   "outputs": [],
   "source": [
    "def gcd(a,b):\n",
    "    if a < b:\n",
    "        a,b = b,a\n",
    "\n",
    "    r = a % b\n",
    "    if r==0:\n",
    "        return b\n",
    "    else:\n",
    "        return gcd(b,r)"
   ]
  },
  {
   "cell_type": "markdown",
   "metadata": {},
   "source": [
    "1. What is the output of  "
   ]
  },
  {
   "cell_type": "code",
   "execution_count": null,
   "metadata": {
    "hide-output": false
   },
   "outputs": [],
   "source": [
    "print(gcd(36,24))\n",
    "print(gcd(84,65))\n",
    "print(gcd(84,66))"
   ]
  },
  {
   "cell_type": "markdown",
   "metadata": {},
   "source": [
    "1. Why do we know that `gcd` is proceeding toward the base case (as\n",
    "    required by our “rules” of writing recursive functions)?  \n",
    "1. Specify the recursive calls and return values from our `merge_sort`\n",
    "implementation for the list  "
   ]
  },
  {
   "cell_type": "code",
   "execution_count": null,
   "metadata": {
    "hide-output": false
   },
   "outputs": [],
   "source": [
    "L = [ 15, 81, 32, 16, 8, 91, 12 ]"
   ]
  }
 ],
 "metadata": {
  "filename": "lec23_recursion.rst",
  "kernelspec": {
   "display_name": "Python",
   "language": "python3",
   "name": "python3"
  },
  "title": "Lecture 23 — Recursion"
 },
 "nbformat": 4,
 "nbformat_minor": 2
}