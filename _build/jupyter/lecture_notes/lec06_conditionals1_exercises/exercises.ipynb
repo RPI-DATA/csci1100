{
 "cells": [
  {
   "cell_type": "markdown",
   "metadata": {},
   "source": [
    "Notebook created: 2019-07-16 14:30:27  \n",
    "Generated from: jWebsite/lecture_notes/lec06_conditionals1_exercises/exercises.rst  "
   ]
  },
  {
   "cell_type": "markdown",
   "metadata": {},
   "source": [
    "# Lecture 6 — Exercises\n",
    "\n",
    "Solutions to the problems below must be sent to Submitty for grading.\n",
    "A separate file must submitted for each problem.  These must be\n",
    "submitted by 4 pm on Tuesday, February 6th.\n",
    "\n",
    "1. Consider the following boolean expressions:  "
   ]
  },
  {
   "cell_type": "code",
   "execution_count": null,
   "metadata": {
    "hide-output": false
   },
   "outputs": [],
   "source": [
    "a = 1.6\n",
    "b = -1.7\n",
    "c = 15\n",
    "s = 'hi'\n",
    "t = \"good\"\n",
    "u = \"Bye\"\n",
    "v = \"GOOD\"\n",
    "w = \"Bye\"\n",
    "y = 15.1\n",
    "\n",
    "a < b             # A\n",
    "a < abs(b)        # B\n",
    "a >= c            # C\n",
    "s < t             # D\n",
    "t == v            # E\n",
    "u == w            # F\n",
    "b < y             # G"
   ]
  },
  {
   "cell_type": "markdown",
   "metadata": {},
   "source": [
    "Upload a text file to Submitty containing only the labels (A, B, C,\n",
    "etc.) of the lines that evaluate to `True`.  Each line of the\n",
    "uploaded file should contain a single capital letter and the\n",
    "letters should be in alphabetical order.  \n",
    "1. Consider the following boolean expressions:  "
   ]
  },
  {
   "cell_type": "code",
   "execution_count": null,
   "metadata": {
    "hide-output": false
   },
   "outputs": [],
   "source": [
    "x = 15\n",
    "y = -15\n",
    "z = 32\n",
    "x == y and y < z        #A\n",
    "x == y or y < z         #B\n",
    "x == abs(y) and y < z   #C\n",
    "x == abs(y) or y < z    #D\n",
    "not x == abs(y)         #E\n",
    "not x != abs(y)         #F"
   ]
  },
  {
   "cell_type": "markdown",
   "metadata": {},
   "source": [
    "Upload a text file to Submitty containing only the labels (A, B, C,\n",
    "etc.) of the lines that evaluate to `True`.  Each line of the\n",
    "file should contain a single capital letter and the letters should\n",
    "be in alphabetical order.  \n",
    "1. So far we have assumed all input to our programs is correct.  In\n",
    "practice, however, programs must do extensive error checking.  Here\n",
    "is a slightly-contrived problem to illustrate this: Write a short\n",
    "program that asks the user to input two numbers where one of them\n",
    "must be greater than 10 and the other must be less than or equal\n",
    "to 10.  It does not matter which is which.  If both inputs are\n",
    "greater than 10, the program should output the error message “Both\n",
    "are above 10.”  If both are less than or equal 10, the program\n",
    "should output the message “Both are below 10.”  If the one of the\n",
    "numbers is above 10 and the other is less than or equal to 10, no message\n",
    "should be output.  Regardless of any messages, the program should then\n",
    "output the average of\n",
    "the two numbers, accurate to 2 decimals.  This program must use one\n",
    "`if`, one `elif` and **no** `else`.  Note: just like in HW 1, the\n",
    "program should output a value immediately after reading it. Also, if you\n",
    "are having problems matching our output format, explore the difference\n",
    "between the output of the following two lines  "
   ]
  },
  {
   "cell_type": "code",
   "execution_count": null,
   "metadata": {
    "hide-output": false
   },
   "outputs": [],
   "source": [
    "print(\"{:.2f}\".format(112.099))\n",
    "print(round(112.099, 2))"
   ]
  },
  {
   "cell_type": "markdown",
   "metadata": {},
   "source": [
    "Here are two examples of how your program might look when run from\n",
    "the interpreter:  "
   ]
  },
  {
   "cell_type": "code",
   "execution_count": null,
   "metadata": {
    "hide-output": false
   },
   "outputs": [],
   "source": [
    "Enter the first number: 17.1\n",
    "17.1\n",
    "Enter the second number: 13.45\n",
    "13.45\n",
    "Both are above 10.\n",
    "Average is 15.28"
   ]
  },
  {
   "cell_type": "markdown",
   "metadata": {},
   "source": [
    "and  "
   ]
  },
  {
   "cell_type": "code",
   "execution_count": null,
   "metadata": {
    "hide-output": false
   },
   "outputs": [],
   "source": [
    "Enter the first number: 4.7\n",
    "4.7\n",
    "Enter the second number: 15.5\n",
    "15.5\n",
    "Average is 10.1"
   ]
  }
 ],
 "metadata": {
  "filename": "exercises.rst",
  "kernelspec": {
   "display_name": "Python",
   "language": "python3",
   "name": "python3"
  },
  "title": "Lecture 6 — Exercises"
 },
 "nbformat": 4,
 "nbformat_minor": 2
}