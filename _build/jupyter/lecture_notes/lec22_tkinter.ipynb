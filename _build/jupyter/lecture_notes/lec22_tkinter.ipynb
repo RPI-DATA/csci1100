{
 "cells": [
  {
   "cell_type": "markdown",
   "metadata": {},
   "source": [
    "Notebook created: 2019-07-16 14:30:27  \n",
    "Generated from: jWebsite/lecture_notes/lec22_tkinter.rst  "
   ]
  },
  {
   "cell_type": "markdown",
   "metadata": {},
   "source": [
    "# Lecture 22 — TKInter"
   ]
  },
  {
   "cell_type": "markdown",
   "metadata": {},
   "source": [
    "## Last Four Lectures\n",
    "\n",
    "Selection of advanced topics:\n",
    "\n",
    "- Lecture 22:  Graphical user interfaces  \n",
    "- Lecture 23:  Recursion  \n",
    "- Lecture 24:  Functional programming  \n",
    "- Lecture 25:  Course summary; intro to C++  "
   ]
  },
  {
   "cell_type": "markdown",
   "metadata": {},
   "source": [
    "## Overview of Today’s Lecture\n",
    "\n",
    "- We will learn about event driven programming  \n",
    "- We will discuss graphical user interfaces (GUI)  \n",
    "- We will see how to use TkInter implementation for Python\n",
    "  to develop GUIs  "
   ]
  },
  {
   "cell_type": "markdown",
   "metadata": {},
   "source": [
    "## Graphical User Interface\n",
    "\n",
    "- All our programs so far had a terminal based input/output through\n",
    "  Wing. This is the simplest type of user interface: enter some text\n",
    "  and get some output.  \n",
    "- In real life, we rarely use such programs. All Web interfaces and\n",
    "  mobile apps involve elements like buttons, text input fields, radio\n",
    "  buttons.  \n",
    "  This type of a user interface is called a  **graphical user interface**\n",
    "  or GUI.  \n",
    "- Designing a GUI is not a simple matter. It requires one to\n",
    "  understand effective communication of information through visual\n",
    "  interfaces. It is highly recommend you take a class on Visual\n",
    "  Communication or Human Computer Interaction to learn more about\n",
    "  these.  \n",
    "- Many GUI packages will have some default settings that are meant to\n",
    "  help you design interfaces that are at least not awful! So, make sure\n",
    "  you do not override them until you know what you are doing.  "
   ]
  },
  {
   "cell_type": "markdown",
   "metadata": {},
   "source": [
    "## Event Driven Programming\n",
    "\n",
    "- A graphical user interface is designed to do something in response\n",
    "  to an event.  \n",
    "- Example events are:  \n",
    "  - Button push (most popular so far)  \n",
    "  - Selection from a list of options  \n",
    "  - Mouse movement  \n",
    "- The interface usually runs within a main window (often called\n",
    "  root) and listens continuously for events it knows how to process.  \n",
    "  - Hence, a GUI is always in an infinite loop.  \n",
    "  - When an event happens, it executes the function corresponding to\n",
    "    the event and continues to listen.  \n",
    "  - To finish the GUI loop, often an explicit termination command\n",
    "    has to happen.  \n",
    "- TkInter is a Python module implementing the Tk toolkit for building\n",
    "  graphical user interfaces. Other languages also have Tk\n",
    "  implementations.  \n",
    "- **Note:** The most important distinction between regular and event\n",
    "  based programming is that the action corresponding to an event gets\n",
    "  executed in parallel with the rest of the program, it does not\n",
    "  block the execution of functions in response to other events.  "
   ]
  },
  {
   "cell_type": "markdown",
   "metadata": {},
   "source": [
    "## TkInter First Program\n",
    "\n",
    "- Let’s see a very basic program.  "
   ]
  },
  {
   "cell_type": "code",
   "execution_count": null,
   "metadata": {
    "hide-output": false
   },
   "outputs": [],
   "source": [
    "from tkinter import * ### (1)\n",
    "\n",
    "root = Tk()           ### (2)\n",
    "root.mainloop()       ### (3)\n",
    "print(\"Hello\")        ### (4)"
   ]
  },
  {
   "cell_type": "markdown",
   "metadata": {},
   "source": [
    "1. It is common to import everything from Tkinter to make it\n",
    "easy to write GUI programs. Compare this with the following\n",
    "program that does the same exact thing but requires using\n",
    "Tkinter for all calls to the module.  "
   ]
  },
  {
   "cell_type": "code",
   "execution_count": null,
   "metadata": {
    "hide-output": false
   },
   "outputs": [],
   "source": [
    "import tkinter\n",
    "root = tkinter.Tk()\n",
    "root.mainloop()\n",
    "print(\"Hello\")"
   ]
  },
  {
   "cell_type": "markdown",
   "metadata": {},
   "source": [
    "1. We create the main window that the whole application will\n",
    "  run in. This main window has many properties already: it can be\n",
    "  resized and moved like any window on your computer.  \n",
    "1. We tell the main window to run in an infinite loop, until it is\n",
    "    explicitly terminated. In this case, you need to explicitly\n",
    "    click on the upper left corner to close this application. This\n",
    "    generates a “destroy” event, which terminates the main window.  \n",
    "  1. To understand the infinite loop notice that `print \"Hello\"`\n",
    "    command is not executed until the window terminates and the\n",
    "    main loop ends.  "
   ]
  },
  {
   "cell_type": "markdown",
   "metadata": {},
   "source": [
    "## Widgets and Containers\n",
    "\n",
    "- GUIs involve two main types of objects: widgets and containers  \n",
    "- Widgets are objects that have a function and are visible. These\n",
    "  are the main elements of an interface. We will see the following\n",
    "  main widgets:  \n",
    "  - Buttons: can do something when clicked  \n",
    "  - Canvas: you can draw shapes or put shape in them  \n",
    "- There are many other widgets like radio boxes, check boxes, menu of\n",
    "  items, etc. You can learn these as we get comfortable with these two.  \n",
    "- Containers are invisible, but they allow us to group widgets and\n",
    "  arrange them in visual groups. We will see only one type of container\n",
    "  in this lecture:  \n",
    "  - Frames: can contain any of the widgets of the above type  \n",
    "- Containers’ size will grow and shrink to fit the objects contained\n",
    "  within. Containers can contain other containers as well.  "
   ]
  },
  {
   "cell_type": "markdown",
   "metadata": {},
   "source": [
    "## Example use of containers and buttons\n",
    "\n",
    "- Let’s create a first program to create four buttons, put two\n",
    "pairs in one frame, the second pairs in another frame, and then\n",
    "arrange these two frames on top of each other.  "
   ]
  },
  {
   "cell_type": "code",
   "execution_count": null,
   "metadata": {
    "hide-output": false
   },
   "outputs": [],
   "source": [
    "from tkinter import *\n",
    "\n",
    "root = Tk()\n",
    "main_frame = Frame(root)\n",
    "main_frame.pack()\n",
    "\n",
    "top_frame = Frame(main_frame)\n",
    "top_frame.pack(side=TOP)\n",
    "\n",
    "bottom_frame = Frame(main_frame)\n",
    "bottom_frame.pack(side=BOTTOM)\n",
    "\n",
    "button1 = Button(top_frame, text=\"Top 1\")\n",
    "button1.pack(side=LEFT)\n",
    "button2 = Button(top_frame, text=\"Top 2\")\n",
    "button2.pack(side=RIGHT)\n",
    "\n",
    "button3 = Button(bottom_frame, text=\"Bottom 1\")\n",
    "button3.pack(side=LEFT)\n",
    "button4 = Button(bottom_frame, text=\"Bottom 2\")\n",
    "button4.pack(side=RIGHT)\n",
    "\n",
    "root.mainloop()"
   ]
  },
  {
   "cell_type": "markdown",
   "metadata": {},
   "source": [
    "- In the above example, the two frames for containing buttons are\n",
    "  organized inside another frame.  \n",
    "- The organization between widgets is achieved by a strict hierarchy.\n",
    "  Each widget or container has a parent:  \n",
    "    \n",
    "    \n",
    "    \n",
    "    \n",
    "    \n",
    "    \n",
    "    \n",
    "    \n",
    "    \n",
    "    \n",
    "    \n",
    "    \n",
    "    \n",
    "    \n",
    "    \n",
    "    \n",
    "    \n",
    "    \n",
    "  |GUI Element|Parent|\n",
    "  |:-----------:|:-----------:|\n",
    "  |root|None|\n",
    "  |main_frame|root|\n",
    "  |top_frame|main_frame|\n",
    "  |bottom_frame|main_frame|\n",
    "  |button1|top_frame|\n",
    "  |button2|top_frame|\n",
    "  |button3|bottom_frame|\n",
    "  |button4|bottom_frame|\n",
    "- Whenever you create a frame, button, canvas, the first argument is the\n",
    "  parent element.  \n",
    "  - Parent element tells us the placement of the widget, e.g. `button1` is\n",
    "    placed to the left of `top_frame` and `top_frame` is to the top of\n",
    "    `main_frame` and `main_frame` is within the main window of `root`.  \n",
    "  - Parent container’s size is determined as a function of the sizes of\n",
    "    its children. If nothing was put in a container, its size may be zero.  \n",
    "- Pack will make the interface element a part of the GUI, creating them is not\n",
    "  enough. You must attach them to the interface with packing.  \n",
    "- By changing the arguments to `pack()` we can alter the\n",
    "  placement of the buttons and the frames.  "
   ]
  },
  {
   "cell_type": "markdown",
   "metadata": {},
   "source": [
    "## Running tkinter programs using classes\n",
    "\n",
    "- Already our programs are becoming long and so far they don’t really\n",
    "  do anything yet!  What we really want is to have programs\n",
    "  accomplish tasks when a button is pressed (for example).  \n",
    "- As it is generally tricky to pass variables between different\n",
    "  Tkinter events, we often use classes to implement the main Tk\n",
    "  applications.  \n",
    "  The member attributes will help us pass values between\n",
    "  events.  \n",
    "- We will first rewrite the above program using classes as shown\n",
    "below.  "
   ]
  },
  {
   "cell_type": "code",
   "execution_count": null,
   "metadata": {
    "hide-output": false
   },
   "outputs": [],
   "source": [
    "from tkinter import *\n",
    "\n",
    "class MyApp(object):\n",
    "    def __init__(self, parent):\n",
    "        self.main_frame = Frame(parent)\n",
    "        self.main_frame.pack()\n",
    "\n",
    "        self.top_frame = Frame(self.main_frame)\n",
    "        self.top_frame.pack(side=TOP)\n",
    "        self.bottom_frame = Frame(self.main_frame)\n",
    "        self.bottom_frame.pack(side=BOTTOM)\n",
    "\n",
    "        self.button1 = Button(self.top_frame, text=\"Top 1\")\n",
    "        self.button1.pack(side=LEFT)\n",
    "        self.button2 = Button(self.top_frame, text=\"Top 2\")\n",
    "        self.button2.pack(side=RIGHT)\n",
    "        self.button3 = Button(self.bottom_frame, text=\"Bottom 1\")\n",
    "        self.button3.pack(side=LEFT)\n",
    "        self.button4 = Button(self.bottom_frame, text=\"Bottom 2\")\n",
    "        self.button4.pack(side=RIGHT)\n",
    "\n",
    "if __name__ == \"__main__\":\n",
    "    root = Tk()\n",
    "    myapp = MyApp(root)\n",
    "    root.mainloop()"
   ]
  },
  {
   "cell_type": "markdown",
   "metadata": {},
   "source": [
    "- This is the main idea: Any object outside of root is defined within\n",
    "  a class, using root as the parent.  \n",
    "- We can now add functionality to this class that will modify the\n",
    "  widgets.  "
   ]
  },
  {
   "cell_type": "markdown",
   "metadata": {},
   "source": [
    "## Button Click\n",
    "\n",
    "- You track many events in a GUI, but we will not see\n",
    "  them (such as when a specific mouse button, left or right, is\n",
    "  clicked, when it is released, when the cursor is moved, when\n",
    "  something is typed on the keyboard, etc.)  \n",
    "  (Note: The distinction between the\n",
    "  widget that is the GUI button, and the physical button on your\n",
    "  mouse.)  \n",
    "- Command attribute of Button allows you to associate a function name\n",
    "with a button click (in GUI terms this is a combination of two\n",
    "events: left button click and its release).  \n",
    "See the following example:  "
   ]
  },
  {
   "cell_type": "code",
   "execution_count": null,
   "metadata": {
    "hide-output": false
   },
   "outputs": [],
   "source": [
    "self.button = Button(self.bottom_frame, text=\"Quit\", command=self.terminate_program)"
   ]
  },
  {
   "cell_type": "markdown",
   "metadata": {},
   "source": [
    "- The button we generate in this example has a function binding: when it\n",
    "  is clicked, it will call the function called self.terminate_program.  "
   ]
  },
  {
   "cell_type": "markdown",
   "metadata": {},
   "source": [
    "## Example Program with a Button Click\n",
    "\n",
    "- This simple program terminates the program by completely destroying the\n",
    "root window.  "
   ]
  },
  {
   "cell_type": "code",
   "execution_count": null,
   "metadata": {
    "hide-output": false
   },
   "outputs": [],
   "source": [
    "from tkinter import *\n",
    "\n",
    "class MyApp(object):\n",
    "    def __init__(self, parent):\n",
    "        self.parent = parent\n",
    "        self.main_frame = Frame(parent)\n",
    "        self.main_frame.pack()\n",
    "        self.button = Button(self.main_frame, text=\"Quit\", command=self.terminate_program)\n",
    "        self.button.configure(width=12, padx=\"4m\", pady=\"4m\")\n",
    "        self.button.pack()\n",
    "\n",
    "    def terminate_program(self):\n",
    "        self.parent.destroy()\n",
    "\n",
    "if __name__ == \"__main__\":\n",
    "    root = Tk()\n",
    "    myapp = MyApp(root)\n",
    "    root.mainloop()"
   ]
  },
  {
   "cell_type": "markdown",
   "metadata": {},
   "source": [
    "- Here we see the use of classes for two important functions:  \n",
    "  - Keeping track of the root as the parent of all the GUI elements.  \n",
    "  - Defining a function that can access the parent object attached to self and destroy\n",
    "    it by ending the application.  \n",
    "- We also saw that you can control the size of the button by configuring its width. Padding\n",
    "  on x and y allows us to control how the button is placed inside the frame.  "
   ]
  },
  {
   "cell_type": "markdown",
   "metadata": {},
   "source": [
    "## Canvas Widget\n",
    "\n",
    "- This is the last widget we will see today. Canvas is a blank area. You can continuously\n",
    "  draw things in it or put text in it. Here are some basic operations.  \n",
    "- Create canvas:  "
   ]
  },
  {
   "cell_type": "code",
   "execution_count": null,
   "metadata": {
    "hide-output": false
   },
   "outputs": [],
   "source": [
    "canvas = Canvas(parent, height=200, width=200)\n",
    "canvas.pack()"
   ]
  },
  {
   "cell_type": "markdown",
   "metadata": {},
   "source": [
    "- Draw something in a canvas (an oval within the given box coordinates):  "
   ]
  },
  {
   "cell_type": "code",
   "execution_count": null,
   "metadata": {
    "hide-output": false
   },
   "outputs": [],
   "source": [
    "canvas.create_oval((40,40,80,80))"
   ]
  },
  {
   "cell_type": "markdown",
   "metadata": {},
   "source": [
    "- Remember, like Image objects, (0,0) represents the top left corner.  \n",
    "- When you draw multiple things in a canvas, it may not immediately\n",
    "show what you draw and a small delay may be noticed. You can force\n",
    "the canvas to show you what you draw with:  "
   ]
  },
  {
   "cell_type": "code",
   "execution_count": null,
   "metadata": {
    "hide-output": false
   },
   "outputs": [],
   "source": [
    "canvas.update()"
   ]
  },
  {
   "cell_type": "markdown",
   "metadata": {},
   "source": [
    "- You can also draw lines, rectangles and text. See more on:  \n",
    "  [http://effbot.org/tkinterbook/canvas.htm](http://effbot.org/tkinterbook/canvas.htm)  "
   ]
  },
  {
   "cell_type": "markdown",
   "metadata": {},
   "source": [
    "## Timing of GUI Events\n",
    "\n",
    "- Remember, GUI events are triggered when you click a button (or other\n",
    "  events you watch in more sophisticated systems).  \n",
    "- They execute in parallel. If the processing of an event takes some\n",
    "  time, it may overlap with another event.  \n",
    "- Sometimes drawing events are too fast for the eye to see the progress.\n",
    "You can incorporate some delays to make this more pleasing to the eye.  "
   ]
  },
  {
   "cell_type": "code",
   "execution_count": null,
   "metadata": {
    "hide-output": false
   },
   "outputs": [],
   "source": [
    "canvas.after(waittime)"
   ]
  },
  {
   "cell_type": "markdown",
   "metadata": {},
   "source": [
    "which will add a small delay waittime to the program.  \n",
    "- Note that after and update functions apply to many other GUI elements.\n",
    "  Mastering them will help you get the exact timing effect from your interface.  "
   ]
  },
  {
   "cell_type": "markdown",
   "metadata": {},
   "source": [
    "## Final Program\n",
    "\n",
    "- Here is a final program to put together a lot of the things we learned. It\n",
    "features a private class method (new_button) that is only accessible\n",
    "to the __init__ function. It shows how functions can be used to automate\n",
    "repetitive tasks.  "
   ]
  },
  {
   "cell_type": "code",
   "execution_count": null,
   "metadata": {
    "hide-output": false
   },
   "outputs": [],
   "source": [
    "from tkinter import *\n",
    "\n",
    "class MyApp(object):\n",
    "    def __init__(self, parent):\n",
    "        ## This method is internal to the initializer method\n",
    "        ## and is used for creating buttons. It shortens the program code\n",
    "        def new_button(parent, cmd, buttontext, packlocation):\n",
    "            button = Button(parent, command=cmd)\n",
    "            button.configure(text=buttontext)\n",
    "            button.configure(width=button_width,\n",
    "                  padx=button_padx, pady=button_pady )\n",
    "            button.pack(side=packlocation)\n",
    "            return button\n",
    "\n",
    "        #------ constants for controlling layout ------\n",
    "        button_width = 10\n",
    "        button_padx = \"2m\"\n",
    "        button_pady = \"1m\"\n",
    "        buttons_frame_padx =  \"3m\"\n",
    "        buttons_frame_pady =  \"2m\"\n",
    "        buttons_frame_ipadx = \"3m\"\n",
    "        buttons_frame_ipady = \"1m\"\n",
    "        # -------------- end constants ----------------\n",
    "\n",
    "        #---------variables for controlling the function-----\n",
    "        self.canvas_dimension = 600 ##Canvas will be a square\n",
    "        self.wait_time = 8\n",
    "        self.repetitions = 2\n",
    "        #----------end of variables--------------------------\n",
    "\n",
    "        self.myParent = parent\n",
    "        self.main_frame = Frame(parent)\n",
    "        self.main_frame.pack ()\n",
    "\n",
    "        ## Two frames inside the main frame, one for the canvas\n",
    "        ## on top and the second one for buttons in the bottom\n",
    "        self.draw_frame = Frame(self.main_frame)\n",
    "        self.draw_frame.pack(side=TOP)\n",
    "\n",
    "        self.info_canvas = Canvas(self.draw_frame, height=20,\n",
    "                                   width=self.canvas_dimension)\n",
    "        self.info_canvas.pack(side=TOP)\n",
    "        self.text_area = self.info_canvas.create_text(10,10,anchor='nw')\n",
    "        self.info_canvas.itemconfigure(self.text_area,text=\"#circles = {:d}\".format(self.repetitions))\n",
    "\n",
    "        self.main_canvas = Canvas(self.draw_frame, \\\n",
    "                                  height=self.canvas_dimension,\n",
    "                                  width=self.canvas_dimension)\n",
    "        self.main_canvas.pack()\n",
    "\n",
    "        self.button_frame = Frame(self.main_frame)\n",
    "        self.button_frame.pack(side=BOTTOM)\n",
    "\n",
    "        self.draw_button = new_button(self.button_frame,self.draw, 'Draw', LEFT)\n",
    "        self.clear_button = new_button(self.button_frame,self.clear, 'Clear', LEFT)\n",
    "        self.increase_button = new_button(self.button_frame,self.increase, 'Increase', LEFT)\n",
    "        self.reduce_button = new_button(self.button_frame,self.reduce, 'Reduce', LEFT)\n",
    "        self.quit_button = new_button(self.button_frame,self.quit, 'Quit', RIGHT)\n",
    "\n",
    "    def clear(self):\n",
    "        self.main_canvas.delete(\"all\")\n",
    "\n",
    "    def reduce(self):\n",
    "        if self.repetitions > 1:\n",
    "            self.repetitions //= 2\n",
    "        self.put_info()\n",
    "\n",
    "    def increase(self):\n",
    "        if self.repetitions < 200:\n",
    "            self.repetitions *= 2\n",
    "        self.put_info()\n",
    "\n",
    "    def put_info(self):\n",
    "        ## Change the text field in the canvas\n",
    "        self.info_canvas.itemconfigure(self.text_area,text=\"#circles = {:d}\".format(self.repetitions))\n",
    "\n",
    "    def draw(self):\n",
    "        boundary_offset = 2\n",
    "        max_radius = (self.canvas_dimension - 2*boundary_offset) // 2\n",
    "        xc = self.canvas_dimension//2 + boundary_offset\n",
    "        r = max_radius/self.repetitions\n",
    "        inc = r\n",
    "        for i in range(self.repetitions):\n",
    "            self.main_canvas.create_oval((xc-r, xc-r, xc+r, xc+r))\n",
    "            r += inc\n",
    "            self.main_canvas.update() # Actually refresh the drawing on the canvas.\n",
    "            # Pause execution.  This allows the eye to catch up\n",
    "            self.main_canvas.after(self.wait_time)\n",
    "\n",
    "    def quit(self):\n",
    "        self.myParent.destroy()\n",
    "\n",
    "if __name__ == \"__main__\":\n",
    "    root = Tk()\n",
    "    root.title(\"Drawing a circle\") ##Give a title to the program\n",
    "    myapp = MyApp(root)\n",
    "    root.mainloop()"
   ]
  },
  {
   "cell_type": "markdown",
   "metadata": {},
   "source": [
    "\n",
    "\n",
    "## Summary\n",
    "\n",
    "- Graphical user interfaces are event driven. You need to write functions\n",
    "  to initialize the interface and change the interface when events happen.  \n",
    "- The most common events are button clicks, but many others are possible.  \n",
    "- Most GUI elements are visible and are called widgets.  \n",
    "- Widgets are placed in invisible containers like frames to group them together.  \n",
    "- Many containers have built-in methods for placing multiple widgets in a way\n",
    "  that is pleasing to the eye.  \n",
    "- When building an interface, some of the challenges involve making the interface\n",
    "  easy and intuitive to use. Many communications classes concentrate on these\n",
    "  issues.  "
   ]
  }
 ],
 "metadata": {
  "filename": "lec22_tkinter.rst",
  "kernelspec": {
   "display_name": "Python",
   "language": "python3",
   "name": "python3"
  },
  "title": "Lecture 22 — TKInter"
 },
 "nbformat": 4,
 "nbformat_minor": 2
}