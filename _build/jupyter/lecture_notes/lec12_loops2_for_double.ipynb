{
 "cells": [
  {
   "cell_type": "markdown",
   "metadata": {},
   "source": [
    "Notebook created: 2019-07-16 14:30:27  \n",
    "Generated from: jWebsite/lecture_notes/lec12_loops2_for_double.rst  "
   ]
  },
  {
   "cell_type": "markdown",
   "metadata": {},
   "source": [
    "# Lecture 12 — Controlling Loops"
   ]
  },
  {
   "cell_type": "markdown",
   "metadata": {},
   "source": [
    "## Restatement of the Basics\n",
    "\n",
    "- `for` loops tend to have a fixed number of iterations computed at\n",
    "  the start of the loop  \n",
    "- `while` loops tend to have an indefinite termination, determined by\n",
    "  the conditions of the data  \n",
    "- Most Python `for` loops are easily rewritten as `while` loops,\n",
    "  but not vice-versa.  \n",
    "  - In other programming languages, `for` and `while` are almost\n",
    "    interchangeable, at least in principle.  "
   ]
  },
  {
   "cell_type": "markdown",
   "metadata": {},
   "source": [
    "## Overview of Today\n",
    "\n",
    "- Ranges and control of loop iterations  \n",
    "- Nested loops  \n",
    "- Lists of lists  \n",
    "- Contolling loops through `break` and `continue`  \n",
    "\n",
    "\n",
    "Reading: *Practical Programming*, rest of Chapter 9."
   ]
  },
  {
   "cell_type": "markdown",
   "metadata": {},
   "source": [
    "## Part 1: Ranges and For Loops— A Review\n",
    "\n",
    "- A range is a function to generate a sequence of integers:  "
   ]
  },
  {
   "cell_type": "code",
   "execution_count": null,
   "metadata": {
    "hide-output": false
   },
   "outputs": [],
   "source": [
    "for i in range(10):\n",
    "    print(i)"
   ]
  },
  {
   "cell_type": "markdown",
   "metadata": {},
   "source": [
    "outputs the digits 0 through 9 in succession, one per line.  \n",
    "- Remember that this is up to and **not including** the end\n",
    "    value specified!  \n",
    "- A range is not quite a list — instead it generates values for each\n",
    "  successive iteration of a `for` loop.  \n",
    "  - For now we will convert each range to a list as the basis for\n",
    "    studying them.  \n",
    "- If we want to start with something other than 0, we provide two\n",
    "integer values  "
   ]
  },
  {
   "cell_type": "code",
   "execution_count": null,
   "metadata": {
    "hide-output": false
   },
   "outputs": [],
   "source": [
    ">>> list(range(3,8))\n",
    "[3, 4, 5, 6, 7]"
   ]
  },
  {
   "cell_type": "markdown",
   "metadata": {},
   "source": [
    "- With a third integer values we can create increments. For example,  "
   ]
  },
  {
   "cell_type": "code",
   "execution_count": null,
   "metadata": {
    "hide-output": false
   },
   "outputs": [],
   "source": [
    ">>> list(range(4,20,3))\n",
    "[4, 7, 10, 13, 16, 19]"
   ]
  },
  {
   "cell_type": "markdown",
   "metadata": {},
   "source": [
    "starts at 4, increments by 3, stops when 20 is reached or surpassed.  \n",
    "- We can create backwards increments  "
   ]
  },
  {
   "cell_type": "code",
   "execution_count": null,
   "metadata": {
    "hide-output": false
   },
   "outputs": [],
   "source": [
    ">>> list(range(-1, -10, -1))\n",
    "[-1, -2, -3, -4, -5, -6, -7, -8, -9]"
   ]
  },
  {
   "cell_type": "markdown",
   "metadata": {},
   "source": [
    "\n",
    "\n",
    "## Using Ranges in For Loops\n",
    "\n",
    "- We can use the `range` to generate the sequence of loop variable\n",
    "values in a for loop. Our first example is printing the contents of\n",
    "the `planets` list  "
   ]
  },
  {
   "cell_type": "code",
   "execution_count": null,
   "metadata": {
    "hide-output": false
   },
   "outputs": [],
   "source": [
    "planets = [ 'Mercury', 'Venus', 'Earth', 'Mars', 'Jupiter',\n",
    "    'Saturn', 'Uranus', 'Neptune', 'Pluto' ]\n",
    "for i in range(len(planets)):\n",
    "    print(planets[i])"
   ]
  },
  {
   "cell_type": "markdown",
   "metadata": {},
   "source": [
    "(In this case we don’t need a index variable - we can just iterate\n",
    "over the values in the list.)  \n",
    "- The variable `i` is variously known as the *index* or the *loop*\n",
    "  index variable or the subscript.  \n",
    "- We will modify the loop in class to do the following:  \n",
    "  - Print the indices of the planets (starting at 1!)  \n",
    "  - Print the planets backward.  \n",
    "  - Print every other planet.  "
   ]
  },
  {
   "cell_type": "markdown",
   "metadata": {},
   "source": [
    "## Loops That Do Not Iterate Over All Indices\n",
    "\n",
    "- Sometimes the loop index should not go over the entire range of\n",
    "  indices, and we need to think about where to stop it *early*, as the\n",
    "  next example shows.  \n",
    "- Example: Returning to our example from Lecture 1, we will briefly\n",
    "re-examine our solution to the following problem: Given a string,\n",
    "how can we write a function that decides if it has three\n",
    "consecutive double letters?  "
   ]
  },
  {
   "cell_type": "code",
   "execution_count": null,
   "metadata": {
    "hide-output": false
   },
   "outputs": [],
   "source": [
    "def has_three_doubles(s):\n",
    "    for i in range(0, len(s)-5):\n",
    "        if s[i] == s[i+1] and s[i+2] == s[i+3] and s[i+4] == s[i+5]:\n",
    "            return True\n",
    "    return False"
   ]
  },
  {
   "cell_type": "markdown",
   "metadata": {},
   "source": [
    "- We have to think carefully about where to start our looping and\n",
    "  where to stop!  \n",
    "- Refer back to Lecture 10 for further examples  "
   ]
  },
  {
   "cell_type": "markdown",
   "metadata": {},
   "source": [
    "## Part 1 Practice\n",
    "\n",
    "We will only go over a few of these in class, but you should be sure\n",
    "you can handle all of them\n",
    "\n",
    "1. Generate a range for the positive integers less than 100. Use this to\n",
    "  calculate the sum of these values, with and without (i.e. use\n",
    "  `sum`) a for loop.  \n",
    "1. Use a range and a for loop to print the positive, even numbers less than the\n",
    "  integer value associated with `n`.  \n",
    "1. Suppose we want a list of the squares of the digits 0..9. The\n",
    "following does NOT work  "
   ]
  },
  {
   "cell_type": "code",
   "execution_count": null,
   "metadata": {
    "hide-output": false
   },
   "outputs": [],
   "source": [
    "squares = list(range(10))\n",
    "for s in squares:\n",
    "    s = s*s"
   ]
  },
  {
   "cell_type": "markdown",
   "metadata": {},
   "source": [
    "Why not? Write a different for loop that uses indexing into the\n",
    "`squares` list to accomplish our goal.  \n",
    "1. The following code for finding out if a word has two consecutive\n",
    "double letters is wrong. Why? When, specifically, does it fail?  "
   ]
  },
  {
   "cell_type": "code",
   "execution_count": null,
   "metadata": {
    "hide-output": false
   },
   "outputs": [],
   "source": [
    "def has_two_doubles(s):\n",
    "    for i in range(0, len(s)-5):\n",
    "        if s[i] == s[i+1] and s[i+2] == s[i+3]:\n",
    "            return True\n",
    "    return False"
   ]
  },
  {
   "cell_type": "markdown",
   "metadata": {},
   "source": [
    "\n",
    "\n",
    "## Part 2: Nested Loops\n",
    "\n",
    "- Some problems require *iterating* over either  \n",
    "  - two dimensions of data, or  \n",
    "  - all pairs of values from a list  \n",
    "- As an example, here is code to print all of the products of digits:  "
   ]
  },
  {
   "cell_type": "code",
   "execution_count": null,
   "metadata": {
    "hide-output": false
   },
   "outputs": [],
   "source": [
    "digits = range(10)\n",
    "for i in digits:\n",
    "    for j in digits:\n",
    "        print(\"{} x {} = {}\".format(i,j,i*j))"
   ]
  },
  {
   "cell_type": "markdown",
   "metadata": {},
   "source": [
    "- How does this work?  \n",
    "  - for each value of `i` the variable in the first, or “outer”,\n",
    "    loop, Python executes the *entire* second, or `inner`, loop  \n",
    "  - Importantly, `i` stays fixed during the entire inner loop.  \n",
    "- We will look at finding the two closest points in a list.  "
   ]
  },
  {
   "cell_type": "markdown",
   "metadata": {},
   "source": [
    "## Example: Finding the Two Closest Points\n",
    "\n",
    "- Suppose we are given a list of point locations in two dimensions,\n",
    "where each point is a tuple. For example,  "
   ]
  },
  {
   "cell_type": "code",
   "execution_count": null,
   "metadata": {
    "hide-output": false
   },
   "outputs": [],
   "source": [
    "points = [ (1,5), (13.5, 9), (10, 5), (8, 2), (16,3) ]"
   ]
  },
  {
   "cell_type": "markdown",
   "metadata": {},
   "source": [
    "- Our problem is to find the two points that are closest to each\n",
    "  other.  \n",
    "  - We started working on a slightly simpler version of this problem\n",
    "    at the end of Lecture 10.  \n",
    "- The natural idea is to compute the distance between any two points\n",
    "  and find the minimum.  \n",
    "  - We can do this with and without using a list of distances.  \n",
    "- Let’s work through the approach to this and post the result on the\n",
    "  course website.  "
   ]
  },
  {
   "cell_type": "markdown",
   "metadata": {},
   "source": [
    "## Part 3:  Lists of Lists\n",
    "\n",
    "- In programming you often must deal with data much more complicated\n",
    "than a single list.  For example, we might have a list of lists, where\n",
    "each list might be temperature (or pH) measurements at one location of\n",
    "a study site:  "
   ]
  },
  {
   "cell_type": "code",
   "execution_count": null,
   "metadata": {
    "hide-output": false
   },
   "outputs": [],
   "source": [
    "temps_at_sites = [ [ 12.12, 13.25, 11.17, 10.4],\n",
    "                   [ 22.1, 29.3, 25.3, 20.2, 26.4, 24.3 ],\n",
    "                   [ 18.3, 17.9, 24.3, 27.2, 21.7, 22.2 ],\n",
    "                   [ 12.4, 12.5, 12.14, 14.4, 15.2 ] ]"
   ]
  },
  {
   "cell_type": "markdown",
   "metadata": {},
   "source": [
    "- Here is code to find the site with the maximum average\n",
    "temperature; note that no indices are used.  "
   ]
  },
  {
   "cell_type": "code",
   "execution_count": null,
   "metadata": {
    "hide-output": false
   },
   "outputs": [],
   "source": [
    "averages = []\n",
    "for site in temps_at_sites:\n",
    "    avg = sum(site) / len(site)\n",
    "    averages.append(avg)\n",
    "\n",
    "max_avg = max(averages)\n",
    "max_index = averages.index(max_avg)\n",
    "print(\"Maximum average of {:.2f} occurs at site {}\".format(max_avg, max_index))"
   ]
  },
  {
   "cell_type": "markdown",
   "metadata": {},
   "source": [
    "- Notes:  \n",
    "  - for loop variable `site` is an **alias** for each successive\n",
    "    list in `temps_at_sites`  \n",
    "  - A separate list is created to store the computed averages  \n",
    "  - We will see in class how this would be written without the\n",
    "    separate `averages` list.  "
   ]
  },
  {
   "cell_type": "markdown",
   "metadata": {},
   "source": [
    "## Part 4: Controlling Execution of Loops\n",
    "\n",
    "- We can control loops through use of  \n",
    "  - `break`  \n",
    "  - `continue`  \n",
    "- We need to be careful to avoid infinite loops  "
   ]
  },
  {
   "cell_type": "markdown",
   "metadata": {},
   "source": [
    "## Using a Break\n",
    "\n",
    "- We can terminate a loop immediately upon seeing the 0 using\n",
    "Python’s `break`:  "
   ]
  },
  {
   "cell_type": "code",
   "execution_count": null,
   "metadata": {
    "hide-output": false
   },
   "outputs": [],
   "source": [
    "sum = 0\n",
    "while True:\n",
    "    x = int(input(\"Enter an integer to add (0 to end) ==> \"))\n",
    "    if x == 0:\n",
    "        break\n",
    "    sum += x\n",
    "\n",
    "print(sum)"
   ]
  },
  {
   "cell_type": "markdown",
   "metadata": {},
   "source": [
    "- `break` sends the flow of control immediately to the first line of code\n",
    "  outside the current loop, and  \n",
    "- The while condition of `True` essentially means that the only way\n",
    "  to stop the loop is when the condition that triggers the `break` is\n",
    "  met.  "
   ]
  },
  {
   "cell_type": "markdown",
   "metadata": {},
   "source": [
    "## Continue: Skipping the Rest of a Loop Iteration\n",
    "\n",
    "- Suppose we want to skip over negative entries in a list. We can do\n",
    "this by telling Python to `continue` when it the loop variable,\n",
    "taken from the list, is negative:  "
   ]
  },
  {
   "cell_type": "code",
   "execution_count": null,
   "metadata": {
    "hide-output": false
   },
   "outputs": [],
   "source": [
    "for item in mylist:\n",
    "    if item < 0:\n",
    "        continue\n",
    "    print(item)"
   ]
  },
  {
   "cell_type": "markdown",
   "metadata": {},
   "source": [
    "- When it sees `continue`, Python immediate goes back to the “top”\n",
    "  of the loop, skipping the rest of the code, and initiates the next\n",
    "  iteration of the loop with a new value for `item`.  \n",
    "- Any loop that uses `break` or `continue` can be rewritten\n",
    "  without either of these.  \n",
    "  - Therefore, we choose to use them only if they make our code\n",
    "    clearer.  \n",
    "  - A loop with more than one `continue` or `break` is rarely\n",
    "    well-structured, so if you find that you have written such a\n",
    "    loop you should stop and rewrite your code.  \n",
    "- The example above, while illustrative, is probably better without\n",
    "  the `continue`.  \n",
    "  - Usually when we use `continue` the rest of the loop is\n",
    "    relative long. The condition that triggers the `continue` is\n",
    "    tested at or near the top of the loop.  "
   ]
  },
  {
   "cell_type": "markdown",
   "metadata": {},
   "source": [
    "## Termination of a While Loop\n",
    "\n",
    "- When working with a while loop one always needs to ensure that the\n",
    "  loop will terminate!  Otherwise we have an *infinite loop*.  \n",
    "- Sometimes it is easy to decide if a loop will terminate.  Sometimes\n",
    "  it is not.  \n",
    "- Do either of the following examples cause an infinite loop?  "
   ]
  },
  {
   "cell_type": "code",
   "execution_count": null,
   "metadata": {
    "hide-output": false
   },
   "outputs": [],
   "source": [
    "import math\n",
    "x = float(input(\"Enter a positive number -> \"))\n",
    "while x > 1:\n",
    "    x = math.sqrt(x)\n",
    "    print(x, flush=True)"
   ]
  },
  {
   "cell_type": "code",
   "execution_count": null,
   "metadata": {
    "hide-output": false
   },
   "outputs": [],
   "source": [
    "import math\n",
    "x = float(input(\"Enter a positive number -> \"))\n",
    "while x >= 1:\n",
    "    x = math.sqrt(x)\n",
    "    print(x, flush=True)"
   ]
  },
  {
   "cell_type": "markdown",
   "metadata": {},
   "source": [
    "\n",
    "\n",
    "## Summary\n",
    "\n",
    "- `range` is used to generate a sequence of indices in a `for`\n",
    "  loop.  \n",
    "- Nested for loops may be needed to iterate over two dimensions of\n",
    "  data.  \n",
    "- Lists of lists may be used to specify more complex data.  We process\n",
    "  these using a combination of `for` loops, which may need to be\n",
    "  nested, and Python’s built-in functions.  Use of Python’s built-in\n",
    "  functions, as illustrated in the example here in these notes, is\n",
    "  often preferred.  \n",
    "- Loops (either for or while) may be controlled using `continue` to\n",
    "  skip the rest of a loop iteration and using `break` to terminate\n",
    "  the loop altogether.  These should be used sparingly!  "
   ]
  }
 ],
 "metadata": {
  "filename": "lec12_loops2_for_double.rst",
  "kernelspec": {
   "display_name": "Python",
   "language": "python3",
   "name": "python3"
  },
  "title": "Lecture 12 — Controlling Loops"
 },
 "nbformat": 4,
 "nbformat_minor": 2
}