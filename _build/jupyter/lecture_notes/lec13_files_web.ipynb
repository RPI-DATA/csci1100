{
 "cells": [
  {
   "cell_type": "markdown",
   "metadata": {},
   "source": [
    "Notebook created: 2019-07-16 14:30:27  \n",
    "Generated from: jWebsite/lecture_notes/lec13_files_web.rst  "
   ]
  },
  {
   "cell_type": "markdown",
   "metadata": {},
   "source": [
    "# Lecture 13 — Data from Files and Web Pages"
   ]
  },
  {
   "cell_type": "markdown",
   "metadata": {},
   "source": [
    "## Overview\n",
    "\n",
    "- Review of string operations  \n",
    "- Files on your computer  \n",
    "  - Opening and reading files  \n",
    "  - Closing  \n",
    "  - Writing files  \n",
    "- Accessing files across the web  \n",
    "- Parsing basics  \n",
    "- Parsing html  \n",
    "\n",
    "\n",
    "Our discussion is only loosely tied to Chapter 8 of the text."
   ]
  },
  {
   "cell_type": "markdown",
   "metadata": {},
   "source": [
    "## Review — String operations often used in file parsing\n",
    "\n",
    "Let’s review and go over some very common string operations that are\n",
    "particularly useful in parsing files.\n",
    "\n",
    "- Remove characters from the beginning, end or both sides of a\n",
    "string with `lstrip`, `rstrip` and `strip`:  "
   ]
  },
  {
   "cell_type": "code",
   "execution_count": null,
   "metadata": {
    "hide-output": false
   },
   "outputs": [],
   "source": [
    ">>> x = \"red! Let's go red! Go red! Go red!\"\n",
    ">>> x.strip(\"red!\")\n",
    "\" Let's go red! Go red! Go \"\n",
    ">>> x.strip(\"edr!\")\n",
    "\" Let's go red! Go red! Go \"\n",
    ">>> x.lstrip(\"red!\")\n",
    "\" Let's go red! Go red! Go red!\"\n",
    ">>> x.rstrip(\"red!\")\n",
    "\"red! Let's go red! Go red! Go \"\n",
    ">>> \"    Go red!      \".strip()\n",
    "'Go red!'\n",
    ">>> \" \\n   Go red!    \\t  \".strip()\n",
    "'Go red!'\n",
    ">>> \" \\n   Go red!    \\t  \".strip(' ')\n",
    "'\\n   Go red!    \\t'"
   ]
  },
  {
   "cell_type": "markdown",
   "metadata": {},
   "source": [
    "With no arguments, the `strip` functions remove all white space characters.  \n",
    "- Split a string using a delimiter, and get a list of strings. Whitespace\n",
    "is the default delimiter:  "
   ]
  },
  {
   "cell_type": "code",
   "execution_count": null,
   "metadata": {
    "hide-output": false
   },
   "outputs": [],
   "source": [
    ">>> x = \"Let's go red! Let's go red! Go red! Go red!\"\n",
    ">>> x.split()\n",
    "[\"Let's\", 'go', 'red!', \"Let's\", 'go', 'red!', 'Go', 'red!', 'Go', 'red!']\n",
    ">>> x.split(\"!\")\n",
    "[\"Let's go red\", \" Let's go red\", ' Go red', ' Go red', '']\n",
    ">>> x.split(\"red!\")\n",
    "[\"Let's go \", \" Let's go \", ' Go ', ' Go ', '']\n",
    ">>> \"Let's go red! \\n Let's go    red! Go red! \\t Go red!\".split(\" \")\n",
    "[\"Let's\", 'go', 'red!', '\\n', \"Let's\", 'go', '', '', '', 'red!', 'Go', 'red!', '\\t', 'Go', 'red!']\n",
    ">>> \"Let's go red! \\n Let's go    red! Go red! \\t Go red!\".split()\n",
    "[\"Let's\", 'go', 'red!', \"Let's\", 'go', 'red!', 'Go', 'red!', 'Go', 'red!']"
   ]
  },
  {
   "cell_type": "markdown",
   "metadata": {},
   "source": [
    "`split` returns the strings before and after the delimiter string in a\n",
    "list.  \n",
    "- The `find` function returns the first location of a substring in a\n",
    "string, and returns -1 if the substring is not found. You can also\n",
    "optionally give a starting and end point to search from:  "
   ]
  },
  {
   "cell_type": "code",
   "execution_count": null,
   "metadata": {
    "hide-output": false
   },
   "outputs": [],
   "source": [
    ">>> x\n",
    "\"Let's go red! Let's go red! Go red! Go red!\"\n",
    ">>> x.find('red')\n",
    "9\n",
    ">>> x.find('Red')\n",
    "-1\n",
    ">>> x.find(\"edr!\")\n",
    "-1\n",
    ">>> x.find('red',10)\n",
    "23\n",
    ">>> x.find('red',10,12)\n",
    "-1\n",
    ">>> 'red' in x\n",
    "True\n",
    ">>> 'Red' in x\n",
    "False"
   ]
  },
  {
   "cell_type": "markdown",
   "metadata": {},
   "source": [
    "\n",
    "\n",
    "## Opening and Reading Files\n",
    "\n",
    "- On to our main topic….  \n",
    "- Given the name of a file as a string, we can open it to read:  "
   ]
  },
  {
   "cell_type": "code",
   "execution_count": null,
   "metadata": {
    "hide-output": false
   },
   "outputs": [],
   "source": [
    "f = open('abc.txt')"
   ]
  },
  {
   "cell_type": "markdown",
   "metadata": {},
   "source": [
    "This is the same as  "
   ]
  },
  {
   "cell_type": "code",
   "execution_count": null,
   "metadata": {
    "hide-output": false
   },
   "outputs": [],
   "source": [
    "f = open('abc.txt','r')"
   ]
  },
  {
   "cell_type": "markdown",
   "metadata": {},
   "source": [
    "- Variable `f` now “points” to the first line of file `abc.txt`.  \n",
    "  - The `'r'` tells Python we will be reading from this file — this\n",
    "    is the default.  \n",
    "- One way to access contents of a file is by doing so one input line\n",
    "at a time.  In particular,  "
   ]
  },
  {
   "cell_type": "code",
   "execution_count": null,
   "metadata": {
    "hide-output": false
   },
   "outputs": [],
   "source": [
    "line = f.readline()"
   ]
  },
  {
   "cell_type": "markdown",
   "metadata": {},
   "source": [
    "reads in the next line up to and including the end-of-line character,\n",
    "and “advances” `f` to point to the next line of file `abc.txt`.  \n",
    "- By contrast,  "
   ]
  },
  {
   "cell_type": "code",
   "execution_count": null,
   "metadata": {
    "hide-output": false
   },
   "outputs": [],
   "source": [
    "s = f.read()"
   ]
  },
  {
   "cell_type": "markdown",
   "metadata": {},
   "source": [
    "reads the entire **remainder** of the input file as a single string,  \n",
    "- storing the one (big) string in `s`, and  \n",
    "  - advancing `f` to the end of the file!  \n",
    "- When you are at the end of a file, `f.read()` and `f.readline()` will\n",
    "  both return the empty string: `\"\"`.  "
   ]
  },
  {
   "cell_type": "markdown",
   "metadata": {},
   "source": [
    "## Reading the contents of a file\n",
    "\n",
    "- The most common way to read a file is illustrated in the following\n",
    "example that reads each line from a file and prints it on the screen:  "
   ]
  },
  {
   "cell_type": "code",
   "execution_count": null,
   "metadata": {
    "hide-output": false
   },
   "outputs": [],
   "source": [
    "f = open('abc.txt')\n",
    "for line in f:\n",
    "    print(line)"
   ]
  },
  {
   "cell_type": "markdown",
   "metadata": {},
   "source": [
    "(Of course you can replace the call to `print()` with any other\n",
    "  processing code since each `line` is just a string!)  \n",
    "- You can combine the above steps into a single for loop:  "
   ]
  },
  {
   "cell_type": "code",
   "execution_count": null,
   "metadata": {
    "hide-output": false
   },
   "outputs": [],
   "source": [
    "for line in open('abc.txt'):\n",
    "    print(line)"
   ]
  },
  {
   "cell_type": "markdown",
   "metadata": {},
   "source": [
    "\n",
    "\n",
    "## Closing and Reopening Files\n",
    "\n",
    "- The code below opens, reads, closes and reopens a file  "
   ]
  },
  {
   "cell_type": "code",
   "execution_count": null,
   "metadata": {
    "hide-output": false
   },
   "outputs": [],
   "source": [
    "f = open('abc.txt')\n",
    "\n",
    "# Insert whatever code is need to read from the file\n",
    "# and use its contents ...\n",
    "\n",
    "f.close()\n",
    "f = open('abc.txt')"
   ]
  },
  {
   "cell_type": "markdown",
   "metadata": {},
   "source": [
    "- `f` now points again to the beginning of the file.  \n",
    "- This can be used to read the same file multiple times.  "
   ]
  },
  {
   "cell_type": "markdown",
   "metadata": {},
   "source": [
    "## Example: Computing the Average Score\n",
    "\n",
    "- We are given a file that contains a sequence of integers\n",
    "  representing test scores, one score per line.  We need to write a\n",
    "  program that computes the average of these scores.  \n",
    "- Here is one solution  "
   ]
  },
  {
   "cell_type": "code",
   "execution_count": null,
   "metadata": {
    "hide-output": false
   },
   "outputs": [],
   "source": [
    "file_name = input(\"Enter the name of the scores file: \")\n",
    "file_name = file_name.strip()    # Elminate extra white space that the user may have typed\n",
    "print(file_name)\n",
    "\n",
    "num_scores = 0\n",
    "sum_scores = 0\n",
    "for s in open(file_name):\n",
    "    sum_scores += int(s)\n",
    "    num_scores += 1\n",
    "\n",
    "print(\"Average score is {:.1f}\".format( sum_scores / num_scores ))"
   ]
  },
  {
   "cell_type": "markdown",
   "metadata": {},
   "source": [
    "- In class we will discuss:  \n",
    "  - Getting the file name from the user  \n",
    "  - The importance of using `strip`  \n",
    "  - The rest of the program.  "
   ]
  },
  {
   "cell_type": "markdown",
   "metadata": {},
   "source": [
    "## Writing to a File\n",
    "\n",
    "- In order to write to a file we must first open it and associate it\n",
    "with a file variable, e.g.  "
   ]
  },
  {
   "cell_type": "code",
   "execution_count": null,
   "metadata": {
    "hide-output": false
   },
   "outputs": [],
   "source": [
    "f_out = open(\"outfile.txt\",\"w\")"
   ]
  },
  {
   "cell_type": "markdown",
   "metadata": {},
   "source": [
    "- The `\"w\"` signifies *write mode* which causes Python to completely\n",
    "  delete the previous contents of `outfile.txt` (if the file\n",
    "  previously existed).  \n",
    "- It is also possible to use *append mode*:  "
   ]
  },
  {
   "cell_type": "code",
   "execution_count": null,
   "metadata": {
    "hide-output": false
   },
   "outputs": [],
   "source": [
    "f_out = open(\"outfile.txt\",\"a\")"
   ]
  },
  {
   "cell_type": "markdown",
   "metadata": {},
   "source": [
    "which means that the contents of `outfile.txt` are kept and new\n",
    "output is added to the end of the file.  \n",
    "- Write mode is much more common than append mode.  \n",
    "- To actually write to a file, we use the `write` method:  "
   ]
  },
  {
   "cell_type": "code",
   "execution_count": null,
   "metadata": {
    "hide-output": false
   },
   "outputs": [],
   "source": [
    "f_out.write(\"Hello world!\\n\")"
   ]
  },
  {
   "cell_type": "markdown",
   "metadata": {},
   "source": [
    "- Each call to `write` passes only a **single string**.  \n",
    "- Unlike what happens when using `print`, spacing and newline\n",
    "    characters are required explicitly  \n",
    "  - You can use the `format` method of each string before you\n",
    "    print it.  \n",
    "- You must close the files you write! Otherwise, the changes you made\n",
    "will not be recorded!  "
   ]
  },
  {
   "cell_type": "code",
   "execution_count": null,
   "metadata": {
    "hide-output": false
   },
   "outputs": [],
   "source": [
    "f_out.close()"
   ]
  },
  {
   "cell_type": "markdown",
   "metadata": {},
   "source": [
    "\n",
    "\n",
    "## Lecture Exercise 1:\n",
    "\n",
    "You will have a few minutes to work on the first lecture exercise."
   ]
  },
  {
   "cell_type": "markdown",
   "metadata": {},
   "source": [
    "## Opening Static Web Pages\n",
    "\n",
    "- We can use the `urllib` module to access web pages.  \n",
    "- We did this with our very first “real” example:  "
   ]
  },
  {
   "cell_type": "code",
   "execution_count": null,
   "metadata": {
    "hide-output": false
   },
   "outputs": [],
   "source": [
    "import urllib.request\n",
    "word_url = 'http://www.greenteapress.com/thinkpython/code/words.txt'\n",
    "word_file = urllib.request.urlopen(word_url)"
   ]
  },
  {
   "cell_type": "markdown",
   "metadata": {},
   "source": [
    "- Once we have `words_file` we can use the `read`, `readline`,\n",
    "  and `close` methods just like we did with “ordinary” files.  \n",
    "- When the web page is dynamic, we usually need to work through a\n",
    "  separate API (application program interface) to access the contents\n",
    "  of the web site.  "
   ]
  },
  {
   "cell_type": "markdown",
   "metadata": {},
   "source": [
    "## Parsing\n",
    "\n",
    "- Before writing code to read a data file or to read the contents of a\n",
    "  web page, we must know the format of the data in the file.  \n",
    "- The work of reading a data file or a web page is referred to as\n",
    "  *parsing*.  \n",
    "- Files can be of a fixed well-known format  \n",
    "  - Python code  \n",
    "  - C++ code  \n",
    "  - HTML (HyperText Markup Language, used in all web pages)  \n",
    "  - JSON (Javascript Object Notation, a common data exchange format)  \n",
    "  - RDF (resource description framework)  \n",
    "- Often there is a parser module for these formats that you can\n",
    "  simply use instead of implementing them from scratch.  \n",
    "- For code, parsers check for syntax errors.  "
   ]
  },
  {
   "cell_type": "markdown",
   "metadata": {},
   "source": [
    "## Short tour of data formats\n",
    "\n",
    "- Python code:  \n",
    "  - Each statement is on a separate line  \n",
    "  - Changes in indentation are used to indicate entry/exit to blocks\n",
    "    of code, e.g. within `def`, `for`, `if`, `while`…  \n",
    "- HTML: Basic structure is a mix of text with commands that are\n",
    "inside “tags”  `< ... >`.  \n",
    "Example:  "
   ]
  },
  {
   "cell_type": "code",
   "execution_count": null,
   "metadata": {
    "hide-output": false
   },
   "outputs": [],
   "source": [
    "<html>\n",
    "   <head>\n",
    "      <title>HTML example for CSCI-100</title>\n",
    "   </head>\n",
    "   <body>\n",
    "      This is a page about <a href=\"http://python.org\">Python</a>.\n",
    "      It contains links and other information.\n",
    "   </body>\n",
    "</html>"
   ]
  },
  {
   "cell_type": "markdown",
   "metadata": {},
   "source": [
    "- Despite the clean formatting of this example, html is in fact\n",
    "free-form, so that, for example, the following produces exactly the\n",
    "same web page:  "
   ]
  },
  {
   "cell_type": "code",
   "execution_count": null,
   "metadata": {
    "hide-output": false
   },
   "outputs": [],
   "source": [
    "<html><head><title>HTML   example for CSCI-100</title>\n",
    "</head> <body> This is a page about <a\n",
    "href=\"http://python.org\">Python</a>.  It contains   links\n",
    "and other   information. </body> </html>"
   ]
  },
  {
   "cell_type": "markdown",
   "metadata": {},
   "source": [
    "- JSON: used often with Python in many Web based APIs:  "
   ]
  },
  {
   "cell_type": "code",
   "execution_count": null,
   "metadata": {
    "hide-output": false
   },
   "outputs": [],
   "source": [
    "{\n",
    "   \"class_name\": \"CSCI 1100\"\n",
    "   , \"lab_sections\" : [\n",
    "          { \"name\": \"Section 01\"\n",
    "             , \"scheduled\": \"T 10AM-12PM\"\n",
    "             , \"location\": \"Sage 2704\"\n",
    "          }\n",
    "          , { \"name\": \"Section 02\"\n",
    "             , \"scheduled\": \"T 12PM-2PM\"\n",
    "             , \"location\": \"Sage 2112\"\n",
    "          } ]\n",
    "\n",
    " }"
   ]
  },
  {
   "cell_type": "markdown",
   "metadata": {},
   "source": [
    "Similar to HTML, spaces do not matter.  \n",
    "- Json is a simple module for converting between a string in\n",
    "JSON format and a Python variable:  "
   ]
  },
  {
   "cell_type": "code",
   "execution_count": null,
   "metadata": {
    "hide-output": false
   },
   "outputs": [],
   "source": [
    ">>> import json\n",
    ">>> x = ' [ \"a\", [ \"b\", 3 ] ] '\n",
    ">>> json.loads(x)\n",
    "['a', ['b', 3]]"
   ]
  },
  {
   "cell_type": "markdown",
   "metadata": {},
   "source": [
    "\n",
    "\n",
    "## Parsing ad-hoc data formats - Regular tabular data\n",
    "\n",
    "We will examine some simple formats that you have already seen in\n",
    "various homeworks.\n",
    "\n",
    "- Parsing files with fixed format in each line, delimited by a\n",
    "character  \n",
    "Often used: comma (csv), tab or space  \n",
    "- One example is a file of comma separated values, Each line has a label of a soup type and\n",
    "a number of cans we have available:  "
   ]
  },
  {
   "cell_type": "code",
   "execution_count": null,
   "metadata": {
    "hide-output": false
   },
   "outputs": [],
   "source": [
    "chicken noodle, 2\n",
    "clam chowder, 3"
   ]
  },
  {
   "cell_type": "markdown",
   "metadata": {},
   "source": [
    "- Here is pseudo code for processing such files:  "
   ]
  },
  {
   "cell_type": "code",
   "execution_count": null,
   "metadata": {
    "hide-output": false
   },
   "outputs": [],
   "source": [
    "for each line of the file\n",
    "  split into a list using the separator\n",
    "  process the entries of the list into the desired form"
   ]
  },
  {
   "cell_type": "markdown",
   "metadata": {},
   "source": [
    "- **Practice Problem:** write a simple parser for the soup list that returns a\n",
    "list of the form:  "
   ]
  },
  {
   "cell_type": "code",
   "execution_count": null,
   "metadata": {
    "hide-output": false
   },
   "outputs": [],
   "source": [
    "[\"chicken noodle\", \"chicken noodle\", \"clam chowder\", \"clam chowder\", \"clam chowder\"]"
   ]
  },
  {
   "cell_type": "markdown",
   "metadata": {},
   "source": [
    "\n",
    "\n",
    "## Parsing ad-hoc data formats - Irregular tabular data\n",
    "\n",
    "- Parsing files with one line per row of information, different\n",
    "columns containing unknown amount of information separated with a\n",
    "secondary delimiter  \n",
    "- Example: Yelp data with the name of a restaurant, the lattitude,\n",
    "  the longitude, the address, the URL, and a sequence of reviews  \n",
    "  Meka’s Lounge|42.74|-73.69|407 River Street+Troy, NY 12180|http://www.yelp.com/biz/mekas-lounge-troy|Bars|5|2|4|4|3|4|5  \n",
    "Information after column 5 are all reviews  \n",
    "The address field is separated with a plus sign  \n",
    "Pseudo code:  "
   ]
  },
  {
   "cell_type": "code",
   "execution_count": null,
   "metadata": {
    "hide-output": false
   },
   "outputs": [],
   "source": [
    "for each line of the file\n",
    "    split using the separator\n",
    "    split the entry with secondary separator\n",
    "    for each value in the column\n",
    "        handle value"
   ]
  },
  {
   "cell_type": "markdown",
   "metadata": {},
   "source": [
    "- **Practice Problem:** Write a function that returns a list of lists for a file\n",
    "  containing Yelp data.  Each list should contain the name of the\n",
    "  restaurant and the average review.  "
   ]
  },
  {
   "cell_type": "markdown",
   "metadata": {},
   "source": [
    "## Summary\n",
    "\n",
    "- You should now have enough information to easily write code to open,\n",
    "  read, write and close files on local computers.  \n",
    "- Once text (or HTML) files found on the web are opened, the same\n",
    "  reading methods apply just as though the files were local. Binary\n",
    "  files such as images require special modules.  \n",
    "- Parsing a file requires understanding its format, which is, in a\n",
    "  sense, the “language” in which it is written.  \n",
    "- You will practice with file reading and writing in future labs and\n",
    "  homework assignments.  "
   ]
  }
 ],
 "metadata": {
  "filename": "lec13_files_web.rst",
  "kernelspec": {
   "display_name": "Python",
   "language": "python3",
   "name": "python3"
  },
  "title": "Lecture 13 — Data from Files and Web Pages"
 },
 "nbformat": 4,
 "nbformat_minor": 2
}