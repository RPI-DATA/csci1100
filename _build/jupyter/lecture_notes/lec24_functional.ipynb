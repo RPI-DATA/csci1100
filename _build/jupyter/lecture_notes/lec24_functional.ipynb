{
 "cells": [
  {
   "cell_type": "markdown",
   "metadata": {},
   "source": [
    "Notebook created: 2019-07-16 14:30:28  \n",
    "Generated from: jWebsite/lecture_notes/lec24_functional.rst  "
   ]
  },
  {
   "cell_type": "markdown",
   "metadata": {},
   "source": [
    "# Lecture 24 — Advanced Python Topics and Functional Programming"
   ]
  },
  {
   "cell_type": "markdown",
   "metadata": {},
   "source": [
    "## Problems We’d Like to Solve\n",
    "\n",
    "Some of these are toy problems, but they illustrate use of tools we’d\n",
    "like to develop and use:\n",
    "\n",
    "1. How many values are in a list of lists?  \n",
    "1. What is the maximum distance from the origin of the points in a list?  \n",
    "1. What is the sum of squares of the first n integers?  \n",
    "1. Can you sum the positive values in a list?  \n",
    "1. Can you sort a list of points by y value (2nd coordinate) and then\n",
    "  by x value?  "
   ]
  },
  {
   "cell_type": "markdown",
   "metadata": {},
   "source": [
    "## Solution Techniques\n",
    "\n",
    "- We can solve most of these with a `for` loop, but they can be\n",
    "  solved even more effectively / efficiently / compactly using\n",
    "  advanced Python methods.  \n",
    "- Leads to notions of:  \n",
    "\n",
    "\n",
    "> - map and filter  \n",
    "- functions as parameters  \n",
    "- lambda functions  \n",
    "- stable sort  \n",
    "- list comprehensions  \n",
    "\n",
    "\n",
    "\n",
    "- Most are examples of *functional programmming*  "
   ]
  },
  {
   "cell_type": "markdown",
   "metadata": {},
   "source": [
    "## Map: Apply a function to each element of a list\n",
    "\n",
    "- Suppose we want to count the number of values in a list of lists.\n",
    "We can use `map` to apply the `len` function to each sublist.  "
   ]
  },
  {
   "cell_type": "code",
   "execution_count": null,
   "metadata": {
    "hide-output": false
   },
   "outputs": [],
   "source": [
    ">>> v = [ [2, 3, 5, 7], [11,13,17,19], [23, 29], [31,37] ]\n",
    ">>> print( list(map( len, v)) )\n",
    "[4, 4, 2, 2]"
   ]
  },
  {
   "cell_type": "markdown",
   "metadata": {},
   "source": [
    "- `map` is an *iterator* class:  \n",
    "  - It produces values in a sequence, one after another, by applying\n",
    "    the function (1st argument) to the values of the second argument.  \n",
    "  - Technically, an iterator class is one that has the `__next__`\n",
    "    method implemented (correctly).  \n",
    "  - Using `list` gives us the list of lengths of the sublists\n",
    "    explicitly.  \n",
    "- To complete the solution we need to just apply sum:  "
   ]
  },
  {
   "cell_type": "code",
   "execution_count": null,
   "metadata": {
    "hide-output": false
   },
   "outputs": [],
   "source": [
    ">>> print(sum(map(len,v)))\n",
    "12"
   ]
  },
  {
   "cell_type": "markdown",
   "metadata": {},
   "source": [
    "Notice that this does not explicitly form an intermediate list.  "
   ]
  },
  {
   "cell_type": "markdown",
   "metadata": {},
   "source": [
    "## Passing Functions as Parameters\n",
    "\n",
    "- The above example passes the `len` function as an argument!  \n",
    "  - We also passed functions as arguments to our callbacks in our GUI\n",
    "    programs  \n",
    "- This illustrates the concept that Python treats function as\n",
    "  “first-class” objects - in other words functions can be used just\n",
    "  like variables and other data.  \n",
    "  - What’s passed as an argument to `map()` is the location of\n",
    "    the function code.  \n",
    "- Now suppose we want to find the maximum distance of a list of points\n",
    "from the origin.  Here we’ll have to write a function  "
   ]
  },
  {
   "cell_type": "code",
   "execution_count": null,
   "metadata": {
    "hide-output": false
   },
   "outputs": [],
   "source": [
    "def dist2D( p ):\n",
    "    return (p[0]**2 + p[1]**2)**0.5\n",
    "\n",
    "pts = [ (4.5, 3), (2.1,-1), (6.8,-3), (1.4, 2.9) ]\n",
    "print(max( map(dist2D,pts) ))"
   ]
  },
  {
   "cell_type": "markdown",
   "metadata": {},
   "source": [
    "\n",
    "\n",
    "## Lambda functions:  Anonymous functions\n",
    "\n",
    "- We can avoid the need to write a separate function here by writing an\n",
    "  *anonymous* function called a *lambda* function.  \n",
    "- Our first example is just squaring the values of a list  "
   ]
  },
  {
   "cell_type": "code",
   "execution_count": null,
   "metadata": {
    "hide-output": false
   },
   "outputs": [],
   "source": [
    ">>> list(map( lambda x: x**2, [ 1, 2, 3, 4 ] ))\n",
    "[ 1, 4, 9, 16 ]"
   ]
  },
  {
   "cell_type": "markdown",
   "metadata": {},
   "source": [
    "- Now, we can sum the squares from 1 to n  "
   ]
  },
  {
   "cell_type": "code",
   "execution_count": null,
   "metadata": {
    "hide-output": false
   },
   "outputs": [],
   "source": [
    ">>> n = 100\n",
    ">>> sum( map( lambda x: x**2, range(1,n+1)))"
   ]
  },
  {
   "cell_type": "markdown",
   "metadata": {},
   "source": [
    "- We can also implement the `dist2D` function anonymously:  \n",
    "\n",
    "\n",
    "> "
   ]
  },
  {
   "cell_type": "code",
   "execution_count": null,
   "metadata": {
    "hide-output": false
   },
   "outputs": [],
   "source": [
    ">>> max( map( lambda p: (p[0]**2 + p[1]**2)**0.5, pts) )\n",
    "7.432361670424818"
   ]
  },
  {
   "cell_type": "markdown",
   "metadata": {},
   "source": [
    "\n",
    "- Notice that we did not need to explicitly form a list in each of\n",
    "  the preceeding examples.  This leads to substantial savings when\n",
    "  the list is large!  \n",
    "- Aside: the notion of a lambda function goes all the way back to\n",
    "  the origin of computer science  "
   ]
  },
  {
   "cell_type": "markdown",
   "metadata": {},
   "source": [
    "## In-Class Practice Problem:\n",
    "\n",
    "1. Starting with the following list of x,y point coordinate types, we\n",
    "will use `map()`, a lambda function, and `max()` to find the\n",
    "maximum x coordinate (the 0-th coordinate) in a list of points.  "
   ]
  },
  {
   "cell_type": "code",
   "execution_count": null,
   "metadata": {
    "hide-output": false
   },
   "outputs": [],
   "source": [
    "pts = [ (6,-1), (8,4), (7.5,-3), (4.4,12), (7,2) ]"
   ]
  },
  {
   "cell_type": "markdown",
   "metadata": {},
   "source": [
    "\n",
    "\n",
    "## Filter:  Extract / eliminate values from a list\n",
    "\n",
    "- Consider a different problem:  how to eliminate all of the negative\n",
    "  values from a list.  Based on what we know so far, this requires a\n",
    "  for loop with append.  \n",
    "- We can simplify this using the built-in Python construct\n",
    "called `filter`  "
   ]
  },
  {
   "cell_type": "code",
   "execution_count": null,
   "metadata": {
    "hide-output": false
   },
   "outputs": [],
   "source": [
    ">>> v = [ 1, 9, -4, -8, 10, -3 ]\n",
    ">>> list(filter( lambda x: x>0, v))\n",
    "[1, 9, 10]"
   ]
  },
  {
   "cell_type": "markdown",
   "metadata": {},
   "source": [
    "- Here,  \n",
    "  - The lambda function must produce a boolean value and if that\n",
    "    value is `True` the list item is kept; otherwise it is\n",
    "    eliminated.  \n",
    "  - The result of `filter` is an iterator object, just like the\n",
    "    result of `map` is.  We convert to a list in order to display\n",
    "    the answer.  \n",
    "- If we want to sum up the non-negative values, then we don’t need to\n",
    "explicitly generate a list:  "
   ]
  },
  {
   "cell_type": "code",
   "execution_count": null,
   "metadata": {
    "hide-output": false
   },
   "outputs": [],
   "source": [
    ">>> sum(filter( lambda x: x>0, v))\n",
    "20"
   ]
  },
  {
   "cell_type": "markdown",
   "metadata": {},
   "source": [
    "\n",
    "\n",
    "## Lecture Exercises, Problems 1 and 2:\n",
    "\n",
    "- At this point students will be given the chance to work on the\n",
    "  first two lecture exercises.  "
   ]
  },
  {
   "cell_type": "markdown",
   "metadata": {},
   "source": [
    "## Passing Functions to Sort\n",
    "\n",
    "- Consider the problem of sorting a list of (x,y) points by their y\n",
    "values first and their x values for tied y values, both in\n",
    "decreasing order.  For example, given  "
   ]
  },
  {
   "cell_type": "code",
   "execution_count": null,
   "metadata": {
    "hide-output": false
   },
   "outputs": [],
   "source": [
    "pts = [ (2,5), (12,3), (12,1), (6,5), (14, 10), (12, 10), \\\n",
    "          (8,12), (5,3) ]"
   ]
  },
  {
   "cell_type": "markdown",
   "metadata": {},
   "source": [
    "we’d like the sorted order to be  "
   ]
  },
  {
   "cell_type": "code",
   "execution_count": null,
   "metadata": {
    "hide-output": false
   },
   "outputs": [],
   "source": [
    "[(8, 12), (14, 10), (12, 10), (6, 5), (2, 5), (12, 3), \\\n",
    "     (5, 3), (12, 1)]"
   ]
  },
  {
   "cell_type": "markdown",
   "metadata": {},
   "source": [
    "- The Python sort function  "
   ]
  },
  {
   "cell_type": "code",
   "execution_count": null,
   "metadata": {
    "hide-output": false
   },
   "outputs": [],
   "source": [
    ">>>  sorted( pts, reverse=True )\n",
    "[(14, 10), (12, 10), (12, 3), (12, 1), (8, 12), (6, 5), \\\n",
    "    (5, 3), (2, 5)]"
   ]
  },
  {
   "cell_type": "markdown",
   "metadata": {},
   "source": [
    "gives the ordering by x value and then by y value. This is not what\n",
    "we want.  \n",
    "- The first step to a solution is to provide a *key* function to\n",
    "`sorted()` to pull out the information (the y value in this\n",
    "case) from each tuple to use as the basis for sorting:  "
   ]
  },
  {
   "cell_type": "code",
   "execution_count": null,
   "metadata": {
    "hide-output": false
   },
   "outputs": [],
   "source": [
    ">>> sorted( pts, key = lambda p: p[1], reverse=True)\n",
    "[(8, 12), (14, 10), (12, 10), (2, 5), (6, 5), (12, 3), \\\n",
    "    (5, 3), (12, 1)]"
   ]
  },
  {
   "cell_type": "markdown",
   "metadata": {},
   "source": [
    "This is close but not quite right because the two points with y=5\n",
    "are out of order.  \n",
    "- The trick is to sort by x first and then sort by y!  "
   ]
  },
  {
   "cell_type": "code",
   "execution_count": null,
   "metadata": {
    "hide-output": false
   },
   "outputs": [],
   "source": [
    ">>> by_x = sorted(pts,reverse=True)\n",
    ">>> by_x\n",
    "[(14, 10), (12, 10), (12, 3), (12, 1), (8, 12), (6, 5), \\\n",
    "   (5, 3), (2, 5)]\n",
    ">>> sorted( by_x, key = lambda p: p[1], reverse=True)\n",
    "[(8, 12), (14, 10), (12, 10), (6, 5), (2, 5), (12, 3), \\\n",
    "   (5, 3), (12, 1)]"
   ]
  },
  {
   "cell_type": "markdown",
   "metadata": {},
   "source": [
    "- This works because `sorted()` uses what’s known as a *stable\n",
    "  sort*:  when two values are “tied” according the\n",
    "  sorting criteria (y value in the second sort) their relative\n",
    "  ordering (by x value from the first sort) in the final list is preserved.  \n",
    "  - Therefore, (6,5) comes earlier than (2,5), while (12,3) comes\n",
    "    earlier than (5,3)  \n",
    "- A number of variations on sorting use this “stable sort” property,\n",
    "  but not all fast sorting algorithms are stable.  \n",
    "- Of course, we can also extend our lambda to reverse the tuple provided to sort()  "
   ]
  },
  {
   "cell_type": "code",
   "execution_count": null,
   "metadata": {
    "hide-output": false
   },
   "outputs": [],
   "source": [
    ">> sorted( pts, key = lambda p: (p[1], p[0]), reverse=True)\n",
    "[(8, 12), (14, 10), (12, 10), (6, 5), (2, 5), (12, 3), \\\n",
    "   (5, 3), (12, 1)]"
   ]
  },
  {
   "cell_type": "markdown",
   "metadata": {},
   "source": [
    "\n",
    "\n",
    "## Practice Problem\n",
    "\n",
    "1. Use `filter` to eliminate all words that are shorter than 4\n",
    "  letters from a list of words  "
   ]
  },
  {
   "cell_type": "markdown",
   "metadata": {},
   "source": [
    "## List Comprehensions\n",
    "\n",
    "- Instead of `map` and `filter` some people prefer another example\n",
    "  of functional programming in Python called *list comprehensions*  \n",
    "- Here is an example to generate a list of the squares of the first n integers:  "
   ]
  },
  {
   "cell_type": "code",
   "execution_count": null,
   "metadata": {
    "hide-output": false
   },
   "outputs": [],
   "source": [
    ">>> n = 8\n",
    ">>> [ i*i for i in range(1,n+1) ]\n",
    "[1, 4, 9, 16, 25, 36, 49, 64]"
   ]
  },
  {
   "cell_type": "markdown",
   "metadata": {},
   "source": [
    "- The form of this is an expression followed by a `for` loop\n",
    "  statement.  \n",
    "- We can get the effect of `filter` by adding a conditional at the\n",
    "end:  "
   ]
  },
  {
   "cell_type": "code",
   "execution_count": null,
   "metadata": {
    "hide-output": false
   },
   "outputs": [],
   "source": [
    ">>> v = [ 1, 9, -4, -8, 10, -3 ]\n",
    ">>> [ x for x in v if x>0 ]\n",
    "[1, 9, 10]"
   ]
  },
  {
   "cell_type": "markdown",
   "metadata": {},
   "source": [
    "- Here, the values are only generated in the resultant list when the\n",
    "  `if` condition passes.  \n",
    "- We can combine these as well.  As a slightly silly example, we can\n",
    "eliminate the negative values and square the positive values  "
   ]
  },
  {
   "cell_type": "code",
   "execution_count": null,
   "metadata": {
    "hide-output": false
   },
   "outputs": [],
   "source": [
    ">>> v = [ 1, 9, -4, -8, 10, -3 ]\n",
    ">>> [ x*x for x in v if x>0 ]\n",
    "[1, 81, 100]"
   ]
  },
  {
   "cell_type": "markdown",
   "metadata": {},
   "source": [
    "- We can get even more sophisticated by nesting `for` loops. Here is\n",
    "an example where we generate all pairs of numbers between 1 and 4,\n",
    "except for the pairs where the numbers are equal  "
   ]
  },
  {
   "cell_type": "code",
   "execution_count": null,
   "metadata": {
    "hide-output": false
   },
   "outputs": [],
   "source": [
    ">>> [ (i,j) for i in range(1,5) for j in range(1,5) if i != j ]\n",
    "[(1, 2), (1, 3), (1, 4), (2, 1), (2, 3), (2, 4), (3, 1), (3, 2),\n",
    "    (3, 4), (4, 1), (4, 2), (4, 3)]"
   ]
  },
  {
   "cell_type": "markdown",
   "metadata": {},
   "source": [
    "\n",
    "\n",
    "## Exercises\n",
    "\n",
    "1. Write a list comprehension statement to generate a list of all\n",
    "  pairs of odd positive integer values less than 10 where the first value is\n",
    "  less than the second value.  "
   ]
  },
  {
   "cell_type": "markdown",
   "metadata": {},
   "source": [
    "## Summary and Discussion\n",
    "\n",
    "- We’ve explored programming that is more compact and at a higher\n",
    "  level of abstraction.  It can be used to effectively interact with\n",
    "  data.  \n",
    "- `map` and `filter` each take a function and a sequence (an\n",
    "  “iterable”) as arguments and produce an iterator as a result:  \n",
    "  - `map` produces the result of applying the function to each element\n",
    "    of the iterable  \n",
    "  - `filter` produces each element of the iterable for which the\n",
    "    function returns `True`  \n",
    "- Both `map` and `filter` are made more compact by using\n",
    "  `lambda` functions  \n",
    "- `lambda` functions can also be used to change the result of\n",
    "  sorting  \n",
    "- A *stable sort* preserves the relative order of “tied” values  \n",
    "- *List comprehensions* can be used in place of `map` and\n",
    "  `filter`:  \n",
    "  - Some people prefer list comprehensions  because they often do not\n",
    "    require lambda functions, but…  \n",
    "  - List comprehensions explicitly construct the list of results rather than\n",
    "    generating them one-by-one, which is what `map` and `filter`\n",
    "    do.  This makes them less efficient for large data sets.  \n",
    "- These are all examples of *functional programming*.  \n",
    "- We’ve also used the other major programming paradigms this semester  \n",
    "  - *imperative programming*  \n",
    "  - *object oriented programming*  \n",
    "- Many modern languages like Python provide tools that allow\n",
    "  programming using a combination of paradigms  "
   ]
  }
 ],
 "metadata": {
  "filename": "lec24_functional.rst",
  "kernelspec": {
   "display_name": "Python",
   "language": "python3",
   "name": "python3"
  },
  "title": "Lecture 24 — Advanced Python Topics and Functional Programming"
 },
 "nbformat": 4,
 "nbformat_minor": 2
}