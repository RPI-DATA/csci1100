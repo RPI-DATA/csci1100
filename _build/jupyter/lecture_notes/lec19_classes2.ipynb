{
 "cells": [
  {
   "cell_type": "markdown",
   "metadata": {},
   "source": [
    "Notebook created: 2019-07-16 14:30:27  \n",
    "Generated from: jWebsite/lecture_notes/lec19_classes2.rst  "
   ]
  },
  {
   "cell_type": "markdown",
   "metadata": {},
   "source": [
    "# Lecture 19 — Classes, Part 2"
   ]
  },
  {
   "cell_type": "markdown",
   "metadata": {},
   "source": [
    "## Overview\n",
    "\n",
    "- Review of classes  \n",
    "- Revisiting our Yelp data:  a `Restaurant` class.  \n",
    "- Techniques that we will see:  \n",
    "  - Calling class methods from within the class  \n",
    "  - Class objects storing other objects, such as lists  \n",
    "  - Lists of class objects  "
   ]
  },
  {
   "cell_type": "markdown",
   "metadata": {},
   "source": [
    "## Review of Classes\n",
    "\n",
    "We will use our `Point2d` class solution from Lecture 18 to review\n",
    "the following:\n",
    "\n",
    "- Attributes:  \n",
    "  - These store the data associated with each class instance.  \n",
    "  - They are usually defined inside the class to create a common set\n",
    "    of attributes across all class instances.  \n",
    "- Initialization: function `__init__` called when the object is\n",
    "  created.  \n",
    "  - Should assign initial values to all attributes  \n",
    "- Methods  \n",
    "  - Each includes the object, often referred to as `self`, as the\n",
    "    first argument.  \n",
    "  - Some change the object, some create new objects  \n",
    "- Special methods start and end with two underscores. Python interprets their\n",
    "  use in a variety of distinct ways:  \n",
    "  - `__str__` is the string conversion function  \n",
    "  - `__add__`, `__sub__`, etc. become operators  \n",
    "- Each of these special methods builds on the “more primitive”\n",
    "  methods  "
   ]
  },
  {
   "cell_type": "markdown",
   "metadata": {},
   "source": [
    "## Larger Example — Restaurant Class\n",
    "\n",
    "Recall Lab 5 on the Yelp data:\n",
    "\n",
    "- Read and parse input lines that look like:  "
   ]
  },
  {
   "cell_type": "code",
   "execution_count": null,
   "metadata": {
    "hide-output": false
   },
   "outputs": [],
   "source": [
    "The Greek House|42.73|-73.69|27 3rd St+Troy, NY 12180|\\\n",
    "   http://www.yelp.com/biz/the-greek-house-troy|Greek|1|5|4|5|4|4|5|5|5|5|5|4"
   ]
  },
  {
   "cell_type": "markdown",
   "metadata": {},
   "source": [
    "- Find restaurants and print out information based on a user selection  \n",
    "- Original implementation based on a list was awkward:  \n",
    "  - We had to remember the role of each index of the list — 0 was the\n",
    "    name, 1 was the latitude, etc.  \n",
    "- New implementation here is based on a class  "
   ]
  },
  {
   "cell_type": "markdown",
   "metadata": {},
   "source": [
    "## Start to a Solution, the Main Code\n",
    "\n",
    "Let’s look at `lec19_restaurants_exercise.py`, downloadable as part\n",
    "of the Lecture_19 zip file:\n",
    "\n",
    "- This is the code that *uses* the `Restaurant` class.  \n",
    "  - We start by considering how the class will be used rather than\n",
    "    how we write it.  \n",
    "- Main function to initialize a restaurant is called\n",
    "  `convert_input_to_restaurant`  \n",
    "  - Parses a restaurant line  \n",
    "  - Creates and returns a `Restaurant` object  \n",
    "- Function `build_restaurant_list`  \n",
    "  - Opens the input file  \n",
    "  - Reads each line  \n",
    "  - Calls `convert_input_to_restaurant`, and appends the resulting\n",
    "    restaurant to the back of a list  \n",
    "- Main code:  \n",
    "  - Builds the restaurant list  \n",
    "  - Prints the first three restaurants in the list  \n",
    "  - Includes commented-out code that  \n",
    "    - Gets the name of a city  \n",
    "    - Finds the restaurant with the highest average rating  \n",
    "    We will complete this code soon.  "
   ]
  },
  {
   "cell_type": "markdown",
   "metadata": {},
   "source": [
    "## Functionality Needed in the Restaurant Class\n",
    "\n",
    "- Some functionality is determined by reading the code we have\n",
    "  already written  \n",
    "  - Includes both methods and attributes  \n",
    "- Add other functionality by considering the methods that must be in\n",
    "  the `Restaurant` class, including the parameters that must be\n",
    "  passed to each method.  \n",
    "- Add attributes last…  "
   ]
  },
  {
   "cell_type": "markdown",
   "metadata": {},
   "source": [
    "## Turning to the Actual Restaurant Class\n",
    "\n",
    "Look at `Restaurant.py` which was distributed with the Lecture_19\n",
    "files.\n",
    "\n",
    "- The `__init__` function specifies the attributes.  \n",
    "  - Other attributes could be added, such as the average rating, but\n",
    "    instead these are computed as needed by methods.  \n",
    "  - Importantly, each class object stores a list of ratings,\n",
    "    illustrating the fact that classes can store data structures such\n",
    "    as lists, sets, and dictionaries.  \n",
    "- The `Restaurant` class has more complicated attributes than our\n",
    "  previous objects  \n",
    "  - `Point2d` object,  \n",
    "  - A list for the address entries  \n",
    "  - A list of scores  \n",
    "- There is nothing special about working with these attributes other\n",
    "  than they “feel” more complicated.  \n",
    "  - Just apply what you know in using them  \n",
    "  - Our lecture exercises will help  "
   ]
  },
  {
   "cell_type": "markdown",
   "metadata": {},
   "source": [
    "## In-Class Example\n",
    "\n",
    "Together we will add the following two methods `Restaurant` to get\n",
    "our demonstration example to work:\n",
    "\n",
    "1. The `is_in_city` method  \n",
    "1. The `average_review` method  "
   ]
  },
  {
   "cell_type": "markdown",
   "metadata": {},
   "source": [
    "## Discussion\n",
    "\n",
    "- What is not in the `Restaurant` class?  \n",
    "  - No input or line parsing. Usually, we don’t want the class tied to\n",
    "    the particular form of the input.  \n",
    "  - As an alternative, we could add a method for each of several\n",
    "    different forms of input.  \n",
    "- Often it is hard to make the decision about what should be inside and\n",
    "  what should be outside the class.  \n",
    "  - One example the method we wrote to test if\n",
    "    restaurant is in a particular city.  As an alternative we could\n",
    "    have written a\n",
    "    different method that returns that name of the city and make the\n",
    "    comparison outside the class.  \n",
    "- We could add an `Address` class:  \n",
    "  - Reuse for objects other than restaurants  \n",
    "  - Not needed in this (relatively) short example.  \n",
    "  - More flexible than our use of a list of strings from an address\n",
    "    line.  "
   ]
  },
  {
   "cell_type": "markdown",
   "metadata": {},
   "source": [
    "## Summary\n",
    "\n",
    "- Review of the main components of a Python class:  \n",
    "  - Attributes  \n",
    "  - Methods  \n",
    "  - Special methods with names starting and ending with `__`  \n",
    "    - Initializer method is most important  \n",
    "- Important uses of Python classes that we have seen today:  \n",
    "  - Classes containing other objects as attributes  \n",
    "  - Lists of class objects.  \n",
    "- Design of Python classes  \n",
    "  - Start by outlining how they are to be used  \n",
    "  - Leads to design of methods  \n",
    "  - Specification of attributes and implementation of methods comes\n",
    "    last  "
   ]
  }
 ],
 "metadata": {
  "filename": "lec19_classes2.rst",
  "kernelspec": {
   "display_name": "Python",
   "language": "python3",
   "name": "python3"
  },
  "title": "Lecture 19 — Classes, Part 2"
 },
 "nbformat": 4,
 "nbformat_minor": 2
}