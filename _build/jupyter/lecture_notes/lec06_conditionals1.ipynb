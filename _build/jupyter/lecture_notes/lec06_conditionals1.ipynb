{
 "cells": [
  {
   "cell_type": "markdown",
   "metadata": {},
   "source": [
    "Notebook created: 2019-07-16 14:30:27  \n",
    "Generated from: jWebsite/lecture_notes/lec06_conditionals1.rst  "
   ]
  },
  {
   "cell_type": "markdown",
   "metadata": {},
   "source": [
    "# Lecture 6 — Decisions"
   ]
  },
  {
   "cell_type": "markdown",
   "metadata": {},
   "source": [
    "## Initial Example:\n",
    "\n",
    "- Suppose we have a height measurements for two people, Chris and\n",
    "Sandy.  We have the tools to write a program that determines which\n",
    "height measurement is greater:  "
   ]
  },
  {
   "cell_type": "code",
   "execution_count": null,
   "metadata": {
    "hide-output": false
   },
   "outputs": [],
   "source": [
    "chris_height = float(input(\"Enter Chris's height (in cm): \"))\n",
    "sandy_height = float(input(\"Enter Sandy's height (in cm): \"))\n",
    "print(\"The greater height is\", max(chris_height,sandy_height))"
   ]
  },
  {
   "cell_type": "markdown",
   "metadata": {},
   "source": [
    "- But, we don’t have the tools yet to *decide* who has the greater\n",
    "height.  For this we need *if statements*:  "
   ]
  },
  {
   "cell_type": "code",
   "execution_count": null,
   "metadata": {
    "hide-output": false
   },
   "outputs": [],
   "source": [
    "chris_height = float(input(\"Enter Chris's height (in cm): \"))\n",
    "sandy_height = float(input(\"Enter Sandy's height (in cm): \"))\n",
    "if chris_height > sandy_height:\n",
    "    print(\"Chris is taller\")\n",
    "else:\n",
    "    print(\"Sandy is taller\")"
   ]
  },
  {
   "cell_type": "markdown",
   "metadata": {},
   "source": [
    "- This is the first of many lectures exploring logic, if statements,\n",
    "  and decision making.  "
   ]
  },
  {
   "cell_type": "markdown",
   "metadata": {},
   "source": [
    "## Overview — Logic and Decision Making\n",
    "\n",
    "- Boolean logic  \n",
    "- Use in decision making  \n",
    "- Use in branching and alternatives  \n",
    "\n",
    "\n",
    "Reading: Chapter 5 of *Practical Programming*. We will not cover all\n",
    "of this today, and will return\n",
    "to the rest of this chapter later in the semester."
   ]
  },
  {
   "cell_type": "markdown",
   "metadata": {},
   "source": [
    "## Part 1: Boolean Values\n",
    "\n",
    "- Yet another type  \n",
    "- Values are only `True` and `False`  \n",
    "- We’ll see a series of operations that either produce or use\n",
    "  boolean values, including relational operators such as `<`, `<=`,\n",
    "  etc. and logical operations such as `and` and `or`.  \n",
    "- We can assign them to variables, as in,  "
   ]
  },
  {
   "cell_type": "code",
   "execution_count": null,
   "metadata": {
    "hide-output": false
   },
   "outputs": [],
   "source": [
    "x = True"
   ]
  },
  {
   "cell_type": "markdown",
   "metadata": {},
   "source": [
    "although we will not explore this much during the current lecture.  "
   ]
  },
  {
   "cell_type": "markdown",
   "metadata": {},
   "source": [
    "## Relational Operators — Less Than and Greater Than\n",
    "\n",
    "- Comparisons between values, perhaps values associated with variables,\n",
    "  to produce a boolean outcome.  \n",
    "- For numerical values, `<`, `<=`, `>`, `>=` are\n",
    "straightforward:  "
   ]
  },
  {
   "cell_type": "code",
   "execution_count": null,
   "metadata": {
    "hide-output": false
   },
   "outputs": [],
   "source": [
    ">>> x = 17\n",
    ">>> y = 15.1\n",
    ">>> x < y\n",
    "False\n",
    ">>> x <= y\n",
    "False\n",
    ">>> x <= 17\n",
    "True\n",
    ">>> y < x\n",
    "True"
   ]
  },
  {
   "cell_type": "markdown",
   "metadata": {},
   "source": [
    "- The comparison operators `<`, `<=`, `>`,\n",
    "`>=` may also be used for strings but the results are sometimes a\n",
    "bit surprising:  "
   ]
  },
  {
   "cell_type": "code",
   "execution_count": null,
   "metadata": {
    "hide-output": false
   },
   "outputs": [],
   "source": [
    ">>> s1 = 'art'\n",
    ">>> s2 = 'Art'\n",
    ">>> s3 = 'Music'\n",
    ">>> s4 = 'music'\n",
    ">>> s1 < s2\n",
    "False\n",
    ">>> s2 < s3\n",
    "True\n",
    ">>> s2 < s4\n",
    "True\n",
    ">>> s1 < s3\n",
    "False"
   ]
  },
  {
   "cell_type": "markdown",
   "metadata": {},
   "source": [
    "- With strings, the ordering is what’s called *lexicographic* rather\n",
    "  than purely alphabetical order:  \n",
    "  - All capital letters come before small letters, so strict\n",
    "    alphabetical ordering can only be ensured when there is no\n",
    "    mixing of caps and smalls.  "
   ]
  },
  {
   "cell_type": "markdown",
   "metadata": {},
   "source": [
    "## Relational Operators: Equality and Inequality\n",
    "\n",
    "- Testing if two values are equal uses the combined, double-equal\n",
    "  symbol `==` rather than the single `=`, which is reserved for\n",
    "  assignment.  \n",
    "  - Getting accustomed to this convention requires practice, and it\n",
    "    is a common source of mistakes  \n",
    "- Inequality is indicated by `!=`.  \n",
    "- We will play with a few examples in class.  "
   ]
  },
  {
   "cell_type": "markdown",
   "metadata": {},
   "source": [
    "## Part 1 Exercises\n",
    "\n",
    "We will stop here and give students a chance to work on the first\n",
    "lecture exercise."
   ]
  },
  {
   "cell_type": "markdown",
   "metadata": {},
   "source": [
    "## Part 2: if Statements\n",
    "\n",
    "- General form of what we saw in the example we explored at the start\n",
    "of lecture:  "
   ]
  },
  {
   "cell_type": "code",
   "execution_count": null,
   "metadata": {
    "hide-output": false
   },
   "outputs": [],
   "source": [
    "if condition:\n",
    "   block1\n",
    "else:\n",
    "   block2"
   ]
  },
  {
   "cell_type": "markdown",
   "metadata": {},
   "source": [
    "where  \n",
    "- `condition` is the result of a logical expression, such as the\n",
    "    result of computing the value of a relational operation  \n",
    "  - `block1` is Python code executed when the condition is `True`  \n",
    "  - `block2` is Python code executed when the condition is\n",
    "    `False`  \n",
    "- All statements in the `block1` and `block2` must be indented the\n",
    "  same number of spaces  \n",
    "- The `block` continues until the indentation stops, and returns to\n",
    "  the same level of indentation as the statement starting with `if`  \n",
    "- The `else:` and `block2` are optional, as the following example\n",
    "  shows.  "
   ]
  },
  {
   "cell_type": "markdown",
   "metadata": {},
   "source": [
    "## Example: Heights of Siblings\n",
    "\n",
    "- Here is a more extensive version of our initial example, implemented\n",
    "using two consecutive `if` statements and not using an `else`:  "
   ]
  },
  {
   "cell_type": "code",
   "execution_count": null,
   "metadata": {
    "hide-output": false
   },
   "outputs": [],
   "source": [
    "name1 = \"Dale\"\n",
    "print(\"Enter the height of\", name1, \"in cm ==> \", end='')\n",
    "height1 = int(input())\n",
    "\n",
    "name2 = \"Erin\"\n",
    "print(\"Enter the height of\", name2, \"in cm ==> \", end='')\n",
    "height2 = int(input())\n",
    "\n",
    "if height1 < height2:\n",
    "    print(name2, \"is taller\")\n",
    "    max_height = height2\n",
    "\n",
    "if height1 >= height2:\n",
    "    print(name1, \"is taller\")\n",
    "    max_height = height1\n",
    "\n",
    "print(\"The max height is\", max_height)"
   ]
  },
  {
   "cell_type": "markdown",
   "metadata": {},
   "source": [
    "- Writing two separate `if` statements like this, while good as an\n",
    "illustration, is not a good idea in practice.  We need to read the\n",
    "code to understand that the two `if` statements produce mutually\n",
    "exclusive results.  Instead we should use `else`  "
   ]
  },
  {
   "cell_type": "code",
   "execution_count": null,
   "metadata": {
    "hide-output": false
   },
   "outputs": [],
   "source": [
    "name1 = \"Dale\"\n",
    "height1 = int(input(\"Enter the height of \" + name1 + \" in cm ==> \"))\n",
    "\n",
    "name2 = \"Erin\"\n",
    "height2 = int(input(\"Enter the height of \" + name2 + \" in cm ==> \"))\n",
    "\n",
    "if height1 < height2:\n",
    "    print(name2, \"is taller\")\n",
    "    max_height = height2\n",
    "else:\n",
    "    print(name1, \"is taller\")\n",
    "    max_height = height1\n",
    "\n",
    "print(\"The max height is\", max_height)"
   ]
  },
  {
   "cell_type": "markdown",
   "metadata": {},
   "source": [
    "- Notes:  \n",
    "  - The blank lines are added for clarity; they are not required\n",
    "    for these programs to have correct syntax.  \n",
    "  - Neither program handles the case of Dale and Erin being the same\n",
    "    height. For this we need the next Python construct.  "
   ]
  },
  {
   "cell_type": "markdown",
   "metadata": {},
   "source": [
    "## Elif\n",
    "\n",
    "Recall the kids guessing game where someone thinks of a number and you\n",
    "have to guess it. The only information you are given is that the person\n",
    "who knows the number tells you if your guess is too high, too low, or if\n",
    "you got it correct.\n",
    "\n",
    "- When we have three or more alternatives to consider we use the\n",
    "if-elif-else structure:  "
   ]
  },
  {
   "cell_type": "code",
   "execution_count": null,
   "metadata": {
    "hide-output": false
   },
   "outputs": [],
   "source": [
    "if condition1:\n",
    "    block1\n",
    "elif condition2:\n",
    "    block2\n",
    "else:\n",
    "    block3"
   ]
  },
  {
   "cell_type": "markdown",
   "metadata": {},
   "source": [
    "- We’ll rewrite the height example to use `elif` to handle the case of Dale\n",
    "  and Erin having the same height.  \n",
    "- Notes:  \n",
    "  - You do **NOT** need to have an `else` block.  \n",
    "  - Exactly **one** block of code (block1, block2, block3) is\n",
    "    executed!  Don’t forget this!  \n",
    "  - If we leave off the `else:` and block3, then it is possible that\n",
    "    none of the blocks are executed.  \n",
    "  - You can use multiple `elif` conditions and blocks.  "
   ]
  },
  {
   "cell_type": "markdown",
   "metadata": {},
   "source": [
    "## Part 3: More Complex Boolean Expressions, Starting with and\n",
    "\n",
    "Consider the following piece of Python code that outputs a message if\n",
    "it was above freezing both yesterday and today\n",
    "\n",
    "> "
   ]
  },
  {
   "cell_type": "code",
   "execution_count": null,
   "metadata": {
    "hide-output": false
   },
   "outputs": [],
   "source": [
    "cel_today = 12\n",
    "cel_yesterday = -1\n",
    "if cel_today > 0 and cel_yesterday > 0:\n",
    "    print(\"It was above freezing both yesterday and today.\")"
   ]
  },
  {
   "cell_type": "markdown",
   "metadata": {},
   "source": [
    "\n",
    "- A boolean expression involving `and` is `True` if and only if\n",
    "  **both** the relational operations produce the value `True`  "
   ]
  },
  {
   "cell_type": "markdown",
   "metadata": {},
   "source": [
    "## More Complex Boolean Expressions — or\n",
    "\n",
    "Consider the following:\n",
    "\n",
    "> "
   ]
  },
  {
   "cell_type": "code",
   "execution_count": null,
   "metadata": {
    "hide-output": false
   },
   "outputs": [],
   "source": [
    "cel_today = 12\n",
    "cel_yesterday = -1\n",
    "if cel_today > 0 or cel_yesterday > 0:\n",
    "    print(\"It has been above freezing in the last two days.\")"
   ]
  },
  {
   "cell_type": "markdown",
   "metadata": {},
   "source": [
    "\n",
    "- The boolean expression is `True` if ANY of the following occurs  \n",
    "  - the left relational expression is `True`,  \n",
    "  - the right relational expression is `True`,  \n",
    "  - **both** the left and right relational expression are `True`.  \n",
    "- This is called the *inclusive or* and it is somewhat different from\n",
    "  common use of the word *or* in English.  \n",
    "- For examples, in the sentence  \n",
    "  \n",
    "  You may order the pancakes or the omelet.  \n",
    "  \n",
    "  usually means you may choose pancakes, or you may choose an omelet,\n",
    "  but you may not choose both (unless you pay extra).  \n",
    "  - This is called the *exclusive-or*; it is only used in logic and\n",
    "    computer science in very special cases.  \n",
    "  - Hence, `or` always means *inclusive-or*.  "
   ]
  },
  {
   "cell_type": "markdown",
   "metadata": {},
   "source": [
    "## Boolean Logic — not\n",
    "\n",
    "- We can also “logically negate” a boolean expression using `not`.  "
   ]
  },
  {
   "cell_type": "code",
   "execution_count": null,
   "metadata": {
    "hide-output": false
   },
   "outputs": [],
   "source": [
    "a = 15\n",
    "b = 20\n",
    "if not a<b:\n",
    "    print(\"a is not less than b\")\n",
    "else:\n",
    "    print(\"a is less than b\")"
   ]
  },
  {
   "cell_type": "markdown",
   "metadata": {},
   "source": [
    "\n",
    "\n",
    "## Final Example - Is a Point Inside a Rectangle\n",
    "\n",
    "We’ll gather all of ideas from class to solve the following example:\n",
    "Suppose the bounds of a rectangle are defined by\n",
    "\n",
    "> "
   ]
  },
  {
   "cell_type": "code",
   "execution_count": null,
   "metadata": {
    "hide-output": false
   },
   "outputs": [],
   "source": [
    "x0 = 10\n",
    "x1 = 16\n",
    "y0 = 32\n",
    "y1 = 45"
   ]
  },
  {
   "cell_type": "markdown",
   "metadata": {},
   "source": [
    "\n",
    "A point at location $ x,y $ is inside the rectangle if\n",
    "\n",
    "> $$\n",
    "x0 < x < x1 \\qquad \\text{and} \\qquad y0 < y < y1.\n",
    "$$\n",
    "\n",
    "\n",
    "Under what conditions are we outside of the rectangle? Under what\n",
    "conditions are on the boundary?\n",
    "\n",
    "We will write a program that reads in an x, y coordinate of a point\n",
    "and outputs a message depending on whether the point is inside the\n",
    "rectangle, outside the rectangle, or on the boundary.  The final code\n",
    "will be posted on the course website."
   ]
  },
  {
   "cell_type": "markdown",
   "metadata": {},
   "source": [
    "## Summary and Looking Ahead\n",
    "\n",
    "- if-else and if-elif-else are tools for making decisions and creating\n",
    "  alternative computations and results  \n",
    "- The conditional tests involve relationship operators and logical\n",
    "  operators  \n",
    "  - Be careful of the distinction between `=` and `==`  \n",
    "- In Lecture 11 we will review boolean logic and discuss more complex if\n",
    "  structures.  "
   ]
  }
 ],
 "metadata": {
  "filename": "lec06_conditionals1.rst",
  "kernelspec": {
   "display_name": "Python",
   "language": "python3",
   "name": "python3"
  },
  "title": "Lecture 6 — Decisions"
 },
 "nbformat": 4,
 "nbformat_minor": 2
}