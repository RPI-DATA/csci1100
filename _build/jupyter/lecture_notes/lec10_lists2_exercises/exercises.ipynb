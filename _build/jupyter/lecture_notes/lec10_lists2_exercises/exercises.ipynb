{
 "cells": [
  {
   "cell_type": "markdown",
   "metadata": {},
   "source": [
    "Notebook created: 2019-07-16 14:30:27  \n",
    "Generated from: jWebsite/lecture_notes/lec10_lists2_exercises/exercises.rst  "
   ]
  },
  {
   "cell_type": "markdown",
   "metadata": {},
   "source": [
    "# Lecture 10 — Exercises\n",
    "\n",
    "Solutions to the problems below must be sent to Submitty for grading.\n",
    "A separate file must submitted for each problem.\n",
    "Due date is 4 pm on Tuesday, October 27th.\n",
    "\n",
    "1. Submit a text file showing the output of the following code:  "
   ]
  },
  {
   "cell_type": "code",
   "execution_count": null,
   "metadata": {
    "hide-output": false
   },
   "outputs": [],
   "source": [
    "L1 = [ 1, 5, [5, 2], 'hello' ]\n",
    "L2 = L1\n",
    "L3 = L1.copy()\n",
    "L2.append( 4 )\n",
    "L1.append( 3 )\n",
    "print(L1)\n",
    "print(L2)\n",
    "print(L3)"
   ]
  },
  {
   "cell_type": "markdown",
   "metadata": {},
   "source": [
    "1. Submit a text file showing the output of the following code  "
   ]
  },
  {
   "cell_type": "code",
   "execution_count": null,
   "metadata": {
    "hide-output": false
   },
   "outputs": [],
   "source": [
    "def head_and_tail(L):\n",
    "    from_back = L.pop()\n",
    "    from_front = L.pop(0)\n",
    "    L.append(from_front)\n",
    "    L.insert(0,from_back)\n",
    "\n",
    "L1 = [ [1, 2], 3 ]\n",
    "L3 = L1.copy()\n",
    "L2 = L1\n",
    "L2[-1] = 5\n",
    "L2.insert(1,6)\n",
    "head_and_tail(L1)\n",
    "\n",
    "print(L1[0], L1[-1], len(L1))\n",
    "print(L2[0], L2[-1], len(L2))\n",
    "print(L3[0], L3[-1], len(L3))"
   ]
  },
  {
   "cell_type": "markdown",
   "metadata": {},
   "source": [
    "1. The solution to this problem and the two that follow should start\n",
    "with the assignment  "
   ]
  },
  {
   "cell_type": "code",
   "execution_count": null,
   "metadata": {
    "hide-output": false
   },
   "outputs": [],
   "source": [
    "co2_levels = [ 320.03, 322.16, 328.07, 333.91, 341.47, \\\n",
    "               348.92, 357.29, 363.77, 371.51, 382.47, 392.95 ]"
   ]
  },
  {
   "cell_type": "markdown",
   "metadata": {},
   "source": [
    "Write a Python program that prints the number of values that are greater\n",
    "than the average of the list.  For this you may use Python’s\n",
    "`sum` and `len` functions and you must use a `for` loop.  Do\n",
    "NOT use a `range,` however, and do not use indexing.  \n",
    "Your output should simply be:  "
   ]
  },
  {
   "cell_type": "code",
   "execution_count": null,
   "metadata": {
    "hide-output": false
   },
   "outputs": [],
   "source": [
    "Average: 351.14\n",
    "Num above average: 5"
   ]
  },
  {
   "cell_type": "markdown",
   "metadata": {},
   "source": [
    "1. Suppose we discovered that the measurement of CO2 values was\n",
    "uniformly too low by a small fraction `p`.  Write a function that\n",
    "increases each value in `co2_levels` by the fraction `p`.  (In\n",
    "other words if `x` is the value before the increase then\n",
    "`x*(1+p)` is the value after.)  For this problem you need to use\n",
    "a `range`, `len()` and indexing.  Start by asking the user for the\n",
    "percentage.  Output the first and last values of the revised list.\n",
    "Your program should end with the lines  "
   ]
  },
  {
   "cell_type": "code",
   "execution_count": null,
   "metadata": {
    "hide-output": false
   },
   "outputs": [],
   "source": [
    "print('First: {:.2f}'.format(co2_levels[0]))\n",
    "print('Last: {:.2f}'.format(co2_levels[-1]))"
   ]
  },
  {
   "cell_type": "markdown",
   "metadata": {},
   "source": [
    "Here is an example of running your program:  "
   ]
  },
  {
   "cell_type": "code",
   "execution_count": null,
   "metadata": {
    "hide-output": false
   },
   "outputs": [],
   "source": [
    "Enter the fraction: 0.03\n",
    "First: 329.63\n",
    "Last: 404.74"
   ]
  },
  {
   "cell_type": "markdown",
   "metadata": {},
   "source": [
    "1. Write a function called `is_increasing` that returns `True` if\n",
    "the values in the list it is passed are in increasing order and\n",
    "`False` otherwise.  Use a `for` loop and indexing to accomplish\n",
    "this.  Test the function with the following main code:  "
   ]
  },
  {
   "cell_type": "code",
   "execution_count": null,
   "metadata": {
    "hide-output": false
   },
   "outputs": [],
   "source": [
    "print('co2_levels is increasing: {}'.format(is_increasing(co2_levels)))\n",
    "test_L1 = [ 15, 12, 19, 27, 45 ]\n",
    "print('test_L1 is increasing: {}'.format(is_increasing(test_L1)))\n",
    "test_L2 = [ 'arc', 'circle', 'diameter', 'radius', 'volume', 'area' ]\n",
    "print('test_L2 is increasing: {}'.format(is_increasing(test_L2)))\n",
    "test_L3 = [ 11, 21, 19, 27, 28, 23, 31, 45 ]\n",
    "print('test_L3 is increasing: {}'.format(is_increasing(test_L3)))"
   ]
  },
  {
   "cell_type": "markdown",
   "metadata": {},
   "source": [
    "These should be the only `print()` function calls in the code\n",
    "  you submit.  "
   ]
  }
 ],
 "metadata": {
  "filename": "exercises.rst",
  "kernelspec": {
   "display_name": "Python",
   "language": "python3",
   "name": "python3"
  },
  "title": "Lecture 10 — Exercises"
 },
 "nbformat": 4,
 "nbformat_minor": 2
}