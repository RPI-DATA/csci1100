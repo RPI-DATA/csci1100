{
 "cells": [
  {
   "cell_type": "markdown",
   "metadata": {},
   "source": [
    "Notebook created: 2019-07-16 14:30:27  \n",
    "Generated from: jWebsite/lecture_notes/lec05_functions2_exercises/exercises.rst  "
   ]
  },
  {
   "cell_type": "markdown",
   "metadata": {},
   "source": [
    "# Lecture 5 — Exercises\n",
    "\n",
    "Solutions to the problems below must be sent to Submitty for grading.\n",
    "A separate file must submitted for each problem.  These must be\n",
    "submitted by 4 pm on Friday, February 2.\n",
    "\n",
    "1. Write a function called `convert2fahren` that takes a Celsius\n",
    "temperature and converts it to Fahrenheit, returning the answer.\n",
    "Write code that calls the function three times to convert\n",
    "temperatures 0, 32, and 100 to Fahrenheit, printing the result each\n",
    "time.  To keep things simple for these exercises, the output should\n",
    "be  "
   ]
  },
  {
   "cell_type": "code",
   "execution_count": null,
   "metadata": {
    "hide-output": false
   },
   "outputs": [],
   "source": [
    "0 -> 32.0\n",
    "32 -> 89.6\n",
    "100 -> 212.0"
   ]
  },
  {
   "cell_type": "markdown",
   "metadata": {},
   "source": [
    "Submitty will check that a function exists with exactly the given\n",
    "name, that it does the calculation, and that it is called three\n",
    "times.  \n",
    "1. Write a function called `frame_string` that takes a string as an\n",
    "argument.  Its job is to print that string with a frame around it,\n",
    "just like in Lab 2.  Unlike the other functions we have written\n",
    "`frame_string` does not need and therefore should not have a\n",
    "`return` statement.  Write code to call the function two times.\n",
    "For the first call pass the string `Spanish Inquisition`.  For the\n",
    "second call, pass the string `Ni`.  Print a blank line between\n",
    "calls.  The output should be  "
   ]
  },
  {
   "cell_type": "code",
   "execution_count": null,
   "metadata": {
    "hide-output": false
   },
   "outputs": [],
   "source": [
    "*************************\n",
    "** Spanish Inquisition **\n",
    "*************************\n",
    "\n",
    "********\n",
    "** Ni **\n",
    "********"
   ]
  },
  {
   "cell_type": "markdown",
   "metadata": {},
   "source": [
    "In addition to checking the output, we will check that you wrote\n",
    "a function called `frame_string` and that your code calls this\n",
    "  function twice.  \n",
    "\n",
    "\n",
    "For extra practice, but not to be uploaded to Submitty, solve the\n",
    "following:\n",
    "\n",
    "1. Add code to your first function that has a second parameter which\n",
    "  is the minimum temperature in Fahrenheit.  If the converted\n",
    "  temperature is less than this, use this minimum value.  Write code\n",
    "  to run this modified function using the value 459.67 and test that\n",
    "  it works correctly.  \n",
    "1. Add code to the second program you wrote to print out the\n",
    "  result of the calls to `frame_string`.  The output should be the value\n",
    "  `None`.  This is a special Python value that indicates “there is\n",
    "  no value”.  The most common example of using `None` is the\n",
    "  result of a function that has no `return` statement.  "
   ]
  }
 ],
 "metadata": {
  "filename": "exercises.rst",
  "kernelspec": {
   "display_name": "Python",
   "language": "python3",
   "name": "python3"
  },
  "title": "Lecture 5 — Exercises"
 },
 "nbformat": 4,
 "nbformat_minor": 2
}