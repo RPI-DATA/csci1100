{
 "cells": [
  {
   "cell_type": "markdown",
   "metadata": {},
   "source": [
    "Notebook created: 2019-07-16 14:30:28  \n",
    "Generated from: jWebsite/lecture_notes/lec24_functional_exercises/exercises.rst  "
   ]
  },
  {
   "cell_type": "markdown",
   "metadata": {},
   "source": [
    "# Lecture 24 — Exercises\n",
    "\n",
    "Solutions to the problems below must be sent to Submitty for\n",
    "automatic scoring.   A separate file must submitted for each problem.\n",
    "Start with the files available on the Piazza resource page as\n",
    "*lec24_ex_files.zip*.  Solutions must be submitted by 4 pm on Friday,\n",
    "April 27. **Each problem requires that you write / modify exactly one\n",
    "line of code!**\n",
    "\n",
    "1. Modify the code in `prob1.py` to generate a new list where all\n",
    "  values are replaced by their absolute values. You must use `map`,\n",
    "  but there is no need for a lambda function.  \n",
    "1. Modify the code in `prob2.py` to determine the minimum x value of\n",
    "  all points that are in the first quadrant (x and y values both\n",
    "  positive).  This will require you to use `map`, `filter` and\n",
    "  `min`.  You can write this in a single line, but for clarity you\n",
    "  are welcome to write it on two or three.  Do not create a new\n",
    "  list.  \n",
    "1. Modify the code in `prob3.py` to sort the points in a list by\n",
    "  their distance from the origin (i.e. by the magnitude of the\n",
    "  points).  This will require use of a `lambda` function.  \n",
    "1. Modify the code in `prob4.py` to use a list comprehension\n",
    "  statement to convert a list of Fahrenheit temperatures to Celsius,\n",
    "  while eliminating those that are below freezing.  \n",
    "\n",
    "\n",
    "**Congratulations:**  You are finished with the CS 1 lecture exercises!!"
   ]
  }
 ],
 "metadata": {
  "filename": "exercises.rst",
  "kernelspec": {
   "display_name": "Python",
   "language": "python3",
   "name": "python3"
  },
  "title": "Lecture 24 — Exercises"
 },
 "nbformat": 4,
 "nbformat_minor": 2
}