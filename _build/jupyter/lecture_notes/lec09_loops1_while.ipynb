{
 "cells": [
  {
   "cell_type": "markdown",
   "metadata": {},
   "source": [
    "Notebook created: 2019-07-16 14:30:27  \n",
    "Generated from: jWebsite/lecture_notes/lec09_loops1_while.rst  "
   ]
  },
  {
   "cell_type": "markdown",
   "metadata": {},
   "source": [
    "# Lecture 9 — While Loops"
   ]
  },
  {
   "cell_type": "markdown",
   "metadata": {},
   "source": [
    "## Overview\n",
    "\n",
    "- Loops are used to access and modify information stored in lists and\n",
    "  are used to repeat computations many times.  \n",
    "- We construct loops using logical conditions: `while` loops  \n",
    "- We will investiage single and multiple loops  \n",
    "\n",
    "\n",
    "Reading:  Our coverage of loops is in a different order than that of\n",
    "*Practical Programming*.  A direct reference for reading material is\n",
    "Section 9.6."
   ]
  },
  {
   "cell_type": "markdown",
   "metadata": {},
   "source": [
    "## Part 1: The Basics\n",
    "\n",
    "- Loops allow us to repeat a block of code multiple times. This is\n",
    "  the basis for many sophisticated programming tasks  \n",
    "- We will see two ways to write loops: using `while` loops and `for` loops  \n",
    "- In Python, `while` loops are more general in Python because you\n",
    "  can always write a `for` loop using a `while` loop.  \n",
    "- We will start with `while` loops first and then see how we can\n",
    "  simplify common tasks with `for` loops later.  "
   ]
  },
  {
   "cell_type": "markdown",
   "metadata": {},
   "source": [
    "## Basics of While\n",
    "\n",
    "- Our first `while` loop just counts numbers from 1 to 9, and prints them.  "
   ]
  },
  {
   "cell_type": "code",
   "execution_count": null,
   "metadata": {
    "hide-output": false
   },
   "outputs": [],
   "source": [
    "i=1\n",
    "while i<10:\n",
    "    print(i)\n",
    "    i += 1   ## if you forget this, your program will never end"
   ]
  },
  {
   "cell_type": "markdown",
   "metadata": {},
   "source": [
    "- General form of a `while` loop:  "
   ]
  },
  {
   "cell_type": "code",
   "execution_count": null,
   "metadata": {
    "hide-output": false
   },
   "outputs": [],
   "source": [
    "while condition:\n",
    "    block"
   ]
  },
  {
   "cell_type": "markdown",
   "metadata": {},
   "source": [
    "- Steps  \n",
    "  1. Evaluate any code before `while`  \n",
    "  1. Evaluate the `while` loop `condition`:  \n",
    "    1. If it is `True`, evaluate the block of code, and then repeat\n",
    "      the evaluation of the condition.  \n",
    "    1. If it is `False`, end the loop, and continue with the code\n",
    "      after the loop.  \n",
    "  In other words, the cycle of evaluating the condition followed by\n",
    "  evaluating the block of code continues until the condition evaluates\n",
    "  to `False`.  \n",
    "- An important issue that is sometimes easy to answer and sometimes\n",
    "  very hard to answer is to know that your loop will always\n",
    "  terminate.  "
   ]
  },
  {
   "cell_type": "markdown",
   "metadata": {},
   "source": [
    "## Using Loops with Lists\n",
    "\n",
    "- Often, we use loops to repeat a specific operation on every element of\n",
    "  a list.  \n",
    "- We must be careful to create a number that will serve as the index\n",
    "of elements of a list. Valid values are: 0 up to (not including)\n",
    "the length of list.  "
   ]
  },
  {
   "cell_type": "code",
   "execution_count": null,
   "metadata": {
    "hide-output": false
   },
   "outputs": [],
   "source": [
    "co2_levels = [ (2001, 320.03), (2003, 322.16), (2004, 328.07),\\\n",
    "               (2006, 323.91), (2008, 341.47), (2009, 348.92),\\\n",
    "               (2010, 357.29), (2011, 363.77), (2012, 361.51),\\\n",
    "               (2013, 382.47) ]\n",
    "\n",
    "i=0\n",
    "while i< len(co2_levels):\n",
    "    print( \"Year\", co2_levels[i][0], \\\n",
    "           \"CO2 levels:\", co2_levels[i][1])\n",
    "    i += 1"
   ]
  },
  {
   "cell_type": "markdown",
   "metadata": {},
   "source": [
    "- Let’s make some errors to see what happens to the loop.  "
   ]
  },
  {
   "cell_type": "markdown",
   "metadata": {},
   "source": [
    "## Part 1 Practice\n",
    "\n",
    "1. Write a while loop to count down from 10 to 1, printing the values\n",
    "  of the loop counting variable `i` (it could be some other variable\n",
    "  name as well).  \n",
    "1. Modify your loop to print the values in the list `co2_levels` in\n",
    "  reverse order.  "
   ]
  },
  {
   "cell_type": "markdown",
   "metadata": {},
   "source": [
    "## Accumulation of values\n",
    "\n",
    "- Often, we use loops to accumulate some type of information such as\n",
    "  adding all the values in a list.  \n",
    "- Let’s change the loop to add numbers from 1 to 9.  "
   ]
  },
  {
   "cell_type": "code",
   "execution_count": null,
   "metadata": {
    "hide-output": false
   },
   "outputs": [],
   "source": [
    "i=1\n",
    "total = 0\n",
    "while i<10:\n",
    "    total += i\n",
    "    i += 1\n",
    "print(total)"
   ]
  },
  {
   "cell_type": "markdown",
   "metadata": {},
   "source": [
    "(Of course you can and should do this with the `sum()`\n",
    "function, but guess what that actually does!)  \n",
    "- Let’s use a loop to add the numbers in a list.  \n",
    "- Now, we will use the numbers the loop generates to index a list.  \n",
    "- So, the loop must generate numbers from 0 to length of the list.  "
   ]
  },
  {
   "cell_type": "code",
   "execution_count": null,
   "metadata": {
    "hide-output": false
   },
   "outputs": [],
   "source": [
    "co2_levels = [ (2001, 320.03), (2003, 322.16), (2004, 328.07),\\\n",
    "               (2006, 323.91), (2008, 341.47), (2009, 348.92),\\\n",
    "               (2010, 357.29), (2011, 363.77), (2012, 361.51),\\\n",
    "               (2013, 382.47) ]\n",
    "\n",
    "i=0\n",
    "total=0\n",
    "while i< len(co2_levels):\n",
    "    total += co2_levels[i][1]\n",
    "    i += 1\n",
    "\n",
    "print(\"Total co2_levels is\", total)"
   ]
  },
  {
   "cell_type": "markdown",
   "metadata": {},
   "source": [
    "- Let’s have a more interesting example. Be very careful not to use\n",
    "  an incorrect index for the list.  \n",
    "  - Count the number of CO2 values in the list that are greater\n",
    "    than 350.  \n",
    "  - Calculate and print the percentage change in each measurement year\n",
    "    from the previous measurement year.  \n",
    "  - Determine the years in which the CO2 levels dropped compared to the\n",
    "    previous measurement.  Output just these years.  "
   ]
  },
  {
   "cell_type": "markdown",
   "metadata": {},
   "source": [
    "## Part 2 Practice\n",
    "\n",
    "1. Suppose we wanted to print the first, third, fifth, etc. elements\n",
    "in a list. Write code to accomplish this.  "
   ]
  },
  {
   "cell_type": "code",
   "execution_count": null,
   "metadata": {
    "hide-output": false
   },
   "outputs": [],
   "source": [
    "months=['jan','feb','mar','apr','may','jun','jul','aug','sep','oct','nov','dec']"
   ]
  },
  {
   "cell_type": "markdown",
   "metadata": {},
   "source": [
    "1. Now, use a similar loop code to print a little evergreen tree.  "
   ]
  },
  {
   "cell_type": "code",
   "execution_count": null,
   "metadata": {
    "hide-output": false
   },
   "outputs": [],
   "source": [
    "    *\n",
    "   ***\n",
    "  *****\n",
    " *******\n",
    "*********\n",
    "   ***\n",
    "   ***"
   ]
  },
  {
   "cell_type": "markdown",
   "metadata": {},
   "source": [
    "1. Try this later: change your loop to work for any size evergreen.  "
   ]
  },
  {
   "cell_type": "markdown",
   "metadata": {},
   "source": [
    "## Loops that end on other conditions\n",
    "\n",
    "- Here is a while loop to add the non-zero numbers that the user types\n",
    "in.  "
   ]
  },
  {
   "cell_type": "code",
   "execution_count": null,
   "metadata": {
    "hide-output": false
   },
   "outputs": [],
   "source": [
    "total = 0\n",
    "end_found = False\n",
    "\n",
    "while not end_found:\n",
    "    x = int( input(\"Enter an integer to add (0 to end) ==> \"))\n",
    "    if x == 0:\n",
    "        end_found = True\n",
    "    else:\n",
    "        total += x\n",
    "\n",
    "print(total)"
   ]
  },
  {
   "cell_type": "markdown",
   "metadata": {},
   "source": [
    "- We will work through this loop by hand in class.  "
   ]
  },
  {
   "cell_type": "markdown",
   "metadata": {},
   "source": [
    "## Multiple nested loops\n",
    "\n",
    "- Loops and if statements can both be nested.  \n",
    "- We’ve already seen this for if statements.  \n",
    "- Here’s an example where we print every pair of values in a list.  \n",
    "- First solution:  "
   ]
  },
  {
   "cell_type": "code",
   "execution_count": null,
   "metadata": {
    "hide-output": false
   },
   "outputs": [],
   "source": [
    "L = [2, 21, 12, 8, 5, 31]\n",
    "i = 0\n",
    "while i < len(L):\n",
    "\n",
    "    j = 0\n",
    "    while j < len(L):\n",
    "        print(L[i], L[j])\n",
    "        j += 1\n",
    "\n",
    "    i += 1"
   ]
  },
  {
   "cell_type": "markdown",
   "metadata": {},
   "source": [
    "- This solution prints the values from the same pair of indices twice\n",
    "  -  e.g.the pair 21, 12 is printed  once when *i=1*, *j=2* and\n",
    "  once when *i=2*, *j=1*.  \n",
    "- How can we modify it so that we only print each pair once?  \n",
    "- What has to change if we don’t want to print when *i==j*?  \n",
    "- Finally, we will modify the resulting loop to find the two closest\n",
    "  values in the list.  "
   ]
  },
  {
   "cell_type": "markdown",
   "metadata": {},
   "source": [
    "## Summary\n",
    "\n",
    "- Loops are especially useful for iterating over a list, accessing its\n",
    "  contents, and adding or counting the values from a list.  This is\n",
    "  done in the `sum()` and `len()` functions of Python.  \n",
    "- Each loop has a stopping condition — the boolean expression in\n",
    "  the *while* statement.  The loop will end when the condition\n",
    "  evaluates to *True*.  \n",
    "- If the stopping condition is never reached, the loop will become\n",
    "  “infinite”.  \n",
    "- Often a counter variable is used.  It (a) is given an initial value\n",
    "  before the loop starts, (b) is incremented (or decremented) once in\n",
    "  each loop iteration, and (c) is used to stop the loop when it\n",
    "  reaches the index of the end (or beginning) of the list.  \n",
    "- We will demonstrate a simple way to write these common loops with a\n",
    "  `for` loop in the next lecture.  "
   ]
  }
 ],
 "metadata": {
  "filename": "lec09_loops1_while.rst",
  "kernelspec": {
   "display_name": "Python",
   "language": "python3",
   "name": "python3"
  },
  "title": "Lecture 9 — While Loops"
 },
 "nbformat": 4,
 "nbformat_minor": 2
}