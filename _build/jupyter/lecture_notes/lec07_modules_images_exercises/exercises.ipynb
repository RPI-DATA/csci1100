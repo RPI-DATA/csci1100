{
 "cells": [
  {
   "cell_type": "markdown",
   "metadata": {},
   "source": [
    "Notebook created: 2019-07-16 14:30:27  \n",
    "Generated from: jWebsite/lecture_notes/lec07_modules_images_exercises/exercises.rst  "
   ]
  },
  {
   "cell_type": "markdown",
   "metadata": {},
   "source": [
    "# Lecture 7 — Exercises\n",
    "\n",
    "Solutions to the problems below must be sent to Submitty for grading.\n",
    "A separate file must be submitted for each problem.  These must be\n",
    "submitted by 4 pm on Friday, February 9th.\n",
    "\n",
    "1. What is the output from the following code.  Note that we did not\n",
    "cover all of these techniques in class, so you might need to do\n",
    "some exploration on your own.  "
   ]
  },
  {
   "cell_type": "code",
   "execution_count": null,
   "metadata": {
    "hide-output": false
   },
   "outputs": [],
   "source": [
    "def hmmm( x ):\n",
    "    if x[0] > x[1]:\n",
    "        return (x[1], x[0])\n",
    "    else:\n",
    "        return x\n",
    "\n",
    "s = ('a', 'b')\n",
    "t = (1, 2, 3)\n",
    "u = (4, 5, 2)\n",
    "print( t[1] + u[0] )\n",
    "print( t+u )\n",
    "print( s[1] * t[2] )\n",
    "print( hmmm(u) )\n",
    "print( hmmm( (5, 2, 3) ))"
   ]
  },
  {
   "cell_type": "markdown",
   "metadata": {},
   "source": [
    "1. Write a function called `add_tuples` that takes three tuples,\n",
    "each with two values, and returns a single tuple with two values\n",
    "containing the sum of the values in the tuples.  Test your function\n",
    "with the following calls:  "
   ]
  },
  {
   "cell_type": "code",
   "execution_count": null,
   "metadata": {
    "hide-output": false
   },
   "outputs": [],
   "source": [
    "print(add_tuples( (1,4), (8,3), (14,0) ))\n",
    "print(add_tuples( (3,2), (11,1), (-2,6) ))"
   ]
  },
  {
   "cell_type": "markdown",
   "metadata": {},
   "source": [
    "Note that these two lines of code should be at the bottom of your\n",
    "program.  This should output  "
   ]
  },
  {
   "cell_type": "code",
   "execution_count": null,
   "metadata": {
    "hide-output": false
   },
   "outputs": [],
   "source": [
    "(23, 7)\n",
    "(12, 9)"
   ]
  }
 ],
 "metadata": {
  "filename": "exercises.rst",
  "kernelspec": {
   "display_name": "Python",
   "language": "python3",
   "name": "python3"
  },
  "title": "Lecture 7 — Exercises"
 },
 "nbformat": 4,
 "nbformat_minor": 2
}