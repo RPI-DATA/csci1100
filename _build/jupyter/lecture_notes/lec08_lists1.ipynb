{
 "cells": [
  {
   "cell_type": "markdown",
   "metadata": {},
   "source": [
    "Notebook created: 2019-07-16 14:30:27  \n",
    "Generated from: jWebsite/lecture_notes/lec08_lists1.rst  "
   ]
  },
  {
   "cell_type": "markdown",
   "metadata": {},
   "source": [
    "# Lecture 8 — Lists Part 1"
   ]
  },
  {
   "cell_type": "markdown",
   "metadata": {},
   "source": [
    "## Overview\n",
    "\n",
    "- So far we’ve looked at working with individual values and variables.  \n",
    "- This is cumbersome even for just two or three variables.  \n",
    "- We need a way to aggregate multiple values and refer to them using a\n",
    "  single variable.  \n",
    "- We have done a little bit of this with strings and tuples, but now\n",
    "  we are going to get started for real.  \n",
    "\n",
    "\n",
    "This lecture is largely based on Sections 8.1-8.3 of *Practical Programming*."
   ]
  },
  {
   "cell_type": "markdown",
   "metadata": {},
   "source": [
    "## Lists are Sequences of Values\n",
    "\n",
    "- Gather together values that have common meaning.  \n",
    "- As a first example, here are scores of 7 judges for the free\n",
    "skating part of a figure skating competition:  "
   ]
  },
  {
   "cell_type": "code",
   "execution_count": null,
   "metadata": {
    "hide-output": false
   },
   "outputs": [],
   "source": [
    "scores = [ 59, 61, 63, 63, 68, 64, 58 ]"
   ]
  },
  {
   "cell_type": "markdown",
   "metadata": {},
   "source": [
    "- As a second example, here are the names of the planets in the solar\n",
    "system (including Pluto, for now):  "
   ]
  },
  {
   "cell_type": "code",
   "execution_count": null,
   "metadata": {
    "hide-output": false
   },
   "outputs": [],
   "source": [
    "planets = [ 'Mercury', 'Venus', 'Earth', 'Mras', 'Jupiter',\n",
    "    'Saturn', 'Neptune', 'Uranus', 'Pluto' ]"
   ]
  },
  {
   "cell_type": "markdown",
   "metadata": {},
   "source": [
    "- Notes on syntax:  \n",
    "  - Begin with `[` and end with `]`  \n",
    "  - Commas separate the individual values  \n",
    "  - The spaces between values are optional and are used for clarity\n",
    "    here.  \n",
    "  - Any type of object may be stored in a list, and each list can mix\n",
    "    different types.  "
   ]
  },
  {
   "cell_type": "markdown",
   "metadata": {},
   "source": [
    "## Why bother?\n",
    "\n",
    "- Gather common values together, providing them with a common name,\n",
    "  **especially** when we don’t know how many values we will have.  \n",
    "- Apply an operation to the values as a group.  \n",
    "- Apply an operation to each value in the group.  \n",
    "- Examples of computations on lists:  \n",
    "  - Average and standard deviation  \n",
    "  - Which values are above and below the average  \n",
    "  - Correct mistakes  \n",
    "  - Remove values (Pluto)  \n",
    "  - Look at differences  \n",
    "- Watch for these themes throughout the next few lectures.  "
   ]
  },
  {
   "cell_type": "markdown",
   "metadata": {},
   "source": [
    "## Accessing Individual Values — Indexing\n",
    "\n",
    "- Notice that we made the mistake in typing `'Mras'`. How do we fix\n",
    "  this? We’ll start by looking at *indexing*.  \n",
    "- The line  "
   ]
  },
  {
   "cell_type": "code",
   "execution_count": null,
   "metadata": {
    "hide-output": false
   },
   "outputs": [],
   "source": [
    ">>> print(planets[1])"
   ]
  },
  {
   "cell_type": "markdown",
   "metadata": {},
   "source": [
    "accesses and prints the string at what’s known as index 1 of the list\n",
    "`planets`.  \n",
    "- Each item / value in the list is associated with a unique index  \n",
    "- Indexing in Python (and most other programming languages) starts at\n",
    "  0.  \n",
    "- The notation is again to use `[` and `]` with an integer\n",
    "  (non-negative) to indicate which list item.  \n",
    "- What is the last index in `planets`?  \n",
    "  - We can find the length using `len()` and then figure out the\n",
    "    answer.  "
   ]
  },
  {
   "cell_type": "markdown",
   "metadata": {},
   "source": [
    "## A Memory Model for Lists\n",
    "\n",
    "We’ll draw a memory model in class that illustrates the relationship\n",
    "among\n",
    "\n",
    "- The name of the list  \n",
    "- The indices  \n",
    "- The values stored in the list  "
   ]
  },
  {
   "cell_type": "markdown",
   "metadata": {},
   "source": [
    "## Practice Problems\n",
    "\n",
    "We will work on these in class:\n",
    "\n",
    "1. What is the index of the first value in `scores` that is\n",
    "  greater than 65?  \n",
    "1. Write a line of Python code to print this value and to print the\n",
    "  previous and next values of the list.  \n",
    "1. What is the index of the middle value in a list that is odd length?\n",
    "  For even length lists, what are the indices of the middle two values?  "
   ]
  },
  {
   "cell_type": "markdown",
   "metadata": {},
   "source": [
    "## Changing Values in the List\n",
    "\n",
    "- Once we know about indexing, changing a value in a list is easy:  "
   ]
  },
  {
   "cell_type": "code",
   "execution_count": null,
   "metadata": {
    "hide-output": false
   },
   "outputs": [],
   "source": [
    ">>> planets[3] = 'Mars'"
   ]
  },
  {
   "cell_type": "markdown",
   "metadata": {},
   "source": [
    "- This makes item 3 of `planets` now refer to the string `'Mars'`  \n",
    "- Now we can check the output:  "
   ]
  },
  {
   "cell_type": "code",
   "execution_count": null,
   "metadata": {
    "hide-output": false
   },
   "outputs": [],
   "source": [
    ">>> print(planets)"
   ]
  },
  {
   "cell_type": "markdown",
   "metadata": {},
   "source": [
    "to make sure we got it right.  \n",
    "- Strings are similar in many ways.  "
   ]
  },
  {
   "cell_type": "code",
   "execution_count": null,
   "metadata": {
    "hide-output": false
   },
   "outputs": [],
   "source": [
    ">>> s = 'abc'\n",
    ">>> s[0]\n",
    "'a'\n",
    ">>> s[1]\n",
    "'b'"
   ]
  },
  {
   "cell_type": "markdown",
   "metadata": {},
   "source": [
    "- Big difference: you can change a part of a list; you cannot\n",
    "change part of a string!  "
   ]
  },
  {
   "cell_type": "code",
   "execution_count": null,
   "metadata": {
    "hide-output": false
   },
   "outputs": [],
   "source": [
    ">>> s[1] = 'A'\n",
    "Traceback (most recent call last):\n",
    "File \"<stdin>\", line 1, in <module>\n",
    "TypeError: 'str' object does not support item assignment"
   ]
  },
  {
   "cell_type": "markdown",
   "metadata": {},
   "source": [
    "\n",
    "\n",
    "## All Indices Are Not Allowed\n",
    "\n",
    "- If `t` is a list, then the items are stored at indices from 0 to\n",
    "  `len(t)-1`.  \n",
    "- If you try to access indices at `len(t)` or beyond, you get a\n",
    "  run-time error. We’ll take a look and see.  \n",
    "- If you access negative indices, interesting things happen:  "
   ]
  },
  {
   "cell_type": "code",
   "execution_count": null,
   "metadata": {
    "hide-output": false
   },
   "outputs": [],
   "source": [
    ">>> print(planets[-1])\n",
    "Pluto"
   ]
  },
  {
   "cell_type": "markdown",
   "metadata": {},
   "source": [
    "- More specifically, for any list `t`, if `i` is an index from 0 to\n",
    "  `len(t)-1` then `t[i]` and `t[i-len(t)]` are the same spot in\n",
    "  the list.  "
   ]
  },
  {
   "cell_type": "markdown",
   "metadata": {},
   "source": [
    "## Functions on Lists: Computing the Average\n",
    "\n",
    "- There are many functions (methods) on lists. We can learn all about\n",
    "them using the `help` command.  \n",
    "- This is just like we did for strings and for modules, e.g.  "
   ]
  },
  {
   "cell_type": "code",
   "execution_count": null,
   "metadata": {
    "hide-output": false
   },
   "outputs": [],
   "source": [
    ">>> import math\n",
    ">>> help(math)\n",
    "\n",
    ">>> help(str)"
   ]
  },
  {
   "cell_type": "markdown",
   "metadata": {},
   "source": [
    "- Interestingly, we can run help in two ways, one  "
   ]
  },
  {
   "cell_type": "code",
   "execution_count": null,
   "metadata": {
    "hide-output": false
   },
   "outputs": [],
   "source": [
    "help(list)"
   ]
  },
  {
   "cell_type": "markdown",
   "metadata": {},
   "source": [
    "gives us the list methods, and the second  "
   ]
  },
  {
   "cell_type": "code",
   "execution_count": null,
   "metadata": {
    "hide-output": false
   },
   "outputs": [],
   "source": [
    "help(planets)"
   ]
  },
  {
   "cell_type": "markdown",
   "metadata": {},
   "source": [
    "tells us that `planets` is a list before giving us list methods.  \n",
    "- First, let’s see some basic functions on the list values.  \n",
    "- The basic functions `max`, `sum` and `min` may be applied to lists as\n",
    "  well.  \n",
    "- This gives us a simple way to compute the average of our list of\n",
    "scores.  "
   ]
  },
  {
   "cell_type": "code",
   "execution_count": null,
   "metadata": {
    "hide-output": false
   },
   "outputs": [],
   "source": [
    ">>> print(\"Average Scores = {:.2f}\".format( sum(scores) / len(scores) ))\n",
    "Average Scores = 62.29\n",
    ">>> print(\"Max Score =\", max(scores))\n",
    "Max Score = 68\n",
    ">>> print(\"Min Score =\", min(scores))\n",
    "Min Score = 58"
   ]
  },
  {
   "cell_type": "markdown",
   "metadata": {},
   "source": [
    "- Exploring, we will look at what happens when we apply `sum`,\n",
    "  `max` and `min` to our list of planet names. Can you explain the\n",
    "  result?  "
   ]
  },
  {
   "cell_type": "markdown",
   "metadata": {},
   "source": [
    "## Functions that modify the input: Sorting a list\n",
    "\n",
    "- We can also sort the values in a list by sorting it. Let’s try the\n",
    "following:  "
   ]
  },
  {
   "cell_type": "code",
   "execution_count": null,
   "metadata": {
    "hide-output": false
   },
   "outputs": [],
   "source": [
    ">>> planets = [ 'Mercury', 'Venus', 'Earth', 'Mras', 'Jupiter', \\\n",
    "'Saturn', 'Neptune', 'Uranus', 'Pluto' ]\n",
    ">>> planets\n",
    "['Mercury', 'Venus', 'Earth', 'Mras', 'Jupiter', 'Saturn', 'Neptune', 'Uranus', 'Pluto']\n",
    ">>> planets.sort()\n",
    ">>> planets\n",
    "['Earth', 'Jupiter', 'Mercury', 'Mras', 'Neptune', 'Pluto', 'Saturn', 'Uranus', 'Venus']"
   ]
  },
  {
   "cell_type": "markdown",
   "metadata": {},
   "source": [
    "- Note that we did not assign the value returned by sort to a new\n",
    "variable. This is the first function we have learned outside\n",
    "of our Image module that modifies the\n",
    "input but returns nothing. Try the following and see what happens:  "
   ]
  },
  {
   "cell_type": "code",
   "execution_count": null,
   "metadata": {
    "hide-output": false
   },
   "outputs": [],
   "source": [
    ">>> scores = [ 59, 61, 63, 63, 68, 64, 58 ]\n",
    ">>> new_scores = scores.sort()\n",
    ">>> scores\n",
    "[58, 59, 61, 63, 63, 64, 68]\n",
    ">>> new_scores\n",
    ">>>"
   ]
  },
  {
   "cell_type": "markdown",
   "metadata": {},
   "source": [
    "- Ok, what is the value of the variable `new_scores`? It is\n",
    "  unclear. Let’s  try in a different way.  "
   ]
  },
  {
   "cell_type": "code",
   "execution_count": null,
   "metadata": {
    "hide-output": false
   },
   "outputs": [],
   "source": [
    ">>> print(scores)\n",
    "[58, 59, 61, 63, 63, 64, 68]\n",
    ">>> print(new_scores)\n",
    "None\n",
    ">>>"
   ]
  },
  {
   "cell_type": "markdown",
   "metadata": {},
   "source": [
    "- So, the function returns nothing! But, it does change the value of\n",
    "  the input list.  \n",
    "- It does so because lists are containers, and functions can\n",
    "  manipulate what is inside containers. Functions cannot do so for simple\n",
    "  types like integer and float.  \n",
    "- If we want a new list that is sorted without changing the original list\n",
    "then we use the `sorted()` function:  "
   ]
  },
  {
   "cell_type": "code",
   "execution_count": null,
   "metadata": {
    "hide-output": false
   },
   "outputs": [],
   "source": [
    ">>> scores = [ 59, 61, 63, 63, 68, 64, 58 ]\n",
    ">>> new_scores = sorted(scores)\n",
    ">>> scores\n",
    "[ 59, 61, 63, 63, 68, 64, 58 ]\n",
    ">>> new_scores\n",
    "[58, 59, 61, 63, 63, 64, 68]\n",
    ">>>"
   ]
  },
  {
   "cell_type": "markdown",
   "metadata": {},
   "source": [
    "\n",
    "\n",
    "## More Functions: Appending Values, Inserting Values, Deleting\n",
    "\n",
    "- Now, we will see more functions that can change the value of a list\n",
    "  without returning anything.  \n",
    "- Armed with this knowledge, we can figure out how to add and remove\n",
    "  values from a list:  \n",
    "  - `append()`  \n",
    "  - `insert()`  \n",
    "  - `pop()`  \n",
    "  - `remove()`  \n",
    "- These operations are fundamental to any “container” — an object type\n",
    "  that stores other objects.  \n",
    "  - Lists are our first example of a container  "
   ]
  },
  {
   "cell_type": "markdown",
   "metadata": {},
   "source": [
    "## Lists of Lists\n",
    "\n",
    "- Note that lists can contain any mixture of values, including other lists.  \n",
    "- For example, in  "
   ]
  },
  {
   "cell_type": "code",
   "execution_count": null,
   "metadata": {
    "hide-output": false
   },
   "outputs": [],
   "source": [
    ">>> L = [ 'Alice', 3.75, ['MATH', 'CSCI', 'PSYC' ], 'PA' ]"
   ]
  },
  {
   "cell_type": "markdown",
   "metadata": {},
   "source": [
    "- `L[0]` is the name,  \n",
    "- `L[1]` is the GPA  \n",
    "  - `L[2]` is a list of courses  \n",
    "  - `L[2][0]` is the 0th course, `'MATH'`  \n",
    "  - `L[3]` is a home state abbreviation  \n",
    "- We will write code to print the courses, to change the math course to\n",
    "  a stats course, and to append a zipcode.  "
   ]
  },
  {
   "cell_type": "markdown",
   "metadata": {},
   "source": [
    "## Additional Practice Problems\n",
    "\n",
    "1. Write three different ways of removing the last value — `'Pluto'` —\n",
    "  from the list of planets. Two of these will use the method `pop`.  \n",
    "1. Write code to insert `'Asteroid belt'` between `'Mars'` and\n",
    "  `'Jupiter'`.  "
   ]
  },
  {
   "cell_type": "markdown",
   "metadata": {},
   "source": [
    "## Summary\n",
    "\n",
    "- Lists are sequences of values, allowing these values to be collected\n",
    "  and processed together.  \n",
    "- Individual values can be accessed and changed through indexing.  \n",
    "- Functions and methods can be used to **return** important properties\n",
    "  of lists like `min()`, `max()`, `sum()`.  \n",
    "- Functions and methods can be also used to **modify** lists, but not\n",
    "  return anything.  "
   ]
  }
 ],
 "metadata": {
  "filename": "lec08_lists1.rst",
  "kernelspec": {
   "display_name": "Python",
   "language": "python3",
   "name": "python3"
  },
  "title": "Lecture 8 — Lists Part 1"
 },
 "nbformat": 4,
 "nbformat_minor": 2
}