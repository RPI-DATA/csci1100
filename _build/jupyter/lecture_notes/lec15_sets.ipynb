{
 "cells": [
  {
   "cell_type": "markdown",
   "metadata": {},
   "source": [
    "Notebook created: 2019-07-16 14:30:27  \n",
    "Generated from: jWebsite/lecture_notes/lec15_sets.rst  "
   ]
  },
  {
   "cell_type": "markdown",
   "metadata": {},
   "source": [
    "# Lecture 15 — Sets"
   ]
  },
  {
   "cell_type": "markdown",
   "metadata": {},
   "source": [
    "## Overview\n",
    "\n",
    "- Example: finding all individuals listed in the Internet Movie\n",
    "  Database (IMDB)  \n",
    "- A solution based on lists  \n",
    "- Sets and set operations  \n",
    "- A solution based on sets.  \n",
    "- Efficiency and set representation  \n",
    "\n",
    "\n",
    "Reading is Section 11.1 of *Practical Programming*."
   ]
  },
  {
   "cell_type": "markdown",
   "metadata": {},
   "source": [
    "## Finding All Persons in the IMDB file\n",
    "\n",
    "- We are given a file extracted from the Internet Movie Database (IMDB)\n",
    "called `imdb_data.txt` containing, on each line, a person’s name, a\n",
    "movie name, and a year. For example,  "
   ]
  },
  {
   "cell_type": "code",
   "execution_count": null,
   "metadata": {
    "hide-output": false
   },
   "outputs": [],
   "source": [
    "Kishiro, Yukito   | Battle Angel    | 2016"
   ]
  },
  {
   "cell_type": "markdown",
   "metadata": {},
   "source": [
    "- Goal:  \n",
    "  - Find all persons named in the file  \n",
    "  - Count the number of different persons named.  \n",
    "  - Ask if a particular person is named in the file  \n",
    "- The challenge in doing this is that many names appear multiple times.  \n",
    "- First solution: store names in a list. We’ll start from the\n",
    "following code, posted on Piazza in\n",
    "`lec15_find_names_start.py`, which is part of a Lecture 15 zip file.  "
   ]
  },
  {
   "cell_type": "code",
   "execution_count": null,
   "metadata": {
    "hide-output": false
   },
   "outputs": [],
   "source": [
    "imdb_file = input(\"Enter the name of the IMDB file ==> \").strip()\n",
    "name_list = []\n",
    "for line in open(imdb_file, encoding = \"ISO-8859-1\"):\n",
    "    words = line.strip().split('|')\n",
    "    name = words[0].strip()"
   ]
  },
  {
   "cell_type": "markdown",
   "metadata": {},
   "source": [
    "and complete the code in class.  \n",
    "- The challenge is that we need to check that a name is not already in\n",
    "  the list before adding it.  \n",
    "- You may access the data files and the starting code .py file from\n",
    "  the Resources page of the Piazza site.  "
   ]
  },
  {
   "cell_type": "markdown",
   "metadata": {},
   "source": [
    "## How To Test?\n",
    "\n",
    "- The file `imdb_data.txt` has about 260K entries. How will we know\n",
    "  our results are correct?  \n",
    "- Even if we restrict it to movies released in 2010-2012 (the file\n",
    "  `imdb_2010-12.txt`), we still have 25K entries!  \n",
    "- We need to generate a smaller file with results we can test by hand  \n",
    "  - I have generated `hanks.txt` for you and will use it to test our\n",
    "    program before testing on the larger files.  "
   ]
  },
  {
   "cell_type": "markdown",
   "metadata": {},
   "source": [
    "## What Happens?\n",
    "\n",
    "- Very slow on the large files because we need to scan through the list\n",
    "  to see if a name is already there.  \n",
    "- We’ll write a faster implementation based on Python *sets*.  \n",
    "- We’ll start with the basics of sets.  "
   ]
  },
  {
   "cell_type": "markdown",
   "metadata": {},
   "source": [
    "## Sets\n",
    "\n",
    "- A Python set is an implementation of the mathematical notion of a\n",
    "  set:  \n",
    "  - No order to the values (and therefore no indexing)  \n",
    "  - Contains no duplicates  \n",
    "  - Contains whatever type of values we wish; including values of\n",
    "    different types.  \n",
    "- Python set methods are exactly what you would expect.  \n",
    "  - Each has a function call syntax and many have operator syntax in\n",
    "    addition.  "
   ]
  },
  {
   "cell_type": "markdown",
   "metadata": {},
   "source": [
    "## Set Methods\n",
    "\n",
    "- Initialization comes from a list, a range, or from just `set()`:  "
   ]
  },
  {
   "cell_type": "code",
   "execution_count": null,
   "metadata": {
    "hide-output": false
   },
   "outputs": [],
   "source": [
    ">>> s1 = set()\n",
    ">>> s1\n",
    "set()\n",
    ">>> s2 = set(range(0,11,2))\n",
    ">>> s2\n",
    "{0, 2, 4, 6, 8, 10}\n",
    ">>> v = [4, 8, 4, 'hello', 32, 64, 'spam', 32, 256]\n",
    ">>> s3 = set(v)\n",
    ">>> s3\n",
    "{32, 64, 4, 'spam', 8, 256, 'hello'}"
   ]
  },
  {
   "cell_type": "markdown",
   "metadata": {},
   "source": [
    "- The actual methods are  \n",
    "- `s.add(x)` — add an element if it is not already there  \n",
    "- `s.clear()` — clear out the set, making it empty  \n",
    "- `s1.difference(s2)` — create a new set with the values from\n",
    "`s1` that are not in `s2`.  \n",
    "- Python also has an “operator syntax” for this:  "
   ]
  },
  {
   "cell_type": "code",
   "execution_count": null,
   "metadata": {
    "hide-output": false
   },
   "outputs": [],
   "source": [
    "s1 - s2"
   ]
  },
  {
   "cell_type": "markdown",
   "metadata": {},
   "source": [
    "- `s1.intersection(s2)` — create a new set that contains only the\n",
    "values that are in **both** sets. Operator syntax:  "
   ]
  },
  {
   "cell_type": "code",
   "execution_count": null,
   "metadata": {
    "hide-output": false
   },
   "outputs": [],
   "source": [
    "s1 & s2"
   ]
  },
  {
   "cell_type": "markdown",
   "metadata": {},
   "source": [
    "- `s1.union(s2)` — create a new set that contains values that are\n",
    "in either set. Operator syntax:  "
   ]
  },
  {
   "cell_type": "code",
   "execution_count": null,
   "metadata": {
    "hide-output": false
   },
   "outputs": [],
   "source": [
    "s1 | s2"
   ]
  },
  {
   "cell_type": "markdown",
   "metadata": {},
   "source": [
    "- `s1.issubset(s2)` —- are all elements of `s1` also in `s2`?\n",
    "Operator syntax:  "
   ]
  },
  {
   "cell_type": "code",
   "execution_count": null,
   "metadata": {
    "hide-output": false
   },
   "outputs": [],
   "source": [
    "s1 <= s2"
   ]
  },
  {
   "cell_type": "markdown",
   "metadata": {},
   "source": [
    "- `s1.issuperset(s2)` — are all elements of `s2` also in `s1`?\n",
    "Operator syntax:  "
   ]
  },
  {
   "cell_type": "code",
   "execution_count": null,
   "metadata": {
    "hide-output": false
   },
   "outputs": [],
   "source": [
    "s1 >= s2"
   ]
  },
  {
   "cell_type": "markdown",
   "metadata": {},
   "source": [
    "- `s1.symmetric_difference(s2)` — create a new set that contains\n",
    "values that are in `s1` or `s2` but **not in both**.  "
   ]
  },
  {
   "cell_type": "code",
   "execution_count": null,
   "metadata": {
    "hide-output": false
   },
   "outputs": [],
   "source": [
    "s1 ^ s2"
   ]
  },
  {
   "cell_type": "markdown",
   "metadata": {},
   "source": [
    "- `x in s` - evaluates to `True` if the value associated with\n",
    "    `x` is in set `s`.  \n",
    "- We will explore the intuitions behind these set operations by\n",
    "considering  \n",
    "- `s1` to be the set of actors in *comedies*,  \n",
    "- `s2` to be the set of actors in *action movies*  \n",
    "and then consider who is in the sets  "
   ]
  },
  {
   "cell_type": "code",
   "execution_count": null,
   "metadata": {
    "hide-output": false
   },
   "outputs": [],
   "source": [
    "s1 - s2\n",
    "\n",
    "s1 & s2\n",
    "\n",
    "s1 | s2\n",
    "\n",
    "s1 ^ s2"
   ]
  },
  {
   "cell_type": "markdown",
   "metadata": {},
   "source": [
    "\n",
    "\n",
    "## Exercises\n",
    "\n",
    "1. Sets should be relatively intuitive, so rather than demo them in\n",
    "class, we’ll work through these as an exercise:  "
   ]
  },
  {
   "cell_type": "code",
   "execution_count": null,
   "metadata": {
    "hide-output": false
   },
   "outputs": [],
   "source": [
    ">>> s1 = set(range(0,10))\n",
    ">>> s1\n",
    "\n",
    "\n",
    ">>> s1.add(6)\n",
    ">>> s1.add(10)\n",
    "\n",
    "\n",
    ">>> s2 = set(range(4,20,2))\n",
    ">>> s2\n",
    "\n",
    "\n",
    ">>> s1 - s2\n",
    "\n",
    "\n",
    ">>> s1 & s2\n",
    "\n",
    "\n",
    ">>> s1 | s2\n",
    "\n",
    "\n",
    ">>> s1 <= s2\n",
    "\n",
    "\n",
    ">>> s3 = set(range(4,20,4))\n",
    ">>> s3 <= s2"
   ]
  },
  {
   "cell_type": "markdown",
   "metadata": {},
   "source": [
    "\n",
    "\n",
    "## Back to Our Problem\n",
    "\n",
    "- We’ll modify our code to find the actors in the IMDB. The code is\n",
    "  actually very simple and only requires a few set operations.  "
   ]
  },
  {
   "cell_type": "markdown",
   "metadata": {},
   "source": [
    "## Side-by-Side Comparison of the Two Solutions\n",
    "\n",
    "- Neither the set nor the list is ordered. We can fix this at the end by\n",
    "  sorting.  \n",
    "  - The list can be sorted directly.  \n",
    "  - The set must be converted to a list first. The function `sorted`\n",
    "    does this for us.  \n",
    "- What about speed? The set version is **MUCH FASTER** — to the point\n",
    "  that the list version is essentially useless on a large data set.  \n",
    "  - We’ll use some timings to demonstrate this quantitatively  \n",
    "  - We’ll then explore why in the rest of this lecture.  "
   ]
  },
  {
   "cell_type": "markdown",
   "metadata": {},
   "source": [
    "## Comparison of Running Times for Our Two Solutions\n",
    "\n",
    "- List-based solution:  \n",
    "  - Each time before a name is added, the code — through the method\n",
    "    `in` — scans through the entire list to decide if it is there.  \n",
    "  - Thus, the work done is proportional to the size of the list.  \n",
    "  - The overall running time is therefore roughly proportional to the\n",
    "    `square` of the number of entries in the list (and the file).  \n",
    "  - Letting the mathematical variable $ N $ represent the length\n",
    "    of the list, we write this more formally as $ O(N^2) $, or\n",
    "    “the order of N squared”  \n",
    "- Set-based code  \n",
    "  - For sets, Python uses a technique called *hashing* to restrict the\n",
    "    running time of the `add` method so that it is *independent of\n",
    "    size of the set*.  \n",
    "    - The details of hashing are covered in CSCI 1200, Data\n",
    "      Structures.  \n",
    "  - The overall running time is therefore roughly proportional to the\n",
    "    length of the set (and number of entries in the file).  \n",
    "  - We write this as $ O(N) $.  \n",
    "- We will discuss this type of analysis more later in the semester.  \n",
    "  - It is covered in much greater detail in Data Structures and again\n",
    "    in Intro. to Algorithms.  "
   ]
  },
  {
   "cell_type": "markdown",
   "metadata": {},
   "source": [
    "## Discussion\n",
    "\n",
    "- Python largely hides the details of the containers — set and list in\n",
    "  this case — and therefore it is hard to know which is more efficient\n",
    "  and why.  \n",
    "- For programs applied to small problems involving small data sets,\n",
    "  efficiency rarely matters.  \n",
    "- For longer programs and programs that work on larger data sets,\n",
    "  efficiency does matter, sometimes tremendously. What do we do?  \n",
    "  - In some cases, we still use Python and choose the containers and\n",
    "    operations that make the code most efficient.  \n",
    "  - In others, we must switch to programming languages, such as C++,\n",
    "    that generate and use compiled code.  "
   ]
  },
  {
   "cell_type": "markdown",
   "metadata": {},
   "source": [
    "## Summary\n",
    "\n",
    "- Sets in Python realize the notion of a mathematical set, with all the\n",
    "  associated operations.  \n",
    "- Operations can be used as method calls or, in many cases, operators.  \n",
    "- The combined core operations of finding if a value is in a set and\n",
    "  adding it to the set are **much faster when using a set** than the\n",
    "  corresponding operations using a list.  \n",
    "- We will continue to see examples of programming with sets when we\n",
    "  work with dictionaries.  "
   ]
  },
  {
   "cell_type": "markdown",
   "metadata": {},
   "source": [
    "## Extra Practice Problems\n",
    "\n",
    "1. Write Python code that implements the following set functions using a\n",
    "  combination of loops, the `in` operator, and the `add` function.\n",
    "  In each case, `s1` and `s2` are sets and the function call should\n",
    "  return a set.  \n",
    "  1. `union(s1,s2)`  \n",
    "  1. `intersection(s1,s2)`  \n",
    "  1. `symmetric_difference(s1,s2)`  "
   ]
  }
 ],
 "metadata": {
  "filename": "lec15_sets.rst",
  "kernelspec": {
   "display_name": "Python",
   "language": "python3",
   "name": "python3"
  },
  "title": "Lecture 15 — Sets"
 },
 "nbformat": 4,
 "nbformat_minor": 2
}