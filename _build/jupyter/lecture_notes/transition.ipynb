{
 "cells": [
  {
   "cell_type": "markdown",
   "metadata": {},
   "source": [
    "Notebook created: 2019-07-16 14:30:28  \n",
    "Generated from: jWebsite/lecture_notes/transition.rst  "
   ]
  },
  {
   "cell_type": "markdown",
   "metadata": {},
   "source": [
    "# Transition to the next class - Data Structures"
   ]
  },
  {
   "cell_type": "markdown",
   "metadata": {},
   "source": [
    "## Overview\n",
    "\n",
    "If you are continuing on your journey in Computer Science, here are\n",
    "some suggestions for you.\n",
    "\n",
    "- The next class in the sequence will introduce you to completely new\n",
    "  concepts, building on the concepts learnt in this class.  \n",
    "- Make sure you are very comfortable with the concepts we learnt\n",
    "  here. Review labs and homeworks, make sure you can solve them\n",
    "  pretty easily.  \n",
    "- Install a working environment in C++, which is the language you\n",
    "  will be using in the next class.  \n",
    "- Review C++ syntax before you take your next class. Make sure you\n",
    "  develop:  \n",
    "  - Skills to solve the CS-1 level problems in C++.  \n",
    "  - Skills to debug C++ programs.  \n",
    "  Students who wrote basic C++ programs over the break did well in\n",
    "  Data Structures. It also helps solidify your algorithmic problem\n",
    "  solving skills.  \n",
    "- You can also review the first few labs in Data Structures if you\n",
    "  wish and work on those in advance:  \n",
    "  [http://www.cs.rpi.edu/academics/courses/fall17/csci1200/calendar.php](http://www.cs.rpi.edu/academics/courses/fall17/csci1200/calendar.php)  \n",
    "\n",
    "\n",
    "In this document, there are some suggestions to help you get ready for\n",
    "your next class."
   ]
  },
  {
   "cell_type": "markdown",
   "metadata": {},
   "source": [
    "## Learning C++\n",
    "\n",
    "You are not learning C++ from scratch. Many basic constructs are very\n",
    "similar in C++, but there are differences too. Here are some sources\n",
    "that were highly recommended:\n",
    "\n",
    "- Tutorial on C++:  \n",
    "  [http://www.cplusplus.com/doc/tutorial/](http://www.cplusplus.com/doc/tutorial/)  \n",
    "- See also this for a quick overview of syntax:  \n",
    "  [http://www.cs.rpi.edu/academics/courses/fall17/csci1200/other_information.php](http://www.cs.rpi.edu/academics/courses/fall17/csci1200/other_information.php)  \n",
    "- Another good site for video tutorials:  \n",
    "  [https://www.thenewboston.com/index.php](https://www.thenewboston.com/index.php)  \n",
    "\n",
    "\n",
    "Go through the tutorial and the videos. Make sure to write many\n",
    "programs."
   ]
  },
  {
   "cell_type": "markdown",
   "metadata": {},
   "source": [
    "## Differences between Python and C++\n",
    "\n",
    "Here are a few first things to notice between the two:\n",
    "\n",
    "- C++ is a compiled statically typed language. This means that\n",
    "  variables need to be defined with a data type first, and the data\n",
    "  type cannot be changed.  \n",
    "- Programs cannot be run until compiled. If you have a syntax error,\n",
    "  the compiler will not produce an executable until you resolve all\n",
    "  syntax errors.  \n",
    "- In C++, many new errors will be checked at compile time, like trying\n",
    "  to add a string and an integer. As Python is dynamically typed, you\n",
    "  are used to resolving such errors at run time. This means, you will\n",
    "  spend more of your time in fixing compilation errors in C++ than in\n",
    "  Python. Hence, learn to write programs in small steps, test and\n",
    "  expand.  \n",
    "- Syntax differences: each line in a program must end with a semicolon\n",
    "  and each block must be delimited by curly brackets.  \n",
    "- Be aware of the scope of local/global variables. Generally using our\n",
    "  convention of passing variables to functions only as arguments and\n",
    "  returning the result will help you a lot.  \n",
    "- Strings and a single character are the same type of object in\n",
    "  Python, but not in C++. Overall, make sure you understand each data\n",
    "  type well first. Start with simple data types before you go into\n",
    "  containers.  \n",
    "- Many basic programming constructs are similar: variables, data\n",
    "  types, operations, operator precedence, functions, loops, files,\n",
    "  etc. You will find that for loops generally involve a single integer\n",
    "  counter, no range function. Learn the basic snytax for these first.  \n",
    "- Containers will be different. Instead of lists in Python that can be\n",
    "  used for everything, you will need to learn about arrays, lists and\n",
    "  vectors in C++. All containers we used had flexible length, while in\n",
    "  C++, some will have predefined size.  \n",
    "- You will see classes in C++ are very similar, but have a few new\n",
    "  limitations like private attributes that can only be used within the\n",
    "  class. This is actually a good thing, believe me.  \n",
    "\n",
    "\n",
    "For more in depth description of the differences see:\n",
    "\n",
    "> [http://cs.slu.edu/~goldwasser/publications/python2cpp.pdf](http://cs.slu.edu/~goldwasser/publications/python2cpp.pdf)\n",
    "\n",
    "[http://www4.wittenberg.edu/academics/mathcomp/shelburne/comp255/notes/Python2Cpp.pdf](http://www4.wittenberg.edu/academics/mathcomp/shelburne/comp255/notes/Python2Cpp.pdf)"
   ]
  },
  {
   "cell_type": "markdown",
   "metadata": {},
   "source": [
    "## Setting up your C++ Working Environment\n",
    "\n",
    "Your basic development environment in C++ consists of an editor for\n",
    "writing programs, a Terminal window for compiling and running your\n",
    "programs and a C++ compiler that you must install.\n",
    "\n",
    "Here are the [detailed install instructions](setting_up_for_ds.html).\n",
    "\n",
    "- You must have a C++ compiler installed.  \n",
    "- You must have a terminal to run the compiler on. The terminal\n",
    "  replaces the “Python Shell” version of Wing for you.  \n",
    "- You must use an editor to write your programs. This replaces the\n",
    "  editor portion of Wing. Many choices exist. The choice of editor is\n",
    "  not so important, but becoming proficient in using an editor is.  \n",
    "\n",
    "\n",
    "As most of the installation will generally involve getting familiar\n",
    "with an editor, here are some common terminal operations below."
   ]
  },
  {
   "cell_type": "markdown",
   "metadata": {},
   "source": [
    "## Basic Terminal Operations\n",
    "\n",
    "Basic terminal operations (Terminal in Macs and Cygwin in PCs) include:\n",
    "\n",
    "- Displaying the current working directory the terminal is pointing\n",
    "to:  "
   ]
  },
  {
   "cell_type": "code",
   "execution_count": null,
   "metadata": {
    "hide-output": false
   },
   "outputs": [],
   "source": [
    "$ pwd"
   ]
  },
  {
   "cell_type": "markdown",
   "metadata": {},
   "source": [
    "- Listing the files in the current working directory for the\n",
    "terminal:  "
   ]
  },
  {
   "cell_type": "code",
   "execution_count": null,
   "metadata": {
    "hide-output": false
   },
   "outputs": [],
   "source": [
    "$ ls\n",
    "$ ls p*   ##lists files that start with p\n",
    "$ ls Dropbox   ## lists files in the directory Dropbox\n",
    "             ## (assuming it is one level below it)"
   ]
  },
  {
   "cell_type": "markdown",
   "metadata": {},
   "source": [
    "- Changing the working directory to a directory on your file system\n",
    "(cd means change directory):  "
   ]
  },
  {
   "cell_type": "code",
   "execution_count": null,
   "metadata": {
    "hide-output": false
   },
   "outputs": [],
   "source": [
    "$ cd directory_name\n",
    "$ cd directory1/directory2   ## if you want to change multiple\n",
    "                           ## levels of directory in a single step\n",
    "$ cd ..  ## goes one level up in the dictionary hierarchy"
   ]
  },
  {
   "cell_type": "markdown",
   "metadata": {},
   "source": [
    "- Compile code:  "
   ]
  },
  {
   "cell_type": "code",
   "execution_count": null,
   "metadata": {
    "hide-output": false
   },
   "outputs": [],
   "source": [
    "$ g++ programname -o outputname"
   ]
  },
  {
   "cell_type": "markdown",
   "metadata": {},
   "source": [
    "For example:  "
   ]
  },
  {
   "cell_type": "code",
   "execution_count": null,
   "metadata": {
    "hide-output": false
   },
   "outputs": [],
   "source": [
    "$ g++ program.cc -o program"
   ]
  },
  {
   "cell_type": "markdown",
   "metadata": {},
   "source": [
    "This generates a new file called program in Macs and program.exe\n",
    "  in PCs.  \n",
    "- To run a program called program, use:  "
   ]
  },
  {
   "cell_type": "code",
   "execution_count": null,
   "metadata": {
    "hide-output": false
   },
   "outputs": [],
   "source": [
    "$ ./program"
   ]
  },
  {
   "cell_type": "markdown",
   "metadata": {},
   "source": [
    "- Create a symbolic link (a shortcut) between two folders is very good\n",
    "way to simplify your life. Suppose you are at your own Desktop. I\n",
    "will create a shortcut to a directory on my dropbox on my own\n",
    "Desktop:  "
   ]
  },
  {
   "cell_type": "code",
   "execution_count": null,
   "metadata": {
    "hide-output": false
   },
   "outputs": [],
   "source": [
    "$ pwd\n",
    "/Users/sibeladali/Desktop\n",
    "$ ln -s /Users/sibeladali/Dropbox/CSCI1100_Fall2014/ cs1"
   ]
  },
  {
   "cell_type": "markdown",
   "metadata": {},
   "source": [
    "\n",
    "\n",
    "> This tells me to create a symbolic link (ln -s) for\n",
    "directory /Users/sibeladali/Dropbox/CSCI1100_Fall2014/ and call\n",
    "it cs1. Now, I can simply write the following:"
   ]
  },
  {
   "cell_type": "code",
   "execution_count": null,
   "metadata": {
    "hide-output": false
   },
   "outputs": [],
   "source": [
    "$ cd cs1"
   ]
  },
  {
   "cell_type": "markdown",
   "metadata": {},
   "source": [
    "\n",
    "You are now ready to install your C++ setup.\n",
    "\n",
    "Here are the [detailed install instructions](setting_up_for_ds.html)."
   ]
  }
 ],
 "metadata": {
  "filename": "transition.rst",
  "kernelspec": {
   "display_name": "Python",
   "language": "python3",
   "name": "python3"
  },
  "title": "Transition to the next class - Data Structures"
 },
 "nbformat": 4,
 "nbformat_minor": 2
}