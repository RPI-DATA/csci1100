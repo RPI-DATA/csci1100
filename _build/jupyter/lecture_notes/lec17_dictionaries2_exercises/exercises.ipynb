{
 "cells": [
  {
   "cell_type": "markdown",
   "metadata": {},
   "source": [
    "Notebook created: 2019-07-16 14:30:27  \n",
    "Generated from: jWebsite/lecture_notes/lec17_dictionaries2_exercises/exercises.rst  "
   ]
  },
  {
   "cell_type": "markdown",
   "metadata": {},
   "source": [
    "# Lecture 17 — Exercises\n",
    "\n",
    "Solutions to the problems below must be sent to Submitty for\n",
    "automatic scoring.  A separate file must submitted for each problem.\n",
    "Solutions must be submitted by 4 pm on Friday, March 30.\n",
    "\n",
    "1. What is the output of the following code?  "
   ]
  },
  {
   "cell_type": "code",
   "execution_count": null,
   "metadata": {
    "hide-output": false
   },
   "outputs": [],
   "source": [
    "d1 = dict()\n",
    "l1 = [ 5, 6, 7 ]\n",
    "d1['car'] = l1\n",
    "d1['bus'] = l1.copy()\n",
    "l1.append( [8,9] )\n",
    "d1['truck'] = d1['bus']\n",
    "d1['bus'].append(10)\n",
    "d1['truck'].pop(0)\n",
    "print(\"list:\", l1)\n",
    "for v in sorted(d1.keys()):\n",
    "    print(\"{}: {}\".format( v, d1[v] ))"
   ]
  },
  {
   "cell_type": "markdown",
   "metadata": {},
   "source": [
    "1. Write a Python program that finds the name of the movie in our\n",
    "Internet Movie Database that involved the most *unique* individuals. Print\n",
    "the name of the movie on one line and the number of individuals on\n",
    "the next line.  You do not need to consider the possibility of\n",
    "ties and you should assume all actors and movies have the correct\n",
    "capitalization.  Finally, print the number of movies involving only one\n",
    "individual (yes, there are such movies).  For example, if the name\n",
    "of the movie is *Ben Hur* with 2,342 individuals, and 165 movies\n",
    "have only one individual then the output from your program will\n",
    "look like:  "
   ]
  },
  {
   "cell_type": "code",
   "execution_count": null,
   "metadata": {
    "hide-output": false
   },
   "outputs": [],
   "source": [
    "Enter the name of the IMDB file ==> imdb_data.txt\n",
    "2342\n",
    "Ben Hur\n",
    "165"
   ]
  },
  {
   "cell_type": "markdown",
   "metadata": {},
   "source": [
    "Note that you only need to create one dictionary for this\n",
    "exercise.  Start by planning the organization of this dictionary\n",
    "and thinking through how you are going to use it. As with Lecture Exercises\n",
    "16, make sure you use *dict()* to initialize your empty dictionary.  "
   ]
  }
 ],
 "metadata": {
  "filename": "exercises.rst",
  "kernelspec": {
   "display_name": "Python",
   "language": "python3",
   "name": "python3"
  },
  "title": "Lecture 17 — Exercises"
 },
 "nbformat": 4,
 "nbformat_minor": 2
}