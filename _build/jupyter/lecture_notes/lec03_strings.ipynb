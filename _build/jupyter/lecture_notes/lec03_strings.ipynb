{
 "cells": [
  {
   "cell_type": "markdown",
   "metadata": {},
   "source": [
    "Notebook created: 2019-07-16 14:30:27  \n",
    "Generated from: jWebsite/lecture_notes/lec03_strings.rst  "
   ]
  },
  {
   "cell_type": "markdown",
   "metadata": {},
   "source": [
    "# Lecture 3 — Python Strings"
   ]
  },
  {
   "cell_type": "markdown",
   "metadata": {},
   "source": [
    "## Reading\n",
    "\n",
    "This material is drawn from Chapter 4 of *Practical Programming*, 2nd\n",
    "edition."
   ]
  },
  {
   "cell_type": "markdown",
   "metadata": {},
   "source": [
    "## More Than Just Numbers\n",
    "\n",
    "- Much of what we do today with computers revolves around text:  \n",
    "  - Web pages  \n",
    "  - Facebook  \n",
    "  - Text messages  \n",
    "  These require working with *strings*.  \n",
    "- Strings are our third type, after integers and floats.  \n",
    "- We’ve already seen the use of strings in output,  "
   ]
  },
  {
   "cell_type": "code",
   "execution_count": 1,
   "metadata": {
    "hide-output": false
   },
   "outputs": [
    {
     "name": "stdout",
     "output_type": "stream",
     "text": [
      "Hello world\n",
      "Value of x is 8 value of y is 10\n"
     ]
    }
   ],
   "source": [
    "print(\"Hello world\")\n",
    "x = 8\n",
    "y = 10\n",
    "print(\"Value of x is\", x, \"value of y is\", y)"
   ]
  },
  {
   "cell_type": "markdown",
   "metadata": {},
   "source": [
    "\n",
    "\n",
    "## Topics for Today\n",
    "\n",
    "- String basics  \n",
    "- String operations  \n",
    "- Input to and output from your Python programs  "
   ]
  },
  {
   "cell_type": "markdown",
   "metadata": {},
   "source": [
    "## Strings — Definition\n",
    "\n",
    "- A string is a sequence of 0 or more characters delimited by single\n",
    "quotes or double quotes.  "
   ]
  },
  {
   "cell_type": "code",
   "execution_count": 2,
   "metadata": {
    "hide-output": false
   },
   "outputs": [
    {
     "data": {
      "text/plain": [
       "''"
      ]
     },
     "execution_count": 2,
     "metadata": {},
     "output_type": "execute_result"
    }
   ],
   "source": [
    "'Rensselaer'\n",
    "\"Albany, NY\"\n",
    "'4 8 15 16 23 42'\n",
    "''"
   ]
  },
  {
   "cell_type": "markdown",
   "metadata": {},
   "source": [
    "- We can print strings:  "
   ]
  },
  {
   "cell_type": "code",
   "execution_count": 4,
   "metadata": {
    "hide-output": false
   },
   "outputs": [
    {
     "name": "stdout",
     "output_type": "stream",
     "text": [
      "Hello, world!\n"
     ]
    }
   ],
   "source": [
    ">>> print(\"Hello, world!\")\n",
    "#Hello, world!"
   ]
  },
  {
   "cell_type": "markdown",
   "metadata": {},
   "source": [
    "- Strings may be assigned to variables:  "
   ]
  },
  {
   "cell_type": "code",
   "execution_count": null,
   "metadata": {
    "hide-output": false
   },
   "outputs": [],
   "source": [
    ">>> s = 'Hello'\n",
    ">>> t = \"Good-bye\"\n",
    ">>> print(s)\n",
    "Hello\n",
    ">>> t\n",
    "'Good-bye'"
   ]
  },
  {
   "cell_type": "markdown",
   "metadata": {},
   "source": [
    "- Notice that unlike integers and floats there is now a difference\n",
    "  between asking the Python function `print` to output the variable\n",
    "  and asking the Python interpreter directly for the value of the\n",
    "  variable.  "
   ]
  },
  {
   "cell_type": "markdown",
   "metadata": {},
   "source": [
    "## Combining Single and Double Quotes in a String\n",
    "\n",
    "- A string that starts with double quotes must end with double quotes,\n",
    "  and therefore we can have single quotes inside.  \n",
    "- A string that starts with single quotes must end with single quotes\n",
    "  and therefore we can have double quotes inside.  \n",
    "- To illustrate this, we will take a look at  "
   ]
  },
  {
   "cell_type": "code",
   "execution_count": 5,
   "metadata": {
    "hide-output": false
   },
   "outputs": [],
   "source": [
    ">>> s = 'He said, \"Hello, World!\"'\n",
    ">>> t = \"Many single quotes here '''''''  and here ''' but correct.\""
   ]
  },
  {
   "cell_type": "markdown",
   "metadata": {},
   "source": [
    "\n",
    "\n",
    "## Multi-Line Strings\n",
    "\n",
    "- Ordinarily, strings do not extend across multiple lines, causing an\n",
    "  error if you try.  \n",
    "- But, starting and ending a string `\"\"\"` or `'''` tells Python to\n",
    "  allow the string to cross multiple lines.  \n",
    "  - Any character other than `'''` (or `\"\"\"`, if that is how the\n",
    "    string started) is allowed inside the string.  \n",
    "- Example,  "
   ]
  },
  {
   "cell_type": "code",
   "execution_count": null,
   "metadata": {
    "hide-output": false
   },
   "outputs": [],
   "source": [
    ">>> s1 = \"\"\"This\n",
    "is a multi-line\n",
    "string.\"\"\"\n",
    ">>> s1\n",
    "'This\\nis a multi-line\\nstring.'\n",
    ">>> print s1\n",
    "This\n",
    "is a multi-line\n",
    "string.\n",
    ">>>"
   ]
  },
  {
   "cell_type": "markdown",
   "metadata": {},
   "source": [
    "- Notice the `\\n` when we ask Python for the value of the string\n",
    "  (instead of printing it). This is an *escape character*, as we will\n",
    "  discuss next.  "
   ]
  },
  {
   "cell_type": "markdown",
   "metadata": {},
   "source": [
    "## Escape Characters\n",
    "\n",
    "- Inserting a `\\` in the middle of a string tells Python that the\n",
    "  next character will have special meaning (if it is possible for it to\n",
    "  have special meaning).  \n",
    "- Most importantly:  \n",
    "  - `\\n` — end the current line of text and start a new one  \n",
    "  - `\\t` — skip to the next “tab stop” in the text. This allows\n",
    "    output in columns  \n",
    "  - `\\'` — do not interpret the `'` as a string delimiter  \n",
    "  - `\\\"` — do not interpret the `\"` as a string delimiter  \n",
    "  - `\\\\` — put a true back-slash character into the string  \n",
    "- We’ll explore the following strings in class  "
   ]
  },
  {
   "cell_type": "code",
   "execution_count": null,
   "metadata": {
    "hide-output": false
   },
   "outputs": [],
   "source": [
    ">>> s0 = \"*\\t*\\n**\\t**\\n***\\t***\\n\"\n",
    ">>> s1 = \"I said, \\\"This is a valid string.\\\"\""
   ]
  },
  {
   "cell_type": "markdown",
   "metadata": {},
   "source": [
    "\n",
    "\n",
    "## String Operations — Concatenation\n",
    "\n",
    "- Concatenation: Two (or more) strings may be concatenated to form a\n",
    "new string, either with or without the `+` operator. We’ll look at  "
   ]
  },
  {
   "cell_type": "code",
   "execution_count": null,
   "metadata": {
    "hide-output": false
   },
   "outputs": [],
   "source": [
    ">>> s0 = \"Hello\"\n",
    ">>> s1 = \"World\"\n",
    ">>> s0 + s1\n",
    ">>> s0 + ' ' + s1\n",
    ">>> 'Good' 'Morning' 'America!'\n",
    ">>> 'Good ' 'Morning ' 'America!'"
   ]
  },
  {
   "cell_type": "markdown",
   "metadata": {},
   "source": [
    "- Notice that  "
   ]
  },
  {
   "cell_type": "code",
   "execution_count": null,
   "metadata": {
    "hide-output": false
   },
   "outputs": [],
   "source": [
    ">>> s0 = \"Hello\"\n",
    ">>> s1 = \" World\"\n",
    ">>> s0 s1"
   ]
  },
  {
   "cell_type": "markdown",
   "metadata": {},
   "source": [
    "is a syntax error but  "
   ]
  },
  {
   "cell_type": "code",
   "execution_count": 6,
   "metadata": {
    "hide-output": false
   },
   "outputs": [
    {
     "data": {
      "text/plain": [
       "'Hello World'"
      ]
     },
     "execution_count": 6,
     "metadata": {},
     "output_type": "execute_result"
    }
   ],
   "source": [
    ">>> \"Hello\" \" World\""
   ]
  },
  {
   "cell_type": "markdown",
   "metadata": {},
   "source": [
    "is not. Can you think why?  "
   ]
  },
  {
   "cell_type": "markdown",
   "metadata": {},
   "source": [
    "## String Operations — Replication\n",
    "\n",
    "- You can replicate strings by multiplying them by an integer:  "
   ]
  },
  {
   "cell_type": "code",
   "execution_count": null,
   "metadata": {
    "hide-output": false
   },
   "outputs": [],
   "source": [
    ">>> s = 'Ha'\n",
    ">>> print(s * 10)\n",
    "HaHaHaHaHaHaHaHaHaHa"
   ]
  },
  {
   "cell_type": "markdown",
   "metadata": {},
   "source": [
    "- What do you think multiplying a string by a negative integer or 0\n",
    "  does? Try it.  \n",
    "- Many expressions you might try to write involving strings and either\n",
    "ints or floats are illegal Python, including the following:  "
   ]
  },
  {
   "cell_type": "code",
   "execution_count": null,
   "metadata": {
    "hide-output": false
   },
   "outputs": [],
   "source": [
    ">>> 'Hello' * 8.1\n",
    ">>> '123' + 4"
   ]
  },
  {
   "cell_type": "markdown",
   "metadata": {},
   "source": [
    "Think about why  "
   ]
  },
  {
   "cell_type": "markdown",
   "metadata": {},
   "source": [
    "## Practice Problems - Part 1\n",
    "\n",
    "We will go over these during lecture:\n",
    "\n",
    "1. Which are valid Python strings:  "
   ]
  },
  {
   "cell_type": "code",
   "execution_count": null,
   "metadata": {
    "hide-output": false
   },
   "outputs": [],
   "source": [
    ">>> s1 = '\"Hi mom\", I said.  \"How are you?\"'\n",
    ">>> s2 = '\"Hi mom\", I said.  '\"How are you?\"\n",
    ">>> s3 = '\"Hi mom\", I said.  '\"How are you?\"'\n",
    ">>> s4 = \"\"\"'Hi mom\", I said.  '\"How are you?\"'\"\"\"\n",
    ">>> s5 = \"\"I want to be a lion tamer!\"'\n",
    ">>> s6 = \"\\\"Is this a cheese shop?\\\"\\n\\t'Yes'\\n\\t\\\"We have all kinds!\\\"\""
   ]
  },
  {
   "cell_type": "markdown",
   "metadata": {},
   "source": [
    "For those that are not valid, what needs to be fixed?  For those\n",
    "that are, what is the output when they are passed to the `print`\n",
    "function?  \n",
    "1. What is the output?  "
   ]
  },
  {
   "cell_type": "code",
   "execution_count": null,
   "metadata": {
    "hide-output": false
   },
   "outputs": [],
   "source": [
    ">>> s = \"Cats\\tare\\n\\tgood\\tsources\\n\\t\\tof\\tinternet\\tmemes\"\n",
    ">>> s\n",
    ">>> print(s)"
   ]
  },
  {
   "cell_type": "markdown",
   "metadata": {},
   "source": [
    "1. What is the output?  "
   ]
  },
  {
   "cell_type": "code",
   "execution_count": null,
   "metadata": {
    "hide-output": false
   },
   "outputs": [],
   "source": [
    "print('\\\\'*4)\n",
    "print('\\\\\\n'*3)\n",
    "print('Good-bye')"
   ]
  },
  {
   "cell_type": "markdown",
   "metadata": {},
   "source": [
    "1. Which of the following are legal? For those that are, show what\n",
    "Python outputs when these are typed directly into the interpreter.  "
   ]
  },
  {
   "cell_type": "code",
   "execution_count": null,
   "metadata": {
    "hide-output": false
   },
   "outputs": [],
   "source": [
    ">>> 'abc' 'def'\n",
    ">>> 'abc' + 'def'\n",
    ">>> 'abc ' + 'def'\n",
    ">>> x = 'abc'\n",
    ">>> y = 'def'\n",
    ">>> x+y\n",
    ">>> x y\n",
    ">>> s1 = 'abc'*4\n",
    ">>> s1\n",
    ">>> s2 = 'abc '*4\n",
    ">>> print(s2)"
   ]
  },
  {
   "cell_type": "markdown",
   "metadata": {},
   "source": [
    "\n",
    "\n",
    "## String Operations — Functions\n",
    "\n",
    "- Python provides many operations for us to use in the form of\n",
    "  **functions**.  We have already seen `print()`, but now we\n",
    "  are going to look at other functions that operate on strings.  \n",
    "- You can compute the length of a string with `len()`.  "
   ]
  },
  {
   "cell_type": "code",
   "execution_count": null,
   "metadata": {
    "hide-output": false
   },
   "outputs": [],
   "source": [
    ">>> s = \"Hello!\"\n",
    ">>> print(len(s))"
   ]
  },
  {
   "cell_type": "markdown",
   "metadata": {},
   "source": [
    "- Here is what happens:  \n",
    "  1. Function `len` is provided with the value of the string associated\n",
    "    with variable `s`  \n",
    "  1. `len` calculates the number of characters in the provided\n",
    "    string using its own code, code that is *built-in* to Python.  \n",
    "  1. `len` *returns* the calculated value (in this case, 6) and\n",
    "    this value is sent to the `print` function, which actually\n",
    "    generates the output.  \n",
    "- We will learn more about using functions in Lectures 4 and 5.  "
   ]
  },
  {
   "cell_type": "markdown",
   "metadata": {},
   "source": [
    "## Example String Functions\n",
    "\n",
    "- We will look at examples of all of the following during lecture…  \n",
    "- You can convert an integer or float to a string with `str()`.  \n",
    "- You can convert a string that is in the form of an integer to an\n",
    "  integer using `int()`  \n",
    "- You can convert a string that is in the form of a float to a float\n",
    "  using, not surprisingly, `float()`  "
   ]
  },
  {
   "cell_type": "markdown",
   "metadata": {},
   "source": [
    "## The print Function in More Detail\n",
    "\n",
    "- We already know a bit about how to use `print()`, but we can learn\n",
    "about more using `help()`  "
   ]
  },
  {
   "cell_type": "code",
   "execution_count": null,
   "metadata": {
    "hide-output": false
   },
   "outputs": [],
   "source": [
    "help(print)\n",
    "Help on built-in function print in module builtins:\n",
    "\n",
    "print(...)\n",
    "    print(value, ..., sep=' ', end='\\n', file=sys.stdout, flush=False)\n",
    "\n",
    "    Prints the values to a stream, or to sys.stdout by default.\n",
    "    Optional keyword arguments:\n",
    "    file:  a file-like object (stream); defaults to the current sys.stdout.\n",
    "    sep:   string inserted between values, default a space.\n",
    "    end:   string appended after the last value, default a newline.\n",
    "    flush: whether to forcibly flush the stream."
   ]
  },
  {
   "cell_type": "markdown",
   "metadata": {},
   "source": [
    "- `flush` is useful when trying to debug. If you are trying to trace your\n",
    "  program execution using print, adding `flush=True` as your final argument\n",
    "  will give you more accurate results. We will talk about this more later.  \n",
    "- For now, we will focus on the `sep` and `end` and illustrate with examples.  "
   ]
  },
  {
   "cell_type": "markdown",
   "metadata": {},
   "source": [
    "## User Input\n",
    "\n",
    "- Python programs can ask the user for input using the function called\n",
    "  `input`.  \n",
    "- This waits for the user to type a line of input, which Python reads\n",
    "  as a string.  \n",
    "- This string can be converted to an integer or a float (as long as it\n",
    "  is properly an int/float).  \n",
    "- Here is a toy example  "
   ]
  },
  {
   "cell_type": "code",
   "execution_count": null,
   "metadata": {
    "hide-output": false
   },
   "outputs": [],
   "source": [
    "print(\"Enter a number\")\n",
    "x = float(input())\n",
    "print('The square of', x, 'is', x*x)"
   ]
  },
  {
   "cell_type": "markdown",
   "metadata": {},
   "source": [
    "- We can also insert the string right into the `input` function\n",
    "call:  "
   ]
  },
  {
   "cell_type": "code",
   "execution_count": null,
   "metadata": {
    "hide-output": false
   },
   "outputs": [],
   "source": [
    "x = input(\"Enter a new number \")\n",
    "x = float(x)\n",
    "print('The square of', x, 'is', x*x)"
   ]
  },
  {
   "cell_type": "markdown",
   "metadata": {},
   "source": [
    "- A similar function exists to convert a string to an integer:  "
   ]
  },
  {
   "cell_type": "code",
   "execution_count": null,
   "metadata": {
    "hide-output": false
   },
   "outputs": [],
   "source": [
    "x = input(\"Enter an integer \")\n",
    "x = int(x)"
   ]
  },
  {
   "cell_type": "markdown",
   "metadata": {},
   "source": [
    "- We will use this idea to modify our area and volume calculation so\n",
    "  that the user of the program types in the numbers.  \n",
    "  - The result is more useful and feels more like a real program\n",
    "    (run from the command line).  \n",
    "  - It will be posted on the course website.  "
   ]
  },
  {
   "cell_type": "markdown",
   "metadata": {},
   "source": [
    "## Practice Problems - Part 2\n",
    "\n",
    "1. What is the output for this Python program?  "
   ]
  },
  {
   "cell_type": "code",
   "execution_count": null,
   "metadata": {
    "hide-output": false
   },
   "outputs": [],
   "source": [
    "print(len('George'))\n",
    "print(len(' Tom  '))\n",
    "s = \"\"\"Hi\n",
    "sis!\n",
    "\"\"\"\n",
    "print(len(s))"
   ]
  },
  {
   "cell_type": "markdown",
   "metadata": {},
   "source": [
    "1. Which of the following are legal? For those that are, show what\n",
    "Python outputs when these are typed directly into the interpreter.  "
   ]
  },
  {
   "cell_type": "code",
   "execution_count": null,
   "metadata": {
    "hide-output": false
   },
   "outputs": [],
   "source": [
    ">>> 'abc' + str(5)\n",
    ">>> 'abc' * str(5)\n",
    ">>> 'abc' + 5\n",
    ">>> 'abc' * 5\n",
    ">>> 'abc' + 5.0\n",
    ">>> 'abc' + float(5.0)\n",
    ">>> str(3.0) * 3"
   ]
  },
  {
   "cell_type": "markdown",
   "metadata": {},
   "source": [
    "1. What is the output of the following when the user types 4 when\n",
    "running the following Python program?  "
   ]
  },
  {
   "cell_type": "code",
   "execution_count": null,
   "metadata": {
    "hide-output": false
   },
   "outputs": [],
   "source": [
    "x = input('Enter an integer ==> ')\n",
    "x = x*2\n",
    "x = int(x)\n",
    "x *= 2\n",
    "print(\"x is:\", x)"
   ]
  },
  {
   "cell_type": "markdown",
   "metadata": {},
   "source": [
    "1. What is the output when the user types the value 64 when running\n",
    "the following Python program?  "
   ]
  },
  {
   "cell_type": "code",
   "execution_count": null,
   "metadata": {
    "hide-output": false
   },
   "outputs": [],
   "source": [
    "x = input('Enter an integer ==> ')\n",
    "y = x // 10\n",
    "z = y % 10\n",
    "print(x, ',', y, z, sep='')"
   ]
  },
  {
   "cell_type": "markdown",
   "metadata": {},
   "source": [
    "What happens when you do not have the call to the `int` function?  \n",
    "1. Write a program that requests an integer from the user as an input\n",
    "and stores in the variable `n`.  The program should then print\n",
    "`n` 1’s with 0’s inbetween.  For example if the user input the\n",
    "value 4 then the output should be  "
   ]
  },
  {
   "cell_type": "code",
   "execution_count": null,
   "metadata": {
    "hide-output": false
   },
   "outputs": [],
   "source": [
    "1010101"
   ]
  },
  {
   "cell_type": "markdown",
   "metadata": {},
   "source": [
    "\n",
    "\n",
    "## Summary\n",
    "\n",
    "- Strings represent character sequences — our third Python type  \n",
    "- String operations include addition (concatenate) and replication  \n",
    "- Functions on strings may be used to determine length and to convert\n",
    "  back and forth to integers and floats.  \n",
    "- Escape sequences change the meaning of special Python characters or\n",
    "  make certain characters have special meaning.  \n",
    "- Some special characters of note: `\\n` for new line, `\\t` for tab.\n",
    "  They are each preceded by `\\`  \n",
    "- The `print()` function offers significant flexibility.  \n",
    "- We can read input using `input()`  "
   ]
  }
 ],
 "metadata": {
  "filename": "lec03_strings.rst",
  "kernelspec": {
   "display_name": "Python 3",
   "language": "python",
   "name": "python3"
  },
  "language_info": {
   "codemirror_mode": {
    "name": "ipython",
    "version": 3
   },
   "file_extension": ".py",
   "mimetype": "text/x-python",
   "name": "python",
   "nbconvert_exporter": "python",
   "pygments_lexer": "ipython3",
   "version": "3.7.3"
  },
  "title": "Lecture 3 — Python Strings"
 },
 "nbformat": 4,
 "nbformat_minor": 2
}
