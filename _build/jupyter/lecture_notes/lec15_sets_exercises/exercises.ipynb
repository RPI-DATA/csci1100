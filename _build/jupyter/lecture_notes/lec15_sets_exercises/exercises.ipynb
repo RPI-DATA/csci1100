{
 "cells": [
  {
   "cell_type": "markdown",
   "metadata": {},
   "source": [
    "Notebook created: 2019-07-16 14:30:27  \n",
    "Generated from: jWebsite/lecture_notes/lec15_sets_exercises/exercises.rst  "
   ]
  },
  {
   "cell_type": "markdown",
   "metadata": {},
   "source": [
    "# Lecture 15 — Exercises\n",
    "\n",
    "Solutions to the problems below must be sent to Submitty for\n",
    "automatic scoring.  A separate file must submitted for each problem.\n",
    "Solutions must be submitted by 4 pm on Tuesday, March 20.\n",
    "\n",
    "1. What is the output of the following Python code? Write the answer by\n",
    "hand before you type it into the Python interpreter.  One thing\n",
    "that will be hard to guess is the order of the sets, especially\n",
    "when the set mixes integers and strings.  Therefore, you pretty\n",
    "much have to run the code to make sure you have the order right.\n",
    "(At the moment, our use of Submitty is not sophisticated enough to\n",
    "allow random order.)  This means you get the points almost for\n",
    "free, but you should make the effort to be sure you understand what\n",
    "is happening.  "
   ]
  },
  {
   "cell_type": "code",
   "execution_count": null,
   "metadata": {
    "hide-output": false
   },
   "outputs": [],
   "source": [
    "s1 = set([0,1,2])\n",
    "s2 = set(range(1,9,2))\n",
    "print('A:', s1.union(s2))\n",
    "\n",
    "print('B:', s1)\n",
    "\n",
    "s1.add('1')\n",
    "s1.add(0)\n",
    "s1.add('3')\n",
    "s3 = s1 | s2\n",
    "print('C:', s3)\n",
    "\n",
    "print('D:', s3 - s1)"
   ]
  },
  {
   "cell_type": "markdown",
   "metadata": {},
   "source": [
    "Note that this example does NOT cover all of the possible set\n",
    "operations. You should generate and test your own examples to ensure\n",
    "that you understand all of the basic set operations.  \n",
    "1. Write a Python program that asks the user for two strings:  (1) the\n",
    "name of a file formatted in the same way as the IMDB data, and (2)\n",
    "a string that is the start of a last name.  The program should\n",
    "output the number of different last names that are in the file and\n",
    "it should output the number of different names that start with the\n",
    "string.  Your program *must* use a `set` and you may / are\n",
    "encouraged to start from\n",
    "the code written during lecture.  \n",
    "We define a last name to be everything up to the first comma in the\n",
    "name.  (Some names will not have commas in them, and be careful to\n",
    "avoid adding empty last names to the set.)   For example,  "
   ]
  },
  {
   "cell_type": "code",
   "execution_count": null,
   "metadata": {
    "hide-output": false
   },
   "outputs": [],
   "source": [
    "Downey Jr., Robert | Back to School |      1986\n",
    "Downey Sr., Robert   | Moment to Moment  | 1975\n",
    "Downey, Elsie    | Moment to Moment     |  1975"
   ]
  },
  {
   "cell_type": "markdown",
   "metadata": {},
   "source": [
    "would result in three different last names, `Downey Jr.`,\n",
    "`Downey Sr.` and `Downey`.  \n",
    "Here is one example of running our solution:  "
   ]
  },
  {
   "cell_type": "code",
   "execution_count": null,
   "metadata": {
    "hide-output": false
   },
   "outputs": [],
   "source": [
    "Data file name: imdb/imdb_data.txt\n",
    "Prefix: Down\n",
    "48754 last names\n",
    "10 start with Down"
   ]
  },
  {
   "cell_type": "markdown",
   "metadata": {},
   "source": [
    "Before uploading your Python file to Submitty you should test using\n",
    "the data files (or restricted versions of them!)  we provided for\n",
    "Lecture 15 on the Piazza page.  On Submitty we will test with\n",
    "different files and examples.  "
   ]
  }
 ],
 "metadata": {
  "filename": "exercises.rst",
  "kernelspec": {
   "display_name": "Python",
   "language": "python3",
   "name": "python3"
  },
  "title": "Lecture 15 — Exercises"
 },
 "nbformat": 4,
 "nbformat_minor": 2
}