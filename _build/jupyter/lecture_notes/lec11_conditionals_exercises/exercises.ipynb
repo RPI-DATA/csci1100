{
 "cells": [
  {
   "cell_type": "markdown",
   "metadata": {},
   "source": [
    "Notebook created: 2019-07-16 14:30:27  \n",
    "Generated from: jWebsite/lecture_notes/lec11_conditionals_exercises/exercises.rst  "
   ]
  },
  {
   "cell_type": "markdown",
   "metadata": {},
   "source": [
    "# Lecture 11 — Exercises\n",
    "\n",
    "Solutions to the problems below must be sent to Submitty for grading.\n",
    "A separate file must submitted for each problem.  Solutions must be\n",
    "submitted by 4 pm on Friday February 23.\n",
    "\n",
    "1. Suppose you have a tuple that stores the semester and year a course\n",
    "was taken, as in  "
   ]
  },
  {
   "cell_type": "code",
   "execution_count": null,
   "metadata": {
    "hide-output": false
   },
   "outputs": [],
   "source": [
    "when = ('Spring',2015)"
   ]
  },
  {
   "cell_type": "markdown",
   "metadata": {},
   "source": [
    "Write a function called `earlier_semester()` that takes two\n",
    "such tuples as arguments and returns `True` if the first tuple\n",
    "represents an earlier semester and `False` otherwise. The\n",
    "possible semesters are `'Spring'` and `'Fall'`.  (Just to be\n",
    "clear, Fall 2013 is later than Spring 2013.) Test it using the\n",
    "following main code (you can cut-and-paste from the browser), which\n",
    "should be your only print function calls.  "
   ]
  },
  {
   "cell_type": "code",
   "execution_count": null,
   "metadata": {
    "hide-output": false
   },
   "outputs": [],
   "source": [
    "# Insert your function def here...\n",
    "\n",
    "w1 = ('Spring',2015)\n",
    "w2 = ('Spring',2014)\n",
    "w3 = ('Fall', 2014)\n",
    "w4 = ('Fall', 2015)\n",
    "print( \"{} earlier than {}? {}\".format( w1, w2, earlier_semester(w1,w2)))\n",
    "print( \"{} earlier than {}? {}\".format( w1, w1, earlier_semester(w1,w1)))\n",
    "print( \"{} earlier than {}? {}\".format( w1, w4, earlier_semester(w1,w4)))\n",
    "print( \"{} earlier than {}? {}\".format( w4, w1, earlier_semester(w4,w1)))\n",
    "print( \"{} earlier than {}? {}\".format( w3, w4, earlier_semester(w3,w4)))\n",
    "print( \"{} earlier than {}? {}\".format( w1, w3, earlier_semester(w1,w3)))"
   ]
  },
  {
   "cell_type": "markdown",
   "metadata": {},
   "source": [
    "1. Suppose three siblings, `Dale`, `Erin` and `Sam`, have\n",
    "heights `hd`, `he` and `hs`, respectively.  Write a program\n",
    "that reads in integer values of their heights and outputs\n",
    "the ordering from tallest to shortest.  (For simplicity of\n",
    "this exercises, you may assume that the three heights you will be\n",
    "given are all different.)  Try writing your solution using nested\n",
    "if statements and trying writing it without nested if statements;\n",
    "either is acceptable on Submitty and trying both is good practice.\n",
    "Here is an example as the code would look on Submitty.  "
   ]
  },
  {
   "cell_type": "code",
   "execution_count": null,
   "metadata": {
    "hide-output": false
   },
   "outputs": [],
   "source": [
    "Enter Dale's height: 124\n",
    "Enter Erin's height: 112\n",
    "Enter Sam's height: 119\n",
    "Dale\n",
    "Sam\n",
    "Erin"
   ]
  }
 ],
 "metadata": {
  "filename": "exercises.rst",
  "kernelspec": {
   "display_name": "Python",
   "language": "python3",
   "name": "python3"
  },
  "title": "Lecture 11 — Exercises"
 },
 "nbformat": 4,
 "nbformat_minor": 2
}