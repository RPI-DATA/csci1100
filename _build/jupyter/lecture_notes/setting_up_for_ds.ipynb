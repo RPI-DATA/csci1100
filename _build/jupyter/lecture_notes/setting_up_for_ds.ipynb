{
 "cells": [
  {
   "cell_type": "markdown",
   "metadata": {},
   "source": [
    "Notebook created: 2019-07-16 14:30:28  \n",
    "Generated from: jWebsite/lecture_notes/setting_up_for_ds.rst  "
   ]
  },
  {
   "cell_type": "markdown",
   "metadata": {},
   "source": [
    "# Setting up C++ for Data Structures\n",
    "\n",
    "This material is compiled with the help of many mentors over the\n",
    "years. Special thanks to Micheal Gardner and Lee Cattarin for their\n",
    "edits on prior versions of this document.\n",
    "\n",
    "Remember to leave install fest with the following tools and skills:\n",
    "\n",
    "- A compiler that works  \n",
    "- Ability to compile and run a program on the terminal  \n",
    "\n",
    "\n",
    "It is also a good idea to have an editor or an IDE that works. If you\n",
    "have additional time, install an editor and ask a mentor or TA to show\n",
    "you how to use it. But this is less important. Below are instructions\n",
    "on possible ways to accomplish this."
   ]
  },
  {
   "cell_type": "markdown",
   "metadata": {},
   "source": [
    "## Installing a terminal and a compiler\n",
    "\n",
    "Data Structures requires that your C++ code compile and run on the\n",
    "`gcc/g++ 4.8.x` compiler. You may also use `clang++`, which\n",
    "provides more concise and clear error messages. How you install a\n",
    "compiler will depend on your operating system, which requires the\n",
    "compiler program and a Terminal to run it on.\n",
    "\n",
    "- If you have *Windows 10*, you will likely want to install\n",
    "  Windows Subsystem for Linux (WSL). Detailed instructions to install\n",
    "  this can be found on the Data Structures course website:  \n",
    "  [http://www.cs.rpi.edu/academics/courses/fall17/csci1200/wsl.php](http://www.cs.rpi.edu/academics/courses/fall17/csci1200/wsl.php)  \n",
    "  **BUT** you only need to complete steps 1 through 7 for now.  \n",
    "- If you have **Windows 7 or 8** WSL is not available and your best\n",
    "  option is installing `Cygwin`. Detailed instructions to install this\n",
    "  can be found on the Data Structures course website:  \n",
    "  [http://www.cs.rpi.edu/academics/courses/fall17/csci1200/cygwin.php](http://www.cs.rpi.edu/academics/courses/fall17/csci1200/cygwin.php)  \n",
    "\n",
    "\n",
    "> **BUT** it is not necessary to go through “Helpful edits to the\n",
    "Cygwin `.bashrc` file” right now.\n",
    "\n",
    "\n",
    "- If you have a **Mac**, you’ll need **XCode**, which provides both a\n",
    "  compiler and an IDE for you.  \n",
    "  For Data Structures, **make sure to install XCode’s “Command\n",
    "  Line Tools”** so that you can compile and run your code in the\n",
    "  terminal as well as the IDE. Install instructions for XCode and\n",
    "  XCode Command Line Tools can be found:  \n",
    "  [http://railsapps.github.io/xcode-command-line-tools.html](http://railsapps.github.io/xcode-command-line-tools.html)  \n",
    "  You can then run a Terminal window: Terminal under\n",
    "  Applications->Utilities in Macs (black box)  \n",
    "- If you have a Linux OS such as **Ubuntu**, installing is easy. Run\n",
    "the following three commands in a terminal window:  "
   ]
  },
  {
   "cell_type": "code",
   "execution_count": null,
   "metadata": {
    "hide-output": false
   },
   "outputs": [],
   "source": [
    "sudo apt-get install g++\n",
    "sudo apt-get install clang++-3.8\n",
    "sudo apt-get install gcc-multilib g++-multilib"
   ]
  },
  {
   "cell_type": "markdown",
   "metadata": {},
   "source": [
    "\n",
    "\n",
    "## Choosing an editor or IDE (Integrated Development Environment)\n",
    "\n",
    "A text editor will allow you to view and edit your code (often with\n",
    "syntax highlighting or other features), but not compile and run - you\n",
    "have to do that in a terminal (cygwin, for Windows). An IDE will do\n",
    "all of these things, but might take more time to learn how to navigate\n",
    "as they are usually fuller-featured. Whichever you choose, **you will\n",
    "still have to learn how to compile and run your code in a terminal**,\n",
    "as that is the primary method to get help or show completeness in lab.\n",
    "\n",
    "- If you want a text editor, these options are popular:  \n",
    "  - Sublime Text: [http://www.sublimetext.com/](http://www.sublimetext.com/)  \n",
    "  - Atom (very similar to Sublime Text): [https://atom.io/](https://atom.io/)  \n",
    "  - Notepad++: [https://notepad-plus-plus.org/](https://notepad-plus-plus.org/)\n",
    "    Windows only, note that this is **not** Notepad  \n",
    "  - Gedit: [https://wiki.gnome.org/Apps/Gedit](https://wiki.gnome.org/Apps/Gedit)#Download\n",
    "    (this is usually installed by default on some Linux systems)  \n",
    "  - There are also terminal editors like  \n",
    "    Vim: [http://www.vim.org/](http://www.vim.org/)  \n",
    "    Nano: [https://www.nano-editor.org/](https://www.nano-editor.org/)  \n",
    "    Emacs: [https://www.gnu.org/software/emacs/](https://www.gnu.org/software/emacs/)  \n",
    "    but these may have a steeper learning curve!  \n",
    "- If you want an IDE, these options work with the compiler you’ll be\n",
    "  using:  \n",
    "  - Eclipse: [http://www.eclipse.org/cdt/](http://www.eclipse.org/cdt/)\n",
    "    (this is used in a later Computer Science course as well)  \n",
    "  - Code::Blocks: http://www.codeblocks.org/  \n",
    "  - Xcode (Mac only): [https://developer.apple.com/xcode/](https://developer.apple.com/xcode/)  \n",
    "  - NetBeans: [https://netbeans.org/features/cpp/](https://netbeans.org/features/cpp/)  \n",
    "    and from the Data Structures site, notes on using NetBeans with C and C++:  \n",
    "    [http://chriseiffel.com/uncategorized/windows-c-compiler-how-to/](http://chriseiffel.com/uncategorized/windows-c-compiler-how-to/)  \n",
    "\n",
    "\n",
    "If you are having trouble deciding, ask the TAs and mentors what they use!\n",
    "\n",
    "Remember: IDEs are useful for debugging with a graphical user\n",
    "interface. But, it is likely that no one will be an expert in the\n",
    "specific IDE you use. Practice and learn its features before starting\n",
    "to use it in class assignments."
   ]
  },
  {
   "cell_type": "markdown",
   "metadata": {},
   "source": [
    "## Final Note\n",
    "\n",
    "If you find additional resources that are useful, please feel free to\n",
    "let us know. We will include them here."
   ]
  }
 ],
 "metadata": {
  "filename": "setting_up_for_ds.rst",
  "kernelspec": {
   "display_name": "Python",
   "language": "python3",
   "name": "python3"
  },
  "title": "Setting up C++ for Data Structures"
 },
 "nbformat": 4,
 "nbformat_minor": 2
}