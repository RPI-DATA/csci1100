{
 "cells": [
  {
   "cell_type": "markdown",
   "metadata": {},
   "source": [
    "Notebook created: 2019-07-16 14:30:28  \n",
    "Generated from: jWebsite/lecture_notes/lec23_recursion_exercises/exercises.rst  "
   ]
  },
  {
   "cell_type": "markdown",
   "metadata": {},
   "source": [
    "# Lecture 23 — Exercises\n",
    "\n",
    "Solutions to the problems below must be sent to Submitty for automatic\n",
    "scoring.  A separate file must submitted for each problem.  Start by\n",
    "downloading *lec23_ex.zip* from the Piazza site.  Solutions\n",
    "must be submitted by 4 pm on Tuesday, April 24.\n",
    "\n",
    "1. The following code recursively calculates the maximum value in a\n",
    "list.  "
   ]
  },
  {
   "cell_type": "code",
   "execution_count": null,
   "metadata": {
    "hide-output": false
   },
   "outputs": [],
   "source": [
    "def recursive_max_impl( L, i ):\n",
    "    '''\n",
    "    The actual recursive function.\n",
    "    '''\n",
    "    if i == len(L)-1:\n",
    "        return L[i]\n",
    "    else:\n",
    "        return max(L[i], recursive_max_impl(L,i+1) )\n",
    "\n",
    "def recursive_max( L ):\n",
    "    '''\n",
    "    The driver for the recursive function.  This handles the special\n",
    "    case of an empty list and otherwise makes the initial call to the\n",
    "    recursive function.\n",
    "    '''\n",
    "    if len(L) == 0:\n",
    "        return -99999    # By convention\n",
    "    else:\n",
    "        return recursive_max_impl( L, 0 )\n",
    "\n",
    "if __name__ == \"__main__\":\n",
    "    L1 = [ 5 ]\n",
    "    print(recursive_max( L1 ))\n",
    "    L2 = [ 24, 23.1, 12, 15, 1 ]\n",
    "    print(recursive_max( L2))\n",
    "    L2.append( 55 )\n",
    "    print(recursive_max( L2 ))"
   ]
  },
  {
   "cell_type": "markdown",
   "metadata": {},
   "source": [
    "Using this as a guide, write a recursive function to add the values\n",
    "in a list.  You should have to change very little code.  Implement\n",
    "your code in the provided file `prob1.py`  \n",
    "1. Implement a recursive solution to the Fibonacci number function\n",
    "  definition given during lecture.  Implement your code in the\n",
    "  provided file `prob2.py`.  \n",
    "1. Looking carefully at the Fibonacci definition shows that\n",
    "  calculating Fibonacci number $ f_{n-1} $ requires calculating Fibonacci\n",
    "  number $ f_{n-2} $, which is also required for calculating Fibonacci number\n",
    "  $ f_n $.  This means there is redundant computation.  This redundancy gets\n",
    "  worse for numbers $ f_{n-3} $, $ f_{n-4} $, etc.  \n",
    "  Fortunately, the Fibonacci sequence is relatively easy to compute\n",
    "  non-recursively.  That is your problem here.  The trick is to build\n",
    "  up the solution using a for loop that calculates $ f_2 $, then $ f_3 $,\n",
    "  then $ f_4 $, etc. Implement your solution in `prob3.py`.  \n",
    "  Out of curiosity, you could run your solutions to the previous two\n",
    "  problems on large values of n and time the difference.  "
   ]
  }
 ],
 "metadata": {
  "filename": "exercises.rst",
  "kernelspec": {
   "display_name": "Python",
   "language": "python3",
   "name": "python3"
  },
  "title": "Lecture 23 — Exercises"
 },
 "nbformat": 4,
 "nbformat_minor": 2
}