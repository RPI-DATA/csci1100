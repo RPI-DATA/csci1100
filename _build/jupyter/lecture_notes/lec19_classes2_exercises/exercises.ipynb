{
 "cells": [
  {
   "cell_type": "markdown",
   "metadata": {},
   "source": [
    "Notebook created: 2019-07-16 14:30:27  \n",
    "Generated from: jWebsite/lecture_notes/lec19_classes2_exercises/exercises.rst  "
   ]
  },
  {
   "cell_type": "markdown",
   "metadata": {},
   "source": [
    "# Lecture 19 — Exercises\n",
    "\n",
    "Solutions to the problems below must be sent to Submitty for\n",
    "automatic scoring.  A separate file must submitted for each problem.\n",
    "Solutions must be submitted by 4 pm on Friday, April 7.\n",
    "\n",
    "1. The `Restaurant.py` file you were provided includes a main code\n",
    "  area with code to test functions that have not yet been written\n",
    "  (see the methods with `pass` as their only statements). These\n",
    "  are the `min_review`, the `max_review`, the `latitude` and\n",
    "  the `longitude`.  Please implement these functions, test them, and\n",
    "  submit the resulting `Restaurant.py`.  \n",
    "1. Copy the code in `lec19_restaurant_exercise.py` into a file\n",
    "  called `lec19_american_in_troy.py`.  Rewrite the main code in\n",
    "  this new file to list the names of all Restaurants in\n",
    "  *Troy* that have *American* in their category and that have an average\n",
    "  rating of **more than** 3.0.  The **only output** should be the alphabetical\n",
    "  list of restaurant names, one per line of\n",
    "  output.  The trick is that you are *not allowed to change* the\n",
    "  `Restaurant` class at all.  This will require that you\n",
    "  access and use both one or two methods from `Restaurant` and some\n",
    "  of its attributes directly.  Upload your\n",
    "  `lec19_american_in_troy.py` to Submitty when you are done.\n",
    "  Submitty will use our `Restaurant.py` file to test.  "
   ]
  }
 ],
 "metadata": {
  "filename": "exercises.rst",
  "kernelspec": {
   "display_name": "Python",
   "language": "python3",
   "name": "python3"
  },
  "title": "Lecture 19 — Exercises"
 },
 "nbformat": 4,
 "nbformat_minor": 2
}