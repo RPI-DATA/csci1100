{
 "cells": [
  {
   "cell_type": "markdown",
   "metadata": {},
   "source": [
    "Notebook created: 2019-07-16 14:30:27  \n",
    "Generated from: jWebsite/lecture_notes/lec16_dictionaries1.rst  "
   ]
  },
  {
   "cell_type": "markdown",
   "metadata": {},
   "source": [
    "# Lecture 16 — Dictionaries, Part 1"
   ]
  },
  {
   "cell_type": "markdown",
   "metadata": {},
   "source": [
    "## Overview\n",
    "\n",
    "- More on IMDB  \n",
    "- Dictionaries and dictionary operations  \n",
    "- Solutions to the problem of counting how many movies are associated with each individual  \n",
    "- Other applications  "
   ]
  },
  {
   "cell_type": "markdown",
   "metadata": {},
   "source": [
    "## How Many Movies is Each Person Involved In?\n",
    "\n",
    "- Goals:  \n",
    "  - Count movies for each person.  \n",
    "  - Who is the busiest?  \n",
    "  - What movies do two people have in common?  \n",
    "- Best solved with the notion of a dictionary, but we’ll at least\n",
    "  consider how to use a list.  "
   ]
  },
  {
   "cell_type": "markdown",
   "metadata": {},
   "source": [
    "## List-Based Solution — Straightforward Version\n",
    "\n",
    "- Core data structure is a list of two-item lists, each giving a\n",
    "  person’s name and the count of movies.  \n",
    "- For example, after reading the first seven lines of our shortened\n",
    "`hanks.txt` file, we would have the list  "
   ]
  },
  {
   "cell_type": "code",
   "execution_count": null,
   "metadata": {
    "hide-output": false
   },
   "outputs": [],
   "source": [
    "[ [\"Hanks, Jim\", 3], [\"Hanks, Colin\", 1],\n",
    "  [\"Hanks, Bethan\", 1], [\"Hanks, Tom\", 2] ]"
   ]
  },
  {
   "cell_type": "markdown",
   "metadata": {},
   "source": [
    "- Just like our solution from the sets lectures, we can start from the\n",
    "following code:  "
   ]
  },
  {
   "cell_type": "code",
   "execution_count": null,
   "metadata": {
    "hide-output": false
   },
   "outputs": [],
   "source": [
    "imdb_file = input(\"Enter the name of the IMDB file ==> \").strip()\n",
    "count_list = []\n",
    "for line in open(imdb_file, encoding = \"ISO-8859-1\"):\n",
    "    words = line.strip().split('|')\n",
    "    name = words[0].strip()"
   ]
  },
  {
   "cell_type": "markdown",
   "metadata": {},
   "source": [
    "- Like our list solution for finding all IMDB people, this solution is\n",
    "  VERY slow — once again $ O(N^2) $ (“order of N squared”).  "
   ]
  },
  {
   "cell_type": "markdown",
   "metadata": {},
   "source": [
    "## List-Based Solution — Faster Version Based on Sorting\n",
    "\n",
    "- There is an alternate solution that would work for the number of unique names solution from\n",
    "  lecture 15 as well. It is based on sorting.  \n",
    "- Append each name to the end of the list **without** checking if it is\n",
    "  already there.  \n",
    "- After reading all of the movies, sort the entire resulting list  \n",
    "  - As a result, all instances of each name will now be next to each\n",
    "    other.  \n",
    "- Go back through the list, counting the occurrence of each name  \n",
    "- This solution will be **much** faster than the first, but it is also\n",
    "  more involved to write than the one we are about to write using\n",
    "  dictionaries  "
   ]
  },
  {
   "cell_type": "markdown",
   "metadata": {},
   "source": [
    "## Introduction to Dictionaries\n",
    "\n",
    "- Association between “keys” (like words in an English dictionary) and\n",
    "  “values” (like definitions in an English dictionary). The values can\n",
    "  be **anything**.  \n",
    "- Examples:  "
   ]
  },
  {
   "cell_type": "code",
   "execution_count": null,
   "metadata": {
    "hide-output": false
   },
   "outputs": [],
   "source": [
    ">>> heights = dict()\n",
    ">>> heights = {}    # either of these works\n",
    ">>> heights['belgian horse'] = 162.6\n",
    ">>> heights['indian elephant'] = 280.0\n",
    ">>> heights['tiger'] = 91.0\n",
    ">>> heights['lion'] = 97.0\n",
    ">>> heights\n",
    "{'belgian horse': 162.6, 'tiger': 91.0, 'lion': 97.0, 'indian elephant': 280.0}\n",
    ">>> 'tiger' in heights\n",
    "True\n",
    ">>> 'giraffe' in heights\n",
    "False\n",
    ">>> 91.0 in heights\n",
    "False\n",
    ">>> list(heights.keys())\n",
    "['belgian horse', 'tiger', 'lion', 'indian elephant']\n",
    ">>> sorted(heights.keys())\n",
    "['belgian horse', 'indian elephant', 'lion', 'tiger']\n",
    ">>> heights.values()\n",
    "dict_values([162.6, 91.0, 97.0, 280.0])\n",
    ">>> list(heights.values())\n",
    "[97.0, 162.6, 91.0, 280.0]"
   ]
  },
  {
   "cell_type": "markdown",
   "metadata": {},
   "source": [
    "- Details:  \n",
    "  - Two initializations; either would work.  \n",
    "  - Syntax is very much like the subscripting syntax for lists, except\n",
    "    dictionary subscripting/indexing uses keys instead of integers!  \n",
    "  - The keys, in this example, are animal species (or subspecies)\n",
    "    names; the values are floats.  \n",
    "  - The `in` method tests only for the presence of the key, like\n",
    "    looking up a word in the dictionary without checking its\n",
    "    definition.  \n",
    "  - The keys are NOT ordered.  \n",
    "- Just as in sets, the implementation uses *hashing* of keys.  \n",
    "  - Conceptually, sets are dictionaries without values.  "
   ]
  },
  {
   "cell_type": "markdown",
   "metadata": {},
   "source": [
    "## Lecture Exercise 1\n",
    "\n",
    "You will have five minutes to work on the first lecture exercise."
   ]
  },
  {
   "cell_type": "markdown",
   "metadata": {},
   "source": [
    "## Back to Our IMDB Problem\n",
    "\n",
    "- Even though our coverage of dictionaries has been brief, we already\n",
    "  have enough tools to solve our problem of counting movies.  \n",
    "- Once again we’ll use the following as a starting point  "
   ]
  },
  {
   "cell_type": "code",
   "execution_count": null,
   "metadata": {
    "hide-output": false
   },
   "outputs": [],
   "source": [
    "imdb_file = input(\"Enter the name of the IMDB file ==> \").strip()\n",
    "counts = dict()\n",
    "for line in open(imdb_file, encoding = \"ISO-8859-1\"):\n",
    "    words = line.strip().split('|')\n",
    "    name = words[0].strip()"
   ]
  },
  {
   "cell_type": "markdown",
   "metadata": {},
   "source": [
    "- The solution we give in class will output the counts for the first\n",
    "  100 individuals in alphabetical order.  It will be up to you as an\n",
    "  exercise to find the most frequently occuring individual.  \n",
    "- We will impose an ordering on the output by sorting the keys.  \n",
    "- We’ll test first on our smaller data set and then again later on our\n",
    "  larger ones.  "
   ]
  },
  {
   "cell_type": "markdown",
   "metadata": {},
   "source": [
    "## Key Types\n",
    "\n",
    "- Thus far, the *keys* in our dictionary have been strings.  \n",
    "- Keys can be any “hashable” type — string, int, float, booleans, tuples.  \n",
    "  - Lists, sets and other dictionaries can not be keys.  \n",
    "- Strings are by far the most common key type  \n",
    "- We will see an example of integers as the key type by the end of\n",
    "  the Lecture 17 (next set of) notes.  \n",
    "- Float and boolean are general poor choices. Can you think why?  "
   ]
  },
  {
   "cell_type": "markdown",
   "metadata": {},
   "source": [
    "## Value Types\n",
    "\n",
    "- So far, the *values* in our dictionaries have been integers and\n",
    "  floats.  \n",
    "- But, any type can be the values  \n",
    "  - boolean  \n",
    "  - int  \n",
    "  - float  \n",
    "  - string  \n",
    "  - list  \n",
    "  - tuple  \n",
    "  - set  \n",
    "  - other dictionaries  \n",
    "- Here is an example using our IMDB code and a set:  "
   ]
  },
  {
   "cell_type": "code",
   "execution_count": null,
   "metadata": {
    "hide-output": false
   },
   "outputs": [],
   "source": [
    ">>> people = dict()\n",
    ">>> people['Hanks, Tom'] = set()\n",
    ">>> people['Hanks, Tom'].add('Big')\n",
    ">>> people['Hanks, Tom'].add('Splash')\n",
    ">>> people['Hanks, Tom'].add('Forest Gump')\n",
    ">>> print(people['Hanks, Tom'])\n",
    "{'Forest Gump', 'Big', 'Splash'}"
   ]
  },
  {
   "cell_type": "markdown",
   "metadata": {},
   "source": [
    "- Here is another example where we store the continent and the\n",
    "population for a country instead of just the population:  "
   ]
  },
  {
   "cell_type": "code",
   "execution_count": null,
   "metadata": {
    "hide-output": false
   },
   "outputs": [],
   "source": [
    "countries = dict()\n",
    "countries.clear()\n",
    "countries['Algeria'] =  (37100000, 'Africa')\n",
    "countries['Canada'] = (34945200, 'North America' )\n",
    "countries['Uganda'] = (32939800, 'Africa')\n",
    "countries['Morocco'] = (32696600, 'Africa')\n",
    "countries['Sudan'] = (30894000, 'Africa')"
   ]
  },
  {
   "cell_type": "markdown",
   "metadata": {},
   "source": [
    "- We access the values in the entries using *two consecutive\n",
    "subscripts*. For example,  "
   ]
  },
  {
   "cell_type": "code",
   "execution_count": null,
   "metadata": {
    "hide-output": false
   },
   "outputs": [],
   "source": [
    "name = \"Canada\"\n",
    "print(\"The population of {} is {}\".format(name, countries[name][0]))\n",
    "print(\"It is in the continent of\", countries[name][1])"
   ]
  },
  {
   "cell_type": "markdown",
   "metadata": {},
   "source": [
    "\n",
    "\n",
    "## Removing Values: Sets and Dictionaries\n",
    "\n",
    "- For a set:  \n",
    "  - `discard` removes the specified element, and does nothing if it\n",
    "    is not there  \n",
    "  - `remove` removes the specified element, but fails (throwing an\n",
    "    exception) if it is not there  \n",
    "- For a dictionary, it is the `del` function.  \n",
    "- For both sets and dictionaries, the `clear` method empties the\n",
    "  container.  \n",
    "- We will look at toy examples in class  "
   ]
  },
  {
   "cell_type": "markdown",
   "metadata": {},
   "source": [
    "## Other Dictionary Methods\n",
    "\n",
    "- The following dictionary methods are useful, but not so much as the\n",
    "  ones we’ve discussed.  \n",
    "  - `get`  \n",
    "  - `pop`  \n",
    "  - `popitem`  \n",
    "  - `update`  \n",
    "- Use the `help` function in Python to figure out how to use them and\n",
    "  to find other dictionary methods.  "
   ]
  },
  {
   "cell_type": "markdown",
   "metadata": {},
   "source": [
    "## Summary of Dictionaries\n",
    "\n",
    "- Associate “keys” with “values”  \n",
    "- Feels like indexing, except we are using keys instead of integer\n",
    "  indices.  \n",
    "- Makes counting and a number of other operations simple and fast.  \n",
    "- Keys can be any “hashable” value, usually strings, sometimes\n",
    "  integers.  \n",
    "- Values can any type whatsoever.  "
   ]
  },
  {
   "cell_type": "markdown",
   "metadata": {},
   "source": [
    "## Additional Practice\n",
    "\n",
    "1. Write a function that takes the IMDB dictionary — which associates\n",
    "  strings representing names with integers representing the count of\n",
    "  movies — and an integer representing a `min_count`, and removes all\n",
    "  individuals from the dictionary involved in fewer than `min_count`\n",
    "  movies.  "
   ]
  }
 ],
 "metadata": {
  "filename": "lec16_dictionaries1.rst",
  "kernelspec": {
   "display_name": "Python",
   "language": "python3",
   "name": "python3"
  },
  "title": "Lecture 16 — Dictionaries, Part 1"
 },
 "nbformat": 4,
 "nbformat_minor": 2
}