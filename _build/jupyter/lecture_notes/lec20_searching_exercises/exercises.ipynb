{
 "cells": [
  {
   "cell_type": "markdown",
   "metadata": {},
   "source": [
    "Notebook created: 2019-07-16 14:30:27  \n",
    "Generated from: jWebsite/lecture_notes/lec20_searching_exercises/exercises.rst  "
   ]
  },
  {
   "cell_type": "markdown",
   "metadata": {},
   "source": [
    "# Lecture 20 — Exercises\n",
    "\n",
    "Solutions to the problems below must be sent to Submitty for\n",
    "automatic scoring.  A separate file must submitted for each problem.\n",
    "Solutions must be submitted by 4 pm on Tuesday, April 11.\n",
    "\n",
    "For both of these exercises download the file `lec20_ex.zip` from\n",
    "the course Piazza Resource page.  It includes a data file and\n",
    "`lec20_ex_start.py`.  You start from the latter for both exercises.\n",
    "You will notice that the main code in this file requests the name of a\n",
    "data file from the user, opens and reads the file to form a list of\n",
    "values, and then in a loop requests several different values to search\n",
    "for, outputting the result of the function call for each.\n",
    "\n",
    "1. Write a Python function called `linear_search` that is given two\n",
    "  arguments:  a value `x` and a list `L`.  The function must\n",
    "  return the list index of the first location of `x` in `L`.  If\n",
    "  `x` is not in `L` the function must return -1.  You may use any\n",
    "  Python `list` functions you wish.  \n",
    "1. What if the list is already sorted? Write a modifed version of\n",
    "`linear_search` that returns the index of the first instance of\n",
    "`x` or the index where `x` should be inserted if it is not in\n",
    "`L` For example, in the list  "
   ]
  },
  {
   "cell_type": "code",
   "execution_count": null,
   "metadata": {
    "hide-output": false
   },
   "outputs": [],
   "source": [
    "L = [ 1.3, 7.9, 11.2, 15.3, 18.5, 18.9, 19.7 ]"
   ]
  },
  {
   "cell_type": "markdown",
   "metadata": {},
   "source": [
    "the call  "
   ]
  },
  {
   "cell_type": "code",
   "execution_count": null,
   "metadata": {
    "hide-output": false
   },
   "outputs": [],
   "source": [
    "linear_search(11.9, L)"
   ]
  },
  {
   "cell_type": "markdown",
   "metadata": {},
   "source": [
    "should return 3, while the call  "
   ]
  },
  {
   "cell_type": "code",
   "execution_count": null,
   "metadata": {
    "hide-output": false
   },
   "outputs": [],
   "source": [
    "linear_search( 20.5, L)"
   ]
  },
  {
   "cell_type": "markdown",
   "metadata": {},
   "source": [
    "should return 7.  You must not use binary search (even though that\n",
    "would be faster — this is an exercise) and you must use either a\n",
    "`for` or a `while` loop.  "
   ]
  }
 ],
 "metadata": {
  "filename": "exercises.rst",
  "kernelspec": {
   "display_name": "Python",
   "language": "python3",
   "name": "python3"
  },
  "title": "Lecture 20 — Exercises"
 },
 "nbformat": 4,
 "nbformat_minor": 2
}