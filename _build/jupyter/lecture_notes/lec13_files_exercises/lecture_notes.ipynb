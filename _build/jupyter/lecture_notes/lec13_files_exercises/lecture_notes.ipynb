{
 "cells": [
  {
   "cell_type": "markdown",
   "metadata": {},
   "source": [
    "Notebook created: 2019-07-16 14:30:27  \n",
    "Generated from: jWebsite/lecture_notes/lec13_files_exercises/lecture_notes.rst  "
   ]
  },
  {
   "cell_type": "markdown",
   "metadata": {},
   "source": [
    "f = open(“census_data.txt”)\n",
    "line1 = f.readline()\n",
    "line1 = line1.strip()\n",
    "line2 = f.read()\n",
    "line3 = f.readline()\n",
    "print(line1)\n",
    "print(line2)\n",
    "print(line3)\n",
    "f.close()\n",
    "f = open(“census_data.txt”)\n",
    "s = f.read()\n",
    "line_list = s.split(‘n’)\n",
    "print(len(line_list))\n",
    "line_list = s.strip().split(‘n’)\n",
    "print(len(line_list))"
   ]
  }
 ],
 "metadata": {
  "filename": "lecture_notes.rst",
  "kernelspec": {
   "display_name": "Python",
   "language": "python3",
   "name": "python3"
  }
 },
 "nbformat": 4,
 "nbformat_minor": 2
}