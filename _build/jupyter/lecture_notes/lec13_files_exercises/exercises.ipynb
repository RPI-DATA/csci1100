{
 "cells": [
  {
   "cell_type": "markdown",
   "metadata": {},
   "source": [
    "Notebook created: 2019-07-16 14:30:27  \n",
    "Generated from: jWebsite/lecture_notes/lec13_files_exercises/exercises.rst  "
   ]
  },
  {
   "cell_type": "markdown",
   "metadata": {},
   "source": [
    "# Lecture 13 — Exercises\n",
    "\n",
    "Solutions to the problems below must be sent to Submitty for grading.\n",
    "A separate file must submitted for each problem.  Solutions must be\n",
    "submitted by 4 pm on Tuesday, October 17.\n",
    "\n",
    "1. Given the file `census_data.txt`:  "
   ]
  },
  {
   "cell_type": "code",
   "execution_count": null,
   "metadata": {
    "hide-output": false
   },
   "outputs": [],
   "source": [
    "Line 1 |Location    2000    2011\n",
    "Line 2 |New York State  18,976,811  19,378,102\n",
    "Line 3 |New York City   8,008,686   8,175,133\n",
    "Line 4 |"
   ]
  },
  {
   "cell_type": "markdown",
   "metadata": {},
   "source": [
    "What is the output of the following code? (Note: the line\n",
    "numbers and the “|” are not actually in the file, they are just there to show\n",
    "that the contents of the 4 lines.)  "
   ]
  },
  {
   "cell_type": "code",
   "execution_count": null,
   "metadata": {
    "hide-output": false
   },
   "outputs": [],
   "source": [
    "f = open(\"census_data.txt\")\n",
    "line1 = f.readline()\n",
    "line1 = line1.strip()\n",
    "line2 = f.read()\n",
    "line3 = f.readline()\n",
    "print(line1)\n",
    "print(line2)\n",
    "print(line3)\n",
    "f.close()\n",
    "f = open(\"census_data.txt\")\n",
    "s = f.read()\n",
    "line_list = s.split('\\n')\n",
    "print(len(line_list))\n",
    "line_list = s.strip().split('\\n')\n",
    "print(len(line_list))"
   ]
  },
  {
   "cell_type": "markdown",
   "metadata": {},
   "source": [
    "Submit your output as a text file.  \n",
    "1. Given a file containing test scores, one per line, we want to have\n",
    "a new file that contains the scores in increasing order.  To do\n",
    "this, write a Python program that asks the user for two file name\n",
    "strings, one for the input scores and the second for the output,\n",
    "sorted scores.  The program should open the first file (to read),\n",
    "read the scores, sort them, open the second file (to write), and\n",
    "output to this file the scores in increasing order.  There should be\n",
    "one score per line, with the index on each line.  \n",
    "As an example, suppose the input file is `scores.txt` and it\n",
    "contains  "
   ]
  },
  {
   "cell_type": "code",
   "execution_count": null,
   "metadata": {
    "hide-output": false
   },
   "outputs": [],
   "source": [
    "75\n",
    "98\n",
    "75\n",
    "100\n",
    "21\n",
    "66\n",
    "83\n",
    "15"
   ]
  },
  {
   "cell_type": "markdown",
   "metadata": {},
   "source": [
    "then running your program should look like (in Wing IDE):  "
   ]
  },
  {
   "cell_type": "code",
   "execution_count": null,
   "metadata": {
    "hide-output": false
   },
   "outputs": [],
   "source": [
    "Enter the scores file: scores.txt\n",
    "scores.txt\n",
    "Enter the output file: scores_sorted.txt\n",
    "scores_sorted.txt"
   ]
  },
  {
   "cell_type": "markdown",
   "metadata": {},
   "source": [
    "When you look at the contents of `scores_sorted.txt` you should\n",
    "see  "
   ]
  },
  {
   "cell_type": "code",
   "execution_count": null,
   "metadata": {
    "hide-output": false
   },
   "outputs": [],
   "source": [
    "0:  15\n",
    "1:  21\n",
    "2:  66\n",
    "3:  75\n",
    "4:  75\n",
    "5:  83\n",
    "6:  98\n",
    "7: 100"
   ]
  },
  {
   "cell_type": "markdown",
   "metadata": {},
   "source": [
    "(Output the indices using two integer spaces {:2d} and the scores using\n",
    "three {:3d}.) You only need to submit the Python file.  We will test with the\n",
    "example above and with a new file you have not seen.  "
   ]
  }
 ],
 "metadata": {
  "filename": "exercises.rst",
  "kernelspec": {
   "display_name": "Python",
   "language": "python3",
   "name": "python3"
  },
  "title": "Lecture 13 — Exercises"
 },
 "nbformat": 4,
 "nbformat_minor": 2
}