{
 "cells": [
  {
   "cell_type": "markdown",
   "metadata": {},
   "source": [
    "Notebook created: 2019-07-16 14:30:28  \n",
    "Generated from: jWebsite/weekly_lecture_lab.rst  "
   ]
  },
  {
   "cell_type": "markdown",
   "metadata": {},
   "source": [
    "# Computer Science 1 Weekly Lecture and Lab Schedule - Spring 2018"
   ]
  },
  {
   "cell_type": "markdown",
   "metadata": {},
   "source": [
    "## Lecture and Lab Times (locations below)\n",
    "\n",
    "<img src=\"_images/LabHours.png\" style=\"\">\n",
    "\n",
    "Note the following room numbers:\n",
    "\n",
    "<img src=\"_images/LabLocations.png\" style=\"\">"
   ]
  }
 ],
 "metadata": {
  "filename": "weekly_lecture_lab.rst",
  "kernelspec": {
   "display_name": "Python",
   "language": "python3",
   "name": "python3"
  },
  "title": "Computer Science 1 Weekly Lecture and Lab Schedule - Spring 2018"
 },
 "nbformat": 4,
 "nbformat_minor": 2
}