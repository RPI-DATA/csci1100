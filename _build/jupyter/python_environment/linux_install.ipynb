{
 "cells": [
  {
   "cell_type": "markdown",
   "metadata": {},
   "source": [
    "Notebook created: 2019-07-16 14:30:28  \n",
    "Generated from: jWebsite/python_environment/linux_install.rst  "
   ]
  },
  {
   "cell_type": "markdown",
   "metadata": {},
   "source": [
    "# Install On Linux"
   ]
  },
  {
   "cell_type": "markdown",
   "metadata": {},
   "source": [
    "## Install Miniconda Python 3.6\n",
    "\n",
    "1. To get started you need to download the correct version of the linux miniconda\n",
    "  installer for your operating system.  \n",
    "  1. If your computer has a 64-bit operating system (most likely)\n",
    "    use the link [https://repo.continuum.io/miniconda/Miniconda3-latest-Linux-x86_64.sh](https://repo.continuum.io/miniconda/Miniconda3-latest-Linux-x86_64.sh)\n",
    "    If your system has a 32-bit operating system (unlikely) use the link\n",
    "    [https://repo.continuum.io/miniconda/Miniconda3-latest-Linux-x86.sh](https://repo.continuum.io/miniconda/Miniconda3-latest-Linux-x86.sh)\n",
    "    These resources\n",
    "    can also be found on the resources page of our class Piazza site.\n",
    "    If you are unsure of which system you are running, see\n",
    "    [Detecting 64-bits versus 32-bits Linux Systems](#detecting-64-bits-versus-32-bits-linux-systems).  \n",
    "  1. Wait for it to download.  It will place a file called\n",
    "    **Miniconda3-latest-Linux-x86_64.sh** (64-bit) or\n",
    "    **Miniconda3-latest-Linux-x86.sh** (32-bit) in your downloads\n",
    "    folder. On my computer using Firefox this is ~/Downloads  \n",
    "1. Open at *Terminal* window. If you don’t know how to do this click *\n",
    "  Applications -> Terminal* or search for “Terminal” in the Ubuntu dock search  \n",
    "1. Within *Terminal* change directories into the folder where your downloaded file lives, i.e.  "
   ]
  },
  {
   "cell_type": "code",
   "execution_count": null,
   "metadata": {
    "hide-output": false
   },
   "outputs": [],
   "source": [
    "cd ~/Downloads"
   ]
  },
  {
   "cell_type": "markdown",
   "metadata": {},
   "source": [
    "1. Now run the bash “shell” program to install Miniconda  "
   ]
  },
  {
   "cell_type": "code",
   "execution_count": null,
   "metadata": {
    "hide-output": false
   },
   "outputs": [],
   "source": [
    "bash Miniconda3-latest-Linux-x86_64.sh"
   ]
  },
  {
   "cell_type": "markdown",
   "metadata": {},
   "source": [
    "\n",
    "\n",
    "1. Scroll through the license (press the space bar to move through\n",
    "  quickly), type ‘yes’ to approve the terms, and then accept all the\n",
    "  installation defaults.  \n",
    "1. Close the Terminal program.  Then, restart it.  \n",
    "1. Within Terminal type:  "
   ]
  },
  {
   "cell_type": "code",
   "execution_count": null,
   "metadata": {
    "hide-output": false
   },
   "outputs": [],
   "source": [
    "conda install pillow"
   ]
  },
  {
   "cell_type": "markdown",
   "metadata": {},
   "source": [
    "1. Enter y at the Proceed prompt.  \n",
    "1. When the installation completes, close the Terminal window.  "
   ]
  },
  {
   "cell_type": "markdown",
   "metadata": {},
   "source": [
    "## Install Wing IDE and Connect It to Miniconda Python\n",
    "\n",
    "The second half of the installation is the Wing IDE development\n",
    "environment.  This is the software that you use to write, edit and\n",
    "test your Python programs.  Wing IDE calls Python to actually run the\n",
    "program.  Therefore, we have to download and install Wing IDE and then\n",
    "tie it to the Miniconda version of Python.\n",
    "\n",
    "1. Go to [http://wingware.com/downloads/wingide-101](http://wingware.com/downloads/wingide-101)  \n",
    "1. Download the installer for your operating system.  For Linux\n",
    "  this downloads an installation deb package.  Double click on it to\n",
    "  install and follow the instructions in the Software Center. As with miniconda,\n",
    "  you may need to answer of few questions and accept the license agreement. You\n",
    "  should use the default settings.  \n",
    "1. Open the Wing IDE application.  We’ll explore this application in\n",
    "  lecture and in lab, but for now we just need to tell Wing about\n",
    "  Miniconda Python.  To do this, click on the menu and then *Edit ->\n",
    "  Configure Python*  \n",
    "1. For the Python Executable click on Custom and then Browse to the\n",
    "  location for the Miniconda Python executable.  This will be something like\n",
    "  */home/stewart/miniconda3/bin/python3.6* See the following  \n",
    "\n",
    "\n",
    "<img src=\"python_environment/link-ide-to-python3-linux.png\" style=\"width:500px;\" align=\"center\">\n",
    "\n",
    "1. Ignore the Python Path and all other settings and click OK.  \n",
    "1. Back in the main Wing IDE it may ask you to restart the python\n",
    "  shell.  Once you do then you should see at the top of the Python\n",
    "  Shell window pane something about “3.6 |Continuum Analytics,\n",
    "  Inc.” etc.  If you have this you are all set and the installation\n",
    "  is complete!  "
   ]
  },
  {
   "cell_type": "markdown",
   "metadata": {},
   "source": [
    "## Detecting 64-bits versus 32-bits Linux Systems\n",
    "\n",
    "To determine if you are running 64- or 32-bit Linux, simply open up a Terminal\n",
    "window and type:"
   ]
  },
  {
   "cell_type": "code",
   "execution_count": null,
   "metadata": {
    "hide-output": false
   },
   "outputs": [],
   "source": [
    "uname -m"
   ]
  },
  {
   "cell_type": "markdown",
   "metadata": {},
   "source": [
    "This will either output “i686” (or something not “x86_64”) for 32-bit or “x86_64”\n",
    "for 64-bit"
   ]
  }
 ],
 "metadata": {
  "filename": "linux_install.rst",
  "kernelspec": {
   "display_name": "Python",
   "language": "python3",
   "name": "python3"
  },
  "title": "Install On Linux"
 },
 "nbformat": 4,
 "nbformat_minor": 2
}