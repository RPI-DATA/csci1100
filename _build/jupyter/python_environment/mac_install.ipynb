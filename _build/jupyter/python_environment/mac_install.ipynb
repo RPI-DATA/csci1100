{
 "cells": [
  {
   "cell_type": "markdown",
   "metadata": {},
   "source": [
    "Notebook created: 2019-07-16 14:30:28  \n",
    "Generated from: jWebsite/python_environment/mac_install.rst  "
   ]
  },
  {
   "cell_type": "markdown",
   "metadata": {},
   "source": [
    "# Install On Mac OS X"
   ]
  },
  {
   "cell_type": "markdown",
   "metadata": {},
   "source": [
    "## Install Miniconda Python 3.6\n",
    "\n",
    "1. To get started you need to download the OSX miniconda\n",
    "  installer.  \n",
    "  1. Click on the link [https://repo.continuum.io/miniconda/Miniconda3-latest-MacOSX-x86_64.sh](https://repo.continuum.io/miniconda/Miniconda3-latest-MacOSX-x86_64.sh)  \n",
    "  1. Wait for it to download.  It will place a file called\n",
    "    **Miniconda3-latest-MacOSX-x86_64.sh** in your downloads\n",
    "    folder. On my computer using Safari this is ~/Downloads  \n",
    "1. Open at *Terminal* window. If you don’t know how to do this click *\n",
    "  Applications -> Utilities -> Terminal*  \n",
    "1. Within *Terminal* “change directories into the folder where your downloaded file lives, i.e.  "
   ]
  },
  {
   "cell_type": "code",
   "execution_count": null,
   "metadata": {
    "hide-output": false
   },
   "outputs": [],
   "source": [
    "cd ~/Downloads"
   ]
  },
  {
   "cell_type": "markdown",
   "metadata": {},
   "source": [
    "1. Now run the bash “shell” program to install Miniconda  "
   ]
  },
  {
   "cell_type": "code",
   "execution_count": null,
   "metadata": {
    "hide-output": false
   },
   "outputs": [],
   "source": [
    "bash Miniconda3-latest-MacOSX-x86_64.sh"
   ]
  },
  {
   "cell_type": "markdown",
   "metadata": {},
   "source": [
    "\n",
    "\n",
    "1. Scroll through the license (press the space bar to move through\n",
    "  quickly), type ‘yes’ to approve the terms, and then accept all the\n",
    "  installation defaults.  \n",
    "1. Close the Terminal program.  Then, restart it.  \n",
    "1. Within the Terminal type:  "
   ]
  },
  {
   "cell_type": "code",
   "execution_count": null,
   "metadata": {
    "hide-output": false
   },
   "outputs": [],
   "source": [
    "conda install pillow"
   ]
  },
  {
   "cell_type": "markdown",
   "metadata": {},
   "source": [
    "1. Enter y at the Proceed prompt.  \n",
    "1. When the installation completes, close the Terminal window.  "
   ]
  },
  {
   "cell_type": "markdown",
   "metadata": {},
   "source": [
    "## Install Wing IDE and Connect It to Miniconda Python\n",
    "\n",
    "The second half of the installation is the Wing IDE development\n",
    "environment.  This is the software that you use to write, edit and\n",
    "test your Python programs.  Wing IDE calls Python to actually run the\n",
    "program.  Therefore, we have to download and install Wing IDE and then\n",
    "tie it to the Miniconda version of Python.\n",
    "\n",
    "1. Go to [http://wingware.com/downloads/wingide-101](http://wingware.com/downloads/wingide-101)  \n",
    "1. Download the installer for your operating system.  For Mac OS X\n",
    "  this downloads an installation dmg package.  Double click on it to\n",
    "  install and follow the instructions. As with miniconda, you may\n",
    "  need to answer of few questions and accept the license\n",
    "  agreement. You should use the default settings. If you see a\n",
    "  security problem, see [Security Problems](#security-exceptions-label).  \n",
    "1. Open the Wing IDE application.  We’ll explore this application in\n",
    "  lecture and in lab, but for now we just need to tell Wing about\n",
    "  Miniconda Python.  To do this, click on the menu and then *Edit ->\n",
    "  Configure Python*  \n",
    "1. For the Python Executable click on Custom and then Browse to the\n",
    "  location for the Miniconda Python executable.  On my Mac this is\n",
    "  */Users/stewart/miniconda3/bin/python3.6*  See the following  \n",
    "\n",
    "\n",
    "<img src=\"python_environment/link-ide-to-python3-mac.png\" style=\"width:500px;\" align=\"center\">\n",
    "\n",
    "1. Ignore the Python Path and all other settings and click OK.  \n",
    "1. Back in the main Wing IDE it may ask you to restart the python\n",
    "  shell.  Once you do then you should see at the top of the Python\n",
    "  Shell window pane something about “3.6 |Continuum Analytics,\n",
    "  Inc.” etc.  If you have this you are all set and the installation\n",
    "  is complete!  "
   ]
  },
  {
   "cell_type": "markdown",
   "metadata": {},
   "source": [
    "## Detecting 64-bits versus 32-bits Mac OS X Systems\n",
    "\n",
    "You are running 64-bit Mac OS X.\n",
    "\n",
    "*Technically, all Apple computers purchased since Q4 2006 have been equipped with\n",
    "64-bit capable processors.  The Mac OS X operating system has supported 64-bit by\n",
    "default since OS X 10.6 Snow Leopard, released in 2009.  The upgrade to the latest\n",
    "operating system for your computer is available for free, directly from Apple,\n",
    "since the release of OS X 10.9 Mavericks in 2013.*\n",
    "\n",
    "\n",
    "<a id='security-exceptions-label'></a>"
   ]
  },
  {
   "cell_type": "markdown",
   "metadata": {},
   "source": [
    "## Security Problems\n",
    "\n",
    "For OS X 10.7 and later: The installation of a software package like\n",
    "Wing 101 might fail due to a security feature, called *Gatekeeper*. If\n",
    "you have a problem, you will get a message that looks like:\n",
    "\n",
    "> "
   ]
  },
  {
   "cell_type": "code",
   "execution_count": null,
   "metadata": {
    "hide-output": false
   },
   "outputs": [],
   "source": [
    "\"Wing 101\"  can't be opened because it is from an unidentified developer."
   ]
  },
  {
   "cell_type": "markdown",
   "metadata": {},
   "source": [
    "\n",
    "**Option 1: One time security bypass:**\n",
    "\n",
    "To temporarily bypass Gatekeeper, right-click (or Control-click) on\n",
    "the app’s icon and select Open. You’ll still receive an alert message,\n",
    "but this time it’s only a warning. Clicking Open again will launch the\n",
    "app.\n",
    "\n",
    "We recommend that you do not make a habit of using this bypass\n",
    "however. Use this method, only if you are certain that there is no\n",
    "security risk with the software you are installing, such as Wing 101.\n",
    "\n",
    "**Option 2: Disable security feature, install and re-enable it:**\n",
    "\n",
    "In this second method, you will disable gatekeeper first, install the\n",
    "software, then re-enable it. Unfortunately, this has been made\n",
    "difficult for later versions of Mac OS X like Sierra. So, we will\n",
    "offer two methods to do this. Option 2.2 should apply to all versions,\n",
    "but not recommended for users new to Unix.\n",
    "\n",
    "**Option 2.1: Try the following instructions (earlier versions of OS X):**\n",
    "\n",
    "- Click the Apple icon in the menu bar and select `System Preferences`.  \n",
    "- Go to `Security & Privacy` — It is located in the first row, which is entitled `Personal`.  \n",
    "- Click on the `General` tab.  \n",
    "- `Authenticate`:  Click on the lock at the bottom-lefthand corner of the screen and subsequently input your computer user account password.  \n",
    "- In the bottom half of the `General` tab, there will be the following choices:  \n",
    "  \n",
    "  - Allow applications downloaded from:  \n",
    "    \n",
    "    - (  ) Mac App Store  \n",
    "    - (X) Mac App Store and identified developers  \n",
    "    - (  ) Anywhere  \n",
    "    \n",
    "  \n",
    "  If you cannot see the option `Anywhere`, follow instructions for\n",
    "  **Option 2.2** below.  \n",
    "- Select `Anywhere` and select `Allow From Anywhere` in the subsequent dropdown warning.  We will be re-enabling this feature after the installer is completed.  \n",
    "- Install the software package.  \n",
    "- Once the installer has completed, go back to the `System Preferences` window and re-select the option  \n",
    "  \n",
    "  - Allow applications downloaded from:  \n",
    "    \n",
    "    - (  ) Mac App Store  \n",
    "    - (X) Mac App Store and identified developers  \n",
    "    - (  ) Anywhere  \n",
    "    \n",
    "  \n",
    "- This will return the security settings back to normal.  \n",
    "- Close `System Preferences` window.  \n",
    "\n",
    "\n",
    "**Option 2.2: Terminal solution (later versions of OS X):**\n",
    "\n",
    "In Sierra, OS X got rid of the `Anywhere` option. So, you will need to\n",
    "use a different method for allowing this. As this method makes a\n",
    "permanent change to your computer that is not visible from an\n",
    "interface, we recommend you ask help from a TA or a mentor to follow\n",
    "these steps.\n",
    "\n",
    "Open a Terminal window from `Applications->Utilities`. Type the\n",
    "following command:\n",
    "\n",
    "> "
   ]
  },
  {
   "cell_type": "code",
   "execution_count": null,
   "metadata": {
    "hide-output": false
   },
   "outputs": [],
   "source": [
    "sudo spctl --master-disable"
   ]
  },
  {
   "cell_type": "markdown",
   "metadata": {},
   "source": [
    "\n",
    "This will ask you to type in your password, which is likely the\n",
    "administrator password for the computer. This enables software to be\n",
    "installed from any source. Now you should be able to install any\n",
    "software.\n",
    "\n",
    "As in Option 2.1, we want to revert back to the original settings\n",
    "after this action. Once you are done with the installation, again\n",
    "using a Terminal, type the following command:\n",
    "\n",
    "> "
   ]
  },
  {
   "cell_type": "code",
   "execution_count": null,
   "metadata": {
    "hide-output": false
   },
   "outputs": [],
   "source": [
    "sudo spctl --master-enable"
   ]
  },
  {
   "cell_type": "markdown",
   "metadata": {},
   "source": [
    "\n",
    "This should restore the original security settings. A word of\n",
    "caution, do not use the sudo option on a regular basis as this\n",
    "bypasses all security settings. Some of us caused real harm to our\n",
    "computers by using this command unwisely."
   ]
  }
 ],
 "metadata": {
  "filename": "mac_install.rst",
  "kernelspec": {
   "display_name": "Python",
   "language": "python3",
   "name": "python3"
  },
  "title": "Install On Mac OS X"
 },
 "nbformat": 4,
 "nbformat_minor": 2
}