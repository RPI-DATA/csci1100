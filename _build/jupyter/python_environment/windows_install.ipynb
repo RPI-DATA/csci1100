{
 "cells": [
  {
   "cell_type": "markdown",
   "metadata": {},
   "source": [
    "Notebook created: 2019-07-16 14:30:28  \n",
    "Generated from: jWebsite/python_environment/windows_install.rst  "
   ]
  },
  {
   "cell_type": "markdown",
   "metadata": {},
   "source": [
    "# Install On Windows"
   ]
  },
  {
   "cell_type": "markdown",
   "metadata": {},
   "source": [
    "## Install Miniconda Python 3.6\n",
    "\n",
    "1. To get started you need to download the correct version of the Windows miniconda\n",
    "  installer for your operating system.  \n",
    "  1. If your computer has a 64-bit operating system (most likely)\n",
    "    use the link [https://repo.continuum.io/miniconda/Miniconda3-latest-Windows-x86_64.exe](https://repo.continuum.io/miniconda/Miniconda3-latest-Windows-x86_64.exe)\n",
    "    If your system has a 32-bit operating system (unlikely) use the link\n",
    "    [https://repo.continuum.io/miniconda/Miniconda3-latest-Windows-x86.exe](https://repo.continuum.io/miniconda/Miniconda3-latest-Windows-x86.exe) These resources\n",
    "    can also be found on the resources page of our class Piazza site.\n",
    "    If you are unsure of which system you are running, see\n",
    "    [Detecting 64-bits versus 32-bits Windows Systems](#detecting-64-bits-versus-32-bits-windows-systems).  \n",
    "  1. Wait for it to download.  It will place a file called\n",
    "    **Miniconda3-latest-Windows-x86_64.exe** (64-bit) or\n",
    "    **Miniconda3-latest-Windows-x86.exe** (32-bit) in your downloads\n",
    "    folder. On my computer using Chrome this is in c:\\Users\\Wesley\\Downloads  \n",
    "1. Click on the downloaded file to start the installation. When the installer\n",
    "  window appears,  \n",
    "  1. Click *Next* to get started,  \n",
    "  1. Click *I Agree* to accept the license terms, and  \n",
    "  1. Then click *Next* to accept the defaults for the next several screens.  \n",
    "  1. When you reach the screen with the *Install* button, verify the the two\n",
    "    Advanced Options checkboxes to Add Anaconda to my PATH environment variable\n",
    "    and to Register Anaconda as my default Python 3.5 are both checked. Then\n",
    "    click *Install*.  \n",
    "  1. When the install finishes, click *Next* then *Finish*. You can ignore the\n",
    "    Anaconda Cloud window that pops up in your browser.  \n",
    "1. Open a Command Prompt window. There are several ways to do this, but the easiest\n",
    "way is probably to *right* click on the windows prompt and\n",
    "select *Command Prompt* from the pop-up that appears.  \n",
    "1. In the Command Prompt window, enter:  "
   ]
  },
  {
   "cell_type": "code",
   "execution_count": null,
   "metadata": {
    "hide-output": false
   },
   "outputs": [],
   "source": [
    "conda install pillow"
   ]
  },
  {
   "cell_type": "markdown",
   "metadata": {},
   "source": [
    "If the conda command is not recognized, it is because the changes to your\n",
    "PATH variable have not propagated correctly. Simply restart your system and\n",
    "try again from opening the Command Prompt window.  \n",
    "1. Enter y at the Proceed prompt.  \n",
    "1. When the installation completes, close the Command Prompt window.  \n",
    "\n",
    "\n",
    "Congratulations, at this point you have fully installed Python and even added\n",
    "an addition module named Pillow that we will use in the next few weeks!"
   ]
  },
  {
   "cell_type": "markdown",
   "metadata": {},
   "source": [
    "## Install Wing IDE and Connect It to Miniconda Python\n",
    "\n",
    "The second half of the installation is the Wing IDE development\n",
    "environment.  This is the software that you use to write, edit and\n",
    "test your Python programs.  Wing IDE calls Python to actually run the\n",
    "program.  Therefore, we have to download and install Wing IDE and then\n",
    "tie it to the Miniconda version of Python.\n",
    "\n",
    "1. Go to [http://wingware.com/downloads/wingide-101](http://wingware.com/downloads/wingide-101)  \n",
    "1. Click on the Windows Installer 32-bit and 64-bit. This will download the\n",
    "  file wingide-101-6.0.6-1.exe to your download directory. Click on it to\n",
    "  install and follow the instructions. As with miniconda, you may need\n",
    "  to answer of few questions and accept the license agreement. You should\n",
    "  use the defaults settings.  \n",
    "1. Once the installation completes, open the Wing IDE application.  We’ll\n",
    "  explore this application in lecture and in lab, but for now we just need\n",
    "  to tell Wing about Miniconda Python.  To do this, click on the menu and\n",
    "  then *Edit -> Configure Python*  \n",
    "1. For the Python Executable click on Custom and then Browse to the\n",
    "  location for the Miniconda Python executable.  On my PC this is\n",
    "  *c:\\Users\\Wesley\\miniconda3\\python* . See the following  \n",
    "\n",
    "\n",
    "<img src=\"python_environment/link-ide-to-python3-windows.png\" style=\"width:500px;\" align=\"center\">\n",
    "\n",
    "1. Ignore the Python Path and all other settings and click OK.  \n",
    "1. Back in the main Wing IDE it may ask you to restart the python\n",
    "  shell.  Once you do then you should see at the top of the Python\n",
    "  Shell window pane something about “3.5.2 |Continuum Analytics,\n",
    "  Inc.” etc.  If you have this you are all set and the installation\n",
    "  is complete!  "
   ]
  },
  {
   "cell_type": "markdown",
   "metadata": {},
   "source": [
    "## Detecting 64-bits versus 32-bits Windows Systems\n",
    "\n",
    "To determine if you are running 64- or 32-bit Windows, simply click on the Start\n",
    "key and then select Settings. It will bring up your Computer Settings App. From\n",
    "here\n",
    "\n",
    "1. Select System  \n",
    "1. Select About  \n",
    "\n",
    "\n",
    "This will bring up a system description screen such as below. Your operating\n",
    "system type is shown in the line labeled *System type*. As shown, my computer\n",
    "is running a 64-bit operating system.\n",
    "\n",
    "<img src=\"python_environment/detect-64-or-32-bits-OS.png\" style=\"width:500px;\" align=\"center\">"
   ]
  }
 ],
 "metadata": {
  "filename": "windows_install.rst",
  "kernelspec": {
   "display_name": "Python",
   "language": "python3",
   "name": "python3"
  },
  "title": "Install On Windows"
 },
 "nbformat": 4,
 "nbformat_minor": 2
}