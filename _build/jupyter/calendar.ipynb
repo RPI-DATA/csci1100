{
 "cells": [
  {
   "cell_type": "markdown",
   "metadata": {},
   "source": [
    "Notebook created: 2019-07-16 14:30:27  \n",
    "Generated from: jWebsite/calendar.rst  "
   ]
  },
  {
   "cell_type": "markdown",
   "metadata": {},
   "source": [
    "\n",
    "<a id='calendar'></a>"
   ]
  },
  {
   "cell_type": "markdown",
   "metadata": {},
   "source": [
    "# Computer Science 1 Semester Calendar for Spring 2018\n",
    "\n",
    "We will follow this schedule quite closely as we proceed through the\n",
    "semester.  The only changes we anticipate are to lab topics.\n",
    "\n",
    "<img src=\"_images/calendar.png\" style=\"\">"
   ]
  }
 ],
 "metadata": {
  "filename": "calendar.rst",
  "kernelspec": {
   "display_name": "Python",
   "language": "python3",
   "name": "python3"
  },
  "title": "Computer Science 1 Semester Calendar for Spring 2018"
 },
 "nbformat": 4,
 "nbformat_minor": 2
}