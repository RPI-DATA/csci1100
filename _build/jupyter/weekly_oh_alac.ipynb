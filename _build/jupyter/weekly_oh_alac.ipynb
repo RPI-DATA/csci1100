{
 "cells": [
  {
   "cell_type": "markdown",
   "metadata": {},
   "source": [
    "Notebook created: 2019-07-16 14:30:28  \n",
    "Generated from: jWebsite/weekly_oh_alac.rst  "
   ]
  },
  {
   "cell_type": "markdown",
   "metadata": {},
   "source": [
    "# Weekly Office Hours Schedule - Spring 2018"
   ]
  },
  {
   "cell_type": "markdown",
   "metadata": {},
   "source": [
    "## Instructor Office Hours\n",
    "\n",
    "- Professor Turner’s office hours are Tuesday, Thursday 2:00 - 3:30 PM in\n",
    "  Amos Eaton 207  \n",
    "- Professor Kuzmin’s office hours are Tuesday 4:00 - 5:30 PM in\n",
    "  Amos Eaton 127  "
   ]
  },
  {
   "cell_type": "markdown",
   "metadata": {},
   "source": [
    "## TA / Mentor / ALAC Hours\n",
    "\n",
    "<img src=\"_images/OfficeHoursAlac.png\" style=\"\">\n",
    "\n",
    "- AE = Amos Eaton Building  \n",
    "- VCC = Voorhees Computing Center  \n",
    "- S.E. Corner = South East Corner  \n",
    "- CII = George M. Low Center for Industrial Innovation  "
   ]
  }
 ],
 "metadata": {
  "filename": "weekly_oh_alac.rst",
  "kernelspec": {
   "display_name": "Python",
   "language": "python3",
   "name": "python3"
  },
  "title": "Weekly Office Hours Schedule - Spring 2018"
 },
 "nbformat": 4,
 "nbformat_minor": 2
}