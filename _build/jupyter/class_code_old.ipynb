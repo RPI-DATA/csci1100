{
 "cells": [
  {
   "cell_type": "markdown",
   "metadata": {},
   "source": [
    "Notebook created: 2019-07-16 14:30:27  \n",
    "Generated from: jWebsite/class_code_old.rst  "
   ]
  },
  {
   "cell_type": "markdown",
   "metadata": {},
   "source": [
    "# Code Developed in CSCI-1100 Spring Semester 2018"
   ]
  },
  {
   "cell_type": "markdown",
   "metadata": {},
   "source": [
    "## Lecture 1"
   ]
  },
  {
   "cell_type": "markdown",
   "metadata": {},
   "source": [
    "### **Module:** `three_doubles` — Finds three consecutive pairs of double letters\n",
    "\n",
    "**Code**:"
   ]
  },
  {
   "cell_type": "code",
   "execution_count": null,
   "metadata": {
    "hide-output": false
   },
   "outputs": [],
   "source": [
    "\"\"\" Find all words containing three consecutive pairs of double letters \n",
    "in a file of all English words located at:\n",
    "\n",
    "        http://www.greenteapress.com/thinkpython/code/words.txt\n",
    "\n",
    "**Modules used:**  :py:mod:`urllib` \n",
    "\n",
    "**Author**: Sibel Adali <adalis@rpi.edu>, Chuck Stewart <cvstewart@gmail.com>\n",
    "\n",
    "**Returns:** All words matching condition and the count of found words\n",
    "\n",
    "**Pseudo Code**::\n",
    "\n",
    "   open the file from the web with all the words in English\n",
    "    \n",
    "   for each word in the file:\n",
    "       for all positions l in the word\n",
    "           if the letters at positions (l and l+1) are the same\n",
    "              and the letters at positions (l+2 and l+3) are the same\n",
    "              and the letters at positons  (l+4 and l+5) are the same then\n",
    "               output word and increment the count\n",
    "\n",
    "\"\"\"\n",
    "\n",
    "import urllib.request\n",
    "\n",
    "def has_three_double(word):\n",
    "    \"\"\"\n",
    "    Returns True if the word contains three consecutive pairs of\n",
    "    double letters and False otherwise.         \n",
    "    \"\"\"\n",
    "    for l in range(len(word)-5):\n",
    "        if word[l] == word[l+1] and \\\n",
    "                word[l+2]==word[l+3] and \\\n",
    "                word[l+4]==word[l+5]:\n",
    "            return True\n",
    "    return False\n",
    "\n",
    "# Comments that fit in a single line can be put in this format.\n",
    "\n",
    "# The main body of the program starts here\n",
    "\n",
    "\"\"\"\n",
    "Assign the location of the words file and go get it.\n",
    "\"\"\"\n",
    "word_url = 'http://www.greenteapress.com/thinkpython/code/words.txt'\n",
    "word_file = urllib.request.urlopen(word_url)\n",
    "\n",
    "'''\n",
    "Process each word in the file one by one, testing to see if it has\n",
    "three consecutive doubles.  Print it and count it if it does.\n",
    "'''\n",
    "count = 0\n",
    "for word in word_file:\n",
    "    word = word.decode().strip()\n",
    "    if has_three_double(word):\n",
    "        print(word)\n",
    "        count = count + 1\n",
    "\n",
    "'''\n",
    "After we've gone through all the words, output a final message based\n",
    "on the number of words that were counted.\n",
    "'''        \n",
    "if count == 0:\n",
    "    print('No words found')\n",
    "elif count == 1:\n",
    "    print(\"1 word found\")\n",
    "else:\n",
    "    print(count, 'words were found')"
   ]
  }
 ],
 "metadata": {
  "filename": "class_code_old.rst",
  "kernelspec": {
   "display_name": "Python",
   "language": "python3",
   "name": "python3"
  },
  "title": "Code Developed in CSCI-1100 Spring Semester 2018"
 },
 "nbformat": 4,
 "nbformat_minor": 2
}