{
 "cells": [
  {
   "cell_type": "markdown",
   "metadata": {},
   "source": [
    "Notebook created: 2019-07-16 14:30:27  \n",
    "Generated from: jWebsite/lecture_notes/lec03_strings_exercises/exercises.rst  "
   ]
  },
  {
   "cell_type": "markdown",
   "metadata": {},
   "source": [
    "# Lecture 3 - Exercises"
   ]
  },
  {
   "cell_type": "markdown",
   "metadata": {},
   "source": [
    "## Overview\n",
    "\n",
    "Solutions to the problems below must be sent to Submitty for grading.\n",
    "A separate file must submitted for each problem, as practiced in\n",
    "Lab 1.  For these Lecture 3 exercises, you must submit your\n",
    "solutions before Wednesday, September 13 at 11:59:59. Starting with Lecture 4,\n",
    "you will be required to submit you lecture exercises within 24 hours\n",
    "of the end of lecture.  Students are\n",
    "welcome to work on these problems in small groups, but each student\n",
    "should write the final version of their solutions independently to\n",
    "assure themselves that they understand."
   ]
  },
  {
   "cell_type": "markdown",
   "metadata": {},
   "source": [
    "## Problems\n",
    "\n",
    "1. Which of the following are valid strings?  Upload a text file to\n",
    "Submitty that contains just the variable names that are assigned to\n",
    "strings that are correct.  For example if only the first two were\n",
    "correct your file would contain s0 on the first line and s1 on the\n",
    "second.  "
   ]
  },
  {
   "cell_type": "code",
   "execution_count": null,
   "metadata": {
    "hide-output": false
   },
   "outputs": [],
   "source": [
    ">>> s0 = \"Sheldon Cooper's apartment is in Pasedena\"\n",
    "\n",
    ">>> s1 = 'This cheese shop's cheese is all gone\"\n",
    "\n",
    ">>> s2 = \"\"\"We are\n",
    "\"The Knights of the Round Table\"\n",
    "\"\"\"\n",
    "\n",
    ">>> s3 = \"Toto, I said,\\n\"We aren't in Kansas, anymore!\"\n",
    "\n",
    "\n",
    ">>> s4 = 'Have you seen the \"Final Five\"'s picture?'\n",
    "\n",
    "\n",
    ">>> s5 = \"Have you seen the 'Final Five''s picture?\""
   ]
  },
  {
   "cell_type": "markdown",
   "metadata": {},
   "source": [
    "1. Submit a Python file that includes a single line of code that prints\n",
    "  25 `'*'` characters followed by 25 `'+'` characters, with no\n",
    "  space in between.  It must, of course, use the `print` function.\n",
    "  The two characters must appear in your code *much less* than 25\n",
    "  times - at most three each!  \n",
    "1. Write a program that assigns the value 4 to the variable `x`, the\n",
    "  value 2 to the variable `y` and then uses exactly *three*\n",
    "  `print` function calls to generate the output below (four lines,\n",
    "  with the second line blank).  The `print` calls must use the\n",
    "  variables `x` and `y` rather than the values 4 and 2.  The\n",
    "  trick is to change the assignment of the `sep` and `end`\n",
    "  parameters in the call to `print`.  The character `4` is the\n",
    "  first character on the 1st, 3rd and 4th lines of output.  \n",
    "\n",
    "\n",
    "> "
   ]
  },
  {
   "cell_type": "code",
   "execution_count": null,
   "metadata": {
    "hide-output": false
   },
   "outputs": [],
   "source": [
    "4 2\n",
    "\n",
    "4,2\n",
    "42"
   ]
  }
 ],
 "metadata": {
  "filename": "exercises.rst",
  "kernelspec": {
   "display_name": "Python 3",
   "language": "python",
   "name": "python3"
  },
  "language_info": {
   "codemirror_mode": {
    "name": "ipython",
    "version": 3
   },
   "file_extension": ".py",
   "mimetype": "text/x-python",
   "name": "python",
   "nbconvert_exporter": "python",
   "pygments_lexer": "ipython3",
   "version": "3.7.3"
  },
  "title": "Lecture 3 — Exercises"
 },
 "nbformat": 4,
 "nbformat_minor": 2
}
