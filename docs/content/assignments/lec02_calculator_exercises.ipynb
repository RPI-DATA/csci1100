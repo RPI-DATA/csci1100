{
 "cells": [
  {
   "cell_type": "markdown",
   "metadata": {},
   "source": [
    "Notebook created: 2019-07-16 14:30:27  \n",
    "Generated from: jWebsite/lecture_notes/lec02_calculator_exercises/exercises.rst  "
   ]
  },
  {
   "cell_type": "markdown",
   "metadata": {},
   "source": [
    "# Lecture 2 - Exercises"
   ]
  },
  {
   "cell_type": "markdown",
   "metadata": {},
   "source": [
    "## Overview\n",
    "\n",
    "These problems are exercises to work on at the end of lecture and\n",
    "submit for a small part of your grade.  Normally, solutions will be\n",
    "due within 24 hours of the end of the lecture they are associated\n",
    "with.  For these Lecture 2 exercises only, they will be due by the end\n",
    "of Lab 1 so that any problems with submission can be ironed out.\n",
    "\n",
    "Students are welcome to work on these problems in small groups, but\n",
    "each student should write the final version of their solutions\n",
    "independently.  Each student must submit their own solutions."
   ]
  },
  {
   "cell_type": "markdown",
   "metadata": {},
   "source": [
    "## Getting Started with the Wing IDE\n",
    "\n",
    "Open up the Wing IDE:\n",
    "\n",
    "- You can practice with small sections of Python code by typing in the\n",
    "  interpreter in the lower right pane.  \n",
    "- In order to create a Python program that you save to a file, click\n",
    "  *File -> New*.  You can save it to a file by typing *File -> Save\n",
    "  As*  \n",
    "- As discussed in Lab 0 you should save your programs in an organized\n",
    "  manner within your Dropbox folder.  \n",
    "- Once you have drafted your code to solve a problem or, better yet,\n",
    "  have written enough that you are ready to experiment with what you\n",
    "  have, click on the green triangle to run your code.  You will see\n",
    "  the results in the interpreter pane on the lower right.  \n",
    "- If you do not see the green triangle, you need to save your code\n",
    "  to a file first.  \n",
    "\n",
    "\n",
    "Now you are ready to proceed..."
   ]
  },
  {
   "cell_type": "markdown",
   "metadata": {},
   "source": [
    "## Problems for Grade Submission\n",
    "\n",
    "1. Write a single line of Python code that converts the temperature\n",
    "  64 from Celsius to Fahrenheit and prints the value.  Submit a Python\n",
    "  file containing just this single line of code.  The output should\n",
    "  just be the number that your code produces.  Your code must include\n",
    "  the use of an expression involving multiplication and a `print`\n",
    "  function call.  \n",
    "1. Write Python code that creates three variables called\n",
    "  `length`, `width` and `height` to store the dimensions of a 16.5 x\n",
    "  12.5 x 5 box.  Write additional code that calculates the volume\n",
    "  of the box and calculates its surface area, storing each in a\n",
    "  variable.  Print the values of these variables.  Your code must use\n",
    "  five assignment statements and two print function calls.  Submit a\n",
    "  file containing these seven lines of Python code. Your output\n",
    "  should be  "
   ]
  },
  {
   "cell_type": "code",
   "execution_count": null,
   "metadata": {
    "hide-output": false
   },
   "outputs": [],
   "source": [
    "volume = 1031.25\n",
    "area = 702.5"
   ]
  },
  {
   "cell_type": "markdown",
   "metadata": {},
   "source": [
    "1. Your problem is to determine the output of the Python program shown\n",
    "  below.  You must submit a text file showing the output.  (Hint:\n",
    "  there should be two lines with one integer on each line.)  While it\n",
    "  is possible to just run the program and copy the output, we\n",
    "  *strongly* encourage you to not do this.  You need to develop\n",
    "  the ability to read code and understand what it will do.  You will\n",
    "  be tested on it.  "
   ]
  },
  {
   "cell_type": "code",
   "execution_count": null,
   "metadata": {
    "hide-output": false
   },
   "outputs": [],
   "source": [
    "z = 2\n",
    "z = z**2**3\n",
    "print(z)\n",
    "x = 6\n",
    "x = x**2 + 6 - z // 10 * 2\n",
    "print(x)"
   ]
  }
 ],
 "metadata": {
  "filename": "exercises.rst",
  "kernelspec": {
   "display_name": "Python 3",
   "language": "python",
   "name": "python3"
  },
  "language_info": {
   "codemirror_mode": {
    "name": "ipython",
    "version": 3
   },
   "file_extension": ".py",
   "mimetype": "text/x-python",
   "name": "python",
   "nbconvert_exporter": "python",
   "pygments_lexer": "ipython3",
   "version": "3.7.3"
  },
  "title": "Lecture 2 — Exercises"
 },
 "nbformat": 4,
 "nbformat_minor": 2
}
